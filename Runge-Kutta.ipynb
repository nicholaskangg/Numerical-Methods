{
 "cells": [
  {
   "cell_type": "code",
   "execution_count": 7,
   "metadata": {},
   "outputs": [
    {
     "data": {
      "text/latex": [
       "$\\displaystyle f(x,y)= \\sqrt{x} - \\sqrt{y}$"
      ],
      "text/plain": [
       "<IPython.core.display.Math object>"
      ]
     },
     "metadata": {},
     "output_type": "display_data"
    },
    {
     "data": {
      "text/latex": [
       "$\\displaystyle Given\\ that\\ x_0 = 1\\ and\\ y_0 = 0.5$"
      ],
      "text/plain": [
       "<IPython.core.display.Math object>"
      ]
     },
     "metadata": {},
     "output_type": "display_data"
    },
    {
     "name": "stdout",
     "output_type": "stream",
     "text": [
      "____________________________________________\n"
     ]
    },
    {
     "data": {
      "text/latex": [
       "$\\displaystyle Set\\ r=0,$"
      ],
      "text/plain": [
       "<IPython.core.display.Math object>"
      ]
     },
     "metadata": {},
     "output_type": "display_data"
    },
    {
     "data": {
      "text/latex": [
       "$\\displaystyle F_{1,0} = f(x_0, y_0) = f(1, 0.5) = 0.292893$"
      ],
      "text/plain": [
       "<IPython.core.display.Math object>"
      ]
     },
     "metadata": {},
     "output_type": "display_data"
    },
    {
     "data": {
      "text/latex": [
       "$\\displaystyle F_{2,0} = f(x_0 + \\frac{1}{2}h, y_0 + \\frac{1}{2}hF_{1,0}) = f(1 + \\frac{1}{2}(0.1), 0.5 + \\frac{1}{2}(0.1)(0.292893)) = f(1.05, 0.514645) = 0.307308$"
      ],
      "text/plain": [
       "<IPython.core.display.Math object>"
      ]
     },
     "metadata": {},
     "output_type": "display_data"
    },
    {
     "data": {
      "text/latex": [
       "$\\displaystyle F_{3,0} = f(x_0 + \\frac{1}{2}h, y_0 + \\frac{1}{2}hF_{2,0}) = f(1 + \\frac{1}{2}(0.1), 0.5 + \\frac{1}{2}(0.1)(0.307308)) = f(1.05, 0.515365) = 0.306806$"
      ],
      "text/plain": [
       "<IPython.core.display.Math object>"
      ]
     },
     "metadata": {},
     "output_type": "display_data"
    },
    {
     "data": {
      "text/latex": [
       "$\\displaystyle F_{4,0} = f(x_0 + h, y_0 + hF_{3,0}) = f(1 + 0.1, 0.5 + 0.1(0.306806)) = f(1.1, 0.530681) = 0.320330$"
      ],
      "text/plain": [
       "<IPython.core.display.Math object>"
      ]
     },
     "metadata": {},
     "output_type": "display_data"
    },
    {
     "data": {
      "text/latex": [
       "$\\displaystyle x_1 = x_0 + h = 1 + 0.1 = 1.1$"
      ],
      "text/plain": [
       "<IPython.core.display.Math object>"
      ]
     },
     "metadata": {},
     "output_type": "display_data"
    },
    {
     "data": {
      "text/latex": [
       "$\\displaystyle y_1 = y_0 + \\frac{1}{6}h(F_{1,0} + 2F_{2,0} + 2F_{3,0} + F_{4,0})   = 0.5 + \\frac{1}{6}(0.1)(0.292893 + 2(0.307308) + 2(0.306806) + 0.320330) = 0.530691$"
      ],
      "text/plain": [
       "<IPython.core.display.Math object>"
      ]
     },
     "metadata": {},
     "output_type": "display_data"
    },
    {
     "data": {
      "text/latex": [
       "$\\displaystyle Approximation\\ to\\ y(x_1 = 1.1) = 0.530691$"
      ],
      "text/plain": [
       "<IPython.core.display.Math object>"
      ]
     },
     "metadata": {},
     "output_type": "display_data"
    }
   ],
   "source": [
    "from sympy import *\n",
    "from sympy.functions.elementary.trigonometric import tan, sin, cos\n",
    "from IPython.display import display, Math, Latex\n",
    "\n",
    "# runge-kutta method\n",
    "\n",
    "x, y, r, h = symbols('x y r h')\n",
    "\n",
    "# define equation\n",
    "eqn = sqrt(x) - sqrt(y)\n",
    "dpp = 6\n",
    "\n",
    "# define intial conditions and variables\n",
    "r = 0\n",
    "r_times = 1\n",
    "h = 0.1\n",
    "func = {}\n",
    "y_values = {f'y_{r}': 0.5}\n",
    "x_values = {f'x_{r}': 1}\n",
    "\n",
    "# Formality\n",
    "display(Math(r'f(x,y)= {eqn}'.format(eqn=printing.latex(eqn))))\n",
    "display(Math(r'Given\\ that\\ x_{r} = {x_val}\\ and\\ y_{r} = {y_val}'.format(r=r, x_val=x_values[f'x_{r}'], y_val=y_values[f'y_{r}'])))\n",
    "\n",
    "\n",
    "# Determine approximation steps\n",
    "for i in range(r + r_times):\n",
    "    k_1 = f'k{1}{i}'\n",
    "    k_2 = f'k{2}{i}'\n",
    "    k_3 = f'k{3}{i}'\n",
    "    k_4 = f'k{4}{i}'\n",
    "    \n",
    "    x_0 = f'x_{i}'\n",
    "    x_1 = f'x_{i+1}'\n",
    "    \n",
    "    y_0 = f'y_{i}'\n",
    "    y_1 = f'y_{i+1}'\n",
    "\n",
    "    x_value_0 = x_values[x_0]\n",
    "    y_value_0 = y_values[y_0]\n",
    "    func[k_1] = round(eqn.subs({x: x_value_0, y: y_value_0}), dpp)\n",
    "    \n",
    "    x_value_1 = round(x_value_0 + (0.5 * h), dpp)\n",
    "    y_value_1 = round(y_value_0 + 0.5 * h * func[k_1], dpp)\n",
    "    func[k_2] = round(eqn.subs({x: x_value_1, y: y_value_1}), dpp)\n",
    "    \n",
    "    x_value_2 = round(x_value_0 + (0.5 * h), dpp)\n",
    "    y_value_2 = round(y_value_0 + 0.5 * h * func[k_2], dpp)\n",
    "    func[k_3] = round(eqn.subs({x: x_value_2, y: y_value_2}), dpp)\n",
    "    \n",
    "    x_value_3 = round(x_value_0 + h, dpp)\n",
    "    y_value_3 = round(y_value_0 + h * func[k_3], dpp)\n",
    "    func[k_4] = round(eqn.subs({x: x_value_3, y: y_value_3}), dpp)\n",
    "\n",
    "    x_values[x_1] = round(x_value_0 + h, dpp)\n",
    "    y_values[y_1] = round(y_values[y_0] + (1.0 / 6.0)*h*(func[k_1] + 2 * func[k_2] + 2 * func[k_3] + func[k_4]), dpp)\n",
    "    \n",
    "    print('____________________________________________')\n",
    "    display(Math(f'Set\\ r={i},'))\n",
    "\n",
    "    display(Math(f'F_{{1,{r}}} = f({x_0}, {y_0}) = f({x_value_0}, {y_value_0}) = {func[k_1]}'))\n",
    "    display(Math(f'F_{{2,{r}}} = f({x_0} + \\\\frac{{1}}{{2}}h, {y_0} + \\\\frac{{1}}{{2}}hF_{{1,{r}}}) = f({x_value_0} + \\\\frac{{1}}{{2}}({h}), {y_value_0} + \\\\frac{{1}}{{2}}({h})({func[k_1]})) = f({x_value_1}, {y_value_1}) = {func[k_2]}'))\n",
    "    display(Math(f'F_{{3,{r}}} = f({x_0} + \\\\frac{{1}}{{2}}h, {y_0} + \\\\frac{{1}}{{2}}hF_{{2,{r}}}) = f({x_value_0} + \\\\frac{{1}}{{2}}({h}), {y_value_0} + \\\\frac{{1}}{{2}}({h})({func[k_2]})) = f({x_value_2}, {y_value_2}) = {func[k_3]}'))\n",
    "    display(Math(f'F_{{4,{r}}} = f({x_0} + h, {y_0} + hF_{{3,{r}}}) = f({x_value_0} + {h}, {y_value_0} + {h}({func[k_3]})) = f({x_value_3}, {y_value_3}) = {func[k_4]}'))\n",
    "    \n",
    "    display(Math(f\"{x_1} = {x_0} + h = {x_value_0} + {h} = {x_values[x_1]}\"))\n",
    "    display(Math(f\"{y_1} = {y_0} + \\\\frac{{1}}{{6}}h(F_{{1,{r}}} + 2F_{{2,{r}}} + 2F_{{3,{r}}} + F_{{4,{r}}})\" + \\\n",
    "        f\"   = {y_value_0} + \\\\frac{{1}}{{6}}({h})({func[k_1]} + 2({func[k_2]}) + 2({func[k_3]}) + {func[k_4]}) = {y_values[y_1]}\"))\n",
    "    \n",
    "    display(Math(f\"Approximation\\ to\\ y({x_1} = {x_values[x_1]}) = {y_values[y_1]}\"))\n",
    "    "
   ]
  },
  {
   "cell_type": "code",
   "execution_count": null,
   "metadata": {},
   "outputs": [],
   "source": []
  },
  {
   "cell_type": "code",
   "execution_count": null,
   "metadata": {},
   "outputs": [],
   "source": []
  }
 ],
 "metadata": {
  "kernelspec": {
   "display_name": "Python 3",
   "language": "python",
   "name": "python3"
  },
  "language_info": {
   "codemirror_mode": {
    "name": "ipython",
    "version": 3
   },
   "file_extension": ".py",
   "mimetype": "text/x-python",
   "name": "python",
   "nbconvert_exporter": "python",
   "pygments_lexer": "ipython3",
   "version": "3.8.5"
  }
 },
 "nbformat": 4,
 "nbformat_minor": 4
}
