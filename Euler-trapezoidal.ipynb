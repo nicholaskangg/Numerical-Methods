{
 "cells": [
  {
   "cell_type": "code",
   "execution_count": 7,
   "metadata": {},
   "outputs": [
    {
     "data": {
      "text/latex": [
       "$\\displaystyle f(x,y)= \\sqrt{x} - \\sqrt{y}$"
      ],
      "text/plain": [
       "<IPython.core.display.Math object>"
      ]
     },
     "metadata": {},
     "output_type": "display_data"
    },
    {
     "data": {
      "text/latex": [
       "$\\displaystyle Given\\ that\\ x_0 = 0\\ and\\ y_0 = 1$"
      ],
      "text/plain": [
       "<IPython.core.display.Math object>"
      ]
     },
     "metadata": {},
     "output_type": "display_data"
    },
    {
     "name": "stdout",
     "output_type": "stream",
     "text": [
      "____________________________________________\n"
     ]
    },
    {
     "data": {
      "text/latex": [
       "$\\displaystyle Set\\ r=0,$"
      ],
      "text/plain": [
       "<IPython.core.display.Math object>"
      ]
     },
     "metadata": {},
     "output_type": "display_data"
    },
    {
     "data": {
      "text/latex": [
       "$\\displaystyle x_0 = 0, y_0 = 1$"
      ],
      "text/plain": [
       "<IPython.core.display.Math object>"
      ]
     },
     "metadata": {},
     "output_type": "display_data"
    },
    {
     "data": {
      "text/latex": [
       "$\\displaystyle F_{1,0} = f(x_0, y_0) = f(0, 1) = -1$"
      ],
      "text/plain": [
       "<IPython.core.display.Math object>"
      ]
     },
     "metadata": {},
     "output_type": "display_data"
    },
    {
     "data": {
      "text/latex": [
       "$\\displaystyle x_1 = x_0 + h = 0 + 0.01 = 0.01$"
      ],
      "text/plain": [
       "<IPython.core.display.Math object>"
      ]
     },
     "metadata": {},
     "output_type": "display_data"
    },
    {
     "data": {
      "text/latex": [
       "$\\displaystyle y_e = y_0 + hF_{1,0} = 1 + (0.01)(-1) = 0.9900000\n",
       "$"
      ],
      "text/plain": [
       "<IPython.core.display.Math object>"
      ]
     },
     "metadata": {},
     "output_type": "display_data"
    },
    {
     "data": {
      "text/latex": [
       "$\\displaystyle F_{2,0} = f(x_1, y_e) = f(0.01, 0.9900000) = -0.8949874$"
      ],
      "text/plain": [
       "<IPython.core.display.Math object>"
      ]
     },
     "metadata": {},
     "output_type": "display_data"
    },
    {
     "data": {
      "text/latex": [
       "$\\displaystyle y_1 = y_0 + \\frac{1}{2}h(F_{1,0} + F_{2,0}) = 1 + \\frac{1}{2}(0.01)(-1 + -0.8949874) = 0.9905251$"
      ],
      "text/plain": [
       "<IPython.core.display.Math object>"
      ]
     },
     "metadata": {},
     "output_type": "display_data"
    },
    {
     "data": {
      "text/latex": [
       "$\\displaystyle Approximation\\ to\\ y(x_1 = 0.01) = 0.9905251$"
      ],
      "text/plain": [
       "<IPython.core.display.Math object>"
      ]
     },
     "metadata": {},
     "output_type": "display_data"
    },
    {
     "name": "stdout",
     "output_type": "stream",
     "text": [
      "____________________________________________\n"
     ]
    },
    {
     "data": {
      "text/latex": [
       "$\\displaystyle Set\\ r=1,$"
      ],
      "text/plain": [
       "<IPython.core.display.Math object>"
      ]
     },
     "metadata": {},
     "output_type": "display_data"
    },
    {
     "data": {
      "text/latex": [
       "$\\displaystyle x_1 = 0.01, y_1 = 0.9905251$"
      ],
      "text/plain": [
       "<IPython.core.display.Math object>"
      ]
     },
     "metadata": {},
     "output_type": "display_data"
    },
    {
     "data": {
      "text/latex": [
       "$\\displaystyle F_{1,1} = f(x_1, y_1) = f(0.01, 0.9905251) = -0.8952513$"
      ],
      "text/plain": [
       "<IPython.core.display.Math object>"
      ]
     },
     "metadata": {},
     "output_type": "display_data"
    },
    {
     "data": {
      "text/latex": [
       "$\\displaystyle x_2 = x_1 + h = 0.01 + 0.01 = 0.02$"
      ],
      "text/plain": [
       "<IPython.core.display.Math object>"
      ]
     },
     "metadata": {},
     "output_type": "display_data"
    },
    {
     "data": {
      "text/latex": [
       "$\\displaystyle y_e = y_1 + hF_{1,1} = 0.9905251 + (0.01)(-0.8952513) = 0.9815726\n",
       "$"
      ],
      "text/plain": [
       "<IPython.core.display.Math object>"
      ]
     },
     "metadata": {},
     "output_type": "display_data"
    },
    {
     "data": {
      "text/latex": [
       "$\\displaystyle F_{2,1} = f(x_2, y_e) = f(0.02, 0.9815726) = -0.8493221$"
      ],
      "text/plain": [
       "<IPython.core.display.Math object>"
      ]
     },
     "metadata": {},
     "output_type": "display_data"
    },
    {
     "data": {
      "text/latex": [
       "$\\displaystyle y_2 = y_1 + \\frac{1}{2}h(F_{1,1} + F_{2,1}) = 0.9905251 + \\frac{1}{2}(0.01)(-0.8952513 + -0.8493221) = 0.9818022$"
      ],
      "text/plain": [
       "<IPython.core.display.Math object>"
      ]
     },
     "metadata": {},
     "output_type": "display_data"
    },
    {
     "data": {
      "text/latex": [
       "$\\displaystyle Approximation\\ to\\ y(x_2 = 0.02) = 0.9818022$"
      ],
      "text/plain": [
       "<IPython.core.display.Math object>"
      ]
     },
     "metadata": {},
     "output_type": "display_data"
    },
    {
     "name": "stdout",
     "output_type": "stream",
     "text": [
      "____________________________________________\n"
     ]
    },
    {
     "data": {
      "text/latex": [
       "$\\displaystyle Set\\ r=2,$"
      ],
      "text/plain": [
       "<IPython.core.display.Math object>"
      ]
     },
     "metadata": {},
     "output_type": "display_data"
    },
    {
     "data": {
      "text/latex": [
       "$\\displaystyle x_2 = 0.02, y_2 = 0.9818022$"
      ],
      "text/plain": [
       "<IPython.core.display.Math object>"
      ]
     },
     "metadata": {},
     "output_type": "display_data"
    },
    {
     "data": {
      "text/latex": [
       "$\\displaystyle F_{1,2} = f(x_2, y_2) = f(0.02, 0.9818022) = -0.8494380$"
      ],
      "text/plain": [
       "<IPython.core.display.Math object>"
      ]
     },
     "metadata": {},
     "output_type": "display_data"
    },
    {
     "data": {
      "text/latex": [
       "$\\displaystyle x_3 = x_2 + h = 0.02 + 0.01 = 0.03$"
      ],
      "text/plain": [
       "<IPython.core.display.Math object>"
      ]
     },
     "metadata": {},
     "output_type": "display_data"
    },
    {
     "data": {
      "text/latex": [
       "$\\displaystyle y_e = y_2 + hF_{1,2} = 0.9818022 + (0.01)(-0.8494380) = 0.9733078\n",
       "$"
      ],
      "text/plain": [
       "<IPython.core.display.Math object>"
      ]
     },
     "metadata": {},
     "output_type": "display_data"
    },
    {
     "data": {
      "text/latex": [
       "$\\displaystyle F_{2,2} = f(x_3, y_e) = f(0.03, 0.9733078) = -0.8133585$"
      ],
      "text/plain": [
       "<IPython.core.display.Math object>"
      ]
     },
     "metadata": {},
     "output_type": "display_data"
    },
    {
     "data": {
      "text/latex": [
       "$\\displaystyle y_3 = y_2 + \\frac{1}{2}h(F_{1,2} + F_{2,2}) = 0.9818022 + \\frac{1}{2}(0.01)(-0.8494380 + -0.8133585) = 0.9734882$"
      ],
      "text/plain": [
       "<IPython.core.display.Math object>"
      ]
     },
     "metadata": {},
     "output_type": "display_data"
    },
    {
     "data": {
      "text/latex": [
       "$\\displaystyle Approximation\\ to\\ y(x_3 = 0.03) = 0.9734882$"
      ],
      "text/plain": [
       "<IPython.core.display.Math object>"
      ]
     },
     "metadata": {},
     "output_type": "display_data"
    },
    {
     "name": "stdout",
     "output_type": "stream",
     "text": [
      "____________________________________________\n"
     ]
    },
    {
     "data": {
      "text/latex": [
       "$\\displaystyle Set\\ r=3,$"
      ],
      "text/plain": [
       "<IPython.core.display.Math object>"
      ]
     },
     "metadata": {},
     "output_type": "display_data"
    },
    {
     "data": {
      "text/latex": [
       "$\\displaystyle x_3 = 0.03, y_3 = 0.9734882$"
      ],
      "text/plain": [
       "<IPython.core.display.Math object>"
      ]
     },
     "metadata": {},
     "output_type": "display_data"
    },
    {
     "data": {
      "text/latex": [
       "$\\displaystyle F_{1,3} = f(x_3, y_3) = f(0.03, 0.9734882) = -0.8134500$"
      ],
      "text/plain": [
       "<IPython.core.display.Math object>"
      ]
     },
     "metadata": {},
     "output_type": "display_data"
    },
    {
     "data": {
      "text/latex": [
       "$\\displaystyle x_4 = x_3 + h = 0.03 + 0.01 = 0.04$"
      ],
      "text/plain": [
       "<IPython.core.display.Math object>"
      ]
     },
     "metadata": {},
     "output_type": "display_data"
    },
    {
     "data": {
      "text/latex": [
       "$\\displaystyle y_e = y_3 + hF_{1,3} = 0.9734882 + (0.01)(-0.8134500) = 0.9653537\n",
       "$"
      ],
      "text/plain": [
       "<IPython.core.display.Math object>"
      ]
     },
     "metadata": {},
     "output_type": "display_data"
    },
    {
     "data": {
      "text/latex": [
       "$\\displaystyle F_{2,3} = f(x_4, y_e) = f(0.04, 0.9653537) = -0.7825241$"
      ],
      "text/plain": [
       "<IPython.core.display.Math object>"
      ]
     },
     "metadata": {},
     "output_type": "display_data"
    },
    {
     "data": {
      "text/latex": [
       "$\\displaystyle y_4 = y_3 + \\frac{1}{2}h(F_{1,3} + F_{2,3}) = 0.9734882 + \\frac{1}{2}(0.01)(-0.8134500 + -0.7825241) = 0.9655083$"
      ],
      "text/plain": [
       "<IPython.core.display.Math object>"
      ]
     },
     "metadata": {},
     "output_type": "display_data"
    },
    {
     "data": {
      "text/latex": [
       "$\\displaystyle Approximation\\ to\\ y(x_4 = 0.04) = 0.9655083$"
      ],
      "text/plain": [
       "<IPython.core.display.Math object>"
      ]
     },
     "metadata": {},
     "output_type": "display_data"
    },
    {
     "name": "stdout",
     "output_type": "stream",
     "text": [
      "____________________________________________\n"
     ]
    },
    {
     "data": {
      "text/latex": [
       "$\\displaystyle Set\\ r=4,$"
      ],
      "text/plain": [
       "<IPython.core.display.Math object>"
      ]
     },
     "metadata": {},
     "output_type": "display_data"
    },
    {
     "data": {
      "text/latex": [
       "$\\displaystyle x_4 = 0.04, y_4 = 0.9655083$"
      ],
      "text/plain": [
       "<IPython.core.display.Math object>"
      ]
     },
     "metadata": {},
     "output_type": "display_data"
    },
    {
     "data": {
      "text/latex": [
       "$\\displaystyle F_{1,4} = f(x_4, y_4) = f(0.04, 0.9655083) = -0.7826028$"
      ],
      "text/plain": [
       "<IPython.core.display.Math object>"
      ]
     },
     "metadata": {},
     "output_type": "display_data"
    },
    {
     "data": {
      "text/latex": [
       "$\\displaystyle x_5 = x_4 + h = 0.04 + 0.01 = 0.05$"
      ],
      "text/plain": [
       "<IPython.core.display.Math object>"
      ]
     },
     "metadata": {},
     "output_type": "display_data"
    },
    {
     "data": {
      "text/latex": [
       "$\\displaystyle y_e = y_4 + hF_{1,4} = 0.9655083 + (0.01)(-0.7826028) = 0.9576823\n",
       "$"
      ],
      "text/plain": [
       "<IPython.core.display.Math object>"
      ]
     },
     "metadata": {},
     "output_type": "display_data"
    },
    {
     "data": {
      "text/latex": [
       "$\\displaystyle F_{2,4} = f(x_5, y_e) = f(0.05, 0.9576823) = -0.7550056$"
      ],
      "text/plain": [
       "<IPython.core.display.Math object>"
      ]
     },
     "metadata": {},
     "output_type": "display_data"
    },
    {
     "data": {
      "text/latex": [
       "$\\displaystyle y_5 = y_4 + \\frac{1}{2}h(F_{1,4} + F_{2,4}) = 0.9655083 + \\frac{1}{2}(0.01)(-0.7826028 + -0.7550056) = 0.9578203$"
      ],
      "text/plain": [
       "<IPython.core.display.Math object>"
      ]
     },
     "metadata": {},
     "output_type": "display_data"
    },
    {
     "data": {
      "text/latex": [
       "$\\displaystyle Approximation\\ to\\ y(x_5 = 0.05) = 0.9578203$"
      ],
      "text/plain": [
       "<IPython.core.display.Math object>"
      ]
     },
     "metadata": {},
     "output_type": "display_data"
    },
    {
     "name": "stdout",
     "output_type": "stream",
     "text": [
      "____________________________________________\n"
     ]
    },
    {
     "data": {
      "text/latex": [
       "$\\displaystyle Set\\ r=5,$"
      ],
      "text/plain": [
       "<IPython.core.display.Math object>"
      ]
     },
     "metadata": {},
     "output_type": "display_data"
    },
    {
     "data": {
      "text/latex": [
       "$\\displaystyle x_5 = 0.05, y_5 = 0.9578203$"
      ],
      "text/plain": [
       "<IPython.core.display.Math object>"
      ]
     },
     "metadata": {},
     "output_type": "display_data"
    },
    {
     "data": {
      "text/latex": [
       "$\\displaystyle F_{1,5} = f(x_5, y_5) = f(0.05, 0.9578203) = -0.7550761$"
      ],
      "text/plain": [
       "<IPython.core.display.Math object>"
      ]
     },
     "metadata": {},
     "output_type": "display_data"
    },
    {
     "data": {
      "text/latex": [
       "$\\displaystyle x_6 = x_5 + h = 0.05 + 0.01 = 0.06$"
      ],
      "text/plain": [
       "<IPython.core.display.Math object>"
      ]
     },
     "metadata": {},
     "output_type": "display_data"
    },
    {
     "data": {
      "text/latex": [
       "$\\displaystyle y_e = y_5 + hF_{1,5} = 0.9578203 + (0.01)(-0.7550761) = 0.9502695\n",
       "$"
      ],
      "text/plain": [
       "<IPython.core.display.Math object>"
      ]
     },
     "metadata": {},
     "output_type": "display_data"
    },
    {
     "data": {
      "text/latex": [
       "$\\displaystyle F_{2,5} = f(x_6, y_e) = f(0.06, 0.9502695) = -0.7298687$"
      ],
      "text/plain": [
       "<IPython.core.display.Math object>"
      ]
     },
     "metadata": {},
     "output_type": "display_data"
    },
    {
     "data": {
      "text/latex": [
       "$\\displaystyle y_6 = y_5 + \\frac{1}{2}h(F_{1,5} + F_{2,5}) = 0.9578203 + \\frac{1}{2}(0.01)(-0.7550761 + -0.7298687) = 0.9503956$"
      ],
      "text/plain": [
       "<IPython.core.display.Math object>"
      ]
     },
     "metadata": {},
     "output_type": "display_data"
    },
    {
     "data": {
      "text/latex": [
       "$\\displaystyle Approximation\\ to\\ y(x_6 = 0.06) = 0.9503956$"
      ],
      "text/plain": [
       "<IPython.core.display.Math object>"
      ]
     },
     "metadata": {},
     "output_type": "display_data"
    },
    {
     "name": "stdout",
     "output_type": "stream",
     "text": [
      "____________________________________________\n"
     ]
    },
    {
     "data": {
      "text/latex": [
       "$\\displaystyle Set\\ r=6,$"
      ],
      "text/plain": [
       "<IPython.core.display.Math object>"
      ]
     },
     "metadata": {},
     "output_type": "display_data"
    },
    {
     "data": {
      "text/latex": [
       "$\\displaystyle x_6 = 0.06, y_6 = 0.9503956$"
      ],
      "text/plain": [
       "<IPython.core.display.Math object>"
      ]
     },
     "metadata": {},
     "output_type": "display_data"
    },
    {
     "data": {
      "text/latex": [
       "$\\displaystyle F_{1,6} = f(x_6, y_6) = f(0.06, 0.9503956) = -0.7299334$"
      ],
      "text/plain": [
       "<IPython.core.display.Math object>"
      ]
     },
     "metadata": {},
     "output_type": "display_data"
    },
    {
     "data": {
      "text/latex": [
       "$\\displaystyle x_7 = x_6 + h = 0.06 + 0.01 = 0.07$"
      ],
      "text/plain": [
       "<IPython.core.display.Math object>"
      ]
     },
     "metadata": {},
     "output_type": "display_data"
    },
    {
     "data": {
      "text/latex": [
       "$\\displaystyle y_e = y_6 + hF_{1,6} = 0.9503956 + (0.01)(-0.7299334) = 0.9430963\n",
       "$"
      ],
      "text/plain": [
       "<IPython.core.display.Math object>"
      ]
     },
     "metadata": {},
     "output_type": "display_data"
    },
    {
     "data": {
      "text/latex": [
       "$\\displaystyle F_{2,6} = f(x_7, y_e) = f(0.07, 0.9430963) = -0.7065563$"
      ],
      "text/plain": [
       "<IPython.core.display.Math object>"
      ]
     },
     "metadata": {},
     "output_type": "display_data"
    },
    {
     "data": {
      "text/latex": [
       "$\\displaystyle y_7 = y_6 + \\frac{1}{2}h(F_{1,6} + F_{2,6}) = 0.9503956 + \\frac{1}{2}(0.01)(-0.7299334 + -0.7065563) = 0.9432132$"
      ],
      "text/plain": [
       "<IPython.core.display.Math object>"
      ]
     },
     "metadata": {},
     "output_type": "display_data"
    },
    {
     "data": {
      "text/latex": [
       "$\\displaystyle Approximation\\ to\\ y(x_7 = 0.07) = 0.9432132$"
      ],
      "text/plain": [
       "<IPython.core.display.Math object>"
      ]
     },
     "metadata": {},
     "output_type": "display_data"
    },
    {
     "name": "stdout",
     "output_type": "stream",
     "text": [
      "____________________________________________\n"
     ]
    },
    {
     "data": {
      "text/latex": [
       "$\\displaystyle Set\\ r=7,$"
      ],
      "text/plain": [
       "<IPython.core.display.Math object>"
      ]
     },
     "metadata": {},
     "output_type": "display_data"
    },
    {
     "data": {
      "text/latex": [
       "$\\displaystyle x_7 = 0.07, y_7 = 0.9432132$"
      ],
      "text/plain": [
       "<IPython.core.display.Math object>"
      ]
     },
     "metadata": {},
     "output_type": "display_data"
    },
    {
     "data": {
      "text/latex": [
       "$\\displaystyle F_{1,7} = f(x_7, y_7) = f(0.07, 0.9432132) = -0.7066165$"
      ],
      "text/plain": [
       "<IPython.core.display.Math object>"
      ]
     },
     "metadata": {},
     "output_type": "display_data"
    },
    {
     "data": {
      "text/latex": [
       "$\\displaystyle x_8 = x_7 + h = 0.07 + 0.01 = 0.08$"
      ],
      "text/plain": [
       "<IPython.core.display.Math object>"
      ]
     },
     "metadata": {},
     "output_type": "display_data"
    },
    {
     "data": {
      "text/latex": [
       "$\\displaystyle y_e = y_7 + hF_{1,7} = 0.9432132 + (0.01)(-0.7066165) = 0.9361470\n",
       "$"
      ],
      "text/plain": [
       "<IPython.core.display.Math object>"
      ]
     },
     "metadata": {},
     "output_type": "display_data"
    },
    {
     "data": {
      "text/latex": [
       "$\\displaystyle F_{2,7} = f(x_8, y_e) = f(0.08, 0.9361470) = -0.6847042$"
      ],
      "text/plain": [
       "<IPython.core.display.Math object>"
      ]
     },
     "metadata": {},
     "output_type": "display_data"
    },
    {
     "data": {
      "text/latex": [
       "$\\displaystyle y_8 = y_7 + \\frac{1}{2}h(F_{1,7} + F_{2,7}) = 0.9432132 + \\frac{1}{2}(0.01)(-0.7066165 + -0.6847042) = 0.9362566$"
      ],
      "text/plain": [
       "<IPython.core.display.Math object>"
      ]
     },
     "metadata": {},
     "output_type": "display_data"
    },
    {
     "data": {
      "text/latex": [
       "$\\displaystyle Approximation\\ to\\ y(x_8 = 0.08) = 0.9362566$"
      ],
      "text/plain": [
       "<IPython.core.display.Math object>"
      ]
     },
     "metadata": {},
     "output_type": "display_data"
    },
    {
     "name": "stdout",
     "output_type": "stream",
     "text": [
      "____________________________________________\n"
     ]
    },
    {
     "data": {
      "text/latex": [
       "$\\displaystyle Set\\ r=8,$"
      ],
      "text/plain": [
       "<IPython.core.display.Math object>"
      ]
     },
     "metadata": {},
     "output_type": "display_data"
    },
    {
     "data": {
      "text/latex": [
       "$\\displaystyle x_8 = 0.08, y_8 = 0.9362566$"
      ],
      "text/plain": [
       "<IPython.core.display.Math object>"
      ]
     },
     "metadata": {},
     "output_type": "display_data"
    },
    {
     "data": {
      "text/latex": [
       "$\\displaystyle F_{1,8} = f(x_8, y_8) = f(0.08, 0.9362566) = -0.6847608$"
      ],
      "text/plain": [
       "<IPython.core.display.Math object>"
      ]
     },
     "metadata": {},
     "output_type": "display_data"
    },
    {
     "data": {
      "text/latex": [
       "$\\displaystyle x_9 = x_8 + h = 0.08 + 0.01 = 0.09$"
      ],
      "text/plain": [
       "<IPython.core.display.Math object>"
      ]
     },
     "metadata": {},
     "output_type": "display_data"
    },
    {
     "data": {
      "text/latex": [
       "$\\displaystyle y_e = y_8 + hF_{1,8} = 0.9362566 + (0.01)(-0.6847608) = 0.9294090\n",
       "$"
      ],
      "text/plain": [
       "<IPython.core.display.Math object>"
      ]
     },
     "metadata": {},
     "output_type": "display_data"
    },
    {
     "data": {
      "text/latex": [
       "$\\displaystyle F_{2,8} = f(x_9, y_e) = f(0.09, 0.9294090) = -0.6640586$"
      ],
      "text/plain": [
       "<IPython.core.display.Math object>"
      ]
     },
     "metadata": {},
     "output_type": "display_data"
    },
    {
     "data": {
      "text/latex": [
       "$\\displaystyle y_9 = y_8 + \\frac{1}{2}h(F_{1,8} + F_{2,8}) = 0.9362566 + \\frac{1}{2}(0.01)(-0.6847608 + -0.6640586) = 0.9295125$"
      ],
      "text/plain": [
       "<IPython.core.display.Math object>"
      ]
     },
     "metadata": {},
     "output_type": "display_data"
    },
    {
     "data": {
      "text/latex": [
       "$\\displaystyle Approximation\\ to\\ y(x_9 = 0.09) = 0.9295125$"
      ],
      "text/plain": [
       "<IPython.core.display.Math object>"
      ]
     },
     "metadata": {},
     "output_type": "display_data"
    },
    {
     "name": "stdout",
     "output_type": "stream",
     "text": [
      "____________________________________________\n"
     ]
    },
    {
     "data": {
      "text/latex": [
       "$\\displaystyle Set\\ r=9,$"
      ],
      "text/plain": [
       "<IPython.core.display.Math object>"
      ]
     },
     "metadata": {},
     "output_type": "display_data"
    },
    {
     "data": {
      "text/latex": [
       "$\\displaystyle x_9 = 0.09, y_9 = 0.9295125$"
      ],
      "text/plain": [
       "<IPython.core.display.Math object>"
      ]
     },
     "metadata": {},
     "output_type": "display_data"
    },
    {
     "data": {
      "text/latex": [
       "$\\displaystyle F_{1,9} = f(x_9, y_9) = f(0.09, 0.9295125) = -0.6641123$"
      ],
      "text/plain": [
       "<IPython.core.display.Math object>"
      ]
     },
     "metadata": {},
     "output_type": "display_data"
    },
    {
     "data": {
      "text/latex": [
       "$\\displaystyle x_10 = x_9 + h = 0.09 + 0.01 = 0.1$"
      ],
      "text/plain": [
       "<IPython.core.display.Math object>"
      ]
     },
     "metadata": {},
     "output_type": "display_data"
    },
    {
     "data": {
      "text/latex": [
       "$\\displaystyle y_e = y_9 + hF_{1,9} = 0.9295125 + (0.01)(-0.6641123) = 0.9228714\n",
       "$"
      ],
      "text/plain": [
       "<IPython.core.display.Math object>"
      ]
     },
     "metadata": {},
     "output_type": "display_data"
    },
    {
     "data": {
      "text/latex": [
       "$\\displaystyle F_{2,9} = f(x_10, y_e) = f(0.1, 0.9228714) = -0.6444342$"
      ],
      "text/plain": [
       "<IPython.core.display.Math object>"
      ]
     },
     "metadata": {},
     "output_type": "display_data"
    },
    {
     "data": {
      "text/latex": [
       "$\\displaystyle y_10 = y_9 + \\frac{1}{2}h(F_{1,9} + F_{2,9}) = 0.9295125 + \\frac{1}{2}(0.01)(-0.6641123 + -0.6444342) = 0.9229698$"
      ],
      "text/plain": [
       "<IPython.core.display.Math object>"
      ]
     },
     "metadata": {},
     "output_type": "display_data"
    },
    {
     "data": {
      "text/latex": [
       "$\\displaystyle Approximation\\ to\\ y(x_10 = 0.1) = 0.9229698$"
      ],
      "text/plain": [
       "<IPython.core.display.Math object>"
      ]
     },
     "metadata": {},
     "output_type": "display_data"
    },
    {
     "name": "stdout",
     "output_type": "stream",
     "text": [
      "____________________________________________\n"
     ]
    },
    {
     "data": {
      "text/latex": [
       "$\\displaystyle Set\\ r=10,$"
      ],
      "text/plain": [
       "<IPython.core.display.Math object>"
      ]
     },
     "metadata": {},
     "output_type": "display_data"
    },
    {
     "data": {
      "text/latex": [
       "$\\displaystyle x_10 = 0.1, y_10 = 0.9229698$"
      ],
      "text/plain": [
       "<IPython.core.display.Math object>"
      ]
     },
     "metadata": {},
     "output_type": "display_data"
    },
    {
     "data": {
      "text/latex": [
       "$\\displaystyle F_{1,10} = f(x_10, y_10) = f(0.1, 0.9229698) = -0.6444854$"
      ],
      "text/plain": [
       "<IPython.core.display.Math object>"
      ]
     },
     "metadata": {},
     "output_type": "display_data"
    },
    {
     "data": {
      "text/latex": [
       "$\\displaystyle x_11 = x_10 + h = 0.1 + 0.01 = 0.11$"
      ],
      "text/plain": [
       "<IPython.core.display.Math object>"
      ]
     },
     "metadata": {},
     "output_type": "display_data"
    },
    {
     "data": {
      "text/latex": [
       "$\\displaystyle y_e = y_10 + hF_{1,10} = 0.9229698 + (0.01)(-0.6444854) = 0.9165249\n",
       "$"
      ],
      "text/plain": [
       "<IPython.core.display.Math object>"
      ]
     },
     "metadata": {},
     "output_type": "display_data"
    },
    {
     "data": {
      "text/latex": [
       "$\\displaystyle F_{2,10} = f(x_11, y_e) = f(0.11, 0.9165249) = -0.6256906$"
      ],
      "text/plain": [
       "<IPython.core.display.Math object>"
      ]
     },
     "metadata": {},
     "output_type": "display_data"
    },
    {
     "data": {
      "text/latex": [
       "$\\displaystyle y_11 = y_10 + \\frac{1}{2}h(F_{1,10} + F_{2,10}) = 0.9229698 + \\frac{1}{2}(0.01)(-0.6444854 + -0.6256906) = 0.9166189$"
      ],
      "text/plain": [
       "<IPython.core.display.Math object>"
      ]
     },
     "metadata": {},
     "output_type": "display_data"
    },
    {
     "data": {
      "text/latex": [
       "$\\displaystyle Approximation\\ to\\ y(x_11 = 0.11) = 0.9166189$"
      ],
      "text/plain": [
       "<IPython.core.display.Math object>"
      ]
     },
     "metadata": {},
     "output_type": "display_data"
    },
    {
     "name": "stdout",
     "output_type": "stream",
     "text": [
      "____________________________________________\n"
     ]
    },
    {
     "data": {
      "text/latex": [
       "$\\displaystyle Set\\ r=11,$"
      ],
      "text/plain": [
       "<IPython.core.display.Math object>"
      ]
     },
     "metadata": {},
     "output_type": "display_data"
    },
    {
     "data": {
      "text/latex": [
       "$\\displaystyle x_11 = 0.11, y_11 = 0.9166189$"
      ],
      "text/plain": [
       "<IPython.core.display.Math object>"
      ]
     },
     "metadata": {},
     "output_type": "display_data"
    },
    {
     "data": {
      "text/latex": [
       "$\\displaystyle F_{1,11} = f(x_11, y_11) = f(0.11, 0.9166189) = -0.6257397$"
      ],
      "text/plain": [
       "<IPython.core.display.Math object>"
      ]
     },
     "metadata": {},
     "output_type": "display_data"
    },
    {
     "data": {
      "text/latex": [
       "$\\displaystyle x_12 = x_11 + h = 0.11 + 0.01 = 0.12$"
      ],
      "text/plain": [
       "<IPython.core.display.Math object>"
      ]
     },
     "metadata": {},
     "output_type": "display_data"
    },
    {
     "data": {
      "text/latex": [
       "$\\displaystyle y_e = y_11 + hF_{1,11} = 0.9166189 + (0.01)(-0.6257397) = 0.9103615\n",
       "$"
      ],
      "text/plain": [
       "<IPython.core.display.Math object>"
      ]
     },
     "metadata": {},
     "output_type": "display_data"
    },
    {
     "data": {
      "text/latex": [
       "$\\displaystyle F_{2,11} = f(x_12, y_e) = f(0.12, 0.9103615) = -0.6077185$"
      ],
      "text/plain": [
       "<IPython.core.display.Math object>"
      ]
     },
     "metadata": {},
     "output_type": "display_data"
    },
    {
     "data": {
      "text/latex": [
       "$\\displaystyle y_12 = y_11 + \\frac{1}{2}h(F_{1,11} + F_{2,11}) = 0.9166189 + \\frac{1}{2}(0.01)(-0.6257397 + -0.6077185) = 0.9104516$"
      ],
      "text/plain": [
       "<IPython.core.display.Math object>"
      ]
     },
     "metadata": {},
     "output_type": "display_data"
    },
    {
     "data": {
      "text/latex": [
       "$\\displaystyle Approximation\\ to\\ y(x_12 = 0.12) = 0.9104516$"
      ],
      "text/plain": [
       "<IPython.core.display.Math object>"
      ]
     },
     "metadata": {},
     "output_type": "display_data"
    },
    {
     "name": "stdout",
     "output_type": "stream",
     "text": [
      "____________________________________________\n"
     ]
    },
    {
     "data": {
      "text/latex": [
       "$\\displaystyle Set\\ r=12,$"
      ],
      "text/plain": [
       "<IPython.core.display.Math object>"
      ]
     },
     "metadata": {},
     "output_type": "display_data"
    },
    {
     "data": {
      "text/latex": [
       "$\\displaystyle x_12 = 0.12, y_12 = 0.9104516$"
      ],
      "text/plain": [
       "<IPython.core.display.Math object>"
      ]
     },
     "metadata": {},
     "output_type": "display_data"
    },
    {
     "data": {
      "text/latex": [
       "$\\displaystyle F_{1,12} = f(x_12, y_12) = f(0.12, 0.9104516) = -0.6077657$"
      ],
      "text/plain": [
       "<IPython.core.display.Math object>"
      ]
     },
     "metadata": {},
     "output_type": "display_data"
    },
    {
     "data": {
      "text/latex": [
       "$\\displaystyle x_13 = x_12 + h = 0.12 + 0.01 = 0.13$"
      ],
      "text/plain": [
       "<IPython.core.display.Math object>"
      ]
     },
     "metadata": {},
     "output_type": "display_data"
    },
    {
     "data": {
      "text/latex": [
       "$\\displaystyle y_e = y_12 + hF_{1,12} = 0.9104516 + (0.01)(-0.6077657) = 0.9043739\n",
       "$"
      ],
      "text/plain": [
       "<IPython.core.display.Math object>"
      ]
     },
     "metadata": {},
     "output_type": "display_data"
    },
    {
     "data": {
      "text/latex": [
       "$\\displaystyle F_{2,12} = f(x_13, y_e) = f(0.13, 0.9043739) = -0.5904306$"
      ],
      "text/plain": [
       "<IPython.core.display.Math object>"
      ]
     },
     "metadata": {},
     "output_type": "display_data"
    },
    {
     "data": {
      "text/latex": [
       "$\\displaystyle y_13 = y_12 + \\frac{1}{2}h(F_{1,12} + F_{2,12}) = 0.9104516 + \\frac{1}{2}(0.01)(-0.6077657 + -0.5904306) = 0.9044606$"
      ],
      "text/plain": [
       "<IPython.core.display.Math object>"
      ]
     },
     "metadata": {},
     "output_type": "display_data"
    },
    {
     "data": {
      "text/latex": [
       "$\\displaystyle Approximation\\ to\\ y(x_13 = 0.13) = 0.9044606$"
      ],
      "text/plain": [
       "<IPython.core.display.Math object>"
      ]
     },
     "metadata": {},
     "output_type": "display_data"
    },
    {
     "name": "stdout",
     "output_type": "stream",
     "text": [
      "____________________________________________\n"
     ]
    },
    {
     "data": {
      "text/latex": [
       "$\\displaystyle Set\\ r=13,$"
      ],
      "text/plain": [
       "<IPython.core.display.Math object>"
      ]
     },
     "metadata": {},
     "output_type": "display_data"
    },
    {
     "data": {
      "text/latex": [
       "$\\displaystyle x_13 = 0.13, y_13 = 0.9044606$"
      ],
      "text/plain": [
       "<IPython.core.display.Math object>"
      ]
     },
     "metadata": {},
     "output_type": "display_data"
    },
    {
     "data": {
      "text/latex": [
       "$\\displaystyle F_{1,13} = f(x_13, y_13) = f(0.13, 0.9044606) = -0.5904762$"
      ],
      "text/plain": [
       "<IPython.core.display.Math object>"
      ]
     },
     "metadata": {},
     "output_type": "display_data"
    },
    {
     "data": {
      "text/latex": [
       "$\\displaystyle x_14 = x_13 + h = 0.13 + 0.01 = 0.14$"
      ],
      "text/plain": [
       "<IPython.core.display.Math object>"
      ]
     },
     "metadata": {},
     "output_type": "display_data"
    },
    {
     "data": {
      "text/latex": [
       "$\\displaystyle y_e = y_13 + hF_{1,13} = 0.9044606 + (0.01)(-0.5904762) = 0.8985558\n",
       "$"
      ],
      "text/plain": [
       "<IPython.core.display.Math object>"
      ]
     },
     "metadata": {},
     "output_type": "display_data"
    },
    {
     "data": {
      "text/latex": [
       "$\\displaystyle F_{2,13} = f(x_14, y_e) = f(0.14, 0.8985558) = -0.5737561$"
      ],
      "text/plain": [
       "<IPython.core.display.Math object>"
      ]
     },
     "metadata": {},
     "output_type": "display_data"
    },
    {
     "data": {
      "text/latex": [
       "$\\displaystyle y_14 = y_13 + \\frac{1}{2}h(F_{1,13} + F_{2,13}) = 0.9044606 + \\frac{1}{2}(0.01)(-0.5904762 + -0.5737561) = 0.8986394$"
      ],
      "text/plain": [
       "<IPython.core.display.Math object>"
      ]
     },
     "metadata": {},
     "output_type": "display_data"
    },
    {
     "data": {
      "text/latex": [
       "$\\displaystyle Approximation\\ to\\ y(x_14 = 0.14) = 0.8986394$"
      ],
      "text/plain": [
       "<IPython.core.display.Math object>"
      ]
     },
     "metadata": {},
     "output_type": "display_data"
    },
    {
     "name": "stdout",
     "output_type": "stream",
     "text": [
      "____________________________________________\n"
     ]
    },
    {
     "data": {
      "text/latex": [
       "$\\displaystyle Set\\ r=14,$"
      ],
      "text/plain": [
       "<IPython.core.display.Math object>"
      ]
     },
     "metadata": {},
     "output_type": "display_data"
    },
    {
     "data": {
      "text/latex": [
       "$\\displaystyle x_14 = 0.14, y_14 = 0.8986394$"
      ],
      "text/plain": [
       "<IPython.core.display.Math object>"
      ]
     },
     "metadata": {},
     "output_type": "display_data"
    },
    {
     "data": {
      "text/latex": [
       "$\\displaystyle F_{1,14} = f(x_14, y_14) = f(0.14, 0.8986394) = -0.5738002$"
      ],
      "text/plain": [
       "<IPython.core.display.Math object>"
      ]
     },
     "metadata": {},
     "output_type": "display_data"
    },
    {
     "data": {
      "text/latex": [
       "$\\displaystyle x_15 = x_14 + h = 0.14 + 0.01 = 0.15$"
      ],
      "text/plain": [
       "<IPython.core.display.Math object>"
      ]
     },
     "metadata": {},
     "output_type": "display_data"
    },
    {
     "data": {
      "text/latex": [
       "$\\displaystyle y_e = y_14 + hF_{1,14} = 0.8986394 + (0.01)(-0.5738002) = 0.8929014\n",
       "$"
      ],
      "text/plain": [
       "<IPython.core.display.Math object>"
      ]
     },
     "metadata": {},
     "output_type": "display_data"
    },
    {
     "data": {
      "text/latex": [
       "$\\displaystyle F_{2,14} = f(x_15, y_e) = f(0.15, 0.8929014) = -0.5576363$"
      ],
      "text/plain": [
       "<IPython.core.display.Math object>"
      ]
     },
     "metadata": {},
     "output_type": "display_data"
    },
    {
     "data": {
      "text/latex": [
       "$\\displaystyle y_15 = y_14 + \\frac{1}{2}h(F_{1,14} + F_{2,14}) = 0.8986394 + \\frac{1}{2}(0.01)(-0.5738002 + -0.5576363) = 0.8929822$"
      ],
      "text/plain": [
       "<IPython.core.display.Math object>"
      ]
     },
     "metadata": {},
     "output_type": "display_data"
    },
    {
     "data": {
      "text/latex": [
       "$\\displaystyle Approximation\\ to\\ y(x_15 = 0.15) = 0.8929822$"
      ],
      "text/plain": [
       "<IPython.core.display.Math object>"
      ]
     },
     "metadata": {},
     "output_type": "display_data"
    },
    {
     "name": "stdout",
     "output_type": "stream",
     "text": [
      "____________________________________________\n"
     ]
    },
    {
     "data": {
      "text/latex": [
       "$\\displaystyle Set\\ r=15,$"
      ],
      "text/plain": [
       "<IPython.core.display.Math object>"
      ]
     },
     "metadata": {},
     "output_type": "display_data"
    },
    {
     "data": {
      "text/latex": [
       "$\\displaystyle x_15 = 0.15, y_15 = 0.8929822$"
      ],
      "text/plain": [
       "<IPython.core.display.Math object>"
      ]
     },
     "metadata": {},
     "output_type": "display_data"
    },
    {
     "data": {
      "text/latex": [
       "$\\displaystyle F_{1,15} = f(x_15, y_15) = f(0.15, 0.8929822) = -0.5576790$"
      ],
      "text/plain": [
       "<IPython.core.display.Math object>"
      ]
     },
     "metadata": {},
     "output_type": "display_data"
    },
    {
     "data": {
      "text/latex": [
       "$\\displaystyle x_16 = x_15 + h = 0.15 + 0.01 = 0.16$"
      ],
      "text/plain": [
       "<IPython.core.display.Math object>"
      ]
     },
     "metadata": {},
     "output_type": "display_data"
    },
    {
     "data": {
      "text/latex": [
       "$\\displaystyle y_e = y_15 + hF_{1,15} = 0.8929822 + (0.01)(-0.5576790) = 0.8874054\n",
       "$"
      ],
      "text/plain": [
       "<IPython.core.display.Math object>"
      ]
     },
     "metadata": {},
     "output_type": "display_data"
    },
    {
     "data": {
      "text/latex": [
       "$\\displaystyle F_{2,15} = f(x_16, y_e) = f(0.16, 0.8874054) = -0.5420220$"
      ],
      "text/plain": [
       "<IPython.core.display.Math object>"
      ]
     },
     "metadata": {},
     "output_type": "display_data"
    },
    {
     "data": {
      "text/latex": [
       "$\\displaystyle y_16 = y_15 + \\frac{1}{2}h(F_{1,15} + F_{2,15}) = 0.8929822 + \\frac{1}{2}(0.01)(-0.5576790 + -0.5420220) = 0.8874837$"
      ],
      "text/plain": [
       "<IPython.core.display.Math object>"
      ]
     },
     "metadata": {},
     "output_type": "display_data"
    },
    {
     "data": {
      "text/latex": [
       "$\\displaystyle Approximation\\ to\\ y(x_16 = 0.16) = 0.8874837$"
      ],
      "text/plain": [
       "<IPython.core.display.Math object>"
      ]
     },
     "metadata": {},
     "output_type": "display_data"
    },
    {
     "name": "stdout",
     "output_type": "stream",
     "text": [
      "____________________________________________\n"
     ]
    },
    {
     "data": {
      "text/latex": [
       "$\\displaystyle Set\\ r=16,$"
      ],
      "text/plain": [
       "<IPython.core.display.Math object>"
      ]
     },
     "metadata": {},
     "output_type": "display_data"
    },
    {
     "data": {
      "text/latex": [
       "$\\displaystyle x_16 = 0.16, y_16 = 0.8874837$"
      ],
      "text/plain": [
       "<IPython.core.display.Math object>"
      ]
     },
     "metadata": {},
     "output_type": "display_data"
    },
    {
     "data": {
      "text/latex": [
       "$\\displaystyle F_{1,16} = f(x_16, y_16) = f(0.16, 0.8874837) = -0.5420635$"
      ],
      "text/plain": [
       "<IPython.core.display.Math object>"
      ]
     },
     "metadata": {},
     "output_type": "display_data"
    },
    {
     "data": {
      "text/latex": [
       "$\\displaystyle x_17 = x_16 + h = 0.16 + 0.01 = 0.17$"
      ],
      "text/plain": [
       "<IPython.core.display.Math object>"
      ]
     },
     "metadata": {},
     "output_type": "display_data"
    },
    {
     "data": {
      "text/latex": [
       "$\\displaystyle y_e = y_16 + hF_{1,16} = 0.8874837 + (0.01)(-0.5420635) = 0.8820631\n",
       "$"
      ],
      "text/plain": [
       "<IPython.core.display.Math object>"
      ]
     },
     "metadata": {},
     "output_type": "display_data"
    },
    {
     "data": {
      "text/latex": [
       "$\\displaystyle F_{2,16} = f(x_17, y_e) = f(0.17, 0.8820631) = -0.5268716$"
      ],
      "text/plain": [
       "<IPython.core.display.Math object>"
      ]
     },
     "metadata": {},
     "output_type": "display_data"
    },
    {
     "data": {
      "text/latex": [
       "$\\displaystyle y_17 = y_16 + \\frac{1}{2}h(F_{1,16} + F_{2,16}) = 0.8874837 + \\frac{1}{2}(0.01)(-0.5420635 + -0.5268716) = 0.8821390$"
      ],
      "text/plain": [
       "<IPython.core.display.Math object>"
      ]
     },
     "metadata": {},
     "output_type": "display_data"
    },
    {
     "data": {
      "text/latex": [
       "$\\displaystyle Approximation\\ to\\ y(x_17 = 0.17) = 0.8821390$"
      ],
      "text/plain": [
       "<IPython.core.display.Math object>"
      ]
     },
     "metadata": {},
     "output_type": "display_data"
    },
    {
     "name": "stdout",
     "output_type": "stream",
     "text": [
      "____________________________________________\n"
     ]
    },
    {
     "data": {
      "text/latex": [
       "$\\displaystyle Set\\ r=17,$"
      ],
      "text/plain": [
       "<IPython.core.display.Math object>"
      ]
     },
     "metadata": {},
     "output_type": "display_data"
    },
    {
     "data": {
      "text/latex": [
       "$\\displaystyle x_17 = 0.17, y_17 = 0.8821390$"
      ],
      "text/plain": [
       "<IPython.core.display.Math object>"
      ]
     },
     "metadata": {},
     "output_type": "display_data"
    },
    {
     "data": {
      "text/latex": [
       "$\\displaystyle F_{1,17} = f(x_17, y_17) = f(0.17, 0.8821390) = -0.5269120$"
      ],
      "text/plain": [
       "<IPython.core.display.Math object>"
      ]
     },
     "metadata": {},
     "output_type": "display_data"
    },
    {
     "data": {
      "text/latex": [
       "$\\displaystyle x_18 = x_17 + h = 0.17 + 0.01 = 0.18$"
      ],
      "text/plain": [
       "<IPython.core.display.Math object>"
      ]
     },
     "metadata": {},
     "output_type": "display_data"
    },
    {
     "data": {
      "text/latex": [
       "$\\displaystyle y_e = y_17 + hF_{1,17} = 0.8821390 + (0.01)(-0.5269120) = 0.8768699\n",
       "$"
      ],
      "text/plain": [
       "<IPython.core.display.Math object>"
      ]
     },
     "metadata": {},
     "output_type": "display_data"
    },
    {
     "data": {
      "text/latex": [
       "$\\displaystyle F_{2,17} = f(x_18, y_e) = f(0.18, 0.8768699) = -0.5121492$"
      ],
      "text/plain": [
       "<IPython.core.display.Math object>"
      ]
     },
     "metadata": {},
     "output_type": "display_data"
    },
    {
     "data": {
      "text/latex": [
       "$\\displaystyle y_18 = y_17 + \\frac{1}{2}h(F_{1,17} + F_{2,17}) = 0.8821390 + \\frac{1}{2}(0.01)(-0.5269120 + -0.5121492) = 0.8769437$"
      ],
      "text/plain": [
       "<IPython.core.display.Math object>"
      ]
     },
     "metadata": {},
     "output_type": "display_data"
    },
    {
     "data": {
      "text/latex": [
       "$\\displaystyle Approximation\\ to\\ y(x_18 = 0.18) = 0.8769437$"
      ],
      "text/plain": [
       "<IPython.core.display.Math object>"
      ]
     },
     "metadata": {},
     "output_type": "display_data"
    },
    {
     "name": "stdout",
     "output_type": "stream",
     "text": [
      "____________________________________________\n"
     ]
    },
    {
     "data": {
      "text/latex": [
       "$\\displaystyle Set\\ r=18,$"
      ],
      "text/plain": [
       "<IPython.core.display.Math object>"
      ]
     },
     "metadata": {},
     "output_type": "display_data"
    },
    {
     "data": {
      "text/latex": [
       "$\\displaystyle x_18 = 0.18, y_18 = 0.8769437$"
      ],
      "text/plain": [
       "<IPython.core.display.Math object>"
      ]
     },
     "metadata": {},
     "output_type": "display_data"
    },
    {
     "data": {
      "text/latex": [
       "$\\displaystyle F_{1,18} = f(x_18, y_18) = f(0.18, 0.8769437) = -0.5121887$"
      ],
      "text/plain": [
       "<IPython.core.display.Math object>"
      ]
     },
     "metadata": {},
     "output_type": "display_data"
    },
    {
     "data": {
      "text/latex": [
       "$\\displaystyle x_19 = x_18 + h = 0.18 + 0.01 = 0.19$"
      ],
      "text/plain": [
       "<IPython.core.display.Math object>"
      ]
     },
     "metadata": {},
     "output_type": "display_data"
    },
    {
     "data": {
      "text/latex": [
       "$\\displaystyle y_e = y_18 + hF_{1,18} = 0.8769437 + (0.01)(-0.5121887) = 0.8718218\n",
       "$"
      ],
      "text/plain": [
       "<IPython.core.display.Math object>"
      ]
     },
     "metadata": {},
     "output_type": "display_data"
    },
    {
     "data": {
      "text/latex": [
       "$\\displaystyle F_{2,18} = f(x_19, y_e) = f(0.19, 0.8718218) = -0.4978241$"
      ],
      "text/plain": [
       "<IPython.core.display.Math object>"
      ]
     },
     "metadata": {},
     "output_type": "display_data"
    },
    {
     "data": {
      "text/latex": [
       "$\\displaystyle y_19 = y_18 + \\frac{1}{2}h(F_{1,18} + F_{2,18}) = 0.8769437 + \\frac{1}{2}(0.01)(-0.5121887 + -0.4978241) = 0.8718936$"
      ],
      "text/plain": [
       "<IPython.core.display.Math object>"
      ]
     },
     "metadata": {},
     "output_type": "display_data"
    },
    {
     "data": {
      "text/latex": [
       "$\\displaystyle Approximation\\ to\\ y(x_19 = 0.19) = 0.8718936$"
      ],
      "text/plain": [
       "<IPython.core.display.Math object>"
      ]
     },
     "metadata": {},
     "output_type": "display_data"
    },
    {
     "name": "stdout",
     "output_type": "stream",
     "text": [
      "____________________________________________\n"
     ]
    },
    {
     "data": {
      "text/latex": [
       "$\\displaystyle Set\\ r=19,$"
      ],
      "text/plain": [
       "<IPython.core.display.Math object>"
      ]
     },
     "metadata": {},
     "output_type": "display_data"
    },
    {
     "data": {
      "text/latex": [
       "$\\displaystyle x_19 = 0.19, y_19 = 0.8718936$"
      ],
      "text/plain": [
       "<IPython.core.display.Math object>"
      ]
     },
     "metadata": {},
     "output_type": "display_data"
    },
    {
     "data": {
      "text/latex": [
       "$\\displaystyle F_{1,19} = f(x_19, y_19) = f(0.19, 0.8718936) = -0.4978625$"
      ],
      "text/plain": [
       "<IPython.core.display.Math object>"
      ]
     },
     "metadata": {},
     "output_type": "display_data"
    },
    {
     "data": {
      "text/latex": [
       "$\\displaystyle x_20 = x_19 + h = 0.19 + 0.01 = 0.2$"
      ],
      "text/plain": [
       "<IPython.core.display.Math object>"
      ]
     },
     "metadata": {},
     "output_type": "display_data"
    },
    {
     "data": {
      "text/latex": [
       "$\\displaystyle y_e = y_19 + hF_{1,19} = 0.8718936 + (0.01)(-0.4978625) = 0.8669150\n",
       "$"
      ],
      "text/plain": [
       "<IPython.core.display.Math object>"
      ]
     },
     "metadata": {},
     "output_type": "display_data"
    },
    {
     "data": {
      "text/latex": [
       "$\\displaystyle F_{2,19} = f(x_20, y_e) = f(0.2, 0.8669150) = -0.4838691$"
      ],
      "text/plain": [
       "<IPython.core.display.Math object>"
      ]
     },
     "metadata": {},
     "output_type": "display_data"
    },
    {
     "data": {
      "text/latex": [
       "$\\displaystyle y_20 = y_19 + \\frac{1}{2}h(F_{1,19} + F_{2,19}) = 0.8718936 + \\frac{1}{2}(0.01)(-0.4978625 + -0.4838691) = 0.8669849$"
      ],
      "text/plain": [
       "<IPython.core.display.Math object>"
      ]
     },
     "metadata": {},
     "output_type": "display_data"
    },
    {
     "data": {
      "text/latex": [
       "$\\displaystyle Approximation\\ to\\ y(x_20 = 0.2) = 0.8669849$"
      ],
      "text/plain": [
       "<IPython.core.display.Math object>"
      ]
     },
     "metadata": {},
     "output_type": "display_data"
    },
    {
     "name": "stdout",
     "output_type": "stream",
     "text": [
      "____________________________________________\n"
     ]
    },
    {
     "data": {
      "text/latex": [
       "$\\displaystyle Set\\ r=20,$"
      ],
      "text/plain": [
       "<IPython.core.display.Math object>"
      ]
     },
     "metadata": {},
     "output_type": "display_data"
    },
    {
     "data": {
      "text/latex": [
       "$\\displaystyle x_20 = 0.2, y_20 = 0.8669849$"
      ],
      "text/plain": [
       "<IPython.core.display.Math object>"
      ]
     },
     "metadata": {},
     "output_type": "display_data"
    },
    {
     "data": {
      "text/latex": [
       "$\\displaystyle F_{1,20} = f(x_20, y_20) = f(0.2, 0.8669849) = -0.4839066$"
      ],
      "text/plain": [
       "<IPython.core.display.Math object>"
      ]
     },
     "metadata": {},
     "output_type": "display_data"
    },
    {
     "data": {
      "text/latex": [
       "$\\displaystyle x_21 = x_20 + h = 0.2 + 0.01 = 0.21$"
      ],
      "text/plain": [
       "<IPython.core.display.Math object>"
      ]
     },
     "metadata": {},
     "output_type": "display_data"
    },
    {
     "data": {
      "text/latex": [
       "$\\displaystyle y_e = y_20 + hF_{1,20} = 0.8669849 + (0.01)(-0.4839066) = 0.8621458\n",
       "$"
      ],
      "text/plain": [
       "<IPython.core.display.Math object>"
      ]
     },
     "metadata": {},
     "output_type": "display_data"
    },
    {
     "data": {
      "text/latex": [
       "$\\displaystyle F_{2,20} = f(x_21, y_e) = f(0.21, 0.8621458) = -0.4702605$"
      ],
      "text/plain": [
       "<IPython.core.display.Math object>"
      ]
     },
     "metadata": {},
     "output_type": "display_data"
    },
    {
     "data": {
      "text/latex": [
       "$\\displaystyle y_21 = y_20 + \\frac{1}{2}h(F_{1,20} + F_{2,20}) = 0.8669849 + \\frac{1}{2}(0.01)(-0.4839066 + -0.4702605) = 0.8622141$"
      ],
      "text/plain": [
       "<IPython.core.display.Math object>"
      ]
     },
     "metadata": {},
     "output_type": "display_data"
    },
    {
     "data": {
      "text/latex": [
       "$\\displaystyle Approximation\\ to\\ y(x_21 = 0.21) = 0.8622141$"
      ],
      "text/plain": [
       "<IPython.core.display.Math object>"
      ]
     },
     "metadata": {},
     "output_type": "display_data"
    },
    {
     "name": "stdout",
     "output_type": "stream",
     "text": [
      "____________________________________________\n"
     ]
    },
    {
     "data": {
      "text/latex": [
       "$\\displaystyle Set\\ r=21,$"
      ],
      "text/plain": [
       "<IPython.core.display.Math object>"
      ]
     },
     "metadata": {},
     "output_type": "display_data"
    },
    {
     "data": {
      "text/latex": [
       "$\\displaystyle x_21 = 0.21, y_21 = 0.8622141$"
      ],
      "text/plain": [
       "<IPython.core.display.Math object>"
      ]
     },
     "metadata": {},
     "output_type": "display_data"
    },
    {
     "data": {
      "text/latex": [
       "$\\displaystyle F_{1,21} = f(x_21, y_21) = f(0.21, 0.8622141) = -0.4702973$"
      ],
      "text/plain": [
       "<IPython.core.display.Math object>"
      ]
     },
     "metadata": {},
     "output_type": "display_data"
    },
    {
     "data": {
      "text/latex": [
       "$\\displaystyle x_22 = x_21 + h = 0.21 + 0.01 = 0.22$"
      ],
      "text/plain": [
       "<IPython.core.display.Math object>"
      ]
     },
     "metadata": {},
     "output_type": "display_data"
    },
    {
     "data": {
      "text/latex": [
       "$\\displaystyle y_e = y_21 + hF_{1,21} = 0.8622141 + (0.01)(-0.4702973) = 0.8575111\n",
       "$"
      ],
      "text/plain": [
       "<IPython.core.display.Math object>"
      ]
     },
     "metadata": {},
     "output_type": "display_data"
    },
    {
     "data": {
      "text/latex": [
       "$\\displaystyle F_{2,21} = f(x_22, y_e) = f(0.22, 0.8575111) = -0.4569774$"
      ],
      "text/plain": [
       "<IPython.core.display.Math object>"
      ]
     },
     "metadata": {},
     "output_type": "display_data"
    },
    {
     "data": {
      "text/latex": [
       "$\\displaystyle y_22 = y_21 + \\frac{1}{2}h(F_{1,21} + F_{2,21}) = 0.8622141 + \\frac{1}{2}(0.01)(-0.4702973 + -0.4569774) = 0.8575777$"
      ],
      "text/plain": [
       "<IPython.core.display.Math object>"
      ]
     },
     "metadata": {},
     "output_type": "display_data"
    },
    {
     "data": {
      "text/latex": [
       "$\\displaystyle Approximation\\ to\\ y(x_22 = 0.22) = 0.8575777$"
      ],
      "text/plain": [
       "<IPython.core.display.Math object>"
      ]
     },
     "metadata": {},
     "output_type": "display_data"
    },
    {
     "name": "stdout",
     "output_type": "stream",
     "text": [
      "____________________________________________\n"
     ]
    },
    {
     "data": {
      "text/latex": [
       "$\\displaystyle Set\\ r=22,$"
      ],
      "text/plain": [
       "<IPython.core.display.Math object>"
      ]
     },
     "metadata": {},
     "output_type": "display_data"
    },
    {
     "data": {
      "text/latex": [
       "$\\displaystyle x_22 = 0.22, y_22 = 0.8575777$"
      ],
      "text/plain": [
       "<IPython.core.display.Math object>"
      ]
     },
     "metadata": {},
     "output_type": "display_data"
    },
    {
     "data": {
      "text/latex": [
       "$\\displaystyle F_{1,22} = f(x_22, y_22) = f(0.22, 0.8575777) = -0.4570133$"
      ],
      "text/plain": [
       "<IPython.core.display.Math object>"
      ]
     },
     "metadata": {},
     "output_type": "display_data"
    },
    {
     "data": {
      "text/latex": [
       "$\\displaystyle x_23 = x_22 + h = 0.22 + 0.01 = 0.23$"
      ],
      "text/plain": [
       "<IPython.core.display.Math object>"
      ]
     },
     "metadata": {},
     "output_type": "display_data"
    },
    {
     "data": {
      "text/latex": [
       "$\\displaystyle y_e = y_22 + hF_{1,22} = 0.8575777 + (0.01)(-0.4570133) = 0.8530076\n",
       "$"
      ],
      "text/plain": [
       "<IPython.core.display.Math object>"
      ]
     },
     "metadata": {},
     "output_type": "display_data"
    },
    {
     "data": {
      "text/latex": [
       "$\\displaystyle F_{2,22} = f(x_23, y_e) = f(0.23, 0.8530076) = -0.4440010$"
      ],
      "text/plain": [
       "<IPython.core.display.Math object>"
      ]
     },
     "metadata": {},
     "output_type": "display_data"
    },
    {
     "data": {
      "text/latex": [
       "$\\displaystyle y_23 = y_22 + \\frac{1}{2}h(F_{1,22} + F_{2,22}) = 0.8575777 + \\frac{1}{2}(0.01)(-0.4570133 + -0.4440010) = 0.8530726$"
      ],
      "text/plain": [
       "<IPython.core.display.Math object>"
      ]
     },
     "metadata": {},
     "output_type": "display_data"
    },
    {
     "data": {
      "text/latex": [
       "$\\displaystyle Approximation\\ to\\ y(x_23 = 0.23) = 0.8530726$"
      ],
      "text/plain": [
       "<IPython.core.display.Math object>"
      ]
     },
     "metadata": {},
     "output_type": "display_data"
    },
    {
     "name": "stdout",
     "output_type": "stream",
     "text": [
      "____________________________________________\n"
     ]
    },
    {
     "data": {
      "text/latex": [
       "$\\displaystyle Set\\ r=23,$"
      ],
      "text/plain": [
       "<IPython.core.display.Math object>"
      ]
     },
     "metadata": {},
     "output_type": "display_data"
    },
    {
     "data": {
      "text/latex": [
       "$\\displaystyle x_23 = 0.23, y_23 = 0.8530726$"
      ],
      "text/plain": [
       "<IPython.core.display.Math object>"
      ]
     },
     "metadata": {},
     "output_type": "display_data"
    },
    {
     "data": {
      "text/latex": [
       "$\\displaystyle F_{1,23} = f(x_23, y_23) = f(0.23, 0.8530726) = -0.4440361$"
      ],
      "text/plain": [
       "<IPython.core.display.Math object>"
      ]
     },
     "metadata": {},
     "output_type": "display_data"
    },
    {
     "data": {
      "text/latex": [
       "$\\displaystyle x_24 = x_23 + h = 0.23 + 0.01 = 0.24$"
      ],
      "text/plain": [
       "<IPython.core.display.Math object>"
      ]
     },
     "metadata": {},
     "output_type": "display_data"
    },
    {
     "data": {
      "text/latex": [
       "$\\displaystyle y_e = y_23 + hF_{1,23} = 0.8530726 + (0.01)(-0.4440361) = 0.8486322\n",
       "$"
      ],
      "text/plain": [
       "<IPython.core.display.Math object>"
      ]
     },
     "metadata": {},
     "output_type": "display_data"
    },
    {
     "data": {
      "text/latex": [
       "$\\displaystyle F_{2,23} = f(x_24, y_e) = f(0.24, 0.8486322) = -0.4313144$"
      ],
      "text/plain": [
       "<IPython.core.display.Math object>"
      ]
     },
     "metadata": {},
     "output_type": "display_data"
    },
    {
     "data": {
      "text/latex": [
       "$\\displaystyle y_24 = y_23 + \\frac{1}{2}h(F_{1,23} + F_{2,23}) = 0.8530726 + \\frac{1}{2}(0.01)(-0.4440361 + -0.4313144) = 0.8486958$"
      ],
      "text/plain": [
       "<IPython.core.display.Math object>"
      ]
     },
     "metadata": {},
     "output_type": "display_data"
    },
    {
     "data": {
      "text/latex": [
       "$\\displaystyle Approximation\\ to\\ y(x_24 = 0.24) = 0.8486958$"
      ],
      "text/plain": [
       "<IPython.core.display.Math object>"
      ]
     },
     "metadata": {},
     "output_type": "display_data"
    },
    {
     "name": "stdout",
     "output_type": "stream",
     "text": [
      "____________________________________________\n"
     ]
    },
    {
     "data": {
      "text/latex": [
       "$\\displaystyle Set\\ r=24,$"
      ],
      "text/plain": [
       "<IPython.core.display.Math object>"
      ]
     },
     "metadata": {},
     "output_type": "display_data"
    },
    {
     "data": {
      "text/latex": [
       "$\\displaystyle x_24 = 0.24, y_24 = 0.8486958$"
      ],
      "text/plain": [
       "<IPython.core.display.Math object>"
      ]
     },
     "metadata": {},
     "output_type": "display_data"
    },
    {
     "data": {
      "text/latex": [
       "$\\displaystyle F_{1,24} = f(x_24, y_24) = f(0.24, 0.8486958) = -0.4313489$"
      ],
      "text/plain": [
       "<IPython.core.display.Math object>"
      ]
     },
     "metadata": {},
     "output_type": "display_data"
    },
    {
     "data": {
      "text/latex": [
       "$\\displaystyle x_25 = x_24 + h = 0.24 + 0.01 = 0.25$"
      ],
      "text/plain": [
       "<IPython.core.display.Math object>"
      ]
     },
     "metadata": {},
     "output_type": "display_data"
    },
    {
     "data": {
      "text/latex": [
       "$\\displaystyle y_e = y_24 + hF_{1,24} = 0.8486958 + (0.01)(-0.4313489) = 0.8443823\n",
       "$"
      ],
      "text/plain": [
       "<IPython.core.display.Math object>"
      ]
     },
     "metadata": {},
     "output_type": "display_data"
    },
    {
     "data": {
      "text/latex": [
       "$\\displaystyle F_{2,24} = f(x_25, y_e) = f(0.25, 0.8443823) = -0.4189028$"
      ],
      "text/plain": [
       "<IPython.core.display.Math object>"
      ]
     },
     "metadata": {},
     "output_type": "display_data"
    },
    {
     "data": {
      "text/latex": [
       "$\\displaystyle y_25 = y_24 + \\frac{1}{2}h(F_{1,24} + F_{2,24}) = 0.8486958 + \\frac{1}{2}(0.01)(-0.4313489 + -0.4189028) = 0.8444445$"
      ],
      "text/plain": [
       "<IPython.core.display.Math object>"
      ]
     },
     "metadata": {},
     "output_type": "display_data"
    },
    {
     "data": {
      "text/latex": [
       "$\\displaystyle Approximation\\ to\\ y(x_25 = 0.25) = 0.8444445$"
      ],
      "text/plain": [
       "<IPython.core.display.Math object>"
      ]
     },
     "metadata": {},
     "output_type": "display_data"
    },
    {
     "name": "stdout",
     "output_type": "stream",
     "text": [
      "____________________________________________\n"
     ]
    },
    {
     "data": {
      "text/latex": [
       "$\\displaystyle Set\\ r=25,$"
      ],
      "text/plain": [
       "<IPython.core.display.Math object>"
      ]
     },
     "metadata": {},
     "output_type": "display_data"
    },
    {
     "data": {
      "text/latex": [
       "$\\displaystyle x_25 = 0.25, y_25 = 0.8444445$"
      ],
      "text/plain": [
       "<IPython.core.display.Math object>"
      ]
     },
     "metadata": {},
     "output_type": "display_data"
    },
    {
     "data": {
      "text/latex": [
       "$\\displaystyle F_{1,25} = f(x_25, y_25) = f(0.25, 0.8444445) = -0.4189366$"
      ],
      "text/plain": [
       "<IPython.core.display.Math object>"
      ]
     },
     "metadata": {},
     "output_type": "display_data"
    },
    {
     "data": {
      "text/latex": [
       "$\\displaystyle x_26 = x_25 + h = 0.25 + 0.01 = 0.26$"
      ],
      "text/plain": [
       "<IPython.core.display.Math object>"
      ]
     },
     "metadata": {},
     "output_type": "display_data"
    },
    {
     "data": {
      "text/latex": [
       "$\\displaystyle y_e = y_25 + hF_{1,25} = 0.8444445 + (0.01)(-0.4189366) = 0.8402551\n",
       "$"
      ],
      "text/plain": [
       "<IPython.core.display.Math object>"
      ]
     },
     "metadata": {},
     "output_type": "display_data"
    },
    {
     "data": {
      "text/latex": [
       "$\\displaystyle F_{2,25} = f(x_26, y_e) = f(0.26, 0.8402551) = -0.4067523$"
      ],
      "text/plain": [
       "<IPython.core.display.Math object>"
      ]
     },
     "metadata": {},
     "output_type": "display_data"
    },
    {
     "data": {
      "text/latex": [
       "$\\displaystyle y_26 = y_25 + \\frac{1}{2}h(F_{1,25} + F_{2,25}) = 0.8444445 + \\frac{1}{2}(0.01)(-0.4189366 + -0.4067523) = 0.8403161$"
      ],
      "text/plain": [
       "<IPython.core.display.Math object>"
      ]
     },
     "metadata": {},
     "output_type": "display_data"
    },
    {
     "data": {
      "text/latex": [
       "$\\displaystyle Approximation\\ to\\ y(x_26 = 0.26) = 0.8403161$"
      ],
      "text/plain": [
       "<IPython.core.display.Math object>"
      ]
     },
     "metadata": {},
     "output_type": "display_data"
    },
    {
     "name": "stdout",
     "output_type": "stream",
     "text": [
      "____________________________________________\n"
     ]
    },
    {
     "data": {
      "text/latex": [
       "$\\displaystyle Set\\ r=26,$"
      ],
      "text/plain": [
       "<IPython.core.display.Math object>"
      ]
     },
     "metadata": {},
     "output_type": "display_data"
    },
    {
     "data": {
      "text/latex": [
       "$\\displaystyle x_26 = 0.26, y_26 = 0.8403161$"
      ],
      "text/plain": [
       "<IPython.core.display.Math object>"
      ]
     },
     "metadata": {},
     "output_type": "display_data"
    },
    {
     "data": {
      "text/latex": [
       "$\\displaystyle F_{1,26} = f(x_26, y_26) = f(0.26, 0.8403161) = -0.4067856$"
      ],
      "text/plain": [
       "<IPython.core.display.Math object>"
      ]
     },
     "metadata": {},
     "output_type": "display_data"
    },
    {
     "data": {
      "text/latex": [
       "$\\displaystyle x_27 = x_26 + h = 0.26 + 0.01 = 0.27$"
      ],
      "text/plain": [
       "<IPython.core.display.Math object>"
      ]
     },
     "metadata": {},
     "output_type": "display_data"
    },
    {
     "data": {
      "text/latex": [
       "$\\displaystyle y_e = y_26 + hF_{1,26} = 0.8403161 + (0.01)(-0.4067856) = 0.8362482\n",
       "$"
      ],
      "text/plain": [
       "<IPython.core.display.Math object>"
      ]
     },
     "metadata": {},
     "output_type": "display_data"
    },
    {
     "data": {
      "text/latex": [
       "$\\displaystyle F_{2,26} = f(x_27, y_e) = f(0.27, 0.8362482) = -0.3948508$"
      ],
      "text/plain": [
       "<IPython.core.display.Math object>"
      ]
     },
     "metadata": {},
     "output_type": "display_data"
    },
    {
     "data": {
      "text/latex": [
       "$\\displaystyle y_27 = y_26 + \\frac{1}{2}h(F_{1,26} + F_{2,26}) = 0.8403161 + \\frac{1}{2}(0.01)(-0.4067856 + -0.3948508) = 0.8363079$"
      ],
      "text/plain": [
       "<IPython.core.display.Math object>"
      ]
     },
     "metadata": {},
     "output_type": "display_data"
    },
    {
     "data": {
      "text/latex": [
       "$\\displaystyle Approximation\\ to\\ y(x_27 = 0.27) = 0.8363079$"
      ],
      "text/plain": [
       "<IPython.core.display.Math object>"
      ]
     },
     "metadata": {},
     "output_type": "display_data"
    },
    {
     "name": "stdout",
     "output_type": "stream",
     "text": [
      "____________________________________________\n"
     ]
    },
    {
     "data": {
      "text/latex": [
       "$\\displaystyle Set\\ r=27,$"
      ],
      "text/plain": [
       "<IPython.core.display.Math object>"
      ]
     },
     "metadata": {},
     "output_type": "display_data"
    },
    {
     "data": {
      "text/latex": [
       "$\\displaystyle x_27 = 0.27, y_27 = 0.8363079$"
      ],
      "text/plain": [
       "<IPython.core.display.Math object>"
      ]
     },
     "metadata": {},
     "output_type": "display_data"
    },
    {
     "data": {
      "text/latex": [
       "$\\displaystyle F_{1,27} = f(x_27, y_27) = f(0.27, 0.8363079) = -0.3948835$"
      ],
      "text/plain": [
       "<IPython.core.display.Math object>"
      ]
     },
     "metadata": {},
     "output_type": "display_data"
    },
    {
     "data": {
      "text/latex": [
       "$\\displaystyle x_28 = x_27 + h = 0.27 + 0.01 = 0.28$"
      ],
      "text/plain": [
       "<IPython.core.display.Math object>"
      ]
     },
     "metadata": {},
     "output_type": "display_data"
    },
    {
     "data": {
      "text/latex": [
       "$\\displaystyle y_e = y_27 + hF_{1,27} = 0.8363079 + (0.01)(-0.3948835) = 0.8323591\n",
       "$"
      ],
      "text/plain": [
       "<IPython.core.display.Math object>"
      ]
     },
     "metadata": {},
     "output_type": "display_data"
    },
    {
     "data": {
      "text/latex": [
       "$\\displaystyle F_{2,27} = f(x_28, y_e) = f(0.28, 0.8323591) = -0.3831869$"
      ],
      "text/plain": [
       "<IPython.core.display.Math object>"
      ]
     },
     "metadata": {},
     "output_type": "display_data"
    },
    {
     "data": {
      "text/latex": [
       "$\\displaystyle y_28 = y_27 + \\frac{1}{2}h(F_{1,27} + F_{2,27}) = 0.8363079 + \\frac{1}{2}(0.01)(-0.3948835 + -0.3831869) = 0.8324175$"
      ],
      "text/plain": [
       "<IPython.core.display.Math object>"
      ]
     },
     "metadata": {},
     "output_type": "display_data"
    },
    {
     "data": {
      "text/latex": [
       "$\\displaystyle Approximation\\ to\\ y(x_28 = 0.28) = 0.8324175$"
      ],
      "text/plain": [
       "<IPython.core.display.Math object>"
      ]
     },
     "metadata": {},
     "output_type": "display_data"
    },
    {
     "name": "stdout",
     "output_type": "stream",
     "text": [
      "____________________________________________\n"
     ]
    },
    {
     "data": {
      "text/latex": [
       "$\\displaystyle Set\\ r=28,$"
      ],
      "text/plain": [
       "<IPython.core.display.Math object>"
      ]
     },
     "metadata": {},
     "output_type": "display_data"
    },
    {
     "data": {
      "text/latex": [
       "$\\displaystyle x_28 = 0.28, y_28 = 0.8324175$"
      ],
      "text/plain": [
       "<IPython.core.display.Math object>"
      ]
     },
     "metadata": {},
     "output_type": "display_data"
    },
    {
     "data": {
      "text/latex": [
       "$\\displaystyle F_{1,28} = f(x_28, y_28) = f(0.28, 0.8324175) = -0.3832189$"
      ],
      "text/plain": [
       "<IPython.core.display.Math object>"
      ]
     },
     "metadata": {},
     "output_type": "display_data"
    },
    {
     "data": {
      "text/latex": [
       "$\\displaystyle x_29 = x_28 + h = 0.28 + 0.01 = 0.29$"
      ],
      "text/plain": [
       "<IPython.core.display.Math object>"
      ]
     },
     "metadata": {},
     "output_type": "display_data"
    },
    {
     "data": {
      "text/latex": [
       "$\\displaystyle y_e = y_28 + hF_{1,28} = 0.8324175 + (0.01)(-0.3832189) = 0.8285853\n",
       "$"
      ],
      "text/plain": [
       "<IPython.core.display.Math object>"
      ]
     },
     "metadata": {},
     "output_type": "display_data"
    },
    {
     "data": {
      "text/latex": [
       "$\\displaystyle F_{2,28} = f(x_29, y_e) = f(0.29, 0.8285853) = -0.3717501$"
      ],
      "text/plain": [
       "<IPython.core.display.Math object>"
      ]
     },
     "metadata": {},
     "output_type": "display_data"
    },
    {
     "data": {
      "text/latex": [
       "$\\displaystyle y_29 = y_28 + \\frac{1}{2}h(F_{1,28} + F_{2,28}) = 0.8324175 + \\frac{1}{2}(0.01)(-0.3832189 + -0.3717501) = 0.8286427$"
      ],
      "text/plain": [
       "<IPython.core.display.Math object>"
      ]
     },
     "metadata": {},
     "output_type": "display_data"
    },
    {
     "data": {
      "text/latex": [
       "$\\displaystyle Approximation\\ to\\ y(x_29 = 0.29) = 0.8286427$"
      ],
      "text/plain": [
       "<IPython.core.display.Math object>"
      ]
     },
     "metadata": {},
     "output_type": "display_data"
    },
    {
     "name": "stdout",
     "output_type": "stream",
     "text": [
      "____________________________________________\n"
     ]
    },
    {
     "data": {
      "text/latex": [
       "$\\displaystyle Set\\ r=29,$"
      ],
      "text/plain": [
       "<IPython.core.display.Math object>"
      ]
     },
     "metadata": {},
     "output_type": "display_data"
    },
    {
     "data": {
      "text/latex": [
       "$\\displaystyle x_29 = 0.29, y_29 = 0.8286427$"
      ],
      "text/plain": [
       "<IPython.core.display.Math object>"
      ]
     },
     "metadata": {},
     "output_type": "display_data"
    },
    {
     "data": {
      "text/latex": [
       "$\\displaystyle F_{1,29} = f(x_29, y_29) = f(0.29, 0.8286427) = -0.3717817$"
      ],
      "text/plain": [
       "<IPython.core.display.Math object>"
      ]
     },
     "metadata": {},
     "output_type": "display_data"
    },
    {
     "data": {
      "text/latex": [
       "$\\displaystyle x_30 = x_29 + h = 0.29 + 0.01 = 0.3$"
      ],
      "text/plain": [
       "<IPython.core.display.Math object>"
      ]
     },
     "metadata": {},
     "output_type": "display_data"
    },
    {
     "data": {
      "text/latex": [
       "$\\displaystyle y_e = y_29 + hF_{1,29} = 0.8286427 + (0.01)(-0.3717817) = 0.8249249\n",
       "$"
      ],
      "text/plain": [
       "<IPython.core.display.Math object>"
      ]
     },
     "metadata": {},
     "output_type": "display_data"
    },
    {
     "data": {
      "text/latex": [
       "$\\displaystyle F_{2,29} = f(x_30, y_e) = f(0.3, 0.8249249) = -0.3605312$"
      ],
      "text/plain": [
       "<IPython.core.display.Math object>"
      ]
     },
     "metadata": {},
     "output_type": "display_data"
    },
    {
     "data": {
      "text/latex": [
       "$\\displaystyle y_30 = y_29 + \\frac{1}{2}h(F_{1,29} + F_{2,29}) = 0.8286427 + \\frac{1}{2}(0.01)(-0.3717817 + -0.3605312) = 0.8249811$"
      ],
      "text/plain": [
       "<IPython.core.display.Math object>"
      ]
     },
     "metadata": {},
     "output_type": "display_data"
    },
    {
     "data": {
      "text/latex": [
       "$\\displaystyle Approximation\\ to\\ y(x_30 = 0.3) = 0.8249811$"
      ],
      "text/plain": [
       "<IPython.core.display.Math object>"
      ]
     },
     "metadata": {},
     "output_type": "display_data"
    },
    {
     "name": "stdout",
     "output_type": "stream",
     "text": [
      "____________________________________________\n"
     ]
    },
    {
     "data": {
      "text/latex": [
       "$\\displaystyle Set\\ r=30,$"
      ],
      "text/plain": [
       "<IPython.core.display.Math object>"
      ]
     },
     "metadata": {},
     "output_type": "display_data"
    },
    {
     "data": {
      "text/latex": [
       "$\\displaystyle x_30 = 0.3, y_30 = 0.8249811$"
      ],
      "text/plain": [
       "<IPython.core.display.Math object>"
      ]
     },
     "metadata": {},
     "output_type": "display_data"
    },
    {
     "data": {
      "text/latex": [
       "$\\displaystyle F_{1,30} = f(x_30, y_30) = f(0.3, 0.8249811) = -0.3605621$"
      ],
      "text/plain": [
       "<IPython.core.display.Math object>"
      ]
     },
     "metadata": {},
     "output_type": "display_data"
    },
    {
     "data": {
      "text/latex": [
       "$\\displaystyle x_31 = x_30 + h = 0.3 + 0.01 = 0.31$"
      ],
      "text/plain": [
       "<IPython.core.display.Math object>"
      ]
     },
     "metadata": {},
     "output_type": "display_data"
    },
    {
     "data": {
      "text/latex": [
       "$\\displaystyle y_e = y_30 + hF_{1,30} = 0.8249811 + (0.01)(-0.3605621) = 0.8213755\n",
       "$"
      ],
      "text/plain": [
       "<IPython.core.display.Math object>"
      ]
     },
     "metadata": {},
     "output_type": "display_data"
    },
    {
     "data": {
      "text/latex": [
       "$\\displaystyle F_{2,30} = f(x_31, y_e) = f(0.31, 0.8213755) = -0.3495212$"
      ],
      "text/plain": [
       "<IPython.core.display.Math object>"
      ]
     },
     "metadata": {},
     "output_type": "display_data"
    },
    {
     "data": {
      "text/latex": [
       "$\\displaystyle y_31 = y_30 + \\frac{1}{2}h(F_{1,30} + F_{2,30}) = 0.8249811 + \\frac{1}{2}(0.01)(-0.3605621 + -0.3495212) = 0.8214307$"
      ],
      "text/plain": [
       "<IPython.core.display.Math object>"
      ]
     },
     "metadata": {},
     "output_type": "display_data"
    },
    {
     "data": {
      "text/latex": [
       "$\\displaystyle Approximation\\ to\\ y(x_31 = 0.31) = 0.8214307$"
      ],
      "text/plain": [
       "<IPython.core.display.Math object>"
      ]
     },
     "metadata": {},
     "output_type": "display_data"
    },
    {
     "name": "stdout",
     "output_type": "stream",
     "text": [
      "____________________________________________\n"
     ]
    },
    {
     "data": {
      "text/latex": [
       "$\\displaystyle Set\\ r=31,$"
      ],
      "text/plain": [
       "<IPython.core.display.Math object>"
      ]
     },
     "metadata": {},
     "output_type": "display_data"
    },
    {
     "data": {
      "text/latex": [
       "$\\displaystyle x_31 = 0.31, y_31 = 0.8214307$"
      ],
      "text/plain": [
       "<IPython.core.display.Math object>"
      ]
     },
     "metadata": {},
     "output_type": "display_data"
    },
    {
     "data": {
      "text/latex": [
       "$\\displaystyle F_{1,31} = f(x_31, y_31) = f(0.31, 0.8214307) = -0.3495517$"
      ],
      "text/plain": [
       "<IPython.core.display.Math object>"
      ]
     },
     "metadata": {},
     "output_type": "display_data"
    },
    {
     "data": {
      "text/latex": [
       "$\\displaystyle x_32 = x_31 + h = 0.31 + 0.01 = 0.32$"
      ],
      "text/plain": [
       "<IPython.core.display.Math object>"
      ]
     },
     "metadata": {},
     "output_type": "display_data"
    },
    {
     "data": {
      "text/latex": [
       "$\\displaystyle y_e = y_31 + hF_{1,31} = 0.8214307 + (0.01)(-0.3495517) = 0.8179352\n",
       "$"
      ],
      "text/plain": [
       "<IPython.core.display.Math object>"
      ]
     },
     "metadata": {},
     "output_type": "display_data"
    },
    {
     "data": {
      "text/latex": [
       "$\\displaystyle F_{2,31} = f(x_32, y_e) = f(0.32, 0.8179352) = -0.3387123$"
      ],
      "text/plain": [
       "<IPython.core.display.Math object>"
      ]
     },
     "metadata": {},
     "output_type": "display_data"
    },
    {
     "data": {
      "text/latex": [
       "$\\displaystyle y_32 = y_31 + \\frac{1}{2}h(F_{1,31} + F_{2,31}) = 0.8214307 + \\frac{1}{2}(0.01)(-0.3495517 + -0.3387123) = 0.8179894$"
      ],
      "text/plain": [
       "<IPython.core.display.Math object>"
      ]
     },
     "metadata": {},
     "output_type": "display_data"
    },
    {
     "data": {
      "text/latex": [
       "$\\displaystyle Approximation\\ to\\ y(x_32 = 0.32) = 0.8179894$"
      ],
      "text/plain": [
       "<IPython.core.display.Math object>"
      ]
     },
     "metadata": {},
     "output_type": "display_data"
    },
    {
     "name": "stdout",
     "output_type": "stream",
     "text": [
      "____________________________________________\n"
     ]
    },
    {
     "data": {
      "text/latex": [
       "$\\displaystyle Set\\ r=32,$"
      ],
      "text/plain": [
       "<IPython.core.display.Math object>"
      ]
     },
     "metadata": {},
     "output_type": "display_data"
    },
    {
     "data": {
      "text/latex": [
       "$\\displaystyle x_32 = 0.32, y_32 = 0.8179894$"
      ],
      "text/plain": [
       "<IPython.core.display.Math object>"
      ]
     },
     "metadata": {},
     "output_type": "display_data"
    },
    {
     "data": {
      "text/latex": [
       "$\\displaystyle F_{1,32} = f(x_32, y_32) = f(0.32, 0.8179894) = -0.3387422$"
      ],
      "text/plain": [
       "<IPython.core.display.Math object>"
      ]
     },
     "metadata": {},
     "output_type": "display_data"
    },
    {
     "data": {
      "text/latex": [
       "$\\displaystyle x_33 = x_32 + h = 0.32 + 0.01 = 0.33$"
      ],
      "text/plain": [
       "<IPython.core.display.Math object>"
      ]
     },
     "metadata": {},
     "output_type": "display_data"
    },
    {
     "data": {
      "text/latex": [
       "$\\displaystyle y_e = y_32 + hF_{1,32} = 0.8179894 + (0.01)(-0.3387422) = 0.8146020\n",
       "$"
      ],
      "text/plain": [
       "<IPython.core.display.Math object>"
      ]
     },
     "metadata": {},
     "output_type": "display_data"
    },
    {
     "data": {
      "text/latex": [
       "$\\displaystyle F_{2,32} = f(x_33, y_e) = f(0.33, 0.8146020) = -0.3280968$"
      ],
      "text/plain": [
       "<IPython.core.display.Math object>"
      ]
     },
     "metadata": {},
     "output_type": "display_data"
    },
    {
     "data": {
      "text/latex": [
       "$\\displaystyle y_33 = y_32 + \\frac{1}{2}h(F_{1,32} + F_{2,32}) = 0.8179894 + \\frac{1}{2}(0.01)(-0.3387422 + -0.3280968) = 0.8146552$"
      ],
      "text/plain": [
       "<IPython.core.display.Math object>"
      ]
     },
     "metadata": {},
     "output_type": "display_data"
    },
    {
     "data": {
      "text/latex": [
       "$\\displaystyle Approximation\\ to\\ y(x_33 = 0.33) = 0.8146552$"
      ],
      "text/plain": [
       "<IPython.core.display.Math object>"
      ]
     },
     "metadata": {},
     "output_type": "display_data"
    },
    {
     "name": "stdout",
     "output_type": "stream",
     "text": [
      "____________________________________________\n"
     ]
    },
    {
     "data": {
      "text/latex": [
       "$\\displaystyle Set\\ r=33,$"
      ],
      "text/plain": [
       "<IPython.core.display.Math object>"
      ]
     },
     "metadata": {},
     "output_type": "display_data"
    },
    {
     "data": {
      "text/latex": [
       "$\\displaystyle x_33 = 0.33, y_33 = 0.8146552$"
      ],
      "text/plain": [
       "<IPython.core.display.Math object>"
      ]
     },
     "metadata": {},
     "output_type": "display_data"
    },
    {
     "data": {
      "text/latex": [
       "$\\displaystyle F_{1,33} = f(x_33, y_33) = f(0.33, 0.8146552) = -0.3281263$"
      ],
      "text/plain": [
       "<IPython.core.display.Math object>"
      ]
     },
     "metadata": {},
     "output_type": "display_data"
    },
    {
     "data": {
      "text/latex": [
       "$\\displaystyle x_34 = x_33 + h = 0.33 + 0.01 = 0.34$"
      ],
      "text/plain": [
       "<IPython.core.display.Math object>"
      ]
     },
     "metadata": {},
     "output_type": "display_data"
    },
    {
     "data": {
      "text/latex": [
       "$\\displaystyle y_e = y_33 + hF_{1,33} = 0.8146552 + (0.01)(-0.3281263) = 0.8113739\n",
       "$"
      ],
      "text/plain": [
       "<IPython.core.display.Math object>"
      ]
     },
     "metadata": {},
     "output_type": "display_data"
    },
    {
     "data": {
      "text/latex": [
       "$\\displaystyle F_{2,33} = f(x_34, y_e) = f(0.34, 0.8113739) = -0.3176678$"
      ],
      "text/plain": [
       "<IPython.core.display.Math object>"
      ]
     },
     "metadata": {},
     "output_type": "display_data"
    },
    {
     "data": {
      "text/latex": [
       "$\\displaystyle y_34 = y_33 + \\frac{1}{2}h(F_{1,33} + F_{2,33}) = 0.8146552 + \\frac{1}{2}(0.01)(-0.3281263 + -0.3176678) = 0.8114262$"
      ],
      "text/plain": [
       "<IPython.core.display.Math object>"
      ]
     },
     "metadata": {},
     "output_type": "display_data"
    },
    {
     "data": {
      "text/latex": [
       "$\\displaystyle Approximation\\ to\\ y(x_34 = 0.34) = 0.8114262$"
      ],
      "text/plain": [
       "<IPython.core.display.Math object>"
      ]
     },
     "metadata": {},
     "output_type": "display_data"
    },
    {
     "name": "stdout",
     "output_type": "stream",
     "text": [
      "____________________________________________\n"
     ]
    },
    {
     "data": {
      "text/latex": [
       "$\\displaystyle Set\\ r=34,$"
      ],
      "text/plain": [
       "<IPython.core.display.Math object>"
      ]
     },
     "metadata": {},
     "output_type": "display_data"
    },
    {
     "data": {
      "text/latex": [
       "$\\displaystyle x_34 = 0.34, y_34 = 0.8114262$"
      ],
      "text/plain": [
       "<IPython.core.display.Math object>"
      ]
     },
     "metadata": {},
     "output_type": "display_data"
    },
    {
     "data": {
      "text/latex": [
       "$\\displaystyle F_{1,34} = f(x_34, y_34) = f(0.34, 0.8114262) = -0.3176968$"
      ],
      "text/plain": [
       "<IPython.core.display.Math object>"
      ]
     },
     "metadata": {},
     "output_type": "display_data"
    },
    {
     "data": {
      "text/latex": [
       "$\\displaystyle x_35 = x_34 + h = 0.34 + 0.01 = 0.35$"
      ],
      "text/plain": [
       "<IPython.core.display.Math object>"
      ]
     },
     "metadata": {},
     "output_type": "display_data"
    },
    {
     "data": {
      "text/latex": [
       "$\\displaystyle y_e = y_34 + hF_{1,34} = 0.8114262 + (0.01)(-0.3176968) = 0.8082492\n",
       "$"
      ],
      "text/plain": [
       "<IPython.core.display.Math object>"
      ]
     },
     "metadata": {},
     "output_type": "display_data"
    },
    {
     "data": {
      "text/latex": [
       "$\\displaystyle F_{2,34} = f(x_35, y_e) = f(0.35, 0.8082492) = -0.3074188$"
      ],
      "text/plain": [
       "<IPython.core.display.Math object>"
      ]
     },
     "metadata": {},
     "output_type": "display_data"
    },
    {
     "data": {
      "text/latex": [
       "$\\displaystyle y_35 = y_34 + \\frac{1}{2}h(F_{1,34} + F_{2,34}) = 0.8114262 + \\frac{1}{2}(0.01)(-0.3176968 + -0.3074188) = 0.8083006$"
      ],
      "text/plain": [
       "<IPython.core.display.Math object>"
      ]
     },
     "metadata": {},
     "output_type": "display_data"
    },
    {
     "data": {
      "text/latex": [
       "$\\displaystyle Approximation\\ to\\ y(x_35 = 0.35) = 0.8083006$"
      ],
      "text/plain": [
       "<IPython.core.display.Math object>"
      ]
     },
     "metadata": {},
     "output_type": "display_data"
    },
    {
     "name": "stdout",
     "output_type": "stream",
     "text": [
      "____________________________________________\n"
     ]
    },
    {
     "data": {
      "text/latex": [
       "$\\displaystyle Set\\ r=35,$"
      ],
      "text/plain": [
       "<IPython.core.display.Math object>"
      ]
     },
     "metadata": {},
     "output_type": "display_data"
    },
    {
     "data": {
      "text/latex": [
       "$\\displaystyle x_35 = 0.35, y_35 = 0.8083006$"
      ],
      "text/plain": [
       "<IPython.core.display.Math object>"
      ]
     },
     "metadata": {},
     "output_type": "display_data"
    },
    {
     "data": {
      "text/latex": [
       "$\\displaystyle F_{1,35} = f(x_35, y_35) = f(0.35, 0.8083006) = -0.3074474$"
      ],
      "text/plain": [
       "<IPython.core.display.Math object>"
      ]
     },
     "metadata": {},
     "output_type": "display_data"
    },
    {
     "data": {
      "text/latex": [
       "$\\displaystyle x_36 = x_35 + h = 0.35 + 0.01 = 0.36$"
      ],
      "text/plain": [
       "<IPython.core.display.Math object>"
      ]
     },
     "metadata": {},
     "output_type": "display_data"
    },
    {
     "data": {
      "text/latex": [
       "$\\displaystyle y_e = y_35 + hF_{1,35} = 0.8083006 + (0.01)(-0.3074474) = 0.8052261\n",
       "$"
      ],
      "text/plain": [
       "<IPython.core.display.Math object>"
      ]
     },
     "metadata": {},
     "output_type": "display_data"
    },
    {
     "data": {
      "text/latex": [
       "$\\displaystyle F_{2,35} = f(x_36, y_e) = f(0.36, 0.8052261) = -0.2973439$"
      ],
      "text/plain": [
       "<IPython.core.display.Math object>"
      ]
     },
     "metadata": {},
     "output_type": "display_data"
    },
    {
     "data": {
      "text/latex": [
       "$\\displaystyle y_36 = y_35 + \\frac{1}{2}h(F_{1,35} + F_{2,35}) = 0.8083006 + \\frac{1}{2}(0.01)(-0.3074474 + -0.2973439) = 0.8052766$"
      ],
      "text/plain": [
       "<IPython.core.display.Math object>"
      ]
     },
     "metadata": {},
     "output_type": "display_data"
    },
    {
     "data": {
      "text/latex": [
       "$\\displaystyle Approximation\\ to\\ y(x_36 = 0.36) = 0.8052766$"
      ],
      "text/plain": [
       "<IPython.core.display.Math object>"
      ]
     },
     "metadata": {},
     "output_type": "display_data"
    },
    {
     "name": "stdout",
     "output_type": "stream",
     "text": [
      "____________________________________________\n"
     ]
    },
    {
     "data": {
      "text/latex": [
       "$\\displaystyle Set\\ r=36,$"
      ],
      "text/plain": [
       "<IPython.core.display.Math object>"
      ]
     },
     "metadata": {},
     "output_type": "display_data"
    },
    {
     "data": {
      "text/latex": [
       "$\\displaystyle x_36 = 0.36, y_36 = 0.8052766$"
      ],
      "text/plain": [
       "<IPython.core.display.Math object>"
      ]
     },
     "metadata": {},
     "output_type": "display_data"
    },
    {
     "data": {
      "text/latex": [
       "$\\displaystyle F_{1,36} = f(x_36, y_36) = f(0.36, 0.8052766) = -0.2973721$"
      ],
      "text/plain": [
       "<IPython.core.display.Math object>"
      ]
     },
     "metadata": {},
     "output_type": "display_data"
    },
    {
     "data": {
      "text/latex": [
       "$\\displaystyle x_37 = x_36 + h = 0.36 + 0.01 = 0.37$"
      ],
      "text/plain": [
       "<IPython.core.display.Math object>"
      ]
     },
     "metadata": {},
     "output_type": "display_data"
    },
    {
     "data": {
      "text/latex": [
       "$\\displaystyle y_e = y_36 + hF_{1,36} = 0.8052766 + (0.01)(-0.2973721) = 0.8023029\n",
       "$"
      ],
      "text/plain": [
       "<IPython.core.display.Math object>"
      ]
     },
     "metadata": {},
     "output_type": "display_data"
    },
    {
     "data": {
      "text/latex": [
       "$\\displaystyle F_{2,36} = f(x_37, y_e) = f(0.37, 0.8023029) = -0.2874374$"
      ],
      "text/plain": [
       "<IPython.core.display.Math object>"
      ]
     },
     "metadata": {},
     "output_type": "display_data"
    },
    {
     "data": {
      "text/latex": [
       "$\\displaystyle y_37 = y_36 + \\frac{1}{2}h(F_{1,36} + F_{2,36}) = 0.8052766 + \\frac{1}{2}(0.01)(-0.2973721 + -0.2874374) = 0.8023526$"
      ],
      "text/plain": [
       "<IPython.core.display.Math object>"
      ]
     },
     "metadata": {},
     "output_type": "display_data"
    },
    {
     "data": {
      "text/latex": [
       "$\\displaystyle Approximation\\ to\\ y(x_37 = 0.37) = 0.8023526$"
      ],
      "text/plain": [
       "<IPython.core.display.Math object>"
      ]
     },
     "metadata": {},
     "output_type": "display_data"
    },
    {
     "name": "stdout",
     "output_type": "stream",
     "text": [
      "____________________________________________\n"
     ]
    },
    {
     "data": {
      "text/latex": [
       "$\\displaystyle Set\\ r=37,$"
      ],
      "text/plain": [
       "<IPython.core.display.Math object>"
      ]
     },
     "metadata": {},
     "output_type": "display_data"
    },
    {
     "data": {
      "text/latex": [
       "$\\displaystyle x_37 = 0.37, y_37 = 0.8023526$"
      ],
      "text/plain": [
       "<IPython.core.display.Math object>"
      ]
     },
     "metadata": {},
     "output_type": "display_data"
    },
    {
     "data": {
      "text/latex": [
       "$\\displaystyle F_{1,37} = f(x_37, y_37) = f(0.37, 0.8023526) = -0.2874651$"
      ],
      "text/plain": [
       "<IPython.core.display.Math object>"
      ]
     },
     "metadata": {},
     "output_type": "display_data"
    },
    {
     "data": {
      "text/latex": [
       "$\\displaystyle x_38 = x_37 + h = 0.37 + 0.01 = 0.38$"
      ],
      "text/plain": [
       "<IPython.core.display.Math object>"
      ]
     },
     "metadata": {},
     "output_type": "display_data"
    },
    {
     "data": {
      "text/latex": [
       "$\\displaystyle y_e = y_37 + hF_{1,37} = 0.8023526 + (0.01)(-0.2874651) = 0.7994779\n",
       "$"
      ],
      "text/plain": [
       "<IPython.core.display.Math object>"
      ]
     },
     "metadata": {},
     "output_type": "display_data"
    },
    {
     "data": {
      "text/latex": [
       "$\\displaystyle F_{2,37} = f(x_38, y_e) = f(0.38, 0.7994779) = -0.2776939$"
      ],
      "text/plain": [
       "<IPython.core.display.Math object>"
      ]
     },
     "metadata": {},
     "output_type": "display_data"
    },
    {
     "data": {
      "text/latex": [
       "$\\displaystyle y_38 = y_37 + \\frac{1}{2}h(F_{1,37} + F_{2,37}) = 0.8023526 + \\frac{1}{2}(0.01)(-0.2874651 + -0.2776939) = 0.7995268$"
      ],
      "text/plain": [
       "<IPython.core.display.Math object>"
      ]
     },
     "metadata": {},
     "output_type": "display_data"
    },
    {
     "data": {
      "text/latex": [
       "$\\displaystyle Approximation\\ to\\ y(x_38 = 0.38) = 0.7995268$"
      ],
      "text/plain": [
       "<IPython.core.display.Math object>"
      ]
     },
     "metadata": {},
     "output_type": "display_data"
    },
    {
     "name": "stdout",
     "output_type": "stream",
     "text": [
      "____________________________________________\n"
     ]
    },
    {
     "data": {
      "text/latex": [
       "$\\displaystyle Set\\ r=38,$"
      ],
      "text/plain": [
       "<IPython.core.display.Math object>"
      ]
     },
     "metadata": {},
     "output_type": "display_data"
    },
    {
     "data": {
      "text/latex": [
       "$\\displaystyle x_38 = 0.38, y_38 = 0.7995268$"
      ],
      "text/plain": [
       "<IPython.core.display.Math object>"
      ]
     },
     "metadata": {},
     "output_type": "display_data"
    },
    {
     "data": {
      "text/latex": [
       "$\\displaystyle F_{1,38} = f(x_38, y_38) = f(0.38, 0.7995268) = -0.2777212$"
      ],
      "text/plain": [
       "<IPython.core.display.Math object>"
      ]
     },
     "metadata": {},
     "output_type": "display_data"
    },
    {
     "data": {
      "text/latex": [
       "$\\displaystyle x_39 = x_38 + h = 0.38 + 0.01 = 0.39$"
      ],
      "text/plain": [
       "<IPython.core.display.Math object>"
      ]
     },
     "metadata": {},
     "output_type": "display_data"
    },
    {
     "data": {
      "text/latex": [
       "$\\displaystyle y_e = y_38 + hF_{1,38} = 0.7995268 + (0.01)(-0.2777212) = 0.7967496\n",
       "$"
      ],
      "text/plain": [
       "<IPython.core.display.Math object>"
      ]
     },
     "metadata": {},
     "output_type": "display_data"
    },
    {
     "data": {
      "text/latex": [
       "$\\displaystyle F_{2,38} = f(x_39, y_e) = f(0.39, 0.7967496) = -0.2681085$"
      ],
      "text/plain": [
       "<IPython.core.display.Math object>"
      ]
     },
     "metadata": {},
     "output_type": "display_data"
    },
    {
     "data": {
      "text/latex": [
       "$\\displaystyle y_39 = y_38 + \\frac{1}{2}h(F_{1,38} + F_{2,38}) = 0.7995268 + \\frac{1}{2}(0.01)(-0.2777212 + -0.2681085) = 0.7967977$"
      ],
      "text/plain": [
       "<IPython.core.display.Math object>"
      ]
     },
     "metadata": {},
     "output_type": "display_data"
    },
    {
     "data": {
      "text/latex": [
       "$\\displaystyle Approximation\\ to\\ y(x_39 = 0.39) = 0.7967977$"
      ],
      "text/plain": [
       "<IPython.core.display.Math object>"
      ]
     },
     "metadata": {},
     "output_type": "display_data"
    },
    {
     "name": "stdout",
     "output_type": "stream",
     "text": [
      "____________________________________________\n"
     ]
    },
    {
     "data": {
      "text/latex": [
       "$\\displaystyle Set\\ r=39,$"
      ],
      "text/plain": [
       "<IPython.core.display.Math object>"
      ]
     },
     "metadata": {},
     "output_type": "display_data"
    },
    {
     "data": {
      "text/latex": [
       "$\\displaystyle x_39 = 0.39, y_39 = 0.7967977$"
      ],
      "text/plain": [
       "<IPython.core.display.Math object>"
      ]
     },
     "metadata": {},
     "output_type": "display_data"
    },
    {
     "data": {
      "text/latex": [
       "$\\displaystyle F_{1,39} = f(x_39, y_39) = f(0.39, 0.7967977) = -0.2681355$"
      ],
      "text/plain": [
       "<IPython.core.display.Math object>"
      ]
     },
     "metadata": {},
     "output_type": "display_data"
    },
    {
     "data": {
      "text/latex": [
       "$\\displaystyle x_40 = x_39 + h = 0.39 + 0.01 = 0.4$"
      ],
      "text/plain": [
       "<IPython.core.display.Math object>"
      ]
     },
     "metadata": {},
     "output_type": "display_data"
    },
    {
     "data": {
      "text/latex": [
       "$\\displaystyle y_e = y_39 + hF_{1,39} = 0.7967977 + (0.01)(-0.2681355) = 0.7941163\n",
       "$"
      ],
      "text/plain": [
       "<IPython.core.display.Math object>"
      ]
     },
     "metadata": {},
     "output_type": "display_data"
    },
    {
     "data": {
      "text/latex": [
       "$\\displaystyle F_{2,39} = f(x_40, y_e) = f(0.4, 0.7941163) = -0.2586765$"
      ],
      "text/plain": [
       "<IPython.core.display.Math object>"
      ]
     },
     "metadata": {},
     "output_type": "display_data"
    },
    {
     "data": {
      "text/latex": [
       "$\\displaystyle y_40 = y_39 + \\frac{1}{2}h(F_{1,39} + F_{2,39}) = 0.7967977 + \\frac{1}{2}(0.01)(-0.2681355 + -0.2586765) = 0.7941636$"
      ],
      "text/plain": [
       "<IPython.core.display.Math object>"
      ]
     },
     "metadata": {},
     "output_type": "display_data"
    },
    {
     "data": {
      "text/latex": [
       "$\\displaystyle Approximation\\ to\\ y(x_40 = 0.4) = 0.7941636$"
      ],
      "text/plain": [
       "<IPython.core.display.Math object>"
      ]
     },
     "metadata": {},
     "output_type": "display_data"
    },
    {
     "name": "stdout",
     "output_type": "stream",
     "text": [
      "____________________________________________\n"
     ]
    },
    {
     "data": {
      "text/latex": [
       "$\\displaystyle Set\\ r=40,$"
      ],
      "text/plain": [
       "<IPython.core.display.Math object>"
      ]
     },
     "metadata": {},
     "output_type": "display_data"
    },
    {
     "data": {
      "text/latex": [
       "$\\displaystyle x_40 = 0.4, y_40 = 0.7941636$"
      ],
      "text/plain": [
       "<IPython.core.display.Math object>"
      ]
     },
     "metadata": {},
     "output_type": "display_data"
    },
    {
     "data": {
      "text/latex": [
       "$\\displaystyle F_{1,40} = f(x_40, y_40) = f(0.4, 0.7941636) = -0.2587030$"
      ],
      "text/plain": [
       "<IPython.core.display.Math object>"
      ]
     },
     "metadata": {},
     "output_type": "display_data"
    },
    {
     "data": {
      "text/latex": [
       "$\\displaystyle x_41 = x_40 + h = 0.4 + 0.01 = 0.41$"
      ],
      "text/plain": [
       "<IPython.core.display.Math object>"
      ]
     },
     "metadata": {},
     "output_type": "display_data"
    },
    {
     "data": {
      "text/latex": [
       "$\\displaystyle y_e = y_40 + hF_{1,40} = 0.7941636 + (0.01)(-0.2587030) = 0.7915766\n",
       "$"
      ],
      "text/plain": [
       "<IPython.core.display.Math object>"
      ]
     },
     "metadata": {},
     "output_type": "display_data"
    },
    {
     "data": {
      "text/latex": [
       "$\\displaystyle F_{2,40} = f(x_41, y_e) = f(0.41, 0.7915766) = -0.2493935$"
      ],
      "text/plain": [
       "<IPython.core.display.Math object>"
      ]
     },
     "metadata": {},
     "output_type": "display_data"
    },
    {
     "data": {
      "text/latex": [
       "$\\displaystyle y_41 = y_40 + \\frac{1}{2}h(F_{1,40} + F_{2,40}) = 0.7941636 + \\frac{1}{2}(0.01)(-0.2587030 + -0.2493935) = 0.7916231$"
      ],
      "text/plain": [
       "<IPython.core.display.Math object>"
      ]
     },
     "metadata": {},
     "output_type": "display_data"
    },
    {
     "data": {
      "text/latex": [
       "$\\displaystyle Approximation\\ to\\ y(x_41 = 0.41) = 0.7916231$"
      ],
      "text/plain": [
       "<IPython.core.display.Math object>"
      ]
     },
     "metadata": {},
     "output_type": "display_data"
    },
    {
     "name": "stdout",
     "output_type": "stream",
     "text": [
      "____________________________________________\n"
     ]
    },
    {
     "data": {
      "text/latex": [
       "$\\displaystyle Set\\ r=41,$"
      ],
      "text/plain": [
       "<IPython.core.display.Math object>"
      ]
     },
     "metadata": {},
     "output_type": "display_data"
    },
    {
     "data": {
      "text/latex": [
       "$\\displaystyle x_41 = 0.41, y_41 = 0.7916231$"
      ],
      "text/plain": [
       "<IPython.core.display.Math object>"
      ]
     },
     "metadata": {},
     "output_type": "display_data"
    },
    {
     "data": {
      "text/latex": [
       "$\\displaystyle F_{1,41} = f(x_41, y_41) = f(0.41, 0.7916231) = -0.2494196$"
      ],
      "text/plain": [
       "<IPython.core.display.Math object>"
      ]
     },
     "metadata": {},
     "output_type": "display_data"
    },
    {
     "data": {
      "text/latex": [
       "$\\displaystyle x_42 = x_41 + h = 0.41 + 0.01 = 0.42$"
      ],
      "text/plain": [
       "<IPython.core.display.Math object>"
      ]
     },
     "metadata": {},
     "output_type": "display_data"
    },
    {
     "data": {
      "text/latex": [
       "$\\displaystyle y_e = y_41 + hF_{1,41} = 0.7916231 + (0.01)(-0.2494196) = 0.7891289\n",
       "$"
      ],
      "text/plain": [
       "<IPython.core.display.Math object>"
      ]
     },
     "metadata": {},
     "output_type": "display_data"
    },
    {
     "data": {
      "text/latex": [
       "$\\displaystyle F_{2,41} = f(x_42, y_e) = f(0.42, 0.7891289) = -0.2402552$"
      ],
      "text/plain": [
       "<IPython.core.display.Math object>"
      ]
     },
     "metadata": {},
     "output_type": "display_data"
    },
    {
     "data": {
      "text/latex": [
       "$\\displaystyle y_42 = y_41 + \\frac{1}{2}h(F_{1,41} + F_{2,41}) = 0.7916231 + \\frac{1}{2}(0.01)(-0.2494196 + -0.2402552) = 0.7891747$"
      ],
      "text/plain": [
       "<IPython.core.display.Math object>"
      ]
     },
     "metadata": {},
     "output_type": "display_data"
    },
    {
     "data": {
      "text/latex": [
       "$\\displaystyle Approximation\\ to\\ y(x_42 = 0.42) = 0.7891747$"
      ],
      "text/plain": [
       "<IPython.core.display.Math object>"
      ]
     },
     "metadata": {},
     "output_type": "display_data"
    },
    {
     "name": "stdout",
     "output_type": "stream",
     "text": [
      "____________________________________________\n"
     ]
    },
    {
     "data": {
      "text/latex": [
       "$\\displaystyle Set\\ r=42,$"
      ],
      "text/plain": [
       "<IPython.core.display.Math object>"
      ]
     },
     "metadata": {},
     "output_type": "display_data"
    },
    {
     "data": {
      "text/latex": [
       "$\\displaystyle x_42 = 0.42, y_42 = 0.7891747$"
      ],
      "text/plain": [
       "<IPython.core.display.Math object>"
      ]
     },
     "metadata": {},
     "output_type": "display_data"
    },
    {
     "data": {
      "text/latex": [
       "$\\displaystyle F_{1,42} = f(x_42, y_42) = f(0.42, 0.7891747) = -0.2402810$"
      ],
      "text/plain": [
       "<IPython.core.display.Math object>"
      ]
     },
     "metadata": {},
     "output_type": "display_data"
    },
    {
     "data": {
      "text/latex": [
       "$\\displaystyle x_43 = x_42 + h = 0.42 + 0.01 = 0.43$"
      ],
      "text/plain": [
       "<IPython.core.display.Math object>"
      ]
     },
     "metadata": {},
     "output_type": "display_data"
    },
    {
     "data": {
      "text/latex": [
       "$\\displaystyle y_e = y_42 + hF_{1,42} = 0.7891747 + (0.01)(-0.2402810) = 0.7867719\n",
       "$"
      ],
      "text/plain": [
       "<IPython.core.display.Math object>"
      ]
     },
     "metadata": {},
     "output_type": "display_data"
    },
    {
     "data": {
      "text/latex": [
       "$\\displaystyle F_{2,42} = f(x_43, y_e) = f(0.43, 0.7867719) = -0.2312578$"
      ],
      "text/plain": [
       "<IPython.core.display.Math object>"
      ]
     },
     "metadata": {},
     "output_type": "display_data"
    },
    {
     "data": {
      "text/latex": [
       "$\\displaystyle y_43 = y_42 + \\frac{1}{2}h(F_{1,42} + F_{2,42}) = 0.7891747 + \\frac{1}{2}(0.01)(-0.2402810 + -0.2312578) = 0.7868170$"
      ],
      "text/plain": [
       "<IPython.core.display.Math object>"
      ]
     },
     "metadata": {},
     "output_type": "display_data"
    },
    {
     "data": {
      "text/latex": [
       "$\\displaystyle Approximation\\ to\\ y(x_43 = 0.43) = 0.7868170$"
      ],
      "text/plain": [
       "<IPython.core.display.Math object>"
      ]
     },
     "metadata": {},
     "output_type": "display_data"
    },
    {
     "name": "stdout",
     "output_type": "stream",
     "text": [
      "____________________________________________\n"
     ]
    },
    {
     "data": {
      "text/latex": [
       "$\\displaystyle Set\\ r=43,$"
      ],
      "text/plain": [
       "<IPython.core.display.Math object>"
      ]
     },
     "metadata": {},
     "output_type": "display_data"
    },
    {
     "data": {
      "text/latex": [
       "$\\displaystyle x_43 = 0.43, y_43 = 0.7868170$"
      ],
      "text/plain": [
       "<IPython.core.display.Math object>"
      ]
     },
     "metadata": {},
     "output_type": "display_data"
    },
    {
     "data": {
      "text/latex": [
       "$\\displaystyle F_{1,43} = f(x_43, y_43) = f(0.43, 0.7868170) = -0.2312832$"
      ],
      "text/plain": [
       "<IPython.core.display.Math object>"
      ]
     },
     "metadata": {},
     "output_type": "display_data"
    },
    {
     "data": {
      "text/latex": [
       "$\\displaystyle x_44 = x_43 + h = 0.43 + 0.01 = 0.44$"
      ],
      "text/plain": [
       "<IPython.core.display.Math object>"
      ]
     },
     "metadata": {},
     "output_type": "display_data"
    },
    {
     "data": {
      "text/latex": [
       "$\\displaystyle y_e = y_43 + hF_{1,43} = 0.7868170 + (0.01)(-0.2312832) = 0.7845042\n",
       "$"
      ],
      "text/plain": [
       "<IPython.core.display.Math object>"
      ]
     },
     "metadata": {},
     "output_type": "display_data"
    },
    {
     "data": {
      "text/latex": [
       "$\\displaystyle F_{2,43} = f(x_44, y_e) = f(0.44, 0.7845042) = -0.2223975$"
      ],
      "text/plain": [
       "<IPython.core.display.Math object>"
      ]
     },
     "metadata": {},
     "output_type": "display_data"
    },
    {
     "data": {
      "text/latex": [
       "$\\displaystyle y_44 = y_43 + \\frac{1}{2}h(F_{1,43} + F_{2,43}) = 0.7868170 + \\frac{1}{2}(0.01)(-0.2312832 + -0.2223975) = 0.7845486$"
      ],
      "text/plain": [
       "<IPython.core.display.Math object>"
      ]
     },
     "metadata": {},
     "output_type": "display_data"
    },
    {
     "data": {
      "text/latex": [
       "$\\displaystyle Approximation\\ to\\ y(x_44 = 0.44) = 0.7845486$"
      ],
      "text/plain": [
       "<IPython.core.display.Math object>"
      ]
     },
     "metadata": {},
     "output_type": "display_data"
    },
    {
     "name": "stdout",
     "output_type": "stream",
     "text": [
      "____________________________________________\n"
     ]
    },
    {
     "data": {
      "text/latex": [
       "$\\displaystyle Set\\ r=44,$"
      ],
      "text/plain": [
       "<IPython.core.display.Math object>"
      ]
     },
     "metadata": {},
     "output_type": "display_data"
    },
    {
     "data": {
      "text/latex": [
       "$\\displaystyle x_44 = 0.44, y_44 = 0.7845486$"
      ],
      "text/plain": [
       "<IPython.core.display.Math object>"
      ]
     },
     "metadata": {},
     "output_type": "display_data"
    },
    {
     "data": {
      "text/latex": [
       "$\\displaystyle F_{1,44} = f(x_44, y_44) = f(0.44, 0.7845486) = -0.2224225$"
      ],
      "text/plain": [
       "<IPython.core.display.Math object>"
      ]
     },
     "metadata": {},
     "output_type": "display_data"
    },
    {
     "data": {
      "text/latex": [
       "$\\displaystyle x_45 = x_44 + h = 0.44 + 0.01 = 0.45$"
      ],
      "text/plain": [
       "<IPython.core.display.Math object>"
      ]
     },
     "metadata": {},
     "output_type": "display_data"
    },
    {
     "data": {
      "text/latex": [
       "$\\displaystyle y_e = y_44 + hF_{1,44} = 0.7845486 + (0.01)(-0.2224225) = 0.7823244\n",
       "$"
      ],
      "text/plain": [
       "<IPython.core.display.Math object>"
      ]
     },
     "metadata": {},
     "output_type": "display_data"
    },
    {
     "data": {
      "text/latex": [
       "$\\displaystyle F_{2,44} = f(x_45, y_e) = f(0.45, 0.7823244) = -0.2136706$"
      ],
      "text/plain": [
       "<IPython.core.display.Math object>"
      ]
     },
     "metadata": {},
     "output_type": "display_data"
    },
    {
     "data": {
      "text/latex": [
       "$\\displaystyle y_45 = y_44 + \\frac{1}{2}h(F_{1,44} + F_{2,44}) = 0.7845486 + \\frac{1}{2}(0.01)(-0.2224225 + -0.2136706) = 0.7823681$"
      ],
      "text/plain": [
       "<IPython.core.display.Math object>"
      ]
     },
     "metadata": {},
     "output_type": "display_data"
    },
    {
     "data": {
      "text/latex": [
       "$\\displaystyle Approximation\\ to\\ y(x_45 = 0.45) = 0.7823681$"
      ],
      "text/plain": [
       "<IPython.core.display.Math object>"
      ]
     },
     "metadata": {},
     "output_type": "display_data"
    },
    {
     "name": "stdout",
     "output_type": "stream",
     "text": [
      "____________________________________________\n"
     ]
    },
    {
     "data": {
      "text/latex": [
       "$\\displaystyle Set\\ r=45,$"
      ],
      "text/plain": [
       "<IPython.core.display.Math object>"
      ]
     },
     "metadata": {},
     "output_type": "display_data"
    },
    {
     "data": {
      "text/latex": [
       "$\\displaystyle x_45 = 0.45, y_45 = 0.7823681$"
      ],
      "text/plain": [
       "<IPython.core.display.Math object>"
      ]
     },
     "metadata": {},
     "output_type": "display_data"
    },
    {
     "data": {
      "text/latex": [
       "$\\displaystyle F_{1,45} = f(x_45, y_45) = f(0.45, 0.7823681) = -0.2136954$"
      ],
      "text/plain": [
       "<IPython.core.display.Math object>"
      ]
     },
     "metadata": {},
     "output_type": "display_data"
    },
    {
     "data": {
      "text/latex": [
       "$\\displaystyle x_46 = x_45 + h = 0.45 + 0.01 = 0.46$"
      ],
      "text/plain": [
       "<IPython.core.display.Math object>"
      ]
     },
     "metadata": {},
     "output_type": "display_data"
    },
    {
     "data": {
      "text/latex": [
       "$\\displaystyle y_e = y_45 + hF_{1,45} = 0.7823681 + (0.01)(-0.2136954) = 0.7802311\n",
       "$"
      ],
      "text/plain": [
       "<IPython.core.display.Math object>"
      ]
     },
     "metadata": {},
     "output_type": "display_data"
    },
    {
     "data": {
      "text/latex": [
       "$\\displaystyle F_{2,45} = f(x_46, y_e) = f(0.46, 0.7802311) = -0.2050739$"
      ],
      "text/plain": [
       "<IPython.core.display.Math object>"
      ]
     },
     "metadata": {},
     "output_type": "display_data"
    },
    {
     "data": {
      "text/latex": [
       "$\\displaystyle y_46 = y_45 + \\frac{1}{2}h(F_{1,45} + F_{2,45}) = 0.7823681 + \\frac{1}{2}(0.01)(-0.2136954 + -0.2050739) = 0.7802743$"
      ],
      "text/plain": [
       "<IPython.core.display.Math object>"
      ]
     },
     "metadata": {},
     "output_type": "display_data"
    },
    {
     "data": {
      "text/latex": [
       "$\\displaystyle Approximation\\ to\\ y(x_46 = 0.46) = 0.7802743$"
      ],
      "text/plain": [
       "<IPython.core.display.Math object>"
      ]
     },
     "metadata": {},
     "output_type": "display_data"
    },
    {
     "name": "stdout",
     "output_type": "stream",
     "text": [
      "____________________________________________\n"
     ]
    },
    {
     "data": {
      "text/latex": [
       "$\\displaystyle Set\\ r=46,$"
      ],
      "text/plain": [
       "<IPython.core.display.Math object>"
      ]
     },
     "metadata": {},
     "output_type": "display_data"
    },
    {
     "data": {
      "text/latex": [
       "$\\displaystyle x_46 = 0.46, y_46 = 0.7802743$"
      ],
      "text/plain": [
       "<IPython.core.display.Math object>"
      ]
     },
     "metadata": {},
     "output_type": "display_data"
    },
    {
     "data": {
      "text/latex": [
       "$\\displaystyle F_{1,46} = f(x_46, y_46) = f(0.46, 0.7802743) = -0.2050984$"
      ],
      "text/plain": [
       "<IPython.core.display.Math object>"
      ]
     },
     "metadata": {},
     "output_type": "display_data"
    },
    {
     "data": {
      "text/latex": [
       "$\\displaystyle x_47 = x_46 + h = 0.46 + 0.01 = 0.47$"
      ],
      "text/plain": [
       "<IPython.core.display.Math object>"
      ]
     },
     "metadata": {},
     "output_type": "display_data"
    },
    {
     "data": {
      "text/latex": [
       "$\\displaystyle y_e = y_46 + hF_{1,46} = 0.7802743 + (0.01)(-0.2050984) = 0.7782233\n",
       "$"
      ],
      "text/plain": [
       "<IPython.core.display.Math object>"
      ]
     },
     "metadata": {},
     "output_type": "display_data"
    },
    {
     "data": {
      "text/latex": [
       "$\\displaystyle F_{2,46} = f(x_47, y_e) = f(0.47, 0.7782233) = -0.1966042$"
      ],
      "text/plain": [
       "<IPython.core.display.Math object>"
      ]
     },
     "metadata": {},
     "output_type": "display_data"
    },
    {
     "data": {
      "text/latex": [
       "$\\displaystyle y_47 = y_46 + \\frac{1}{2}h(F_{1,46} + F_{2,46}) = 0.7802743 + \\frac{1}{2}(0.01)(-0.2050984 + -0.1966042) = 0.7782658$"
      ],
      "text/plain": [
       "<IPython.core.display.Math object>"
      ]
     },
     "metadata": {},
     "output_type": "display_data"
    },
    {
     "data": {
      "text/latex": [
       "$\\displaystyle Approximation\\ to\\ y(x_47 = 0.47) = 0.7782658$"
      ],
      "text/plain": [
       "<IPython.core.display.Math object>"
      ]
     },
     "metadata": {},
     "output_type": "display_data"
    },
    {
     "name": "stdout",
     "output_type": "stream",
     "text": [
      "____________________________________________\n"
     ]
    },
    {
     "data": {
      "text/latex": [
       "$\\displaystyle Set\\ r=47,$"
      ],
      "text/plain": [
       "<IPython.core.display.Math object>"
      ]
     },
     "metadata": {},
     "output_type": "display_data"
    },
    {
     "data": {
      "text/latex": [
       "$\\displaystyle x_47 = 0.47, y_47 = 0.7782658$"
      ],
      "text/plain": [
       "<IPython.core.display.Math object>"
      ]
     },
     "metadata": {},
     "output_type": "display_data"
    },
    {
     "data": {
      "text/latex": [
       "$\\displaystyle F_{1,47} = f(x_47, y_47) = f(0.47, 0.7782658) = -0.1966283$"
      ],
      "text/plain": [
       "<IPython.core.display.Math object>"
      ]
     },
     "metadata": {},
     "output_type": "display_data"
    },
    {
     "data": {
      "text/latex": [
       "$\\displaystyle x_48 = x_47 + h = 0.47 + 0.01 = 0.48$"
      ],
      "text/plain": [
       "<IPython.core.display.Math object>"
      ]
     },
     "metadata": {},
     "output_type": "display_data"
    },
    {
     "data": {
      "text/latex": [
       "$\\displaystyle y_e = y_47 + hF_{1,47} = 0.7782658 + (0.01)(-0.1966283) = 0.7762995\n",
       "$"
      ],
      "text/plain": [
       "<IPython.core.display.Math object>"
      ]
     },
     "metadata": {},
     "output_type": "display_data"
    },
    {
     "data": {
      "text/latex": [
       "$\\displaystyle F_{2,47} = f(x_48, y_e) = f(0.48, 0.7762995) = -0.1882583$"
      ],
      "text/plain": [
       "<IPython.core.display.Math object>"
      ]
     },
     "metadata": {},
     "output_type": "display_data"
    },
    {
     "data": {
      "text/latex": [
       "$\\displaystyle y_48 = y_47 + \\frac{1}{2}h(F_{1,47} + F_{2,47}) = 0.7782658 + \\frac{1}{2}(0.01)(-0.1966283 + -0.1882583) = 0.7763414$"
      ],
      "text/plain": [
       "<IPython.core.display.Math object>"
      ]
     },
     "metadata": {},
     "output_type": "display_data"
    },
    {
     "data": {
      "text/latex": [
       "$\\displaystyle Approximation\\ to\\ y(x_48 = 0.48) = 0.7763414$"
      ],
      "text/plain": [
       "<IPython.core.display.Math object>"
      ]
     },
     "metadata": {},
     "output_type": "display_data"
    },
    {
     "name": "stdout",
     "output_type": "stream",
     "text": [
      "____________________________________________\n"
     ]
    },
    {
     "data": {
      "text/latex": [
       "$\\displaystyle Set\\ r=48,$"
      ],
      "text/plain": [
       "<IPython.core.display.Math object>"
      ]
     },
     "metadata": {},
     "output_type": "display_data"
    },
    {
     "data": {
      "text/latex": [
       "$\\displaystyle x_48 = 0.48, y_48 = 0.7763414$"
      ],
      "text/plain": [
       "<IPython.core.display.Math object>"
      ]
     },
     "metadata": {},
     "output_type": "display_data"
    },
    {
     "data": {
      "text/latex": [
       "$\\displaystyle F_{1,48} = f(x_48, y_48) = f(0.48, 0.7763414) = -0.1882821$"
      ],
      "text/plain": [
       "<IPython.core.display.Math object>"
      ]
     },
     "metadata": {},
     "output_type": "display_data"
    },
    {
     "data": {
      "text/latex": [
       "$\\displaystyle x_49 = x_48 + h = 0.48 + 0.01 = 0.49$"
      ],
      "text/plain": [
       "<IPython.core.display.Math object>"
      ]
     },
     "metadata": {},
     "output_type": "display_data"
    },
    {
     "data": {
      "text/latex": [
       "$\\displaystyle y_e = y_48 + hF_{1,48} = 0.7763414 + (0.01)(-0.1882821) = 0.7744586\n",
       "$"
      ],
      "text/plain": [
       "<IPython.core.display.Math object>"
      ]
     },
     "metadata": {},
     "output_type": "display_data"
    },
    {
     "data": {
      "text/latex": [
       "$\\displaystyle F_{2,48} = f(x_49, y_e) = f(0.49, 0.7744586) = -0.1800333$"
      ],
      "text/plain": [
       "<IPython.core.display.Math object>"
      ]
     },
     "metadata": {},
     "output_type": "display_data"
    },
    {
     "data": {
      "text/latex": [
       "$\\displaystyle y_49 = y_48 + \\frac{1}{2}h(F_{1,48} + F_{2,48}) = 0.7763414 + \\frac{1}{2}(0.01)(-0.1882821 + -0.1800333) = 0.7744998$"
      ],
      "text/plain": [
       "<IPython.core.display.Math object>"
      ]
     },
     "metadata": {},
     "output_type": "display_data"
    },
    {
     "data": {
      "text/latex": [
       "$\\displaystyle Approximation\\ to\\ y(x_49 = 0.49) = 0.7744998$"
      ],
      "text/plain": [
       "<IPython.core.display.Math object>"
      ]
     },
     "metadata": {},
     "output_type": "display_data"
    },
    {
     "name": "stdout",
     "output_type": "stream",
     "text": [
      "____________________________________________\n"
     ]
    },
    {
     "data": {
      "text/latex": [
       "$\\displaystyle Set\\ r=49,$"
      ],
      "text/plain": [
       "<IPython.core.display.Math object>"
      ]
     },
     "metadata": {},
     "output_type": "display_data"
    },
    {
     "data": {
      "text/latex": [
       "$\\displaystyle x_49 = 0.49, y_49 = 0.7744998$"
      ],
      "text/plain": [
       "<IPython.core.display.Math object>"
      ]
     },
     "metadata": {},
     "output_type": "display_data"
    },
    {
     "data": {
      "text/latex": [
       "$\\displaystyle F_{1,49} = f(x_49, y_49) = f(0.49, 0.7744998) = -0.1800567$"
      ],
      "text/plain": [
       "<IPython.core.display.Math object>"
      ]
     },
     "metadata": {},
     "output_type": "display_data"
    },
    {
     "data": {
      "text/latex": [
       "$\\displaystyle x_50 = x_49 + h = 0.49 + 0.01 = 0.5$"
      ],
      "text/plain": [
       "<IPython.core.display.Math object>"
      ]
     },
     "metadata": {},
     "output_type": "display_data"
    },
    {
     "data": {
      "text/latex": [
       "$\\displaystyle y_e = y_49 + hF_{1,49} = 0.7744998 + (0.01)(-0.1800567) = 0.7726992\n",
       "$"
      ],
      "text/plain": [
       "<IPython.core.display.Math object>"
      ]
     },
     "metadata": {},
     "output_type": "display_data"
    },
    {
     "data": {
      "text/latex": [
       "$\\displaystyle F_{2,49} = f(x_50, y_e) = f(0.5, 0.7726992) = -0.1719263$"
      ],
      "text/plain": [
       "<IPython.core.display.Math object>"
      ]
     },
     "metadata": {},
     "output_type": "display_data"
    },
    {
     "data": {
      "text/latex": [
       "$\\displaystyle y_50 = y_49 + \\frac{1}{2}h(F_{1,49} + F_{2,49}) = 0.7744998 + \\frac{1}{2}(0.01)(-0.1800567 + -0.1719263) = 0.7727399$"
      ],
      "text/plain": [
       "<IPython.core.display.Math object>"
      ]
     },
     "metadata": {},
     "output_type": "display_data"
    },
    {
     "data": {
      "text/latex": [
       "$\\displaystyle Approximation\\ to\\ y(x_50 = 0.5) = 0.7727399$"
      ],
      "text/plain": [
       "<IPython.core.display.Math object>"
      ]
     },
     "metadata": {},
     "output_type": "display_data"
    },
    {
     "name": "stdout",
     "output_type": "stream",
     "text": [
      "____________________________________________\n"
     ]
    },
    {
     "data": {
      "text/latex": [
       "$\\displaystyle Set\\ r=50,$"
      ],
      "text/plain": [
       "<IPython.core.display.Math object>"
      ]
     },
     "metadata": {},
     "output_type": "display_data"
    },
    {
     "data": {
      "text/latex": [
       "$\\displaystyle x_50 = 0.5, y_50 = 0.7727399$"
      ],
      "text/plain": [
       "<IPython.core.display.Math object>"
      ]
     },
     "metadata": {},
     "output_type": "display_data"
    },
    {
     "data": {
      "text/latex": [
       "$\\displaystyle F_{1,50} = f(x_50, y_50) = f(0.5, 0.7727399) = -0.1719495$"
      ],
      "text/plain": [
       "<IPython.core.display.Math object>"
      ]
     },
     "metadata": {},
     "output_type": "display_data"
    },
    {
     "data": {
      "text/latex": [
       "$\\displaystyle x_51 = x_50 + h = 0.5 + 0.01 = 0.51$"
      ],
      "text/plain": [
       "<IPython.core.display.Math object>"
      ]
     },
     "metadata": {},
     "output_type": "display_data"
    },
    {
     "data": {
      "text/latex": [
       "$\\displaystyle y_e = y_50 + hF_{1,50} = 0.7727399 + (0.01)(-0.1719495) = 0.7710204\n",
       "$"
      ],
      "text/plain": [
       "<IPython.core.display.Math object>"
      ]
     },
     "metadata": {},
     "output_type": "display_data"
    },
    {
     "data": {
      "text/latex": [
       "$\\displaystyle F_{2,50} = f(x_51, y_e) = f(0.51, 0.7710204) = -0.1639348$"
      ],
      "text/plain": [
       "<IPython.core.display.Math object>"
      ]
     },
     "metadata": {},
     "output_type": "display_data"
    },
    {
     "data": {
      "text/latex": [
       "$\\displaystyle y_51 = y_50 + \\frac{1}{2}h(F_{1,50} + F_{2,50}) = 0.7727399 + \\frac{1}{2}(0.01)(-0.1719495 + -0.1639348) = 0.7710605$"
      ],
      "text/plain": [
       "<IPython.core.display.Math object>"
      ]
     },
     "metadata": {},
     "output_type": "display_data"
    },
    {
     "data": {
      "text/latex": [
       "$\\displaystyle Approximation\\ to\\ y(x_51 = 0.51) = 0.7710605$"
      ],
      "text/plain": [
       "<IPython.core.display.Math object>"
      ]
     },
     "metadata": {},
     "output_type": "display_data"
    },
    {
     "name": "stdout",
     "output_type": "stream",
     "text": [
      "____________________________________________\n"
     ]
    },
    {
     "data": {
      "text/latex": [
       "$\\displaystyle Set\\ r=51,$"
      ],
      "text/plain": [
       "<IPython.core.display.Math object>"
      ]
     },
     "metadata": {},
     "output_type": "display_data"
    },
    {
     "data": {
      "text/latex": [
       "$\\displaystyle x_51 = 0.51, y_51 = 0.7710605$"
      ],
      "text/plain": [
       "<IPython.core.display.Math object>"
      ]
     },
     "metadata": {},
     "output_type": "display_data"
    },
    {
     "data": {
      "text/latex": [
       "$\\displaystyle F_{1,51} = f(x_51, y_51) = f(0.51, 0.7710605) = -0.1639577$"
      ],
      "text/plain": [
       "<IPython.core.display.Math object>"
      ]
     },
     "metadata": {},
     "output_type": "display_data"
    },
    {
     "data": {
      "text/latex": [
       "$\\displaystyle x_52 = x_51 + h = 0.51 + 0.01 = 0.52$"
      ],
      "text/plain": [
       "<IPython.core.display.Math object>"
      ]
     },
     "metadata": {},
     "output_type": "display_data"
    },
    {
     "data": {
      "text/latex": [
       "$\\displaystyle y_e = y_51 + hF_{1,51} = 0.7710605 + (0.01)(-0.1639577) = 0.7694209\n",
       "$"
      ],
      "text/plain": [
       "<IPython.core.display.Math object>"
      ]
     },
     "metadata": {},
     "output_type": "display_data"
    },
    {
     "data": {
      "text/latex": [
       "$\\displaystyle F_{2,51} = f(x_52, y_e) = f(0.52, 0.7694209) = -0.1560562$"
      ],
      "text/plain": [
       "<IPython.core.display.Math object>"
      ]
     },
     "metadata": {},
     "output_type": "display_data"
    },
    {
     "data": {
      "text/latex": [
       "$\\displaystyle y_52 = y_51 + \\frac{1}{2}h(F_{1,51} + F_{2,51}) = 0.7710605 + \\frac{1}{2}(0.01)(-0.1639577 + -0.1560562) = 0.7694604$"
      ],
      "text/plain": [
       "<IPython.core.display.Math object>"
      ]
     },
     "metadata": {},
     "output_type": "display_data"
    },
    {
     "data": {
      "text/latex": [
       "$\\displaystyle Approximation\\ to\\ y(x_52 = 0.52) = 0.7694604$"
      ],
      "text/plain": [
       "<IPython.core.display.Math object>"
      ]
     },
     "metadata": {},
     "output_type": "display_data"
    },
    {
     "name": "stdout",
     "output_type": "stream",
     "text": [
      "____________________________________________\n"
     ]
    },
    {
     "data": {
      "text/latex": [
       "$\\displaystyle Set\\ r=52,$"
      ],
      "text/plain": [
       "<IPython.core.display.Math object>"
      ]
     },
     "metadata": {},
     "output_type": "display_data"
    },
    {
     "data": {
      "text/latex": [
       "$\\displaystyle x_52 = 0.52, y_52 = 0.7694604$"
      ],
      "text/plain": [
       "<IPython.core.display.Math object>"
      ]
     },
     "metadata": {},
     "output_type": "display_data"
    },
    {
     "data": {
      "text/latex": [
       "$\\displaystyle F_{1,52} = f(x_52, y_52) = f(0.52, 0.7694604) = -0.1560787$"
      ],
      "text/plain": [
       "<IPython.core.display.Math object>"
      ]
     },
     "metadata": {},
     "output_type": "display_data"
    },
    {
     "data": {
      "text/latex": [
       "$\\displaystyle x_53 = x_52 + h = 0.52 + 0.01 = 0.53$"
      ],
      "text/plain": [
       "<IPython.core.display.Math object>"
      ]
     },
     "metadata": {},
     "output_type": "display_data"
    },
    {
     "data": {
      "text/latex": [
       "$\\displaystyle y_e = y_52 + hF_{1,52} = 0.7694604 + (0.01)(-0.1560787) = 0.7678996\n",
       "$"
      ],
      "text/plain": [
       "<IPython.core.display.Math object>"
      ]
     },
     "metadata": {},
     "output_type": "display_data"
    },
    {
     "data": {
      "text/latex": [
       "$\\displaystyle F_{2,52} = f(x_53, y_e) = f(0.53, 0.7678996) = -0.1482878$"
      ],
      "text/plain": [
       "<IPython.core.display.Math object>"
      ]
     },
     "metadata": {},
     "output_type": "display_data"
    },
    {
     "data": {
      "text/latex": [
       "$\\displaystyle y_53 = y_52 + \\frac{1}{2}h(F_{1,52} + F_{2,52}) = 0.7694604 + \\frac{1}{2}(0.01)(-0.1560787 + -0.1482878) = 0.7679386$"
      ],
      "text/plain": [
       "<IPython.core.display.Math object>"
      ]
     },
     "metadata": {},
     "output_type": "display_data"
    },
    {
     "data": {
      "text/latex": [
       "$\\displaystyle Approximation\\ to\\ y(x_53 = 0.53) = 0.7679386$"
      ],
      "text/plain": [
       "<IPython.core.display.Math object>"
      ]
     },
     "metadata": {},
     "output_type": "display_data"
    },
    {
     "name": "stdout",
     "output_type": "stream",
     "text": [
      "____________________________________________\n"
     ]
    },
    {
     "data": {
      "text/latex": [
       "$\\displaystyle Set\\ r=53,$"
      ],
      "text/plain": [
       "<IPython.core.display.Math object>"
      ]
     },
     "metadata": {},
     "output_type": "display_data"
    },
    {
     "data": {
      "text/latex": [
       "$\\displaystyle x_53 = 0.53, y_53 = 0.7679386$"
      ],
      "text/plain": [
       "<IPython.core.display.Math object>"
      ]
     },
     "metadata": {},
     "output_type": "display_data"
    },
    {
     "data": {
      "text/latex": [
       "$\\displaystyle F_{1,53} = f(x_53, y_53) = f(0.53, 0.7679386) = -0.1483101$"
      ],
      "text/plain": [
       "<IPython.core.display.Math object>"
      ]
     },
     "metadata": {},
     "output_type": "display_data"
    },
    {
     "data": {
      "text/latex": [
       "$\\displaystyle x_54 = x_53 + h = 0.53 + 0.01 = 0.54$"
      ],
      "text/plain": [
       "<IPython.core.display.Math object>"
      ]
     },
     "metadata": {},
     "output_type": "display_data"
    },
    {
     "data": {
      "text/latex": [
       "$\\displaystyle y_e = y_53 + hF_{1,53} = 0.7679386 + (0.01)(-0.1483101) = 0.7664555\n",
       "$"
      ],
      "text/plain": [
       "<IPython.core.display.Math object>"
      ]
     },
     "metadata": {},
     "output_type": "display_data"
    },
    {
     "data": {
      "text/latex": [
       "$\\displaystyle F_{2,53} = f(x_54, y_e) = f(0.54, 0.7664555) = -0.1406275$"
      ],
      "text/plain": [
       "<IPython.core.display.Math object>"
      ]
     },
     "metadata": {},
     "output_type": "display_data"
    },
    {
     "data": {
      "text/latex": [
       "$\\displaystyle y_54 = y_53 + \\frac{1}{2}h(F_{1,53} + F_{2,53}) = 0.7679386 + \\frac{1}{2}(0.01)(-0.1483101 + -0.1406275) = 0.7664939$"
      ],
      "text/plain": [
       "<IPython.core.display.Math object>"
      ]
     },
     "metadata": {},
     "output_type": "display_data"
    },
    {
     "data": {
      "text/latex": [
       "$\\displaystyle Approximation\\ to\\ y(x_54 = 0.54) = 0.7664939$"
      ],
      "text/plain": [
       "<IPython.core.display.Math object>"
      ]
     },
     "metadata": {},
     "output_type": "display_data"
    },
    {
     "name": "stdout",
     "output_type": "stream",
     "text": [
      "____________________________________________\n"
     ]
    },
    {
     "data": {
      "text/latex": [
       "$\\displaystyle Set\\ r=54,$"
      ],
      "text/plain": [
       "<IPython.core.display.Math object>"
      ]
     },
     "metadata": {},
     "output_type": "display_data"
    },
    {
     "data": {
      "text/latex": [
       "$\\displaystyle x_54 = 0.54, y_54 = 0.7664939$"
      ],
      "text/plain": [
       "<IPython.core.display.Math object>"
      ]
     },
     "metadata": {},
     "output_type": "display_data"
    },
    {
     "data": {
      "text/latex": [
       "$\\displaystyle F_{1,54} = f(x_54, y_54) = f(0.54, 0.7664939) = -0.1406494$"
      ],
      "text/plain": [
       "<IPython.core.display.Math object>"
      ]
     },
     "metadata": {},
     "output_type": "display_data"
    },
    {
     "data": {
      "text/latex": [
       "$\\displaystyle x_55 = x_54 + h = 0.54 + 0.01 = 0.55$"
      ],
      "text/plain": [
       "<IPython.core.display.Math object>"
      ]
     },
     "metadata": {},
     "output_type": "display_data"
    },
    {
     "data": {
      "text/latex": [
       "$\\displaystyle y_e = y_54 + hF_{1,54} = 0.7664939 + (0.01)(-0.1406494) = 0.7650874\n",
       "$"
      ],
      "text/plain": [
       "<IPython.core.display.Math object>"
      ]
     },
     "metadata": {},
     "output_type": "display_data"
    },
    {
     "data": {
      "text/latex": [
       "$\\displaystyle F_{2,54} = f(x_55, y_e) = f(0.55, 0.7650874) = -0.1330729$"
      ],
      "text/plain": [
       "<IPython.core.display.Math object>"
      ]
     },
     "metadata": {},
     "output_type": "display_data"
    },
    {
     "data": {
      "text/latex": [
       "$\\displaystyle y_55 = y_54 + \\frac{1}{2}h(F_{1,54} + F_{2,54}) = 0.7664939 + \\frac{1}{2}(0.01)(-0.1406494 + -0.1330729) = 0.7651253$"
      ],
      "text/plain": [
       "<IPython.core.display.Math object>"
      ]
     },
     "metadata": {},
     "output_type": "display_data"
    },
    {
     "data": {
      "text/latex": [
       "$\\displaystyle Approximation\\ to\\ y(x_55 = 0.55) = 0.7651253$"
      ],
      "text/plain": [
       "<IPython.core.display.Math object>"
      ]
     },
     "metadata": {},
     "output_type": "display_data"
    },
    {
     "name": "stdout",
     "output_type": "stream",
     "text": [
      "____________________________________________\n"
     ]
    },
    {
     "data": {
      "text/latex": [
       "$\\displaystyle Set\\ r=55,$"
      ],
      "text/plain": [
       "<IPython.core.display.Math object>"
      ]
     },
     "metadata": {},
     "output_type": "display_data"
    },
    {
     "data": {
      "text/latex": [
       "$\\displaystyle x_55 = 0.55, y_55 = 0.7651253$"
      ],
      "text/plain": [
       "<IPython.core.display.Math object>"
      ]
     },
     "metadata": {},
     "output_type": "display_data"
    },
    {
     "data": {
      "text/latex": [
       "$\\displaystyle F_{1,55} = f(x_55, y_55) = f(0.55, 0.7651253) = -0.1330946$"
      ],
      "text/plain": [
       "<IPython.core.display.Math object>"
      ]
     },
     "metadata": {},
     "output_type": "display_data"
    },
    {
     "data": {
      "text/latex": [
       "$\\displaystyle x_56 = x_55 + h = 0.55 + 0.01 = 0.56$"
      ],
      "text/plain": [
       "<IPython.core.display.Math object>"
      ]
     },
     "metadata": {},
     "output_type": "display_data"
    },
    {
     "data": {
      "text/latex": [
       "$\\displaystyle y_e = y_55 + hF_{1,55} = 0.7651253 + (0.01)(-0.1330946) = 0.7637944\n",
       "$"
      ],
      "text/plain": [
       "<IPython.core.display.Math object>"
      ]
     },
     "metadata": {},
     "output_type": "display_data"
    },
    {
     "data": {
      "text/latex": [
       "$\\displaystyle F_{2,55} = f(x_56, y_e) = f(0.56, 0.7637944) = -0.1256218$"
      ],
      "text/plain": [
       "<IPython.core.display.Math object>"
      ]
     },
     "metadata": {},
     "output_type": "display_data"
    },
    {
     "data": {
      "text/latex": [
       "$\\displaystyle y_56 = y_55 + \\frac{1}{2}h(F_{1,55} + F_{2,55}) = 0.7651253 + \\frac{1}{2}(0.01)(-0.1330946 + -0.1256218) = 0.7638317$"
      ],
      "text/plain": [
       "<IPython.core.display.Math object>"
      ]
     },
     "metadata": {},
     "output_type": "display_data"
    },
    {
     "data": {
      "text/latex": [
       "$\\displaystyle Approximation\\ to\\ y(x_56 = 0.56) = 0.7638317$"
      ],
      "text/plain": [
       "<IPython.core.display.Math object>"
      ]
     },
     "metadata": {},
     "output_type": "display_data"
    },
    {
     "name": "stdout",
     "output_type": "stream",
     "text": [
      "____________________________________________\n"
     ]
    },
    {
     "data": {
      "text/latex": [
       "$\\displaystyle Set\\ r=56,$"
      ],
      "text/plain": [
       "<IPython.core.display.Math object>"
      ]
     },
     "metadata": {},
     "output_type": "display_data"
    },
    {
     "data": {
      "text/latex": [
       "$\\displaystyle x_56 = 0.56, y_56 = 0.7638317$"
      ],
      "text/plain": [
       "<IPython.core.display.Math object>"
      ]
     },
     "metadata": {},
     "output_type": "display_data"
    },
    {
     "data": {
      "text/latex": [
       "$\\displaystyle F_{1,56} = f(x_56, y_56) = f(0.56, 0.7638317) = -0.1256432$"
      ],
      "text/plain": [
       "<IPython.core.display.Math object>"
      ]
     },
     "metadata": {},
     "output_type": "display_data"
    },
    {
     "data": {
      "text/latex": [
       "$\\displaystyle x_57 = x_56 + h = 0.56 + 0.01 = 0.57$"
      ],
      "text/plain": [
       "<IPython.core.display.Math object>"
      ]
     },
     "metadata": {},
     "output_type": "display_data"
    },
    {
     "data": {
      "text/latex": [
       "$\\displaystyle y_e = y_56 + hF_{1,56} = 0.7638317 + (0.01)(-0.1256432) = 0.7625753\n",
       "$"
      ],
      "text/plain": [
       "<IPython.core.display.Math object>"
      ]
     },
     "metadata": {},
     "output_type": "display_data"
    },
    {
     "data": {
      "text/latex": [
       "$\\displaystyle F_{2,56} = f(x_57, y_e) = f(0.57, 0.7625753) = -0.1182721$"
      ],
      "text/plain": [
       "<IPython.core.display.Math object>"
      ]
     },
     "metadata": {},
     "output_type": "display_data"
    },
    {
     "data": {
      "text/latex": [
       "$\\displaystyle y_57 = y_56 + \\frac{1}{2}h(F_{1,56} + F_{2,56}) = 0.7638317 + \\frac{1}{2}(0.01)(-0.1256432 + -0.1182721) = 0.7626121$"
      ],
      "text/plain": [
       "<IPython.core.display.Math object>"
      ]
     },
     "metadata": {},
     "output_type": "display_data"
    },
    {
     "data": {
      "text/latex": [
       "$\\displaystyle Approximation\\ to\\ y(x_57 = 0.57) = 0.7626121$"
      ],
      "text/plain": [
       "<IPython.core.display.Math object>"
      ]
     },
     "metadata": {},
     "output_type": "display_data"
    },
    {
     "name": "stdout",
     "output_type": "stream",
     "text": [
      "____________________________________________\n"
     ]
    },
    {
     "data": {
      "text/latex": [
       "$\\displaystyle Set\\ r=57,$"
      ],
      "text/plain": [
       "<IPython.core.display.Math object>"
      ]
     },
     "metadata": {},
     "output_type": "display_data"
    },
    {
     "data": {
      "text/latex": [
       "$\\displaystyle x_57 = 0.57, y_57 = 0.7626121$"
      ],
      "text/plain": [
       "<IPython.core.display.Math object>"
      ]
     },
     "metadata": {},
     "output_type": "display_data"
    },
    {
     "data": {
      "text/latex": [
       "$\\displaystyle F_{1,57} = f(x_57, y_57) = f(0.57, 0.7626121) = -0.1182932$"
      ],
      "text/plain": [
       "<IPython.core.display.Math object>"
      ]
     },
     "metadata": {},
     "output_type": "display_data"
    },
    {
     "data": {
      "text/latex": [
       "$\\displaystyle x_58 = x_57 + h = 0.57 + 0.01 = 0.58$"
      ],
      "text/plain": [
       "<IPython.core.display.Math object>"
      ]
     },
     "metadata": {},
     "output_type": "display_data"
    },
    {
     "data": {
      "text/latex": [
       "$\\displaystyle y_e = y_57 + hF_{1,57} = 0.7626121 + (0.01)(-0.1182932) = 0.7614292\n",
       "$"
      ],
      "text/plain": [
       "<IPython.core.display.Math object>"
      ]
     },
     "metadata": {},
     "output_type": "display_data"
    },
    {
     "data": {
      "text/latex": [
       "$\\displaystyle F_{2,57} = f(x_58, y_e) = f(0.58, 0.7614292) = -0.1110218$"
      ],
      "text/plain": [
       "<IPython.core.display.Math object>"
      ]
     },
     "metadata": {},
     "output_type": "display_data"
    },
    {
     "data": {
      "text/latex": [
       "$\\displaystyle y_58 = y_57 + \\frac{1}{2}h(F_{1,57} + F_{2,57}) = 0.7626121 + \\frac{1}{2}(0.01)(-0.1182932 + -0.1110218) = 0.7614655$"
      ],
      "text/plain": [
       "<IPython.core.display.Math object>"
      ]
     },
     "metadata": {},
     "output_type": "display_data"
    },
    {
     "data": {
      "text/latex": [
       "$\\displaystyle Approximation\\ to\\ y(x_58 = 0.58) = 0.7614655$"
      ],
      "text/plain": [
       "<IPython.core.display.Math object>"
      ]
     },
     "metadata": {},
     "output_type": "display_data"
    },
    {
     "name": "stdout",
     "output_type": "stream",
     "text": [
      "____________________________________________\n"
     ]
    },
    {
     "data": {
      "text/latex": [
       "$\\displaystyle Set\\ r=58,$"
      ],
      "text/plain": [
       "<IPython.core.display.Math object>"
      ]
     },
     "metadata": {},
     "output_type": "display_data"
    },
    {
     "data": {
      "text/latex": [
       "$\\displaystyle x_58 = 0.58, y_58 = 0.7614655$"
      ],
      "text/plain": [
       "<IPython.core.display.Math object>"
      ]
     },
     "metadata": {},
     "output_type": "display_data"
    },
    {
     "data": {
      "text/latex": [
       "$\\displaystyle F_{1,58} = f(x_58, y_58) = f(0.58, 0.7614655) = -0.1110426$"
      ],
      "text/plain": [
       "<IPython.core.display.Math object>"
      ]
     },
     "metadata": {},
     "output_type": "display_data"
    },
    {
     "data": {
      "text/latex": [
       "$\\displaystyle x_59 = x_58 + h = 0.58 + 0.01 = 0.59$"
      ],
      "text/plain": [
       "<IPython.core.display.Math object>"
      ]
     },
     "metadata": {},
     "output_type": "display_data"
    },
    {
     "data": {
      "text/latex": [
       "$\\displaystyle y_e = y_58 + hF_{1,58} = 0.7614655 + (0.01)(-0.1110426) = 0.7603551\n",
       "$"
      ],
      "text/plain": [
       "<IPython.core.display.Math object>"
      ]
     },
     "metadata": {},
     "output_type": "display_data"
    },
    {
     "data": {
      "text/latex": [
       "$\\displaystyle F_{2,58} = f(x_59, y_e) = f(0.59, 0.7603551) = -0.1038689$"
      ],
      "text/plain": [
       "<IPython.core.display.Math object>"
      ]
     },
     "metadata": {},
     "output_type": "display_data"
    },
    {
     "data": {
      "text/latex": [
       "$\\displaystyle y_59 = y_58 + \\frac{1}{2}h(F_{1,58} + F_{2,58}) = 0.7614655 + \\frac{1}{2}(0.01)(-0.1110426 + -0.1038689) = 0.7603909$"
      ],
      "text/plain": [
       "<IPython.core.display.Math object>"
      ]
     },
     "metadata": {},
     "output_type": "display_data"
    },
    {
     "data": {
      "text/latex": [
       "$\\displaystyle Approximation\\ to\\ y(x_59 = 0.59) = 0.7603909$"
      ],
      "text/plain": [
       "<IPython.core.display.Math object>"
      ]
     },
     "metadata": {},
     "output_type": "display_data"
    },
    {
     "name": "stdout",
     "output_type": "stream",
     "text": [
      "____________________________________________\n"
     ]
    },
    {
     "data": {
      "text/latex": [
       "$\\displaystyle Set\\ r=59,$"
      ],
      "text/plain": [
       "<IPython.core.display.Math object>"
      ]
     },
     "metadata": {},
     "output_type": "display_data"
    },
    {
     "data": {
      "text/latex": [
       "$\\displaystyle x_59 = 0.59, y_59 = 0.7603909$"
      ],
      "text/plain": [
       "<IPython.core.display.Math object>"
      ]
     },
     "metadata": {},
     "output_type": "display_data"
    },
    {
     "data": {
      "text/latex": [
       "$\\displaystyle F_{1,59} = f(x_59, y_59) = f(0.59, 0.7603909) = -0.1038894$"
      ],
      "text/plain": [
       "<IPython.core.display.Math object>"
      ]
     },
     "metadata": {},
     "output_type": "display_data"
    },
    {
     "data": {
      "text/latex": [
       "$\\displaystyle x_60 = x_59 + h = 0.59 + 0.01 = 0.6$"
      ],
      "text/plain": [
       "<IPython.core.display.Math object>"
      ]
     },
     "metadata": {},
     "output_type": "display_data"
    },
    {
     "data": {
      "text/latex": [
       "$\\displaystyle y_e = y_59 + hF_{1,59} = 0.7603909 + (0.01)(-0.1038894) = 0.7593520\n",
       "$"
      ],
      "text/plain": [
       "<IPython.core.display.Math object>"
      ]
     },
     "metadata": {},
     "output_type": "display_data"
    },
    {
     "data": {
      "text/latex": [
       "$\\displaystyle F_{2,59} = f(x_60, y_e) = f(0.6, 0.7593520) = -0.0968114$"
      ],
      "text/plain": [
       "<IPython.core.display.Math object>"
      ]
     },
     "metadata": {},
     "output_type": "display_data"
    },
    {
     "data": {
      "text/latex": [
       "$\\displaystyle y_60 = y_59 + \\frac{1}{2}h(F_{1,59} + F_{2,59}) = 0.7603909 + \\frac{1}{2}(0.01)(-0.1038894 + -0.0968114) = 0.7593874$"
      ],
      "text/plain": [
       "<IPython.core.display.Math object>"
      ]
     },
     "metadata": {},
     "output_type": "display_data"
    },
    {
     "data": {
      "text/latex": [
       "$\\displaystyle Approximation\\ to\\ y(x_60 = 0.6) = 0.7593874$"
      ],
      "text/plain": [
       "<IPython.core.display.Math object>"
      ]
     },
     "metadata": {},
     "output_type": "display_data"
    },
    {
     "name": "stdout",
     "output_type": "stream",
     "text": [
      "____________________________________________\n"
     ]
    },
    {
     "data": {
      "text/latex": [
       "$\\displaystyle Set\\ r=60,$"
      ],
      "text/plain": [
       "<IPython.core.display.Math object>"
      ]
     },
     "metadata": {},
     "output_type": "display_data"
    },
    {
     "data": {
      "text/latex": [
       "$\\displaystyle x_60 = 0.6, y_60 = 0.7593874$"
      ],
      "text/plain": [
       "<IPython.core.display.Math object>"
      ]
     },
     "metadata": {},
     "output_type": "display_data"
    },
    {
     "data": {
      "text/latex": [
       "$\\displaystyle F_{1,60} = f(x_60, y_60) = f(0.6, 0.7593874) = -0.0968317$"
      ],
      "text/plain": [
       "<IPython.core.display.Math object>"
      ]
     },
     "metadata": {},
     "output_type": "display_data"
    },
    {
     "data": {
      "text/latex": [
       "$\\displaystyle x_61 = x_60 + h = 0.6 + 0.01 = 0.61$"
      ],
      "text/plain": [
       "<IPython.core.display.Math object>"
      ]
     },
     "metadata": {},
     "output_type": "display_data"
    },
    {
     "data": {
      "text/latex": [
       "$\\displaystyle y_e = y_60 + hF_{1,60} = 0.7593874 + (0.01)(-0.0968317) = 0.7584191\n",
       "$"
      ],
      "text/plain": [
       "<IPython.core.display.Math object>"
      ]
     },
     "metadata": {},
     "output_type": "display_data"
    },
    {
     "data": {
      "text/latex": [
       "$\\displaystyle F_{2,60} = f(x_61, y_e) = f(0.61, 0.7584191) = -0.0898476$"
      ],
      "text/plain": [
       "<IPython.core.display.Math object>"
      ]
     },
     "metadata": {},
     "output_type": "display_data"
    },
    {
     "data": {
      "text/latex": [
       "$\\displaystyle y_61 = y_60 + \\frac{1}{2}h(F_{1,60} + F_{2,60}) = 0.7593874 + \\frac{1}{2}(0.01)(-0.0968317 + -0.0898476) = 0.7584540$"
      ],
      "text/plain": [
       "<IPython.core.display.Math object>"
      ]
     },
     "metadata": {},
     "output_type": "display_data"
    },
    {
     "data": {
      "text/latex": [
       "$\\displaystyle Approximation\\ to\\ y(x_61 = 0.61) = 0.7584540$"
      ],
      "text/plain": [
       "<IPython.core.display.Math object>"
      ]
     },
     "metadata": {},
     "output_type": "display_data"
    },
    {
     "name": "stdout",
     "output_type": "stream",
     "text": [
      "____________________________________________\n"
     ]
    },
    {
     "data": {
      "text/latex": [
       "$\\displaystyle Set\\ r=61,$"
      ],
      "text/plain": [
       "<IPython.core.display.Math object>"
      ]
     },
     "metadata": {},
     "output_type": "display_data"
    },
    {
     "data": {
      "text/latex": [
       "$\\displaystyle x_61 = 0.61, y_61 = 0.7584540$"
      ],
      "text/plain": [
       "<IPython.core.display.Math object>"
      ]
     },
     "metadata": {},
     "output_type": "display_data"
    },
    {
     "data": {
      "text/latex": [
       "$\\displaystyle F_{1,61} = f(x_61, y_61) = f(0.61, 0.7584540) = -0.0898677$"
      ],
      "text/plain": [
       "<IPython.core.display.Math object>"
      ]
     },
     "metadata": {},
     "output_type": "display_data"
    },
    {
     "data": {
      "text/latex": [
       "$\\displaystyle x_62 = x_61 + h = 0.61 + 0.01 = 0.62$"
      ],
      "text/plain": [
       "<IPython.core.display.Math object>"
      ]
     },
     "metadata": {},
     "output_type": "display_data"
    },
    {
     "data": {
      "text/latex": [
       "$\\displaystyle y_e = y_61 + hF_{1,61} = 0.7584540 + (0.01)(-0.0898677) = 0.7575553\n",
       "$"
      ],
      "text/plain": [
       "<IPython.core.display.Math object>"
      ]
     },
     "metadata": {},
     "output_type": "display_data"
    },
    {
     "data": {
      "text/latex": [
       "$\\displaystyle F_{2,61} = f(x_62, y_e) = f(0.62, 0.7575553) = -0.0829757$"
      ],
      "text/plain": [
       "<IPython.core.display.Math object>"
      ]
     },
     "metadata": {},
     "output_type": "display_data"
    },
    {
     "data": {
      "text/latex": [
       "$\\displaystyle y_62 = y_61 + \\frac{1}{2}h(F_{1,61} + F_{2,61}) = 0.7584540 + \\frac{1}{2}(0.01)(-0.0898677 + -0.0829757) = 0.7575898$"
      ],
      "text/plain": [
       "<IPython.core.display.Math object>"
      ]
     },
     "metadata": {},
     "output_type": "display_data"
    },
    {
     "data": {
      "text/latex": [
       "$\\displaystyle Approximation\\ to\\ y(x_62 = 0.62) = 0.7575898$"
      ],
      "text/plain": [
       "<IPython.core.display.Math object>"
      ]
     },
     "metadata": {},
     "output_type": "display_data"
    },
    {
     "name": "stdout",
     "output_type": "stream",
     "text": [
      "____________________________________________\n"
     ]
    },
    {
     "data": {
      "text/latex": [
       "$\\displaystyle Set\\ r=62,$"
      ],
      "text/plain": [
       "<IPython.core.display.Math object>"
      ]
     },
     "metadata": {},
     "output_type": "display_data"
    },
    {
     "data": {
      "text/latex": [
       "$\\displaystyle x_62 = 0.62, y_62 = 0.7575898$"
      ],
      "text/plain": [
       "<IPython.core.display.Math object>"
      ]
     },
     "metadata": {},
     "output_type": "display_data"
    },
    {
     "data": {
      "text/latex": [
       "$\\displaystyle F_{1,62} = f(x_62, y_62) = f(0.62, 0.7575898) = -0.0829956$"
      ],
      "text/plain": [
       "<IPython.core.display.Math object>"
      ]
     },
     "metadata": {},
     "output_type": "display_data"
    },
    {
     "data": {
      "text/latex": [
       "$\\displaystyle x_63 = x_62 + h = 0.62 + 0.01 = 0.63$"
      ],
      "text/plain": [
       "<IPython.core.display.Math object>"
      ]
     },
     "metadata": {},
     "output_type": "display_data"
    },
    {
     "data": {
      "text/latex": [
       "$\\displaystyle y_e = y_62 + hF_{1,62} = 0.7575898 + (0.01)(-0.0829956) = 0.7567598\n",
       "$"
      ],
      "text/plain": [
       "<IPython.core.display.Math object>"
      ]
     },
     "metadata": {},
     "output_type": "display_data"
    },
    {
     "data": {
      "text/latex": [
       "$\\displaystyle F_{2,62} = f(x_63, y_e) = f(0.63, 0.7567598) = -0.0761940$"
      ],
      "text/plain": [
       "<IPython.core.display.Math object>"
      ]
     },
     "metadata": {},
     "output_type": "display_data"
    },
    {
     "data": {
      "text/latex": [
       "$\\displaystyle y_63 = y_62 + \\frac{1}{2}h(F_{1,62} + F_{2,62}) = 0.7575898 + \\frac{1}{2}(0.01)(-0.0829956 + -0.0761940) = 0.7567939$"
      ],
      "text/plain": [
       "<IPython.core.display.Math object>"
      ]
     },
     "metadata": {},
     "output_type": "display_data"
    },
    {
     "data": {
      "text/latex": [
       "$\\displaystyle Approximation\\ to\\ y(x_63 = 0.63) = 0.7567939$"
      ],
      "text/plain": [
       "<IPython.core.display.Math object>"
      ]
     },
     "metadata": {},
     "output_type": "display_data"
    },
    {
     "name": "stdout",
     "output_type": "stream",
     "text": [
      "____________________________________________\n"
     ]
    },
    {
     "data": {
      "text/latex": [
       "$\\displaystyle Set\\ r=63,$"
      ],
      "text/plain": [
       "<IPython.core.display.Math object>"
      ]
     },
     "metadata": {},
     "output_type": "display_data"
    },
    {
     "data": {
      "text/latex": [
       "$\\displaystyle x_63 = 0.63, y_63 = 0.7567939$"
      ],
      "text/plain": [
       "<IPython.core.display.Math object>"
      ]
     },
     "metadata": {},
     "output_type": "display_data"
    },
    {
     "data": {
      "text/latex": [
       "$\\displaystyle F_{1,63} = f(x_63, y_63) = f(0.63, 0.7567939) = -0.0762136$"
      ],
      "text/plain": [
       "<IPython.core.display.Math object>"
      ]
     },
     "metadata": {},
     "output_type": "display_data"
    },
    {
     "data": {
      "text/latex": [
       "$\\displaystyle x_64 = x_63 + h = 0.63 + 0.01 = 0.64$"
      ],
      "text/plain": [
       "<IPython.core.display.Math object>"
      ]
     },
     "metadata": {},
     "output_type": "display_data"
    },
    {
     "data": {
      "text/latex": [
       "$\\displaystyle y_e = y_63 + hF_{1,63} = 0.7567939 + (0.01)(-0.0762136) = 0.7560318\n",
       "$"
      ],
      "text/plain": [
       "<IPython.core.display.Math object>"
      ]
     },
     "metadata": {},
     "output_type": "display_data"
    },
    {
     "data": {
      "text/latex": [
       "$\\displaystyle F_{2,63} = f(x_64, y_e) = f(0.64, 0.7560318) = -0.0695009$"
      ],
      "text/plain": [
       "<IPython.core.display.Math object>"
      ]
     },
     "metadata": {},
     "output_type": "display_data"
    },
    {
     "data": {
      "text/latex": [
       "$\\displaystyle y_64 = y_63 + \\frac{1}{2}h(F_{1,63} + F_{2,63}) = 0.7567939 + \\frac{1}{2}(0.01)(-0.0762136 + -0.0695009) = 0.7560653$"
      ],
      "text/plain": [
       "<IPython.core.display.Math object>"
      ]
     },
     "metadata": {},
     "output_type": "display_data"
    },
    {
     "data": {
      "text/latex": [
       "$\\displaystyle Approximation\\ to\\ y(x_64 = 0.64) = 0.7560653$"
      ],
      "text/plain": [
       "<IPython.core.display.Math object>"
      ]
     },
     "metadata": {},
     "output_type": "display_data"
    },
    {
     "name": "stdout",
     "output_type": "stream",
     "text": [
      "____________________________________________\n"
     ]
    },
    {
     "data": {
      "text/latex": [
       "$\\displaystyle Set\\ r=64,$"
      ],
      "text/plain": [
       "<IPython.core.display.Math object>"
      ]
     },
     "metadata": {},
     "output_type": "display_data"
    },
    {
     "data": {
      "text/latex": [
       "$\\displaystyle x_64 = 0.64, y_64 = 0.7560653$"
      ],
      "text/plain": [
       "<IPython.core.display.Math object>"
      ]
     },
     "metadata": {},
     "output_type": "display_data"
    },
    {
     "data": {
      "text/latex": [
       "$\\displaystyle F_{1,64} = f(x_64, y_64) = f(0.64, 0.7560653) = -0.0695202$"
      ],
      "text/plain": [
       "<IPython.core.display.Math object>"
      ]
     },
     "metadata": {},
     "output_type": "display_data"
    },
    {
     "data": {
      "text/latex": [
       "$\\displaystyle x_65 = x_64 + h = 0.64 + 0.01 = 0.65$"
      ],
      "text/plain": [
       "<IPython.core.display.Math object>"
      ]
     },
     "metadata": {},
     "output_type": "display_data"
    },
    {
     "data": {
      "text/latex": [
       "$\\displaystyle y_e = y_64 + hF_{1,64} = 0.7560653 + (0.01)(-0.0695202) = 0.7553701\n",
       "$"
      ],
      "text/plain": [
       "<IPython.core.display.Math object>"
      ]
     },
     "metadata": {},
     "output_type": "display_data"
    },
    {
     "data": {
      "text/latex": [
       "$\\displaystyle F_{2,64} = f(x_65, y_e) = f(0.65, 0.7553701) = -0.0628945$"
      ],
      "text/plain": [
       "<IPython.core.display.Math object>"
      ]
     },
     "metadata": {},
     "output_type": "display_data"
    },
    {
     "data": {
      "text/latex": [
       "$\\displaystyle y_65 = y_64 + \\frac{1}{2}h(F_{1,64} + F_{2,64}) = 0.7560653 + \\frac{1}{2}(0.01)(-0.0695202 + -0.0628945) = 0.7554032$"
      ],
      "text/plain": [
       "<IPython.core.display.Math object>"
      ]
     },
     "metadata": {},
     "output_type": "display_data"
    },
    {
     "data": {
      "text/latex": [
       "$\\displaystyle Approximation\\ to\\ y(x_65 = 0.65) = 0.7554032$"
      ],
      "text/plain": [
       "<IPython.core.display.Math object>"
      ]
     },
     "metadata": {},
     "output_type": "display_data"
    },
    {
     "name": "stdout",
     "output_type": "stream",
     "text": [
      "____________________________________________\n"
     ]
    },
    {
     "data": {
      "text/latex": [
       "$\\displaystyle Set\\ r=65,$"
      ],
      "text/plain": [
       "<IPython.core.display.Math object>"
      ]
     },
     "metadata": {},
     "output_type": "display_data"
    },
    {
     "data": {
      "text/latex": [
       "$\\displaystyle x_65 = 0.65, y_65 = 0.7554032$"
      ],
      "text/plain": [
       "<IPython.core.display.Math object>"
      ]
     },
     "metadata": {},
     "output_type": "display_data"
    },
    {
     "data": {
      "text/latex": [
       "$\\displaystyle F_{1,65} = f(x_65, y_65) = f(0.65, 0.7554032) = -0.0629136$"
      ],
      "text/plain": [
       "<IPython.core.display.Math object>"
      ]
     },
     "metadata": {},
     "output_type": "display_data"
    },
    {
     "data": {
      "text/latex": [
       "$\\displaystyle x_66 = x_65 + h = 0.65 + 0.01 = 0.66$"
      ],
      "text/plain": [
       "<IPython.core.display.Math object>"
      ]
     },
     "metadata": {},
     "output_type": "display_data"
    },
    {
     "data": {
      "text/latex": [
       "$\\displaystyle y_e = y_65 + hF_{1,65} = 0.7554032 + (0.01)(-0.0629136) = 0.7547741\n",
       "$"
      ],
      "text/plain": [
       "<IPython.core.display.Math object>"
      ]
     },
     "metadata": {},
     "output_type": "display_data"
    },
    {
     "data": {
      "text/latex": [
       "$\\displaystyle F_{2,65} = f(x_66, y_e) = f(0.66, 0.7547741) = -0.0563735$"
      ],
      "text/plain": [
       "<IPython.core.display.Math object>"
      ]
     },
     "metadata": {},
     "output_type": "display_data"
    },
    {
     "data": {
      "text/latex": [
       "$\\displaystyle y_66 = y_65 + \\frac{1}{2}h(F_{1,65} + F_{2,65}) = 0.7554032 + \\frac{1}{2}(0.01)(-0.0629136 + -0.0563735) = 0.7548068$"
      ],
      "text/plain": [
       "<IPython.core.display.Math object>"
      ]
     },
     "metadata": {},
     "output_type": "display_data"
    },
    {
     "data": {
      "text/latex": [
       "$\\displaystyle Approximation\\ to\\ y(x_66 = 0.66) = 0.7548068$"
      ],
      "text/plain": [
       "<IPython.core.display.Math object>"
      ]
     },
     "metadata": {},
     "output_type": "display_data"
    },
    {
     "name": "stdout",
     "output_type": "stream",
     "text": [
      "____________________________________________\n"
     ]
    },
    {
     "data": {
      "text/latex": [
       "$\\displaystyle Set\\ r=66,$"
      ],
      "text/plain": [
       "<IPython.core.display.Math object>"
      ]
     },
     "metadata": {},
     "output_type": "display_data"
    },
    {
     "data": {
      "text/latex": [
       "$\\displaystyle x_66 = 0.66, y_66 = 0.7548068$"
      ],
      "text/plain": [
       "<IPython.core.display.Math object>"
      ]
     },
     "metadata": {},
     "output_type": "display_data"
    },
    {
     "data": {
      "text/latex": [
       "$\\displaystyle F_{1,66} = f(x_66, y_66) = f(0.66, 0.7548068) = -0.0563923$"
      ],
      "text/plain": [
       "<IPython.core.display.Math object>"
      ]
     },
     "metadata": {},
     "output_type": "display_data"
    },
    {
     "data": {
      "text/latex": [
       "$\\displaystyle x_67 = x_66 + h = 0.66 + 0.01 = 0.67$"
      ],
      "text/plain": [
       "<IPython.core.display.Math object>"
      ]
     },
     "metadata": {},
     "output_type": "display_data"
    },
    {
     "data": {
      "text/latex": [
       "$\\displaystyle y_e = y_66 + hF_{1,66} = 0.7548068 + (0.01)(-0.0563923) = 0.7542429\n",
       "$"
      ],
      "text/plain": [
       "<IPython.core.display.Math object>"
      ]
     },
     "metadata": {},
     "output_type": "display_data"
    },
    {
     "data": {
      "text/latex": [
       "$\\displaystyle F_{2,66} = f(x_67, y_e) = f(0.67, 0.7542429) = -0.0499363$"
      ],
      "text/plain": [
       "<IPython.core.display.Math object>"
      ]
     },
     "metadata": {},
     "output_type": "display_data"
    },
    {
     "data": {
      "text/latex": [
       "$\\displaystyle y_67 = y_66 + \\frac{1}{2}h(F_{1,66} + F_{2,66}) = 0.7548068 + \\frac{1}{2}(0.01)(-0.0563923 + -0.0499363) = 0.7542752$"
      ],
      "text/plain": [
       "<IPython.core.display.Math object>"
      ]
     },
     "metadata": {},
     "output_type": "display_data"
    },
    {
     "data": {
      "text/latex": [
       "$\\displaystyle Approximation\\ to\\ y(x_67 = 0.67) = 0.7542752$"
      ],
      "text/plain": [
       "<IPython.core.display.Math object>"
      ]
     },
     "metadata": {},
     "output_type": "display_data"
    },
    {
     "name": "stdout",
     "output_type": "stream",
     "text": [
      "____________________________________________\n"
     ]
    },
    {
     "data": {
      "text/latex": [
       "$\\displaystyle Set\\ r=67,$"
      ],
      "text/plain": [
       "<IPython.core.display.Math object>"
      ]
     },
     "metadata": {},
     "output_type": "display_data"
    },
    {
     "data": {
      "text/latex": [
       "$\\displaystyle x_67 = 0.67, y_67 = 0.7542752$"
      ],
      "text/plain": [
       "<IPython.core.display.Math object>"
      ]
     },
     "metadata": {},
     "output_type": "display_data"
    },
    {
     "data": {
      "text/latex": [
       "$\\displaystyle F_{1,67} = f(x_67, y_67) = f(0.67, 0.7542752) = -0.0499549$"
      ],
      "text/plain": [
       "<IPython.core.display.Math object>"
      ]
     },
     "metadata": {},
     "output_type": "display_data"
    },
    {
     "data": {
      "text/latex": [
       "$\\displaystyle x_68 = x_67 + h = 0.67 + 0.01 = 0.68$"
      ],
      "text/plain": [
       "<IPython.core.display.Math object>"
      ]
     },
     "metadata": {},
     "output_type": "display_data"
    },
    {
     "data": {
      "text/latex": [
       "$\\displaystyle y_e = y_67 + hF_{1,67} = 0.7542752 + (0.01)(-0.0499549) = 0.7537757\n",
       "$"
      ],
      "text/plain": [
       "<IPython.core.display.Math object>"
      ]
     },
     "metadata": {},
     "output_type": "display_data"
    },
    {
     "data": {
      "text/latex": [
       "$\\displaystyle F_{2,67} = f(x_68, y_e) = f(0.68, 0.7537757) = -0.0435814$"
      ],
      "text/plain": [
       "<IPython.core.display.Math object>"
      ]
     },
     "metadata": {},
     "output_type": "display_data"
    },
    {
     "data": {
      "text/latex": [
       "$\\displaystyle y_68 = y_67 + \\frac{1}{2}h(F_{1,67} + F_{2,67}) = 0.7542752 + \\frac{1}{2}(0.01)(-0.0499549 + -0.0435814) = 0.7538075$"
      ],
      "text/plain": [
       "<IPython.core.display.Math object>"
      ]
     },
     "metadata": {},
     "output_type": "display_data"
    },
    {
     "data": {
      "text/latex": [
       "$\\displaystyle Approximation\\ to\\ y(x_68 = 0.68) = 0.7538075$"
      ],
      "text/plain": [
       "<IPython.core.display.Math object>"
      ]
     },
     "metadata": {},
     "output_type": "display_data"
    },
    {
     "name": "stdout",
     "output_type": "stream",
     "text": [
      "____________________________________________\n"
     ]
    },
    {
     "data": {
      "text/latex": [
       "$\\displaystyle Set\\ r=68,$"
      ],
      "text/plain": [
       "<IPython.core.display.Math object>"
      ]
     },
     "metadata": {},
     "output_type": "display_data"
    },
    {
     "data": {
      "text/latex": [
       "$\\displaystyle x_68 = 0.68, y_68 = 0.7538075$"
      ],
      "text/plain": [
       "<IPython.core.display.Math object>"
      ]
     },
     "metadata": {},
     "output_type": "display_data"
    },
    {
     "data": {
      "text/latex": [
       "$\\displaystyle F_{1,68} = f(x_68, y_68) = f(0.68, 0.7538075) = -0.0435998$"
      ],
      "text/plain": [
       "<IPython.core.display.Math object>"
      ]
     },
     "metadata": {},
     "output_type": "display_data"
    },
    {
     "data": {
      "text/latex": [
       "$\\displaystyle x_69 = x_68 + h = 0.68 + 0.01 = 0.69$"
      ],
      "text/plain": [
       "<IPython.core.display.Math object>"
      ]
     },
     "metadata": {},
     "output_type": "display_data"
    },
    {
     "data": {
      "text/latex": [
       "$\\displaystyle y_e = y_68 + hF_{1,68} = 0.7538075 + (0.01)(-0.0435998) = 0.7533715\n",
       "$"
      ],
      "text/plain": [
       "<IPython.core.display.Math object>"
      ]
     },
     "metadata": {},
     "output_type": "display_data"
    },
    {
     "data": {
      "text/latex": [
       "$\\displaystyle F_{2,68} = f(x_69, y_e) = f(0.69, 0.7533715) = -0.0373074$"
      ],
      "text/plain": [
       "<IPython.core.display.Math object>"
      ]
     },
     "metadata": {},
     "output_type": "display_data"
    },
    {
     "data": {
      "text/latex": [
       "$\\displaystyle y_69 = y_68 + \\frac{1}{2}h(F_{1,68} + F_{2,68}) = 0.7538075 + \\frac{1}{2}(0.01)(-0.0435998 + -0.0373074) = 0.7534030$"
      ],
      "text/plain": [
       "<IPython.core.display.Math object>"
      ]
     },
     "metadata": {},
     "output_type": "display_data"
    },
    {
     "data": {
      "text/latex": [
       "$\\displaystyle Approximation\\ to\\ y(x_69 = 0.69) = 0.7534030$"
      ],
      "text/plain": [
       "<IPython.core.display.Math object>"
      ]
     },
     "metadata": {},
     "output_type": "display_data"
    },
    {
     "name": "stdout",
     "output_type": "stream",
     "text": [
      "____________________________________________\n"
     ]
    },
    {
     "data": {
      "text/latex": [
       "$\\displaystyle Set\\ r=69,$"
      ],
      "text/plain": [
       "<IPython.core.display.Math object>"
      ]
     },
     "metadata": {},
     "output_type": "display_data"
    },
    {
     "data": {
      "text/latex": [
       "$\\displaystyle x_69 = 0.69, y_69 = 0.7534030$"
      ],
      "text/plain": [
       "<IPython.core.display.Math object>"
      ]
     },
     "metadata": {},
     "output_type": "display_data"
    },
    {
     "data": {
      "text/latex": [
       "$\\displaystyle F_{1,69} = f(x_69, y_69) = f(0.69, 0.7534030) = -0.0373255$"
      ],
      "text/plain": [
       "<IPython.core.display.Math object>"
      ]
     },
     "metadata": {},
     "output_type": "display_data"
    },
    {
     "data": {
      "text/latex": [
       "$\\displaystyle x_70 = x_69 + h = 0.69 + 0.01 = 0.7$"
      ],
      "text/plain": [
       "<IPython.core.display.Math object>"
      ]
     },
     "metadata": {},
     "output_type": "display_data"
    },
    {
     "data": {
      "text/latex": [
       "$\\displaystyle y_e = y_69 + hF_{1,69} = 0.7534030 + (0.01)(-0.0373255) = 0.7530297\n",
       "$"
      ],
      "text/plain": [
       "<IPython.core.display.Math object>"
      ]
     },
     "metadata": {},
     "output_type": "display_data"
    },
    {
     "data": {
      "text/latex": [
       "$\\displaystyle F_{2,69} = f(x_70, y_e) = f(0.7, 0.7530297) = -0.0311128$"
      ],
      "text/plain": [
       "<IPython.core.display.Math object>"
      ]
     },
     "metadata": {},
     "output_type": "display_data"
    },
    {
     "data": {
      "text/latex": [
       "$\\displaystyle y_70 = y_69 + \\frac{1}{2}h(F_{1,69} + F_{2,69}) = 0.7534030 + \\frac{1}{2}(0.01)(-0.0373255 + -0.0311128) = 0.7530608$"
      ],
      "text/plain": [
       "<IPython.core.display.Math object>"
      ]
     },
     "metadata": {},
     "output_type": "display_data"
    },
    {
     "data": {
      "text/latex": [
       "$\\displaystyle Approximation\\ to\\ y(x_70 = 0.7) = 0.7530608$"
      ],
      "text/plain": [
       "<IPython.core.display.Math object>"
      ]
     },
     "metadata": {},
     "output_type": "display_data"
    },
    {
     "name": "stdout",
     "output_type": "stream",
     "text": [
      "____________________________________________\n"
     ]
    },
    {
     "data": {
      "text/latex": [
       "$\\displaystyle Set\\ r=70,$"
      ],
      "text/plain": [
       "<IPython.core.display.Math object>"
      ]
     },
     "metadata": {},
     "output_type": "display_data"
    },
    {
     "data": {
      "text/latex": [
       "$\\displaystyle x_70 = 0.7, y_70 = 0.7530608$"
      ],
      "text/plain": [
       "<IPython.core.display.Math object>"
      ]
     },
     "metadata": {},
     "output_type": "display_data"
    },
    {
     "data": {
      "text/latex": [
       "$\\displaystyle F_{1,70} = f(x_70, y_70) = f(0.7, 0.7530608) = -0.0311307$"
      ],
      "text/plain": [
       "<IPython.core.display.Math object>"
      ]
     },
     "metadata": {},
     "output_type": "display_data"
    },
    {
     "data": {
      "text/latex": [
       "$\\displaystyle x_71 = x_70 + h = 0.7 + 0.01 = 0.71$"
      ],
      "text/plain": [
       "<IPython.core.display.Math object>"
      ]
     },
     "metadata": {},
     "output_type": "display_data"
    },
    {
     "data": {
      "text/latex": [
       "$\\displaystyle y_e = y_70 + hF_{1,70} = 0.7530608 + (0.01)(-0.0311307) = 0.7527495\n",
       "$"
      ],
      "text/plain": [
       "<IPython.core.display.Math object>"
      ]
     },
     "metadata": {},
     "output_type": "display_data"
    },
    {
     "data": {
      "text/latex": [
       "$\\displaystyle F_{2,70} = f(x_71, y_e) = f(0.71, 0.7527495) = -0.0249964$"
      ],
      "text/plain": [
       "<IPython.core.display.Math object>"
      ]
     },
     "metadata": {},
     "output_type": "display_data"
    },
    {
     "data": {
      "text/latex": [
       "$\\displaystyle y_71 = y_70 + \\frac{1}{2}h(F_{1,70} + F_{2,70}) = 0.7530608 + \\frac{1}{2}(0.01)(-0.0311307 + -0.0249964) = 0.7527802$"
      ],
      "text/plain": [
       "<IPython.core.display.Math object>"
      ]
     },
     "metadata": {},
     "output_type": "display_data"
    },
    {
     "data": {
      "text/latex": [
       "$\\displaystyle Approximation\\ to\\ y(x_71 = 0.71) = 0.7527802$"
      ],
      "text/plain": [
       "<IPython.core.display.Math object>"
      ]
     },
     "metadata": {},
     "output_type": "display_data"
    },
    {
     "name": "stdout",
     "output_type": "stream",
     "text": [
      "____________________________________________\n"
     ]
    },
    {
     "data": {
      "text/latex": [
       "$\\displaystyle Set\\ r=71,$"
      ],
      "text/plain": [
       "<IPython.core.display.Math object>"
      ]
     },
     "metadata": {},
     "output_type": "display_data"
    },
    {
     "data": {
      "text/latex": [
       "$\\displaystyle x_71 = 0.71, y_71 = 0.7527802$"
      ],
      "text/plain": [
       "<IPython.core.display.Math object>"
      ]
     },
     "metadata": {},
     "output_type": "display_data"
    },
    {
     "data": {
      "text/latex": [
       "$\\displaystyle F_{1,71} = f(x_71, y_71) = f(0.71, 0.7527802) = -0.0250141$"
      ],
      "text/plain": [
       "<IPython.core.display.Math object>"
      ]
     },
     "metadata": {},
     "output_type": "display_data"
    },
    {
     "data": {
      "text/latex": [
       "$\\displaystyle x_72 = x_71 + h = 0.71 + 0.01 = 0.72$"
      ],
      "text/plain": [
       "<IPython.core.display.Math object>"
      ]
     },
     "metadata": {},
     "output_type": "display_data"
    },
    {
     "data": {
      "text/latex": [
       "$\\displaystyle y_e = y_71 + hF_{1,71} = 0.7527802 + (0.01)(-0.0250141) = 0.7525301\n",
       "$"
      ],
      "text/plain": [
       "<IPython.core.display.Math object>"
      ]
     },
     "metadata": {},
     "output_type": "display_data"
    },
    {
     "data": {
      "text/latex": [
       "$\\displaystyle F_{2,71} = f(x_72, y_e) = f(0.72, 0.7525301) = -0.0189568$"
      ],
      "text/plain": [
       "<IPython.core.display.Math object>"
      ]
     },
     "metadata": {},
     "output_type": "display_data"
    },
    {
     "data": {
      "text/latex": [
       "$\\displaystyle y_72 = y_71 + \\frac{1}{2}h(F_{1,71} + F_{2,71}) = 0.7527802 + \\frac{1}{2}(0.01)(-0.0250141 + -0.0189568) = 0.7525603$"
      ],
      "text/plain": [
       "<IPython.core.display.Math object>"
      ]
     },
     "metadata": {},
     "output_type": "display_data"
    },
    {
     "data": {
      "text/latex": [
       "$\\displaystyle Approximation\\ to\\ y(x_72 = 0.72) = 0.7525603$"
      ],
      "text/plain": [
       "<IPython.core.display.Math object>"
      ]
     },
     "metadata": {},
     "output_type": "display_data"
    },
    {
     "name": "stdout",
     "output_type": "stream",
     "text": [
      "____________________________________________\n"
     ]
    },
    {
     "data": {
      "text/latex": [
       "$\\displaystyle Set\\ r=72,$"
      ],
      "text/plain": [
       "<IPython.core.display.Math object>"
      ]
     },
     "metadata": {},
     "output_type": "display_data"
    },
    {
     "data": {
      "text/latex": [
       "$\\displaystyle x_72 = 0.72, y_72 = 0.7525603$"
      ],
      "text/plain": [
       "<IPython.core.display.Math object>"
      ]
     },
     "metadata": {},
     "output_type": "display_data"
    },
    {
     "data": {
      "text/latex": [
       "$\\displaystyle F_{1,72} = f(x_72, y_72) = f(0.72, 0.7525603) = -0.0189742$"
      ],
      "text/plain": [
       "<IPython.core.display.Math object>"
      ]
     },
     "metadata": {},
     "output_type": "display_data"
    },
    {
     "data": {
      "text/latex": [
       "$\\displaystyle x_73 = x_72 + h = 0.72 + 0.01 = 0.73$"
      ],
      "text/plain": [
       "<IPython.core.display.Math object>"
      ]
     },
     "metadata": {},
     "output_type": "display_data"
    },
    {
     "data": {
      "text/latex": [
       "$\\displaystyle y_e = y_72 + hF_{1,72} = 0.7525603 + (0.01)(-0.0189742) = 0.7523706\n",
       "$"
      ],
      "text/plain": [
       "<IPython.core.display.Math object>"
      ]
     },
     "metadata": {},
     "output_type": "display_data"
    },
    {
     "data": {
      "text/latex": [
       "$\\displaystyle F_{2,72} = f(x_73, y_e) = f(0.73, 0.7523706) = -0.0129926$"
      ],
      "text/plain": [
       "<IPython.core.display.Math object>"
      ]
     },
     "metadata": {},
     "output_type": "display_data"
    },
    {
     "data": {
      "text/latex": [
       "$\\displaystyle y_73 = y_72 + \\frac{1}{2}h(F_{1,72} + F_{2,72}) = 0.7525603 + \\frac{1}{2}(0.01)(-0.0189742 + -0.0129926) = 0.7524005$"
      ],
      "text/plain": [
       "<IPython.core.display.Math object>"
      ]
     },
     "metadata": {},
     "output_type": "display_data"
    },
    {
     "data": {
      "text/latex": [
       "$\\displaystyle Approximation\\ to\\ y(x_73 = 0.73) = 0.7524005$"
      ],
      "text/plain": [
       "<IPython.core.display.Math object>"
      ]
     },
     "metadata": {},
     "output_type": "display_data"
    },
    {
     "name": "stdout",
     "output_type": "stream",
     "text": [
      "____________________________________________\n"
     ]
    },
    {
     "data": {
      "text/latex": [
       "$\\displaystyle Set\\ r=73,$"
      ],
      "text/plain": [
       "<IPython.core.display.Math object>"
      ]
     },
     "metadata": {},
     "output_type": "display_data"
    },
    {
     "data": {
      "text/latex": [
       "$\\displaystyle x_73 = 0.73, y_73 = 0.7524005$"
      ],
      "text/plain": [
       "<IPython.core.display.Math object>"
      ]
     },
     "metadata": {},
     "output_type": "display_data"
    },
    {
     "data": {
      "text/latex": [
       "$\\displaystyle F_{1,73} = f(x_73, y_73) = f(0.73, 0.7524005) = -0.0130099$"
      ],
      "text/plain": [
       "<IPython.core.display.Math object>"
      ]
     },
     "metadata": {},
     "output_type": "display_data"
    },
    {
     "data": {
      "text/latex": [
       "$\\displaystyle x_74 = x_73 + h = 0.73 + 0.01 = 0.74$"
      ],
      "text/plain": [
       "<IPython.core.display.Math object>"
      ]
     },
     "metadata": {},
     "output_type": "display_data"
    },
    {
     "data": {
      "text/latex": [
       "$\\displaystyle y_e = y_73 + hF_{1,73} = 0.7524005 + (0.01)(-0.0130099) = 0.7522704\n",
       "$"
      ],
      "text/plain": [
       "<IPython.core.display.Math object>"
      ]
     },
     "metadata": {},
     "output_type": "display_data"
    },
    {
     "data": {
      "text/latex": [
       "$\\displaystyle F_{2,73} = f(x_74, y_e) = f(0.74, 0.7522704) = -0.0071027$"
      ],
      "text/plain": [
       "<IPython.core.display.Math object>"
      ]
     },
     "metadata": {},
     "output_type": "display_data"
    },
    {
     "data": {
      "text/latex": [
       "$\\displaystyle y_74 = y_73 + \\frac{1}{2}h(F_{1,73} + F_{2,73}) = 0.7524005 + \\frac{1}{2}(0.01)(-0.0130099 + -0.0071027) = 0.7522999$"
      ],
      "text/plain": [
       "<IPython.core.display.Math object>"
      ]
     },
     "metadata": {},
     "output_type": "display_data"
    },
    {
     "data": {
      "text/latex": [
       "$\\displaystyle Approximation\\ to\\ y(x_74 = 0.74) = 0.7522999$"
      ],
      "text/plain": [
       "<IPython.core.display.Math object>"
      ]
     },
     "metadata": {},
     "output_type": "display_data"
    },
    {
     "name": "stdout",
     "output_type": "stream",
     "text": [
      "____________________________________________\n"
     ]
    },
    {
     "data": {
      "text/latex": [
       "$\\displaystyle Set\\ r=74,$"
      ],
      "text/plain": [
       "<IPython.core.display.Math object>"
      ]
     },
     "metadata": {},
     "output_type": "display_data"
    },
    {
     "data": {
      "text/latex": [
       "$\\displaystyle x_74 = 0.74, y_74 = 0.7522999$"
      ],
      "text/plain": [
       "<IPython.core.display.Math object>"
      ]
     },
     "metadata": {},
     "output_type": "display_data"
    },
    {
     "data": {
      "text/latex": [
       "$\\displaystyle F_{1,74} = f(x_74, y_74) = f(0.74, 0.7522999) = -0.0071197$"
      ],
      "text/plain": [
       "<IPython.core.display.Math object>"
      ]
     },
     "metadata": {},
     "output_type": "display_data"
    },
    {
     "data": {
      "text/latex": [
       "$\\displaystyle x_75 = x_74 + h = 0.74 + 0.01 = 0.75$"
      ],
      "text/plain": [
       "<IPython.core.display.Math object>"
      ]
     },
     "metadata": {},
     "output_type": "display_data"
    },
    {
     "data": {
      "text/latex": [
       "$\\displaystyle y_e = y_74 + hF_{1,74} = 0.7522999 + (0.01)(-0.0071197) = 0.7522287\n",
       "$"
      ],
      "text/plain": [
       "<IPython.core.display.Math object>"
      ]
     },
     "metadata": {},
     "output_type": "display_data"
    },
    {
     "data": {
      "text/latex": [
       "$\\displaystyle F_{2,74} = f(x_75, y_e) = f(0.75, 0.7522287) = -0.0012858$"
      ],
      "text/plain": [
       "<IPython.core.display.Math object>"
      ]
     },
     "metadata": {},
     "output_type": "display_data"
    },
    {
     "data": {
      "text/latex": [
       "$\\displaystyle y_75 = y_74 + \\frac{1}{2}h(F_{1,74} + F_{2,74}) = 0.7522999 + \\frac{1}{2}(0.01)(-0.0071197 + -0.0012858) = 0.7522579$"
      ],
      "text/plain": [
       "<IPython.core.display.Math object>"
      ]
     },
     "metadata": {},
     "output_type": "display_data"
    },
    {
     "data": {
      "text/latex": [
       "$\\displaystyle Approximation\\ to\\ y(x_75 = 0.75) = 0.7522579$"
      ],
      "text/plain": [
       "<IPython.core.display.Math object>"
      ]
     },
     "metadata": {},
     "output_type": "display_data"
    },
    {
     "name": "stdout",
     "output_type": "stream",
     "text": [
      "____________________________________________\n"
     ]
    },
    {
     "data": {
      "text/latex": [
       "$\\displaystyle Set\\ r=75,$"
      ],
      "text/plain": [
       "<IPython.core.display.Math object>"
      ]
     },
     "metadata": {},
     "output_type": "display_data"
    },
    {
     "data": {
      "text/latex": [
       "$\\displaystyle x_75 = 0.75, y_75 = 0.7522579$"
      ],
      "text/plain": [
       "<IPython.core.display.Math object>"
      ]
     },
     "metadata": {},
     "output_type": "display_data"
    },
    {
     "data": {
      "text/latex": [
       "$\\displaystyle F_{1,75} = f(x_75, y_75) = f(0.75, 0.7522579) = -0.0013026$"
      ],
      "text/plain": [
       "<IPython.core.display.Math object>"
      ]
     },
     "metadata": {},
     "output_type": "display_data"
    },
    {
     "data": {
      "text/latex": [
       "$\\displaystyle x_76 = x_75 + h = 0.75 + 0.01 = 0.76$"
      ],
      "text/plain": [
       "<IPython.core.display.Math object>"
      ]
     },
     "metadata": {},
     "output_type": "display_data"
    },
    {
     "data": {
      "text/latex": [
       "$\\displaystyle y_e = y_75 + hF_{1,75} = 0.7522579 + (0.01)(-0.0013026) = 0.7522449\n",
       "$"
      ],
      "text/plain": [
       "<IPython.core.display.Math object>"
      ]
     },
     "metadata": {},
     "output_type": "display_data"
    },
    {
     "data": {
      "text/latex": [
       "$\\displaystyle F_{2,75} = f(x_76, y_e) = f(0.76, 0.7522449) = 0.0044593$"
      ],
      "text/plain": [
       "<IPython.core.display.Math object>"
      ]
     },
     "metadata": {},
     "output_type": "display_data"
    },
    {
     "data": {
      "text/latex": [
       "$\\displaystyle y_76 = y_75 + \\frac{1}{2}h(F_{1,75} + F_{2,75}) = 0.7522579 + \\frac{1}{2}(0.01)(-0.0013026 + 0.0044593) = 0.7522737$"
      ],
      "text/plain": [
       "<IPython.core.display.Math object>"
      ]
     },
     "metadata": {},
     "output_type": "display_data"
    },
    {
     "data": {
      "text/latex": [
       "$\\displaystyle Approximation\\ to\\ y(x_76 = 0.76) = 0.7522737$"
      ],
      "text/plain": [
       "<IPython.core.display.Math object>"
      ]
     },
     "metadata": {},
     "output_type": "display_data"
    },
    {
     "name": "stdout",
     "output_type": "stream",
     "text": [
      "____________________________________________\n"
     ]
    },
    {
     "data": {
      "text/latex": [
       "$\\displaystyle Set\\ r=76,$"
      ],
      "text/plain": [
       "<IPython.core.display.Math object>"
      ]
     },
     "metadata": {},
     "output_type": "display_data"
    },
    {
     "data": {
      "text/latex": [
       "$\\displaystyle x_76 = 0.76, y_76 = 0.7522737$"
      ],
      "text/plain": [
       "<IPython.core.display.Math object>"
      ]
     },
     "metadata": {},
     "output_type": "display_data"
    },
    {
     "data": {
      "text/latex": [
       "$\\displaystyle F_{1,76} = f(x_76, y_76) = f(0.76, 0.7522737) = 0.0044427$"
      ],
      "text/plain": [
       "<IPython.core.display.Math object>"
      ]
     },
     "metadata": {},
     "output_type": "display_data"
    },
    {
     "data": {
      "text/latex": [
       "$\\displaystyle x_77 = x_76 + h = 0.76 + 0.01 = 0.77$"
      ],
      "text/plain": [
       "<IPython.core.display.Math object>"
      ]
     },
     "metadata": {},
     "output_type": "display_data"
    },
    {
     "data": {
      "text/latex": [
       "$\\displaystyle y_e = y_76 + hF_{1,76} = 0.7522737 + (0.01)(0.0044427) = 0.7523181\n",
       "$"
      ],
      "text/plain": [
       "<IPython.core.display.Math object>"
      ]
     },
     "metadata": {},
     "output_type": "display_data"
    },
    {
     "data": {
      "text/latex": [
       "$\\displaystyle F_{2,76} = f(x_77, y_e) = f(0.77, 0.7523181) = 0.0101337$"
      ],
      "text/plain": [
       "<IPython.core.display.Math object>"
      ]
     },
     "metadata": {},
     "output_type": "display_data"
    },
    {
     "data": {
      "text/latex": [
       "$\\displaystyle y_77 = y_76 + \\frac{1}{2}h(F_{1,76} + F_{2,76}) = 0.7522737 + \\frac{1}{2}(0.01)(0.0044427 + 0.0101337) = 0.7523466$"
      ],
      "text/plain": [
       "<IPython.core.display.Math object>"
      ]
     },
     "metadata": {},
     "output_type": "display_data"
    },
    {
     "data": {
      "text/latex": [
       "$\\displaystyle Approximation\\ to\\ y(x_77 = 0.77) = 0.7523466$"
      ],
      "text/plain": [
       "<IPython.core.display.Math object>"
      ]
     },
     "metadata": {},
     "output_type": "display_data"
    },
    {
     "name": "stdout",
     "output_type": "stream",
     "text": [
      "____________________________________________\n"
     ]
    },
    {
     "data": {
      "text/latex": [
       "$\\displaystyle Set\\ r=77,$"
      ],
      "text/plain": [
       "<IPython.core.display.Math object>"
      ]
     },
     "metadata": {},
     "output_type": "display_data"
    },
    {
     "data": {
      "text/latex": [
       "$\\displaystyle x_77 = 0.77, y_77 = 0.7523466$"
      ],
      "text/plain": [
       "<IPython.core.display.Math object>"
      ]
     },
     "metadata": {},
     "output_type": "display_data"
    },
    {
     "data": {
      "text/latex": [
       "$\\displaystyle F_{1,77} = f(x_77, y_77) = f(0.77, 0.7523466) = 0.0101173$"
      ],
      "text/plain": [
       "<IPython.core.display.Math object>"
      ]
     },
     "metadata": {},
     "output_type": "display_data"
    },
    {
     "data": {
      "text/latex": [
       "$\\displaystyle x_78 = x_77 + h = 0.77 + 0.01 = 0.78$"
      ],
      "text/plain": [
       "<IPython.core.display.Math object>"
      ]
     },
     "metadata": {},
     "output_type": "display_data"
    },
    {
     "data": {
      "text/latex": [
       "$\\displaystyle y_e = y_77 + hF_{1,77} = 0.7523466 + (0.01)(0.0101173) = 0.7524478\n",
       "$"
      ],
      "text/plain": [
       "<IPython.core.display.Math object>"
      ]
     },
     "metadata": {},
     "output_type": "display_data"
    },
    {
     "data": {
      "text/latex": [
       "$\\displaystyle F_{2,77} = f(x_78, y_e) = f(0.78, 0.7524478) = 0.0157386$"
      ],
      "text/plain": [
       "<IPython.core.display.Math object>"
      ]
     },
     "metadata": {},
     "output_type": "display_data"
    },
    {
     "data": {
      "text/latex": [
       "$\\displaystyle y_78 = y_77 + \\frac{1}{2}h(F_{1,77} + F_{2,77}) = 0.7523466 + \\frac{1}{2}(0.01)(0.0101173 + 0.0157386) = 0.7524759$"
      ],
      "text/plain": [
       "<IPython.core.display.Math object>"
      ]
     },
     "metadata": {},
     "output_type": "display_data"
    },
    {
     "data": {
      "text/latex": [
       "$\\displaystyle Approximation\\ to\\ y(x_78 = 0.78) = 0.7524759$"
      ],
      "text/plain": [
       "<IPython.core.display.Math object>"
      ]
     },
     "metadata": {},
     "output_type": "display_data"
    },
    {
     "name": "stdout",
     "output_type": "stream",
     "text": [
      "____________________________________________\n"
     ]
    },
    {
     "data": {
      "text/latex": [
       "$\\displaystyle Set\\ r=78,$"
      ],
      "text/plain": [
       "<IPython.core.display.Math object>"
      ]
     },
     "metadata": {},
     "output_type": "display_data"
    },
    {
     "data": {
      "text/latex": [
       "$\\displaystyle x_78 = 0.78, y_78 = 0.7524759$"
      ],
      "text/plain": [
       "<IPython.core.display.Math object>"
      ]
     },
     "metadata": {},
     "output_type": "display_data"
    },
    {
     "data": {
      "text/latex": [
       "$\\displaystyle F_{1,78} = f(x_78, y_78) = f(0.78, 0.7524759) = 0.0157224$"
      ],
      "text/plain": [
       "<IPython.core.display.Math object>"
      ]
     },
     "metadata": {},
     "output_type": "display_data"
    },
    {
     "data": {
      "text/latex": [
       "$\\displaystyle x_79 = x_78 + h = 0.78 + 0.01 = 0.79$"
      ],
      "text/plain": [
       "<IPython.core.display.Math object>"
      ]
     },
     "metadata": {},
     "output_type": "display_data"
    },
    {
     "data": {
      "text/latex": [
       "$\\displaystyle y_e = y_78 + hF_{1,78} = 0.7524759 + (0.01)(0.0157224) = 0.7526331\n",
       "$"
      ],
      "text/plain": [
       "<IPython.core.display.Math object>"
      ]
     },
     "metadata": {},
     "output_type": "display_data"
    },
    {
     "data": {
      "text/latex": [
       "$\\displaystyle F_{2,78} = f(x_79, y_e) = f(0.79, 0.7526331) = 0.0212751$"
      ],
      "text/plain": [
       "<IPython.core.display.Math object>"
      ]
     },
     "metadata": {},
     "output_type": "display_data"
    },
    {
     "data": {
      "text/latex": [
       "$\\displaystyle y_79 = y_78 + \\frac{1}{2}h(F_{1,78} + F_{2,78}) = 0.7524759 + \\frac{1}{2}(0.01)(0.0157224 + 0.0212751) = 0.7526609$"
      ],
      "text/plain": [
       "<IPython.core.display.Math object>"
      ]
     },
     "metadata": {},
     "output_type": "display_data"
    },
    {
     "data": {
      "text/latex": [
       "$\\displaystyle Approximation\\ to\\ y(x_79 = 0.79) = 0.7526609$"
      ],
      "text/plain": [
       "<IPython.core.display.Math object>"
      ]
     },
     "metadata": {},
     "output_type": "display_data"
    },
    {
     "name": "stdout",
     "output_type": "stream",
     "text": [
      "____________________________________________\n"
     ]
    },
    {
     "data": {
      "text/latex": [
       "$\\displaystyle Set\\ r=79,$"
      ],
      "text/plain": [
       "<IPython.core.display.Math object>"
      ]
     },
     "metadata": {},
     "output_type": "display_data"
    },
    {
     "data": {
      "text/latex": [
       "$\\displaystyle x_79 = 0.79, y_79 = 0.7526609$"
      ],
      "text/plain": [
       "<IPython.core.display.Math object>"
      ]
     },
     "metadata": {},
     "output_type": "display_data"
    },
    {
     "data": {
      "text/latex": [
       "$\\displaystyle F_{1,79} = f(x_79, y_79) = f(0.79, 0.7526609) = 0.0212591$"
      ],
      "text/plain": [
       "<IPython.core.display.Math object>"
      ]
     },
     "metadata": {},
     "output_type": "display_data"
    },
    {
     "data": {
      "text/latex": [
       "$\\displaystyle x_80 = x_79 + h = 0.79 + 0.01 = 0.8$"
      ],
      "text/plain": [
       "<IPython.core.display.Math object>"
      ]
     },
     "metadata": {},
     "output_type": "display_data"
    },
    {
     "data": {
      "text/latex": [
       "$\\displaystyle y_e = y_79 + hF_{1,79} = 0.7526609 + (0.01)(0.0212591) = 0.7528735\n",
       "$"
      ],
      "text/plain": [
       "<IPython.core.display.Math object>"
      ]
     },
     "metadata": {},
     "output_type": "display_data"
    },
    {
     "data": {
      "text/latex": [
       "$\\displaystyle F_{2,79} = f(x_80, y_e) = f(0.8, 0.7528735) = 0.0267444$"
      ],
      "text/plain": [
       "<IPython.core.display.Math object>"
      ]
     },
     "metadata": {},
     "output_type": "display_data"
    },
    {
     "data": {
      "text/latex": [
       "$\\displaystyle y_80 = y_79 + \\frac{1}{2}h(F_{1,79} + F_{2,79}) = 0.7526609 + \\frac{1}{2}(0.01)(0.0212591 + 0.0267444) = 0.7529009$"
      ],
      "text/plain": [
       "<IPython.core.display.Math object>"
      ]
     },
     "metadata": {},
     "output_type": "display_data"
    },
    {
     "data": {
      "text/latex": [
       "$\\displaystyle Approximation\\ to\\ y(x_80 = 0.8) = 0.7529009$"
      ],
      "text/plain": [
       "<IPython.core.display.Math object>"
      ]
     },
     "metadata": {},
     "output_type": "display_data"
    },
    {
     "name": "stdout",
     "output_type": "stream",
     "text": [
      "____________________________________________\n"
     ]
    },
    {
     "data": {
      "text/latex": [
       "$\\displaystyle Set\\ r=80,$"
      ],
      "text/plain": [
       "<IPython.core.display.Math object>"
      ]
     },
     "metadata": {},
     "output_type": "display_data"
    },
    {
     "data": {
      "text/latex": [
       "$\\displaystyle x_80 = 0.8, y_80 = 0.7529009$"
      ],
      "text/plain": [
       "<IPython.core.display.Math object>"
      ]
     },
     "metadata": {},
     "output_type": "display_data"
    },
    {
     "data": {
      "text/latex": [
       "$\\displaystyle F_{1,80} = f(x_80, y_80) = f(0.8, 0.7529009) = 0.0267286$"
      ],
      "text/plain": [
       "<IPython.core.display.Math object>"
      ]
     },
     "metadata": {},
     "output_type": "display_data"
    },
    {
     "data": {
      "text/latex": [
       "$\\displaystyle x_81 = x_80 + h = 0.8 + 0.01 = 0.81$"
      ],
      "text/plain": [
       "<IPython.core.display.Math object>"
      ]
     },
     "metadata": {},
     "output_type": "display_data"
    },
    {
     "data": {
      "text/latex": [
       "$\\displaystyle y_e = y_80 + hF_{1,80} = 0.7529009 + (0.01)(0.0267286) = 0.7531682\n",
       "$"
      ],
      "text/plain": [
       "<IPython.core.display.Math object>"
      ]
     },
     "metadata": {},
     "output_type": "display_data"
    },
    {
     "data": {
      "text/latex": [
       "$\\displaystyle F_{2,80} = f(x_81, y_e) = f(0.81, 0.7531682) = 0.0321474$"
      ],
      "text/plain": [
       "<IPython.core.display.Math object>"
      ]
     },
     "metadata": {},
     "output_type": "display_data"
    },
    {
     "data": {
      "text/latex": [
       "$\\displaystyle y_81 = y_80 + \\frac{1}{2}h(F_{1,80} + F_{2,80}) = 0.7529009 + \\frac{1}{2}(0.01)(0.0267286 + 0.0321474) = 0.7531953$"
      ],
      "text/plain": [
       "<IPython.core.display.Math object>"
      ]
     },
     "metadata": {},
     "output_type": "display_data"
    },
    {
     "data": {
      "text/latex": [
       "$\\displaystyle Approximation\\ to\\ y(x_81 = 0.81) = 0.7531953$"
      ],
      "text/plain": [
       "<IPython.core.display.Math object>"
      ]
     },
     "metadata": {},
     "output_type": "display_data"
    },
    {
     "name": "stdout",
     "output_type": "stream",
     "text": [
      "____________________________________________\n"
     ]
    },
    {
     "data": {
      "text/latex": [
       "$\\displaystyle Set\\ r=81,$"
      ],
      "text/plain": [
       "<IPython.core.display.Math object>"
      ]
     },
     "metadata": {},
     "output_type": "display_data"
    },
    {
     "data": {
      "text/latex": [
       "$\\displaystyle x_81 = 0.81, y_81 = 0.7531953$"
      ],
      "text/plain": [
       "<IPython.core.display.Math object>"
      ]
     },
     "metadata": {},
     "output_type": "display_data"
    },
    {
     "data": {
      "text/latex": [
       "$\\displaystyle F_{1,81} = f(x_81, y_81) = f(0.81, 0.7531953) = 0.0321317$"
      ],
      "text/plain": [
       "<IPython.core.display.Math object>"
      ]
     },
     "metadata": {},
     "output_type": "display_data"
    },
    {
     "data": {
      "text/latex": [
       "$\\displaystyle x_82 = x_81 + h = 0.81 + 0.01 = 0.82$"
      ],
      "text/plain": [
       "<IPython.core.display.Math object>"
      ]
     },
     "metadata": {},
     "output_type": "display_data"
    },
    {
     "data": {
      "text/latex": [
       "$\\displaystyle y_e = y_81 + hF_{1,81} = 0.7531953 + (0.01)(0.0321317) = 0.7535166\n",
       "$"
      ],
      "text/plain": [
       "<IPython.core.display.Math object>"
      ]
     },
     "metadata": {},
     "output_type": "display_data"
    },
    {
     "data": {
      "text/latex": [
       "$\\displaystyle F_{2,81} = f(x_82, y_e) = f(0.82, 0.7535166) = 0.0374852$"
      ],
      "text/plain": [
       "<IPython.core.display.Math object>"
      ]
     },
     "metadata": {},
     "output_type": "display_data"
    },
    {
     "data": {
      "text/latex": [
       "$\\displaystyle y_82 = y_81 + \\frac{1}{2}h(F_{1,81} + F_{2,81}) = 0.7531953 + \\frac{1}{2}(0.01)(0.0321317 + 0.0374852) = 0.7535434$"
      ],
      "text/plain": [
       "<IPython.core.display.Math object>"
      ]
     },
     "metadata": {},
     "output_type": "display_data"
    },
    {
     "data": {
      "text/latex": [
       "$\\displaystyle Approximation\\ to\\ y(x_82 = 0.82) = 0.7535434$"
      ],
      "text/plain": [
       "<IPython.core.display.Math object>"
      ]
     },
     "metadata": {},
     "output_type": "display_data"
    },
    {
     "name": "stdout",
     "output_type": "stream",
     "text": [
      "____________________________________________\n"
     ]
    },
    {
     "data": {
      "text/latex": [
       "$\\displaystyle Set\\ r=82,$"
      ],
      "text/plain": [
       "<IPython.core.display.Math object>"
      ]
     },
     "metadata": {},
     "output_type": "display_data"
    },
    {
     "data": {
      "text/latex": [
       "$\\displaystyle x_82 = 0.82, y_82 = 0.7535434$"
      ],
      "text/plain": [
       "<IPython.core.display.Math object>"
      ]
     },
     "metadata": {},
     "output_type": "display_data"
    },
    {
     "data": {
      "text/latex": [
       "$\\displaystyle F_{1,82} = f(x_82, y_82) = f(0.82, 0.7535434) = 0.0374697$"
      ],
      "text/plain": [
       "<IPython.core.display.Math object>"
      ]
     },
     "metadata": {},
     "output_type": "display_data"
    },
    {
     "data": {
      "text/latex": [
       "$\\displaystyle x_83 = x_82 + h = 0.82 + 0.01 = 0.83$"
      ],
      "text/plain": [
       "<IPython.core.display.Math object>"
      ]
     },
     "metadata": {},
     "output_type": "display_data"
    },
    {
     "data": {
      "text/latex": [
       "$\\displaystyle y_e = y_82 + hF_{1,82} = 0.7535434 + (0.01)(0.0374697) = 0.7539181\n",
       "$"
      ],
      "text/plain": [
       "<IPython.core.display.Math object>"
      ]
     },
     "metadata": {},
     "output_type": "display_data"
    },
    {
     "data": {
      "text/latex": [
       "$\\displaystyle F_{2,82} = f(x_83, y_e) = f(0.83, 0.7539181) = 0.0427588$"
      ],
      "text/plain": [
       "<IPython.core.display.Math object>"
      ]
     },
     "metadata": {},
     "output_type": "display_data"
    },
    {
     "data": {
      "text/latex": [
       "$\\displaystyle y_83 = y_82 + \\frac{1}{2}h(F_{1,82} + F_{2,82}) = 0.7535434 + \\frac{1}{2}(0.01)(0.0374697 + 0.0427588) = 0.7539445$"
      ],
      "text/plain": [
       "<IPython.core.display.Math object>"
      ]
     },
     "metadata": {},
     "output_type": "display_data"
    },
    {
     "data": {
      "text/latex": [
       "$\\displaystyle Approximation\\ to\\ y(x_83 = 0.83) = 0.7539445$"
      ],
      "text/plain": [
       "<IPython.core.display.Math object>"
      ]
     },
     "metadata": {},
     "output_type": "display_data"
    },
    {
     "name": "stdout",
     "output_type": "stream",
     "text": [
      "____________________________________________\n"
     ]
    },
    {
     "data": {
      "text/latex": [
       "$\\displaystyle Set\\ r=83,$"
      ],
      "text/plain": [
       "<IPython.core.display.Math object>"
      ]
     },
     "metadata": {},
     "output_type": "display_data"
    },
    {
     "data": {
      "text/latex": [
       "$\\displaystyle x_83 = 0.83, y_83 = 0.7539445$"
      ],
      "text/plain": [
       "<IPython.core.display.Math object>"
      ]
     },
     "metadata": {},
     "output_type": "display_data"
    },
    {
     "data": {
      "text/latex": [
       "$\\displaystyle F_{1,83} = f(x_83, y_83) = f(0.83, 0.7539445) = 0.0427436$"
      ],
      "text/plain": [
       "<IPython.core.display.Math object>"
      ]
     },
     "metadata": {},
     "output_type": "display_data"
    },
    {
     "data": {
      "text/latex": [
       "$\\displaystyle x_84 = x_83 + h = 0.83 + 0.01 = 0.84$"
      ],
      "text/plain": [
       "<IPython.core.display.Math object>"
      ]
     },
     "metadata": {},
     "output_type": "display_data"
    },
    {
     "data": {
      "text/latex": [
       "$\\displaystyle y_e = y_83 + hF_{1,83} = 0.7539445 + (0.01)(0.0427436) = 0.7543719\n",
       "$"
      ],
      "text/plain": [
       "<IPython.core.display.Math object>"
      ]
     },
     "metadata": {},
     "output_type": "display_data"
    },
    {
     "data": {
      "text/latex": [
       "$\\displaystyle F_{2,83} = f(x_84, y_e) = f(0.84, 0.7543719) = 0.0479693$"
      ],
      "text/plain": [
       "<IPython.core.display.Math object>"
      ]
     },
     "metadata": {},
     "output_type": "display_data"
    },
    {
     "data": {
      "text/latex": [
       "$\\displaystyle y_84 = y_83 + \\frac{1}{2}h(F_{1,83} + F_{2,83}) = 0.7539445 + \\frac{1}{2}(0.01)(0.0427436 + 0.0479693) = 0.7543981$"
      ],
      "text/plain": [
       "<IPython.core.display.Math object>"
      ]
     },
     "metadata": {},
     "output_type": "display_data"
    },
    {
     "data": {
      "text/latex": [
       "$\\displaystyle Approximation\\ to\\ y(x_84 = 0.84) = 0.7543981$"
      ],
      "text/plain": [
       "<IPython.core.display.Math object>"
      ]
     },
     "metadata": {},
     "output_type": "display_data"
    },
    {
     "name": "stdout",
     "output_type": "stream",
     "text": [
      "____________________________________________\n"
     ]
    },
    {
     "data": {
      "text/latex": [
       "$\\displaystyle Set\\ r=84,$"
      ],
      "text/plain": [
       "<IPython.core.display.Math object>"
      ]
     },
     "metadata": {},
     "output_type": "display_data"
    },
    {
     "data": {
      "text/latex": [
       "$\\displaystyle x_84 = 0.84, y_84 = 0.7543981$"
      ],
      "text/plain": [
       "<IPython.core.display.Math object>"
      ]
     },
     "metadata": {},
     "output_type": "display_data"
    },
    {
     "data": {
      "text/latex": [
       "$\\displaystyle F_{1,84} = f(x_84, y_84) = f(0.84, 0.7543981) = 0.0479542$"
      ],
      "text/plain": [
       "<IPython.core.display.Math object>"
      ]
     },
     "metadata": {},
     "output_type": "display_data"
    },
    {
     "data": {
      "text/latex": [
       "$\\displaystyle x_85 = x_84 + h = 0.84 + 0.01 = 0.85$"
      ],
      "text/plain": [
       "<IPython.core.display.Math object>"
      ]
     },
     "metadata": {},
     "output_type": "display_data"
    },
    {
     "data": {
      "text/latex": [
       "$\\displaystyle y_e = y_84 + hF_{1,84} = 0.7543981 + (0.01)(0.0479542) = 0.7548776\n",
       "$"
      ],
      "text/plain": [
       "<IPython.core.display.Math object>"
      ]
     },
     "metadata": {},
     "output_type": "display_data"
    },
    {
     "data": {
      "text/latex": [
       "$\\displaystyle F_{2,84} = f(x_85, y_e) = f(0.85, 0.7548776) = 0.0531175$"
      ],
      "text/plain": [
       "<IPython.core.display.Math object>"
      ]
     },
     "metadata": {},
     "output_type": "display_data"
    },
    {
     "data": {
      "text/latex": [
       "$\\displaystyle y_85 = y_84 + \\frac{1}{2}h(F_{1,84} + F_{2,84}) = 0.7543981 + \\frac{1}{2}(0.01)(0.0479542 + 0.0531175) = 0.7549035$"
      ],
      "text/plain": [
       "<IPython.core.display.Math object>"
      ]
     },
     "metadata": {},
     "output_type": "display_data"
    },
    {
     "data": {
      "text/latex": [
       "$\\displaystyle Approximation\\ to\\ y(x_85 = 0.85) = 0.7549035$"
      ],
      "text/plain": [
       "<IPython.core.display.Math object>"
      ]
     },
     "metadata": {},
     "output_type": "display_data"
    },
    {
     "name": "stdout",
     "output_type": "stream",
     "text": [
      "____________________________________________\n"
     ]
    },
    {
     "data": {
      "text/latex": [
       "$\\displaystyle Set\\ r=85,$"
      ],
      "text/plain": [
       "<IPython.core.display.Math object>"
      ]
     },
     "metadata": {},
     "output_type": "display_data"
    },
    {
     "data": {
      "text/latex": [
       "$\\displaystyle x_85 = 0.85, y_85 = 0.7549035$"
      ],
      "text/plain": [
       "<IPython.core.display.Math object>"
      ]
     },
     "metadata": {},
     "output_type": "display_data"
    },
    {
     "data": {
      "text/latex": [
       "$\\displaystyle F_{1,85} = f(x_85, y_85) = f(0.85, 0.7549035) = 0.0531026$"
      ],
      "text/plain": [
       "<IPython.core.display.Math object>"
      ]
     },
     "metadata": {},
     "output_type": "display_data"
    },
    {
     "data": {
      "text/latex": [
       "$\\displaystyle x_86 = x_85 + h = 0.85 + 0.01 = 0.86$"
      ],
      "text/plain": [
       "<IPython.core.display.Math object>"
      ]
     },
     "metadata": {},
     "output_type": "display_data"
    },
    {
     "data": {
      "text/latex": [
       "$\\displaystyle y_e = y_85 + hF_{1,85} = 0.7549035 + (0.01)(0.0531026) = 0.7554345\n",
       "$"
      ],
      "text/plain": [
       "<IPython.core.display.Math object>"
      ]
     },
     "metadata": {},
     "output_type": "display_data"
    },
    {
     "data": {
      "text/latex": [
       "$\\displaystyle F_{2,85} = f(x_86, y_e) = f(0.86, 0.7554345) = 0.0582045$"
      ],
      "text/plain": [
       "<IPython.core.display.Math object>"
      ]
     },
     "metadata": {},
     "output_type": "display_data"
    },
    {
     "data": {
      "text/latex": [
       "$\\displaystyle y_86 = y_85 + \\frac{1}{2}h(F_{1,85} + F_{2,85}) = 0.7549035 + \\frac{1}{2}(0.01)(0.0531026 + 0.0582045) = 0.7554600$"
      ],
      "text/plain": [
       "<IPython.core.display.Math object>"
      ]
     },
     "metadata": {},
     "output_type": "display_data"
    },
    {
     "data": {
      "text/latex": [
       "$\\displaystyle Approximation\\ to\\ y(x_86 = 0.86) = 0.7554600$"
      ],
      "text/plain": [
       "<IPython.core.display.Math object>"
      ]
     },
     "metadata": {},
     "output_type": "display_data"
    },
    {
     "name": "stdout",
     "output_type": "stream",
     "text": [
      "____________________________________________\n"
     ]
    },
    {
     "data": {
      "text/latex": [
       "$\\displaystyle Set\\ r=86,$"
      ],
      "text/plain": [
       "<IPython.core.display.Math object>"
      ]
     },
     "metadata": {},
     "output_type": "display_data"
    },
    {
     "data": {
      "text/latex": [
       "$\\displaystyle x_86 = 0.86, y_86 = 0.7554600$"
      ],
      "text/plain": [
       "<IPython.core.display.Math object>"
      ]
     },
     "metadata": {},
     "output_type": "display_data"
    },
    {
     "data": {
      "text/latex": [
       "$\\displaystyle F_{1,86} = f(x_86, y_86) = f(0.86, 0.7554600) = 0.0581898$"
      ],
      "text/plain": [
       "<IPython.core.display.Math object>"
      ]
     },
     "metadata": {},
     "output_type": "display_data"
    },
    {
     "data": {
      "text/latex": [
       "$\\displaystyle x_87 = x_86 + h = 0.86 + 0.01 = 0.87$"
      ],
      "text/plain": [
       "<IPython.core.display.Math object>"
      ]
     },
     "metadata": {},
     "output_type": "display_data"
    },
    {
     "data": {
      "text/latex": [
       "$\\displaystyle y_e = y_86 + hF_{1,86} = 0.7554600 + (0.01)(0.0581898) = 0.7560419\n",
       "$"
      ],
      "text/plain": [
       "<IPython.core.display.Math object>"
      ]
     },
     "metadata": {},
     "output_type": "display_data"
    },
    {
     "data": {
      "text/latex": [
       "$\\displaystyle F_{2,86} = f(x_87, y_e) = f(0.87, 0.7560419) = 0.0632312$"
      ],
      "text/plain": [
       "<IPython.core.display.Math object>"
      ]
     },
     "metadata": {},
     "output_type": "display_data"
    },
    {
     "data": {
      "text/latex": [
       "$\\displaystyle y_87 = y_86 + \\frac{1}{2}h(F_{1,86} + F_{2,86}) = 0.7554600 + \\frac{1}{2}(0.01)(0.0581898 + 0.0632312) = 0.7560671$"
      ],
      "text/plain": [
       "<IPython.core.display.Math object>"
      ]
     },
     "metadata": {},
     "output_type": "display_data"
    },
    {
     "data": {
      "text/latex": [
       "$\\displaystyle Approximation\\ to\\ y(x_87 = 0.87) = 0.7560671$"
      ],
      "text/plain": [
       "<IPython.core.display.Math object>"
      ]
     },
     "metadata": {},
     "output_type": "display_data"
    },
    {
     "name": "stdout",
     "output_type": "stream",
     "text": [
      "____________________________________________\n"
     ]
    },
    {
     "data": {
      "text/latex": [
       "$\\displaystyle Set\\ r=87,$"
      ],
      "text/plain": [
       "<IPython.core.display.Math object>"
      ]
     },
     "metadata": {},
     "output_type": "display_data"
    },
    {
     "data": {
      "text/latex": [
       "$\\displaystyle x_87 = 0.87, y_87 = 0.7560671$"
      ],
      "text/plain": [
       "<IPython.core.display.Math object>"
      ]
     },
     "metadata": {},
     "output_type": "display_data"
    },
    {
     "data": {
      "text/latex": [
       "$\\displaystyle F_{1,87} = f(x_87, y_87) = f(0.87, 0.7560671) = 0.0632167$"
      ],
      "text/plain": [
       "<IPython.core.display.Math object>"
      ]
     },
     "metadata": {},
     "output_type": "display_data"
    },
    {
     "data": {
      "text/latex": [
       "$\\displaystyle x_88 = x_87 + h = 0.87 + 0.01 = 0.88$"
      ],
      "text/plain": [
       "<IPython.core.display.Math object>"
      ]
     },
     "metadata": {},
     "output_type": "display_data"
    },
    {
     "data": {
      "text/latex": [
       "$\\displaystyle y_e = y_87 + hF_{1,87} = 0.7560671 + (0.01)(0.0632167) = 0.7566993\n",
       "$"
      ],
      "text/plain": [
       "<IPython.core.display.Math object>"
      ]
     },
     "metadata": {},
     "output_type": "display_data"
    },
    {
     "data": {
      "text/latex": [
       "$\\displaystyle F_{2,87} = f(x_88, y_e) = f(0.88, 0.7566993) = 0.0681985$"
      ],
      "text/plain": [
       "<IPython.core.display.Math object>"
      ]
     },
     "metadata": {},
     "output_type": "display_data"
    },
    {
     "data": {
      "text/latex": [
       "$\\displaystyle y_88 = y_87 + \\frac{1}{2}h(F_{1,87} + F_{2,87}) = 0.7560671 + \\frac{1}{2}(0.01)(0.0632167 + 0.0681985) = 0.7567242$"
      ],
      "text/plain": [
       "<IPython.core.display.Math object>"
      ]
     },
     "metadata": {},
     "output_type": "display_data"
    },
    {
     "data": {
      "text/latex": [
       "$\\displaystyle Approximation\\ to\\ y(x_88 = 0.88) = 0.7567242$"
      ],
      "text/plain": [
       "<IPython.core.display.Math object>"
      ]
     },
     "metadata": {},
     "output_type": "display_data"
    },
    {
     "name": "stdout",
     "output_type": "stream",
     "text": [
      "____________________________________________\n"
     ]
    },
    {
     "data": {
      "text/latex": [
       "$\\displaystyle Set\\ r=88,$"
      ],
      "text/plain": [
       "<IPython.core.display.Math object>"
      ]
     },
     "metadata": {},
     "output_type": "display_data"
    },
    {
     "data": {
      "text/latex": [
       "$\\displaystyle x_88 = 0.88, y_88 = 0.7567242$"
      ],
      "text/plain": [
       "<IPython.core.display.Math object>"
      ]
     },
     "metadata": {},
     "output_type": "display_data"
    },
    {
     "data": {
      "text/latex": [
       "$\\displaystyle F_{1,88} = f(x_88, y_88) = f(0.88, 0.7567242) = 0.0681842$"
      ],
      "text/plain": [
       "<IPython.core.display.Math object>"
      ]
     },
     "metadata": {},
     "output_type": "display_data"
    },
    {
     "data": {
      "text/latex": [
       "$\\displaystyle x_89 = x_88 + h = 0.88 + 0.01 = 0.89$"
      ],
      "text/plain": [
       "<IPython.core.display.Math object>"
      ]
     },
     "metadata": {},
     "output_type": "display_data"
    },
    {
     "data": {
      "text/latex": [
       "$\\displaystyle y_e = y_88 + hF_{1,88} = 0.7567242 + (0.01)(0.0681842) = 0.7574060\n",
       "$"
      ],
      "text/plain": [
       "<IPython.core.display.Math object>"
      ]
     },
     "metadata": {},
     "output_type": "display_data"
    },
    {
     "data": {
      "text/latex": [
       "$\\displaystyle F_{2,88} = f(x_89, y_e) = f(0.89, 0.7574060) = 0.0731074$"
      ],
      "text/plain": [
       "<IPython.core.display.Math object>"
      ]
     },
     "metadata": {},
     "output_type": "display_data"
    },
    {
     "data": {
      "text/latex": [
       "$\\displaystyle y_89 = y_88 + \\frac{1}{2}h(F_{1,88} + F_{2,88}) = 0.7567242 + \\frac{1}{2}(0.01)(0.0681842 + 0.0731074) = 0.7574307$"
      ],
      "text/plain": [
       "<IPython.core.display.Math object>"
      ]
     },
     "metadata": {},
     "output_type": "display_data"
    },
    {
     "data": {
      "text/latex": [
       "$\\displaystyle Approximation\\ to\\ y(x_89 = 0.89) = 0.7574307$"
      ],
      "text/plain": [
       "<IPython.core.display.Math object>"
      ]
     },
     "metadata": {},
     "output_type": "display_data"
    },
    {
     "name": "stdout",
     "output_type": "stream",
     "text": [
      "____________________________________________\n"
     ]
    },
    {
     "data": {
      "text/latex": [
       "$\\displaystyle Set\\ r=89,$"
      ],
      "text/plain": [
       "<IPython.core.display.Math object>"
      ]
     },
     "metadata": {},
     "output_type": "display_data"
    },
    {
     "data": {
      "text/latex": [
       "$\\displaystyle x_89 = 0.89, y_89 = 0.7574307$"
      ],
      "text/plain": [
       "<IPython.core.display.Math object>"
      ]
     },
     "metadata": {},
     "output_type": "display_data"
    },
    {
     "data": {
      "text/latex": [
       "$\\displaystyle F_{1,89} = f(x_89, y_89) = f(0.89, 0.7574307) = 0.0730932$"
      ],
      "text/plain": [
       "<IPython.core.display.Math object>"
      ]
     },
     "metadata": {},
     "output_type": "display_data"
    },
    {
     "data": {
      "text/latex": [
       "$\\displaystyle x_90 = x_89 + h = 0.89 + 0.01 = 0.9$"
      ],
      "text/plain": [
       "<IPython.core.display.Math object>"
      ]
     },
     "metadata": {},
     "output_type": "display_data"
    },
    {
     "data": {
      "text/latex": [
       "$\\displaystyle y_e = y_89 + hF_{1,89} = 0.7574307 + (0.01)(0.0730932) = 0.7581616\n",
       "$"
      ],
      "text/plain": [
       "<IPython.core.display.Math object>"
      ]
     },
     "metadata": {},
     "output_type": "display_data"
    },
    {
     "data": {
      "text/latex": [
       "$\\displaystyle F_{2,89} = f(x_90, y_e) = f(0.9, 0.7581616) = 0.0779585$"
      ],
      "text/plain": [
       "<IPython.core.display.Math object>"
      ]
     },
     "metadata": {},
     "output_type": "display_data"
    },
    {
     "data": {
      "text/latex": [
       "$\\displaystyle y_90 = y_89 + \\frac{1}{2}h(F_{1,89} + F_{2,89}) = 0.7574307 + \\frac{1}{2}(0.01)(0.0730932 + 0.0779585) = 0.7581860$"
      ],
      "text/plain": [
       "<IPython.core.display.Math object>"
      ]
     },
     "metadata": {},
     "output_type": "display_data"
    },
    {
     "data": {
      "text/latex": [
       "$\\displaystyle Approximation\\ to\\ y(x_90 = 0.9) = 0.7581860$"
      ],
      "text/plain": [
       "<IPython.core.display.Math object>"
      ]
     },
     "metadata": {},
     "output_type": "display_data"
    },
    {
     "name": "stdout",
     "output_type": "stream",
     "text": [
      "____________________________________________\n"
     ]
    },
    {
     "data": {
      "text/latex": [
       "$\\displaystyle Set\\ r=90,$"
      ],
      "text/plain": [
       "<IPython.core.display.Math object>"
      ]
     },
     "metadata": {},
     "output_type": "display_data"
    },
    {
     "data": {
      "text/latex": [
       "$\\displaystyle x_90 = 0.9, y_90 = 0.7581860$"
      ],
      "text/plain": [
       "<IPython.core.display.Math object>"
      ]
     },
     "metadata": {},
     "output_type": "display_data"
    },
    {
     "data": {
      "text/latex": [
       "$\\displaystyle F_{1,90} = f(x_90, y_90) = f(0.9, 0.7581860) = 0.0779445$"
      ],
      "text/plain": [
       "<IPython.core.display.Math object>"
      ]
     },
     "metadata": {},
     "output_type": "display_data"
    },
    {
     "data": {
      "text/latex": [
       "$\\displaystyle x_91 = x_90 + h = 0.9 + 0.01 = 0.91$"
      ],
      "text/plain": [
       "<IPython.core.display.Math object>"
      ]
     },
     "metadata": {},
     "output_type": "display_data"
    },
    {
     "data": {
      "text/latex": [
       "$\\displaystyle y_e = y_90 + hF_{1,90} = 0.7581860 + (0.01)(0.0779445) = 0.7589654\n",
       "$"
      ],
      "text/plain": [
       "<IPython.core.display.Math object>"
      ]
     },
     "metadata": {},
     "output_type": "display_data"
    },
    {
     "data": {
      "text/latex": [
       "$\\displaystyle F_{2,90} = f(x_91, y_e) = f(0.91, 0.7589654) = 0.0827530$"
      ],
      "text/plain": [
       "<IPython.core.display.Math object>"
      ]
     },
     "metadata": {},
     "output_type": "display_data"
    },
    {
     "data": {
      "text/latex": [
       "$\\displaystyle y_91 = y_90 + \\frac{1}{2}h(F_{1,90} + F_{2,90}) = 0.7581860 + \\frac{1}{2}(0.01)(0.0779445 + 0.0827530) = 0.7589895$"
      ],
      "text/plain": [
       "<IPython.core.display.Math object>"
      ]
     },
     "metadata": {},
     "output_type": "display_data"
    },
    {
     "data": {
      "text/latex": [
       "$\\displaystyle Approximation\\ to\\ y(x_91 = 0.91) = 0.7589895$"
      ],
      "text/plain": [
       "<IPython.core.display.Math object>"
      ]
     },
     "metadata": {},
     "output_type": "display_data"
    },
    {
     "name": "stdout",
     "output_type": "stream",
     "text": [
      "____________________________________________\n"
     ]
    },
    {
     "data": {
      "text/latex": [
       "$\\displaystyle Set\\ r=91,$"
      ],
      "text/plain": [
       "<IPython.core.display.Math object>"
      ]
     },
     "metadata": {},
     "output_type": "display_data"
    },
    {
     "data": {
      "text/latex": [
       "$\\displaystyle x_91 = 0.91, y_91 = 0.7589895$"
      ],
      "text/plain": [
       "<IPython.core.display.Math object>"
      ]
     },
     "metadata": {},
     "output_type": "display_data"
    },
    {
     "data": {
      "text/latex": [
       "$\\displaystyle F_{1,91} = f(x_91, y_91) = f(0.91, 0.7589895) = 0.0827392$"
      ],
      "text/plain": [
       "<IPython.core.display.Math object>"
      ]
     },
     "metadata": {},
     "output_type": "display_data"
    },
    {
     "data": {
      "text/latex": [
       "$\\displaystyle x_92 = x_91 + h = 0.91 + 0.01 = 0.92$"
      ],
      "text/plain": [
       "<IPython.core.display.Math object>"
      ]
     },
     "metadata": {},
     "output_type": "display_data"
    },
    {
     "data": {
      "text/latex": [
       "$\\displaystyle y_e = y_91 + hF_{1,91} = 0.7589895 + (0.01)(0.0827392) = 0.7598169\n",
       "$"
      ],
      "text/plain": [
       "<IPython.core.display.Math object>"
      ]
     },
     "metadata": {},
     "output_type": "display_data"
    },
    {
     "data": {
      "text/latex": [
       "$\\displaystyle F_{2,91} = f(x_92, y_e) = f(0.92, 0.7598169) = 0.0874915$"
      ],
      "text/plain": [
       "<IPython.core.display.Math object>"
      ]
     },
     "metadata": {},
     "output_type": "display_data"
    },
    {
     "data": {
      "text/latex": [
       "$\\displaystyle y_92 = y_91 + \\frac{1}{2}h(F_{1,91} + F_{2,91}) = 0.7589895 + \\frac{1}{2}(0.01)(0.0827392 + 0.0874915) = 0.7598407$"
      ],
      "text/plain": [
       "<IPython.core.display.Math object>"
      ]
     },
     "metadata": {},
     "output_type": "display_data"
    },
    {
     "data": {
      "text/latex": [
       "$\\displaystyle Approximation\\ to\\ y(x_92 = 0.92) = 0.7598407$"
      ],
      "text/plain": [
       "<IPython.core.display.Math object>"
      ]
     },
     "metadata": {},
     "output_type": "display_data"
    },
    {
     "name": "stdout",
     "output_type": "stream",
     "text": [
      "____________________________________________\n"
     ]
    },
    {
     "data": {
      "text/latex": [
       "$\\displaystyle Set\\ r=92,$"
      ],
      "text/plain": [
       "<IPython.core.display.Math object>"
      ]
     },
     "metadata": {},
     "output_type": "display_data"
    },
    {
     "data": {
      "text/latex": [
       "$\\displaystyle x_92 = 0.92, y_92 = 0.7598407$"
      ],
      "text/plain": [
       "<IPython.core.display.Math object>"
      ]
     },
     "metadata": {},
     "output_type": "display_data"
    },
    {
     "data": {
      "text/latex": [
       "$\\displaystyle F_{1,92} = f(x_92, y_92) = f(0.92, 0.7598407) = 0.0874779$"
      ],
      "text/plain": [
       "<IPython.core.display.Math object>"
      ]
     },
     "metadata": {},
     "output_type": "display_data"
    },
    {
     "data": {
      "text/latex": [
       "$\\displaystyle x_93 = x_92 + h = 0.92 + 0.01 = 0.93$"
      ],
      "text/plain": [
       "<IPython.core.display.Math object>"
      ]
     },
     "metadata": {},
     "output_type": "display_data"
    },
    {
     "data": {
      "text/latex": [
       "$\\displaystyle y_e = y_92 + hF_{1,92} = 0.7598407 + (0.01)(0.0874779) = 0.7607155\n",
       "$"
      ],
      "text/plain": [
       "<IPython.core.display.Math object>"
      ]
     },
     "metadata": {},
     "output_type": "display_data"
    },
    {
     "data": {
      "text/latex": [
       "$\\displaystyle F_{2,92} = f(x_93, y_e) = f(0.93, 0.7607155) = 0.0921750$"
      ],
      "text/plain": [
       "<IPython.core.display.Math object>"
      ]
     },
     "metadata": {},
     "output_type": "display_data"
    },
    {
     "data": {
      "text/latex": [
       "$\\displaystyle y_93 = y_92 + \\frac{1}{2}h(F_{1,92} + F_{2,92}) = 0.7598407 + \\frac{1}{2}(0.01)(0.0874779 + 0.0921750) = 0.7607390$"
      ],
      "text/plain": [
       "<IPython.core.display.Math object>"
      ]
     },
     "metadata": {},
     "output_type": "display_data"
    },
    {
     "data": {
      "text/latex": [
       "$\\displaystyle Approximation\\ to\\ y(x_93 = 0.93) = 0.7607390$"
      ],
      "text/plain": [
       "<IPython.core.display.Math object>"
      ]
     },
     "metadata": {},
     "output_type": "display_data"
    },
    {
     "name": "stdout",
     "output_type": "stream",
     "text": [
      "____________________________________________\n"
     ]
    },
    {
     "data": {
      "text/latex": [
       "$\\displaystyle Set\\ r=93,$"
      ],
      "text/plain": [
       "<IPython.core.display.Math object>"
      ]
     },
     "metadata": {},
     "output_type": "display_data"
    },
    {
     "data": {
      "text/latex": [
       "$\\displaystyle x_93 = 0.93, y_93 = 0.7607390$"
      ],
      "text/plain": [
       "<IPython.core.display.Math object>"
      ]
     },
     "metadata": {},
     "output_type": "display_data"
    },
    {
     "data": {
      "text/latex": [
       "$\\displaystyle F_{1,93} = f(x_93, y_93) = f(0.93, 0.7607390) = 0.0921615$"
      ],
      "text/plain": [
       "<IPython.core.display.Math object>"
      ]
     },
     "metadata": {},
     "output_type": "display_data"
    },
    {
     "data": {
      "text/latex": [
       "$\\displaystyle x_94 = x_93 + h = 0.93 + 0.01 = 0.94$"
      ],
      "text/plain": [
       "<IPython.core.display.Math object>"
      ]
     },
     "metadata": {},
     "output_type": "display_data"
    },
    {
     "data": {
      "text/latex": [
       "$\\displaystyle y_e = y_93 + hF_{1,93} = 0.7607390 + (0.01)(0.0921615) = 0.7616606\n",
       "$"
      ],
      "text/plain": [
       "<IPython.core.display.Math object>"
      ]
     },
     "metadata": {},
     "output_type": "display_data"
    },
    {
     "data": {
      "text/latex": [
       "$\\displaystyle F_{2,93} = f(x_94, y_e) = f(0.94, 0.7616606) = 0.0968043$"
      ],
      "text/plain": [
       "<IPython.core.display.Math object>"
      ]
     },
     "metadata": {},
     "output_type": "display_data"
    },
    {
     "data": {
      "text/latex": [
       "$\\displaystyle y_94 = y_93 + \\frac{1}{2}h(F_{1,93} + F_{2,93}) = 0.7607390 + \\frac{1}{2}(0.01)(0.0921615 + 0.0968043) = 0.7616838$"
      ],
      "text/plain": [
       "<IPython.core.display.Math object>"
      ]
     },
     "metadata": {},
     "output_type": "display_data"
    },
    {
     "data": {
      "text/latex": [
       "$\\displaystyle Approximation\\ to\\ y(x_94 = 0.94) = 0.7616838$"
      ],
      "text/plain": [
       "<IPython.core.display.Math object>"
      ]
     },
     "metadata": {},
     "output_type": "display_data"
    },
    {
     "name": "stdout",
     "output_type": "stream",
     "text": [
      "____________________________________________\n"
     ]
    },
    {
     "data": {
      "text/latex": [
       "$\\displaystyle Set\\ r=94,$"
      ],
      "text/plain": [
       "<IPython.core.display.Math object>"
      ]
     },
     "metadata": {},
     "output_type": "display_data"
    },
    {
     "data": {
      "text/latex": [
       "$\\displaystyle x_94 = 0.94, y_94 = 0.7616838$"
      ],
      "text/plain": [
       "<IPython.core.display.Math object>"
      ]
     },
     "metadata": {},
     "output_type": "display_data"
    },
    {
     "data": {
      "text/latex": [
       "$\\displaystyle F_{1,94} = f(x_94, y_94) = f(0.94, 0.7616838) = 0.0967910$"
      ],
      "text/plain": [
       "<IPython.core.display.Math object>"
      ]
     },
     "metadata": {},
     "output_type": "display_data"
    },
    {
     "data": {
      "text/latex": [
       "$\\displaystyle x_95 = x_94 + h = 0.94 + 0.01 = 0.95$"
      ],
      "text/plain": [
       "<IPython.core.display.Math object>"
      ]
     },
     "metadata": {},
     "output_type": "display_data"
    },
    {
     "data": {
      "text/latex": [
       "$\\displaystyle y_e = y_94 + hF_{1,94} = 0.7616838 + (0.01)(0.0967910) = 0.7626517\n",
       "$"
      ],
      "text/plain": [
       "<IPython.core.display.Math object>"
      ]
     },
     "metadata": {},
     "output_type": "display_data"
    },
    {
     "data": {
      "text/latex": [
       "$\\displaystyle F_{2,94} = f(x_95, y_e) = f(0.95, 0.7626517) = 0.1013801$"
      ],
      "text/plain": [
       "<IPython.core.display.Math object>"
      ]
     },
     "metadata": {},
     "output_type": "display_data"
    },
    {
     "data": {
      "text/latex": [
       "$\\displaystyle y_95 = y_94 + \\frac{1}{2}h(F_{1,94} + F_{2,94}) = 0.7616838 + \\frac{1}{2}(0.01)(0.0967910 + 0.1013801) = 0.7626747$"
      ],
      "text/plain": [
       "<IPython.core.display.Math object>"
      ]
     },
     "metadata": {},
     "output_type": "display_data"
    },
    {
     "data": {
      "text/latex": [
       "$\\displaystyle Approximation\\ to\\ y(x_95 = 0.95) = 0.7626747$"
      ],
      "text/plain": [
       "<IPython.core.display.Math object>"
      ]
     },
     "metadata": {},
     "output_type": "display_data"
    },
    {
     "name": "stdout",
     "output_type": "stream",
     "text": [
      "____________________________________________\n"
     ]
    },
    {
     "data": {
      "text/latex": [
       "$\\displaystyle Set\\ r=95,$"
      ],
      "text/plain": [
       "<IPython.core.display.Math object>"
      ]
     },
     "metadata": {},
     "output_type": "display_data"
    },
    {
     "data": {
      "text/latex": [
       "$\\displaystyle x_95 = 0.95, y_95 = 0.7626747$"
      ],
      "text/plain": [
       "<IPython.core.display.Math object>"
      ]
     },
     "metadata": {},
     "output_type": "display_data"
    },
    {
     "data": {
      "text/latex": [
       "$\\displaystyle F_{1,95} = f(x_95, y_95) = f(0.95, 0.7626747) = 0.1013669$"
      ],
      "text/plain": [
       "<IPython.core.display.Math object>"
      ]
     },
     "metadata": {},
     "output_type": "display_data"
    },
    {
     "data": {
      "text/latex": [
       "$\\displaystyle x_96 = x_95 + h = 0.95 + 0.01 = 0.96$"
      ],
      "text/plain": [
       "<IPython.core.display.Math object>"
      ]
     },
     "metadata": {},
     "output_type": "display_data"
    },
    {
     "data": {
      "text/latex": [
       "$\\displaystyle y_e = y_95 + hF_{1,95} = 0.7626747 + (0.01)(0.1013669) = 0.7636884\n",
       "$"
      ],
      "text/plain": [
       "<IPython.core.display.Math object>"
      ]
     },
     "metadata": {},
     "output_type": "display_data"
    },
    {
     "data": {
      "text/latex": [
       "$\\displaystyle F_{2,95} = f(x_96, y_e) = f(0.96, 0.7636884) = 0.1059032$"
      ],
      "text/plain": [
       "<IPython.core.display.Math object>"
      ]
     },
     "metadata": {},
     "output_type": "display_data"
    },
    {
     "data": {
      "text/latex": [
       "$\\displaystyle y_96 = y_95 + \\frac{1}{2}h(F_{1,95} + F_{2,95}) = 0.7626747 + \\frac{1}{2}(0.01)(0.1013669 + 0.1059032) = 0.7637110$"
      ],
      "text/plain": [
       "<IPython.core.display.Math object>"
      ]
     },
     "metadata": {},
     "output_type": "display_data"
    },
    {
     "data": {
      "text/latex": [
       "$\\displaystyle Approximation\\ to\\ y(x_96 = 0.96) = 0.7637110$"
      ],
      "text/plain": [
       "<IPython.core.display.Math object>"
      ]
     },
     "metadata": {},
     "output_type": "display_data"
    },
    {
     "name": "stdout",
     "output_type": "stream",
     "text": [
      "____________________________________________\n"
     ]
    },
    {
     "data": {
      "text/latex": [
       "$\\displaystyle Set\\ r=96,$"
      ],
      "text/plain": [
       "<IPython.core.display.Math object>"
      ]
     },
     "metadata": {},
     "output_type": "display_data"
    },
    {
     "data": {
      "text/latex": [
       "$\\displaystyle x_96 = 0.96, y_96 = 0.7637110$"
      ],
      "text/plain": [
       "<IPython.core.display.Math object>"
      ]
     },
     "metadata": {},
     "output_type": "display_data"
    },
    {
     "data": {
      "text/latex": [
       "$\\displaystyle F_{1,96} = f(x_96, y_96) = f(0.96, 0.7637110) = 0.1058903$"
      ],
      "text/plain": [
       "<IPython.core.display.Math object>"
      ]
     },
     "metadata": {},
     "output_type": "display_data"
    },
    {
     "data": {
      "text/latex": [
       "$\\displaystyle x_97 = x_96 + h = 0.96 + 0.01 = 0.97$"
      ],
      "text/plain": [
       "<IPython.core.display.Math object>"
      ]
     },
     "metadata": {},
     "output_type": "display_data"
    },
    {
     "data": {
      "text/latex": [
       "$\\displaystyle y_e = y_96 + hF_{1,96} = 0.7637110 + (0.01)(0.1058903) = 0.7647699\n",
       "$"
      ],
      "text/plain": [
       "<IPython.core.display.Math object>"
      ]
     },
     "metadata": {},
     "output_type": "display_data"
    },
    {
     "data": {
      "text/latex": [
       "$\\displaystyle F_{2,96} = f(x_97, y_e) = f(0.97, 0.7647699) = 0.1103745$"
      ],
      "text/plain": [
       "<IPython.core.display.Math object>"
      ]
     },
     "metadata": {},
     "output_type": "display_data"
    },
    {
     "data": {
      "text/latex": [
       "$\\displaystyle y_97 = y_96 + \\frac{1}{2}h(F_{1,96} + F_{2,96}) = 0.7637110 + \\frac{1}{2}(0.01)(0.1058903 + 0.1103745) = 0.7647923$"
      ],
      "text/plain": [
       "<IPython.core.display.Math object>"
      ]
     },
     "metadata": {},
     "output_type": "display_data"
    },
    {
     "data": {
      "text/latex": [
       "$\\displaystyle Approximation\\ to\\ y(x_97 = 0.97) = 0.7647923$"
      ],
      "text/plain": [
       "<IPython.core.display.Math object>"
      ]
     },
     "metadata": {},
     "output_type": "display_data"
    },
    {
     "name": "stdout",
     "output_type": "stream",
     "text": [
      "____________________________________________\n"
     ]
    },
    {
     "data": {
      "text/latex": [
       "$\\displaystyle Set\\ r=97,$"
      ],
      "text/plain": [
       "<IPython.core.display.Math object>"
      ]
     },
     "metadata": {},
     "output_type": "display_data"
    },
    {
     "data": {
      "text/latex": [
       "$\\displaystyle x_97 = 0.97, y_97 = 0.7647923$"
      ],
      "text/plain": [
       "<IPython.core.display.Math object>"
      ]
     },
     "metadata": {},
     "output_type": "display_data"
    },
    {
     "data": {
      "text/latex": [
       "$\\displaystyle F_{1,97} = f(x_97, y_97) = f(0.97, 0.7647923) = 0.1103617$"
      ],
      "text/plain": [
       "<IPython.core.display.Math object>"
      ]
     },
     "metadata": {},
     "output_type": "display_data"
    },
    {
     "data": {
      "text/latex": [
       "$\\displaystyle x_98 = x_97 + h = 0.97 + 0.01 = 0.98$"
      ],
      "text/plain": [
       "<IPython.core.display.Math object>"
      ]
     },
     "metadata": {},
     "output_type": "display_data"
    },
    {
     "data": {
      "text/latex": [
       "$\\displaystyle y_e = y_97 + hF_{1,97} = 0.7647923 + (0.01)(0.1103617) = 0.7658959\n",
       "$"
      ],
      "text/plain": [
       "<IPython.core.display.Math object>"
      ]
     },
     "metadata": {},
     "output_type": "display_data"
    },
    {
     "data": {
      "text/latex": [
       "$\\displaystyle F_{2,97} = f(x_98, y_e) = f(0.98, 0.7658959) = 0.1147947$"
      ],
      "text/plain": [
       "<IPython.core.display.Math object>"
      ]
     },
     "metadata": {},
     "output_type": "display_data"
    },
    {
     "data": {
      "text/latex": [
       "$\\displaystyle y_98 = y_97 + \\frac{1}{2}h(F_{1,97} + F_{2,97}) = 0.7647923 + \\frac{1}{2}(0.01)(0.1103617 + 0.1147947) = 0.7659181$"
      ],
      "text/plain": [
       "<IPython.core.display.Math object>"
      ]
     },
     "metadata": {},
     "output_type": "display_data"
    },
    {
     "data": {
      "text/latex": [
       "$\\displaystyle Approximation\\ to\\ y(x_98 = 0.98) = 0.7659181$"
      ],
      "text/plain": [
       "<IPython.core.display.Math object>"
      ]
     },
     "metadata": {},
     "output_type": "display_data"
    },
    {
     "name": "stdout",
     "output_type": "stream",
     "text": [
      "____________________________________________\n"
     ]
    },
    {
     "data": {
      "text/latex": [
       "$\\displaystyle Set\\ r=98,$"
      ],
      "text/plain": [
       "<IPython.core.display.Math object>"
      ]
     },
     "metadata": {},
     "output_type": "display_data"
    },
    {
     "data": {
      "text/latex": [
       "$\\displaystyle x_98 = 0.98, y_98 = 0.7659181$"
      ],
      "text/plain": [
       "<IPython.core.display.Math object>"
      ]
     },
     "metadata": {},
     "output_type": "display_data"
    },
    {
     "data": {
      "text/latex": [
       "$\\displaystyle F_{1,98} = f(x_98, y_98) = f(0.98, 0.7659181) = 0.1147820$"
      ],
      "text/plain": [
       "<IPython.core.display.Math object>"
      ]
     },
     "metadata": {},
     "output_type": "display_data"
    },
    {
     "data": {
      "text/latex": [
       "$\\displaystyle x_99 = x_98 + h = 0.98 + 0.01 = 0.99$"
      ],
      "text/plain": [
       "<IPython.core.display.Math object>"
      ]
     },
     "metadata": {},
     "output_type": "display_data"
    },
    {
     "data": {
      "text/latex": [
       "$\\displaystyle y_e = y_98 + hF_{1,98} = 0.7659181 + (0.01)(0.1147820) = 0.7670659\n",
       "$"
      ],
      "text/plain": [
       "<IPython.core.display.Math object>"
      ]
     },
     "metadata": {},
     "output_type": "display_data"
    },
    {
     "data": {
      "text/latex": [
       "$\\displaystyle F_{2,98} = f(x_99, y_e) = f(0.99, 0.7670659) = 0.1191645$"
      ],
      "text/plain": [
       "<IPython.core.display.Math object>"
      ]
     },
     "metadata": {},
     "output_type": "display_data"
    },
    {
     "data": {
      "text/latex": [
       "$\\displaystyle y_99 = y_98 + \\frac{1}{2}h(F_{1,98} + F_{2,98}) = 0.7659181 + \\frac{1}{2}(0.01)(0.1147820 + 0.1191645) = 0.7670878$"
      ],
      "text/plain": [
       "<IPython.core.display.Math object>"
      ]
     },
     "metadata": {},
     "output_type": "display_data"
    },
    {
     "data": {
      "text/latex": [
       "$\\displaystyle Approximation\\ to\\ y(x_99 = 0.99) = 0.7670878$"
      ],
      "text/plain": [
       "<IPython.core.display.Math object>"
      ]
     },
     "metadata": {},
     "output_type": "display_data"
    },
    {
     "name": "stdout",
     "output_type": "stream",
     "text": [
      "____________________________________________\n"
     ]
    },
    {
     "data": {
      "text/latex": [
       "$\\displaystyle Set\\ r=99,$"
      ],
      "text/plain": [
       "<IPython.core.display.Math object>"
      ]
     },
     "metadata": {},
     "output_type": "display_data"
    },
    {
     "data": {
      "text/latex": [
       "$\\displaystyle x_99 = 0.99, y_99 = 0.7670878$"
      ],
      "text/plain": [
       "<IPython.core.display.Math object>"
      ]
     },
     "metadata": {},
     "output_type": "display_data"
    },
    {
     "data": {
      "text/latex": [
       "$\\displaystyle F_{1,99} = f(x_99, y_99) = f(0.99, 0.7670878) = 0.1191520$"
      ],
      "text/plain": [
       "<IPython.core.display.Math object>"
      ]
     },
     "metadata": {},
     "output_type": "display_data"
    },
    {
     "data": {
      "text/latex": [
       "$\\displaystyle x_100 = x_99 + h = 0.99 + 0.01 = 1.0$"
      ],
      "text/plain": [
       "<IPython.core.display.Math object>"
      ]
     },
     "metadata": {},
     "output_type": "display_data"
    },
    {
     "data": {
      "text/latex": [
       "$\\displaystyle y_e = y_99 + hF_{1,99} = 0.7670878 + (0.01)(0.1191520) = 0.7682793\n",
       "$"
      ],
      "text/plain": [
       "<IPython.core.display.Math object>"
      ]
     },
     "metadata": {},
     "output_type": "display_data"
    },
    {
     "data": {
      "text/latex": [
       "$\\displaystyle F_{2,99} = f(x_100, y_e) = f(1.0, 0.7682793) = 0.1234846$"
      ],
      "text/plain": [
       "<IPython.core.display.Math object>"
      ]
     },
     "metadata": {},
     "output_type": "display_data"
    },
    {
     "data": {
      "text/latex": [
       "$\\displaystyle y_100 = y_99 + \\frac{1}{2}h(F_{1,99} + F_{2,99}) = 0.7670878 + \\frac{1}{2}(0.01)(0.1191520 + 0.1234846) = 0.7683010$"
      ],
      "text/plain": [
       "<IPython.core.display.Math object>"
      ]
     },
     "metadata": {},
     "output_type": "display_data"
    },
    {
     "data": {
      "text/latex": [
       "$\\displaystyle Approximation\\ to\\ y(x_100 = 1.0) = 0.7683010$"
      ],
      "text/plain": [
       "<IPython.core.display.Math object>"
      ]
     },
     "metadata": {},
     "output_type": "display_data"
    },
    {
     "name": "stdout",
     "output_type": "stream",
     "text": [
      "____________________________________________\n"
     ]
    },
    {
     "data": {
      "text/latex": [
       "$\\displaystyle Set\\ r=100,$"
      ],
      "text/plain": [
       "<IPython.core.display.Math object>"
      ]
     },
     "metadata": {},
     "output_type": "display_data"
    },
    {
     "data": {
      "text/latex": [
       "$\\displaystyle x_100 = 1.0, y_100 = 0.7683010$"
      ],
      "text/plain": [
       "<IPython.core.display.Math object>"
      ]
     },
     "metadata": {},
     "output_type": "display_data"
    },
    {
     "data": {
      "text/latex": [
       "$\\displaystyle F_{1,100} = f(x_100, y_100) = f(1.0, 0.7683010) = 0.1234722$"
      ],
      "text/plain": [
       "<IPython.core.display.Math object>"
      ]
     },
     "metadata": {},
     "output_type": "display_data"
    },
    {
     "data": {
      "text/latex": [
       "$\\displaystyle x_101 = x_100 + h = 1.0 + 0.01 = 1.01$"
      ],
      "text/plain": [
       "<IPython.core.display.Math object>"
      ]
     },
     "metadata": {},
     "output_type": "display_data"
    },
    {
     "data": {
      "text/latex": [
       "$\\displaystyle y_e = y_100 + hF_{1,100} = 0.7683010 + (0.01)(0.1234722) = 0.7695357\n",
       "$"
      ],
      "text/plain": [
       "<IPython.core.display.Math object>"
      ]
     },
     "metadata": {},
     "output_type": "display_data"
    },
    {
     "data": {
      "text/latex": [
       "$\\displaystyle F_{2,100} = f(x_101, y_e) = f(1.01, 0.7695357) = 0.1277557$"
      ],
      "text/plain": [
       "<IPython.core.display.Math object>"
      ]
     },
     "metadata": {},
     "output_type": "display_data"
    },
    {
     "data": {
      "text/latex": [
       "$\\displaystyle y_101 = y_100 + \\frac{1}{2}h(F_{1,100} + F_{2,100}) = 0.7683010 + \\frac{1}{2}(0.01)(0.1234722 + 0.1277557) = 0.7695571$"
      ],
      "text/plain": [
       "<IPython.core.display.Math object>"
      ]
     },
     "metadata": {},
     "output_type": "display_data"
    },
    {
     "data": {
      "text/latex": [
       "$\\displaystyle Approximation\\ to\\ y(x_101 = 1.01) = 0.7695571$"
      ],
      "text/plain": [
       "<IPython.core.display.Math object>"
      ]
     },
     "metadata": {},
     "output_type": "display_data"
    },
    {
     "name": "stdout",
     "output_type": "stream",
     "text": [
      "____________________________________________\n"
     ]
    },
    {
     "data": {
      "text/latex": [
       "$\\displaystyle Set\\ r=101,$"
      ],
      "text/plain": [
       "<IPython.core.display.Math object>"
      ]
     },
     "metadata": {},
     "output_type": "display_data"
    },
    {
     "data": {
      "text/latex": [
       "$\\displaystyle x_101 = 1.01, y_101 = 0.7695571$"
      ],
      "text/plain": [
       "<IPython.core.display.Math object>"
      ]
     },
     "metadata": {},
     "output_type": "display_data"
    },
    {
     "data": {
      "text/latex": [
       "$\\displaystyle F_{1,101} = f(x_101, y_101) = f(1.01, 0.7695571) = 0.1277435$"
      ],
      "text/plain": [
       "<IPython.core.display.Math object>"
      ]
     },
     "metadata": {},
     "output_type": "display_data"
    },
    {
     "data": {
      "text/latex": [
       "$\\displaystyle x_102 = x_101 + h = 1.01 + 0.01 = 1.02$"
      ],
      "text/plain": [
       "<IPython.core.display.Math object>"
      ]
     },
     "metadata": {},
     "output_type": "display_data"
    },
    {
     "data": {
      "text/latex": [
       "$\\displaystyle y_e = y_101 + hF_{1,101} = 0.7695571 + (0.01)(0.1277435) = 0.7708345\n",
       "$"
      ],
      "text/plain": [
       "<IPython.core.display.Math object>"
      ]
     },
     "metadata": {},
     "output_type": "display_data"
    },
    {
     "data": {
      "text/latex": [
       "$\\displaystyle F_{2,101} = f(x_102, y_e) = f(1.02, 0.7708345) = 0.1319787$"
      ],
      "text/plain": [
       "<IPython.core.display.Math object>"
      ]
     },
     "metadata": {},
     "output_type": "display_data"
    },
    {
     "data": {
      "text/latex": [
       "$\\displaystyle y_102 = y_101 + \\frac{1}{2}h(F_{1,101} + F_{2,101}) = 0.7695571 + \\frac{1}{2}(0.01)(0.1277435 + 0.1319787) = 0.7708557$"
      ],
      "text/plain": [
       "<IPython.core.display.Math object>"
      ]
     },
     "metadata": {},
     "output_type": "display_data"
    },
    {
     "data": {
      "text/latex": [
       "$\\displaystyle Approximation\\ to\\ y(x_102 = 1.02) = 0.7708557$"
      ],
      "text/plain": [
       "<IPython.core.display.Math object>"
      ]
     },
     "metadata": {},
     "output_type": "display_data"
    },
    {
     "name": "stdout",
     "output_type": "stream",
     "text": [
      "____________________________________________\n"
     ]
    },
    {
     "data": {
      "text/latex": [
       "$\\displaystyle Set\\ r=102,$"
      ],
      "text/plain": [
       "<IPython.core.display.Math object>"
      ]
     },
     "metadata": {},
     "output_type": "display_data"
    },
    {
     "data": {
      "text/latex": [
       "$\\displaystyle x_102 = 1.02, y_102 = 0.7708557$"
      ],
      "text/plain": [
       "<IPython.core.display.Math object>"
      ]
     },
     "metadata": {},
     "output_type": "display_data"
    },
    {
     "data": {
      "text/latex": [
       "$\\displaystyle F_{1,102} = f(x_102, y_102) = f(1.02, 0.7708557) = 0.1319666$"
      ],
      "text/plain": [
       "<IPython.core.display.Math object>"
      ]
     },
     "metadata": {},
     "output_type": "display_data"
    },
    {
     "data": {
      "text/latex": [
       "$\\displaystyle x_103 = x_102 + h = 1.02 + 0.01 = 1.03$"
      ],
      "text/plain": [
       "<IPython.core.display.Math object>"
      ]
     },
     "metadata": {},
     "output_type": "display_data"
    },
    {
     "data": {
      "text/latex": [
       "$\\displaystyle y_e = y_102 + hF_{1,102} = 0.7708557 + (0.01)(0.1319666) = 0.7721754\n",
       "$"
      ],
      "text/plain": [
       "<IPython.core.display.Math object>"
      ]
     },
     "metadata": {},
     "output_type": "display_data"
    },
    {
     "data": {
      "text/latex": [
       "$\\displaystyle F_{2,102} = f(x_103, y_e) = f(1.03, 0.7721754) = 0.1361540$"
      ],
      "text/plain": [
       "<IPython.core.display.Math object>"
      ]
     },
     "metadata": {},
     "output_type": "display_data"
    },
    {
     "data": {
      "text/latex": [
       "$\\displaystyle y_103 = y_102 + \\frac{1}{2}h(F_{1,102} + F_{2,102}) = 0.7708557 + \\frac{1}{2}(0.01)(0.1319666 + 0.1361540) = 0.7721963$"
      ],
      "text/plain": [
       "<IPython.core.display.Math object>"
      ]
     },
     "metadata": {},
     "output_type": "display_data"
    },
    {
     "data": {
      "text/latex": [
       "$\\displaystyle Approximation\\ to\\ y(x_103 = 1.03) = 0.7721963$"
      ],
      "text/plain": [
       "<IPython.core.display.Math object>"
      ]
     },
     "metadata": {},
     "output_type": "display_data"
    },
    {
     "name": "stdout",
     "output_type": "stream",
     "text": [
      "____________________________________________\n"
     ]
    },
    {
     "data": {
      "text/latex": [
       "$\\displaystyle Set\\ r=103,$"
      ],
      "text/plain": [
       "<IPython.core.display.Math object>"
      ]
     },
     "metadata": {},
     "output_type": "display_data"
    },
    {
     "data": {
      "text/latex": [
       "$\\displaystyle x_103 = 1.03, y_103 = 0.7721963$"
      ],
      "text/plain": [
       "<IPython.core.display.Math object>"
      ]
     },
     "metadata": {},
     "output_type": "display_data"
    },
    {
     "data": {
      "text/latex": [
       "$\\displaystyle F_{1,103} = f(x_103, y_103) = f(1.03, 0.7721963) = 0.1361421$"
      ],
      "text/plain": [
       "<IPython.core.display.Math object>"
      ]
     },
     "metadata": {},
     "output_type": "display_data"
    },
    {
     "data": {
      "text/latex": [
       "$\\displaystyle x_104 = x_103 + h = 1.03 + 0.01 = 1.04$"
      ],
      "text/plain": [
       "<IPython.core.display.Math object>"
      ]
     },
     "metadata": {},
     "output_type": "display_data"
    },
    {
     "data": {
      "text/latex": [
       "$\\displaystyle y_e = y_103 + hF_{1,103} = 0.7721963 + (0.01)(0.1361421) = 0.7735577\n",
       "$"
      ],
      "text/plain": [
       "<IPython.core.display.Math object>"
      ]
     },
     "metadata": {},
     "output_type": "display_data"
    },
    {
     "data": {
      "text/latex": [
       "$\\displaystyle F_{2,103} = f(x_104, y_e) = f(1.04, 0.7735577) = 0.1402826$"
      ],
      "text/plain": [
       "<IPython.core.display.Math object>"
      ]
     },
     "metadata": {},
     "output_type": "display_data"
    },
    {
     "data": {
      "text/latex": [
       "$\\displaystyle y_104 = y_103 + \\frac{1}{2}h(F_{1,103} + F_{2,103}) = 0.7721963 + \\frac{1}{2}(0.01)(0.1361421 + 0.1402826) = 0.7735784$"
      ],
      "text/plain": [
       "<IPython.core.display.Math object>"
      ]
     },
     "metadata": {},
     "output_type": "display_data"
    },
    {
     "data": {
      "text/latex": [
       "$\\displaystyle Approximation\\ to\\ y(x_104 = 1.04) = 0.7735784$"
      ],
      "text/plain": [
       "<IPython.core.display.Math object>"
      ]
     },
     "metadata": {},
     "output_type": "display_data"
    },
    {
     "name": "stdout",
     "output_type": "stream",
     "text": [
      "____________________________________________\n"
     ]
    },
    {
     "data": {
      "text/latex": [
       "$\\displaystyle Set\\ r=104,$"
      ],
      "text/plain": [
       "<IPython.core.display.Math object>"
      ]
     },
     "metadata": {},
     "output_type": "display_data"
    },
    {
     "data": {
      "text/latex": [
       "$\\displaystyle x_104 = 1.04, y_104 = 0.7735784$"
      ],
      "text/plain": [
       "<IPython.core.display.Math object>"
      ]
     },
     "metadata": {},
     "output_type": "display_data"
    },
    {
     "data": {
      "text/latex": [
       "$\\displaystyle F_{1,104} = f(x_104, y_104) = f(1.04, 0.7735784) = 0.1402708$"
      ],
      "text/plain": [
       "<IPython.core.display.Math object>"
      ]
     },
     "metadata": {},
     "output_type": "display_data"
    },
    {
     "data": {
      "text/latex": [
       "$\\displaystyle x_105 = x_104 + h = 1.04 + 0.01 = 1.05$"
      ],
      "text/plain": [
       "<IPython.core.display.Math object>"
      ]
     },
     "metadata": {},
     "output_type": "display_data"
    },
    {
     "data": {
      "text/latex": [
       "$\\displaystyle y_e = y_104 + hF_{1,104} = 0.7735784 + (0.01)(0.1402708) = 0.7749811\n",
       "$"
      ],
      "text/plain": [
       "<IPython.core.display.Math object>"
      ]
     },
     "metadata": {},
     "output_type": "display_data"
    },
    {
     "data": {
      "text/latex": [
       "$\\displaystyle F_{2,104} = f(x_105, y_e) = f(1.05, 0.7749811) = 0.1443650$"
      ],
      "text/plain": [
       "<IPython.core.display.Math object>"
      ]
     },
     "metadata": {},
     "output_type": "display_data"
    },
    {
     "data": {
      "text/latex": [
       "$\\displaystyle y_105 = y_104 + \\frac{1}{2}h(F_{1,104} + F_{2,104}) = 0.7735784 + \\frac{1}{2}(0.01)(0.1402708 + 0.1443650) = 0.7750016$"
      ],
      "text/plain": [
       "<IPython.core.display.Math object>"
      ]
     },
     "metadata": {},
     "output_type": "display_data"
    },
    {
     "data": {
      "text/latex": [
       "$\\displaystyle Approximation\\ to\\ y(x_105 = 1.05) = 0.7750016$"
      ],
      "text/plain": [
       "<IPython.core.display.Math object>"
      ]
     },
     "metadata": {},
     "output_type": "display_data"
    },
    {
     "name": "stdout",
     "output_type": "stream",
     "text": [
      "____________________________________________\n"
     ]
    },
    {
     "data": {
      "text/latex": [
       "$\\displaystyle Set\\ r=105,$"
      ],
      "text/plain": [
       "<IPython.core.display.Math object>"
      ]
     },
     "metadata": {},
     "output_type": "display_data"
    },
    {
     "data": {
      "text/latex": [
       "$\\displaystyle x_105 = 1.05, y_105 = 0.7750016$"
      ],
      "text/plain": [
       "<IPython.core.display.Math object>"
      ]
     },
     "metadata": {},
     "output_type": "display_data"
    },
    {
     "data": {
      "text/latex": [
       "$\\displaystyle F_{1,105} = f(x_105, y_105) = f(1.05, 0.7750016) = 0.1443533$"
      ],
      "text/plain": [
       "<IPython.core.display.Math object>"
      ]
     },
     "metadata": {},
     "output_type": "display_data"
    },
    {
     "data": {
      "text/latex": [
       "$\\displaystyle x_106 = x_105 + h = 1.05 + 0.01 = 1.06$"
      ],
      "text/plain": [
       "<IPython.core.display.Math object>"
      ]
     },
     "metadata": {},
     "output_type": "display_data"
    },
    {
     "data": {
      "text/latex": [
       "$\\displaystyle y_e = y_105 + hF_{1,105} = 0.7750016 + (0.01)(0.1443533) = 0.7764451\n",
       "$"
      ],
      "text/plain": [
       "<IPython.core.display.Math object>"
      ]
     },
     "metadata": {},
     "output_type": "display_data"
    },
    {
     "data": {
      "text/latex": [
       "$\\displaystyle F_{2,105} = f(x_106, y_e) = f(1.06, 0.7764451) = 0.1484018$"
      ],
      "text/plain": [
       "<IPython.core.display.Math object>"
      ]
     },
     "metadata": {},
     "output_type": "display_data"
    },
    {
     "data": {
      "text/latex": [
       "$\\displaystyle y_106 = y_105 + \\frac{1}{2}h(F_{1,105} + F_{2,105}) = 0.7750016 + \\frac{1}{2}(0.01)(0.1443533 + 0.1484018) = 0.7764654$"
      ],
      "text/plain": [
       "<IPython.core.display.Math object>"
      ]
     },
     "metadata": {},
     "output_type": "display_data"
    },
    {
     "data": {
      "text/latex": [
       "$\\displaystyle Approximation\\ to\\ y(x_106 = 1.06) = 0.7764654$"
      ],
      "text/plain": [
       "<IPython.core.display.Math object>"
      ]
     },
     "metadata": {},
     "output_type": "display_data"
    },
    {
     "name": "stdout",
     "output_type": "stream",
     "text": [
      "____________________________________________\n"
     ]
    },
    {
     "data": {
      "text/latex": [
       "$\\displaystyle Set\\ r=106,$"
      ],
      "text/plain": [
       "<IPython.core.display.Math object>"
      ]
     },
     "metadata": {},
     "output_type": "display_data"
    },
    {
     "data": {
      "text/latex": [
       "$\\displaystyle x_106 = 1.06, y_106 = 0.7764654$"
      ],
      "text/plain": [
       "<IPython.core.display.Math object>"
      ]
     },
     "metadata": {},
     "output_type": "display_data"
    },
    {
     "data": {
      "text/latex": [
       "$\\displaystyle F_{1,106} = f(x_106, y_106) = f(1.06, 0.7764654) = 0.1483903$"
      ],
      "text/plain": [
       "<IPython.core.display.Math object>"
      ]
     },
     "metadata": {},
     "output_type": "display_data"
    },
    {
     "data": {
      "text/latex": [
       "$\\displaystyle x_107 = x_106 + h = 1.06 + 0.01 = 1.07$"
      ],
      "text/plain": [
       "<IPython.core.display.Math object>"
      ]
     },
     "metadata": {},
     "output_type": "display_data"
    },
    {
     "data": {
      "text/latex": [
       "$\\displaystyle y_e = y_106 + hF_{1,106} = 0.7764654 + (0.01)(0.1483903) = 0.7779493\n",
       "$"
      ],
      "text/plain": [
       "<IPython.core.display.Math object>"
      ]
     },
     "metadata": {},
     "output_type": "display_data"
    },
    {
     "data": {
      "text/latex": [
       "$\\displaystyle F_{2,106} = f(x_107, y_e) = f(1.07, 0.7779493) = 0.1523937$"
      ],
      "text/plain": [
       "<IPython.core.display.Math object>"
      ]
     },
     "metadata": {},
     "output_type": "display_data"
    },
    {
     "data": {
      "text/latex": [
       "$\\displaystyle y_107 = y_106 + \\frac{1}{2}h(F_{1,106} + F_{2,106}) = 0.7764654 + \\frac{1}{2}(0.01)(0.1483903 + 0.1523937) = 0.7779693$"
      ],
      "text/plain": [
       "<IPython.core.display.Math object>"
      ]
     },
     "metadata": {},
     "output_type": "display_data"
    },
    {
     "data": {
      "text/latex": [
       "$\\displaystyle Approximation\\ to\\ y(x_107 = 1.07) = 0.7779693$"
      ],
      "text/plain": [
       "<IPython.core.display.Math object>"
      ]
     },
     "metadata": {},
     "output_type": "display_data"
    },
    {
     "name": "stdout",
     "output_type": "stream",
     "text": [
      "____________________________________________\n"
     ]
    },
    {
     "data": {
      "text/latex": [
       "$\\displaystyle Set\\ r=107,$"
      ],
      "text/plain": [
       "<IPython.core.display.Math object>"
      ]
     },
     "metadata": {},
     "output_type": "display_data"
    },
    {
     "data": {
      "text/latex": [
       "$\\displaystyle x_107 = 1.07, y_107 = 0.7779693$"
      ],
      "text/plain": [
       "<IPython.core.display.Math object>"
      ]
     },
     "metadata": {},
     "output_type": "display_data"
    },
    {
     "data": {
      "text/latex": [
       "$\\displaystyle F_{1,107} = f(x_107, y_107) = f(1.07, 0.7779693) = 0.1523824$"
      ],
      "text/plain": [
       "<IPython.core.display.Math object>"
      ]
     },
     "metadata": {},
     "output_type": "display_data"
    },
    {
     "data": {
      "text/latex": [
       "$\\displaystyle x_108 = x_107 + h = 1.07 + 0.01 = 1.08$"
      ],
      "text/plain": [
       "<IPython.core.display.Math object>"
      ]
     },
     "metadata": {},
     "output_type": "display_data"
    },
    {
     "data": {
      "text/latex": [
       "$\\displaystyle y_e = y_107 + hF_{1,107} = 0.7779693 + (0.01)(0.1523824) = 0.7794931\n",
       "$"
      ],
      "text/plain": [
       "<IPython.core.display.Math object>"
      ]
     },
     "metadata": {},
     "output_type": "display_data"
    },
    {
     "data": {
      "text/latex": [
       "$\\displaystyle F_{2,107} = f(x_108, y_e) = f(1.08, 0.7794931) = 0.1563414$"
      ],
      "text/plain": [
       "<IPython.core.display.Math object>"
      ]
     },
     "metadata": {},
     "output_type": "display_data"
    },
    {
     "data": {
      "text/latex": [
       "$\\displaystyle y_108 = y_107 + \\frac{1}{2}h(F_{1,107} + F_{2,107}) = 0.7779693 + \\frac{1}{2}(0.01)(0.1523824 + 0.1563414) = 0.7795129$"
      ],
      "text/plain": [
       "<IPython.core.display.Math object>"
      ]
     },
     "metadata": {},
     "output_type": "display_data"
    },
    {
     "data": {
      "text/latex": [
       "$\\displaystyle Approximation\\ to\\ y(x_108 = 1.08) = 0.7795129$"
      ],
      "text/plain": [
       "<IPython.core.display.Math object>"
      ]
     },
     "metadata": {},
     "output_type": "display_data"
    },
    {
     "name": "stdout",
     "output_type": "stream",
     "text": [
      "____________________________________________\n"
     ]
    },
    {
     "data": {
      "text/latex": [
       "$\\displaystyle Set\\ r=108,$"
      ],
      "text/plain": [
       "<IPython.core.display.Math object>"
      ]
     },
     "metadata": {},
     "output_type": "display_data"
    },
    {
     "data": {
      "text/latex": [
       "$\\displaystyle x_108 = 1.08, y_108 = 0.7795129$"
      ],
      "text/plain": [
       "<IPython.core.display.Math object>"
      ]
     },
     "metadata": {},
     "output_type": "display_data"
    },
    {
     "data": {
      "text/latex": [
       "$\\displaystyle F_{1,108} = f(x_108, y_108) = f(1.08, 0.7795129) = 0.1563302$"
      ],
      "text/plain": [
       "<IPython.core.display.Math object>"
      ]
     },
     "metadata": {},
     "output_type": "display_data"
    },
    {
     "data": {
      "text/latex": [
       "$\\displaystyle x_109 = x_108 + h = 1.08 + 0.01 = 1.09$"
      ],
      "text/plain": [
       "<IPython.core.display.Math object>"
      ]
     },
     "metadata": {},
     "output_type": "display_data"
    },
    {
     "data": {
      "text/latex": [
       "$\\displaystyle y_e = y_108 + hF_{1,108} = 0.7795129 + (0.01)(0.1563302) = 0.7810762\n",
       "$"
      ],
      "text/plain": [
       "<IPython.core.display.Math object>"
      ]
     },
     "metadata": {},
     "output_type": "display_data"
    },
    {
     "data": {
      "text/latex": [
       "$\\displaystyle F_{2,108} = f(x_109, y_e) = f(1.09, 0.7810762) = 0.1602455$"
      ],
      "text/plain": [
       "<IPython.core.display.Math object>"
      ]
     },
     "metadata": {},
     "output_type": "display_data"
    },
    {
     "data": {
      "text/latex": [
       "$\\displaystyle y_109 = y_108 + \\frac{1}{2}h(F_{1,108} + F_{2,108}) = 0.7795129 + \\frac{1}{2}(0.01)(0.1563302 + 0.1602455) = 0.7810958$"
      ],
      "text/plain": [
       "<IPython.core.display.Math object>"
      ]
     },
     "metadata": {},
     "output_type": "display_data"
    },
    {
     "data": {
      "text/latex": [
       "$\\displaystyle Approximation\\ to\\ y(x_109 = 1.09) = 0.7810958$"
      ],
      "text/plain": [
       "<IPython.core.display.Math object>"
      ]
     },
     "metadata": {},
     "output_type": "display_data"
    },
    {
     "name": "stdout",
     "output_type": "stream",
     "text": [
      "____________________________________________\n"
     ]
    },
    {
     "data": {
      "text/latex": [
       "$\\displaystyle Set\\ r=109,$"
      ],
      "text/plain": [
       "<IPython.core.display.Math object>"
      ]
     },
     "metadata": {},
     "output_type": "display_data"
    },
    {
     "data": {
      "text/latex": [
       "$\\displaystyle x_109 = 1.09, y_109 = 0.7810958$"
      ],
      "text/plain": [
       "<IPython.core.display.Math object>"
      ]
     },
     "metadata": {},
     "output_type": "display_data"
    },
    {
     "data": {
      "text/latex": [
       "$\\displaystyle F_{1,109} = f(x_109, y_109) = f(1.09, 0.7810958) = 0.1602344$"
      ],
      "text/plain": [
       "<IPython.core.display.Math object>"
      ]
     },
     "metadata": {},
     "output_type": "display_data"
    },
    {
     "data": {
      "text/latex": [
       "$\\displaystyle x_110 = x_109 + h = 1.09 + 0.01 = 1.1$"
      ],
      "text/plain": [
       "<IPython.core.display.Math object>"
      ]
     },
     "metadata": {},
     "output_type": "display_data"
    },
    {
     "data": {
      "text/latex": [
       "$\\displaystyle y_e = y_109 + hF_{1,109} = 0.7810958 + (0.01)(0.1602344) = 0.7826981\n",
       "$"
      ],
      "text/plain": [
       "<IPython.core.display.Math object>"
      ]
     },
     "metadata": {},
     "output_type": "display_data"
    },
    {
     "data": {
      "text/latex": [
       "$\\displaystyle F_{2,109} = f(x_110, y_e) = f(1.1, 0.7826981) = 0.1641066$"
      ],
      "text/plain": [
       "<IPython.core.display.Math object>"
      ]
     },
     "metadata": {},
     "output_type": "display_data"
    },
    {
     "data": {
      "text/latex": [
       "$\\displaystyle y_110 = y_109 + \\frac{1}{2}h(F_{1,109} + F_{2,109}) = 0.7810958 + \\frac{1}{2}(0.01)(0.1602344 + 0.1641066) = 0.7827175$"
      ],
      "text/plain": [
       "<IPython.core.display.Math object>"
      ]
     },
     "metadata": {},
     "output_type": "display_data"
    },
    {
     "data": {
      "text/latex": [
       "$\\displaystyle Approximation\\ to\\ y(x_110 = 1.1) = 0.7827175$"
      ],
      "text/plain": [
       "<IPython.core.display.Math object>"
      ]
     },
     "metadata": {},
     "output_type": "display_data"
    },
    {
     "name": "stdout",
     "output_type": "stream",
     "text": [
      "____________________________________________\n"
     ]
    },
    {
     "data": {
      "text/latex": [
       "$\\displaystyle Set\\ r=110,$"
      ],
      "text/plain": [
       "<IPython.core.display.Math object>"
      ]
     },
     "metadata": {},
     "output_type": "display_data"
    },
    {
     "data": {
      "text/latex": [
       "$\\displaystyle x_110 = 1.1, y_110 = 0.7827175$"
      ],
      "text/plain": [
       "<IPython.core.display.Math object>"
      ]
     },
     "metadata": {},
     "output_type": "display_data"
    },
    {
     "data": {
      "text/latex": [
       "$\\displaystyle F_{1,110} = f(x_110, y_110) = f(1.1, 0.7827175) = 0.1640956$"
      ],
      "text/plain": [
       "<IPython.core.display.Math object>"
      ]
     },
     "metadata": {},
     "output_type": "display_data"
    },
    {
     "data": {
      "text/latex": [
       "$\\displaystyle x_111 = x_110 + h = 1.1 + 0.01 = 1.11$"
      ],
      "text/plain": [
       "<IPython.core.display.Math object>"
      ]
     },
     "metadata": {},
     "output_type": "display_data"
    },
    {
     "data": {
      "text/latex": [
       "$\\displaystyle y_e = y_110 + hF_{1,110} = 0.7827175 + (0.01)(0.1640956) = 0.7843585\n",
       "$"
      ],
      "text/plain": [
       "<IPython.core.display.Math object>"
      ]
     },
     "metadata": {},
     "output_type": "display_data"
    },
    {
     "data": {
      "text/latex": [
       "$\\displaystyle F_{2,110} = f(x_111, y_e) = f(1.11, 0.7843585) = 0.1679252$"
      ],
      "text/plain": [
       "<IPython.core.display.Math object>"
      ]
     },
     "metadata": {},
     "output_type": "display_data"
    },
    {
     "data": {
      "text/latex": [
       "$\\displaystyle y_111 = y_110 + \\frac{1}{2}h(F_{1,110} + F_{2,110}) = 0.7827175 + \\frac{1}{2}(0.01)(0.1640956 + 0.1679252) = 0.7843776$"
      ],
      "text/plain": [
       "<IPython.core.display.Math object>"
      ]
     },
     "metadata": {},
     "output_type": "display_data"
    },
    {
     "data": {
      "text/latex": [
       "$\\displaystyle Approximation\\ to\\ y(x_111 = 1.11) = 0.7843776$"
      ],
      "text/plain": [
       "<IPython.core.display.Math object>"
      ]
     },
     "metadata": {},
     "output_type": "display_data"
    },
    {
     "name": "stdout",
     "output_type": "stream",
     "text": [
      "____________________________________________\n"
     ]
    },
    {
     "data": {
      "text/latex": [
       "$\\displaystyle Set\\ r=111,$"
      ],
      "text/plain": [
       "<IPython.core.display.Math object>"
      ]
     },
     "metadata": {},
     "output_type": "display_data"
    },
    {
     "data": {
      "text/latex": [
       "$\\displaystyle x_111 = 1.11, y_111 = 0.7843776$"
      ],
      "text/plain": [
       "<IPython.core.display.Math object>"
      ]
     },
     "metadata": {},
     "output_type": "display_data"
    },
    {
     "data": {
      "text/latex": [
       "$\\displaystyle F_{1,111} = f(x_111, y_111) = f(1.11, 0.7843776) = 0.1679144$"
      ],
      "text/plain": [
       "<IPython.core.display.Math object>"
      ]
     },
     "metadata": {},
     "output_type": "display_data"
    },
    {
     "data": {
      "text/latex": [
       "$\\displaystyle x_112 = x_111 + h = 1.11 + 0.01 = 1.12$"
      ],
      "text/plain": [
       "<IPython.core.display.Math object>"
      ]
     },
     "metadata": {},
     "output_type": "display_data"
    },
    {
     "data": {
      "text/latex": [
       "$\\displaystyle y_e = y_111 + hF_{1,111} = 0.7843776 + (0.01)(0.1679144) = 0.7860567\n",
       "$"
      ],
      "text/plain": [
       "<IPython.core.display.Math object>"
      ]
     },
     "metadata": {},
     "output_type": "display_data"
    },
    {
     "data": {
      "text/latex": [
       "$\\displaystyle F_{2,111} = f(x_112, y_e) = f(1.12, 0.7860567) = 0.1717021$"
      ],
      "text/plain": [
       "<IPython.core.display.Math object>"
      ]
     },
     "metadata": {},
     "output_type": "display_data"
    },
    {
     "data": {
      "text/latex": [
       "$\\displaystyle y_112 = y_111 + \\frac{1}{2}h(F_{1,111} + F_{2,111}) = 0.7843776 + \\frac{1}{2}(0.01)(0.1679144 + 0.1717021) = 0.7860757$"
      ],
      "text/plain": [
       "<IPython.core.display.Math object>"
      ]
     },
     "metadata": {},
     "output_type": "display_data"
    },
    {
     "data": {
      "text/latex": [
       "$\\displaystyle Approximation\\ to\\ y(x_112 = 1.12) = 0.7860757$"
      ],
      "text/plain": [
       "<IPython.core.display.Math object>"
      ]
     },
     "metadata": {},
     "output_type": "display_data"
    },
    {
     "name": "stdout",
     "output_type": "stream",
     "text": [
      "____________________________________________\n"
     ]
    },
    {
     "data": {
      "text/latex": [
       "$\\displaystyle Set\\ r=112,$"
      ],
      "text/plain": [
       "<IPython.core.display.Math object>"
      ]
     },
     "metadata": {},
     "output_type": "display_data"
    },
    {
     "data": {
      "text/latex": [
       "$\\displaystyle x_112 = 1.12, y_112 = 0.7860757$"
      ],
      "text/plain": [
       "<IPython.core.display.Math object>"
      ]
     },
     "metadata": {},
     "output_type": "display_data"
    },
    {
     "data": {
      "text/latex": [
       "$\\displaystyle F_{1,112} = f(x_112, y_112) = f(1.12, 0.7860757) = 0.1716914$"
      ],
      "text/plain": [
       "<IPython.core.display.Math object>"
      ]
     },
     "metadata": {},
     "output_type": "display_data"
    },
    {
     "data": {
      "text/latex": [
       "$\\displaystyle x_113 = x_112 + h = 1.12 + 0.01 = 1.13$"
      ],
      "text/plain": [
       "<IPython.core.display.Math object>"
      ]
     },
     "metadata": {},
     "output_type": "display_data"
    },
    {
     "data": {
      "text/latex": [
       "$\\displaystyle y_e = y_112 + hF_{1,112} = 0.7860757 + (0.01)(0.1716914) = 0.7877926\n",
       "$"
      ],
      "text/plain": [
       "<IPython.core.display.Math object>"
      ]
     },
     "metadata": {},
     "output_type": "display_data"
    },
    {
     "data": {
      "text/latex": [
       "$\\displaystyle F_{2,112} = f(x_113, y_e) = f(1.13, 0.7877926) = 0.1754378$"
      ],
      "text/plain": [
       "<IPython.core.display.Math object>"
      ]
     },
     "metadata": {},
     "output_type": "display_data"
    },
    {
     "data": {
      "text/latex": [
       "$\\displaystyle y_113 = y_112 + \\frac{1}{2}h(F_{1,112} + F_{2,112}) = 0.7860757 + \\frac{1}{2}(0.01)(0.1716914 + 0.1754378) = 0.7878113$"
      ],
      "text/plain": [
       "<IPython.core.display.Math object>"
      ]
     },
     "metadata": {},
     "output_type": "display_data"
    },
    {
     "data": {
      "text/latex": [
       "$\\displaystyle Approximation\\ to\\ y(x_113 = 1.13) = 0.7878113$"
      ],
      "text/plain": [
       "<IPython.core.display.Math object>"
      ]
     },
     "metadata": {},
     "output_type": "display_data"
    },
    {
     "name": "stdout",
     "output_type": "stream",
     "text": [
      "____________________________________________\n"
     ]
    },
    {
     "data": {
      "text/latex": [
       "$\\displaystyle Set\\ r=113,$"
      ],
      "text/plain": [
       "<IPython.core.display.Math object>"
      ]
     },
     "metadata": {},
     "output_type": "display_data"
    },
    {
     "data": {
      "text/latex": [
       "$\\displaystyle x_113 = 1.13, y_113 = 0.7878113$"
      ],
      "text/plain": [
       "<IPython.core.display.Math object>"
      ]
     },
     "metadata": {},
     "output_type": "display_data"
    },
    {
     "data": {
      "text/latex": [
       "$\\displaystyle F_{1,113} = f(x_113, y_113) = f(1.13, 0.7878113) = 0.1754272$"
      ],
      "text/plain": [
       "<IPython.core.display.Math object>"
      ]
     },
     "metadata": {},
     "output_type": "display_data"
    },
    {
     "data": {
      "text/latex": [
       "$\\displaystyle x_114 = x_113 + h = 1.13 + 0.01 = 1.14$"
      ],
      "text/plain": [
       "<IPython.core.display.Math object>"
      ]
     },
     "metadata": {},
     "output_type": "display_data"
    },
    {
     "data": {
      "text/latex": [
       "$\\displaystyle y_e = y_113 + hF_{1,113} = 0.7878113 + (0.01)(0.1754272) = 0.7895656\n",
       "$"
      ],
      "text/plain": [
       "<IPython.core.display.Math object>"
      ]
     },
     "metadata": {},
     "output_type": "display_data"
    },
    {
     "data": {
      "text/latex": [
       "$\\displaystyle F_{2,113} = f(x_114, y_e) = f(1.14, 0.7895656) = 0.1791328$"
      ],
      "text/plain": [
       "<IPython.core.display.Math object>"
      ]
     },
     "metadata": {},
     "output_type": "display_data"
    },
    {
     "data": {
      "text/latex": [
       "$\\displaystyle y_114 = y_113 + \\frac{1}{2}h(F_{1,113} + F_{2,113}) = 0.7878113 + \\frac{1}{2}(0.01)(0.1754272 + 0.1791328) = 0.7895841$"
      ],
      "text/plain": [
       "<IPython.core.display.Math object>"
      ]
     },
     "metadata": {},
     "output_type": "display_data"
    },
    {
     "data": {
      "text/latex": [
       "$\\displaystyle Approximation\\ to\\ y(x_114 = 1.14) = 0.7895841$"
      ],
      "text/plain": [
       "<IPython.core.display.Math object>"
      ]
     },
     "metadata": {},
     "output_type": "display_data"
    },
    {
     "name": "stdout",
     "output_type": "stream",
     "text": [
      "____________________________________________\n"
     ]
    },
    {
     "data": {
      "text/latex": [
       "$\\displaystyle Set\\ r=114,$"
      ],
      "text/plain": [
       "<IPython.core.display.Math object>"
      ]
     },
     "metadata": {},
     "output_type": "display_data"
    },
    {
     "data": {
      "text/latex": [
       "$\\displaystyle x_114 = 1.14, y_114 = 0.7895841$"
      ],
      "text/plain": [
       "<IPython.core.display.Math object>"
      ]
     },
     "metadata": {},
     "output_type": "display_data"
    },
    {
     "data": {
      "text/latex": [
       "$\\displaystyle F_{1,114} = f(x_114, y_114) = f(1.14, 0.7895841) = 0.1791224$"
      ],
      "text/plain": [
       "<IPython.core.display.Math object>"
      ]
     },
     "metadata": {},
     "output_type": "display_data"
    },
    {
     "data": {
      "text/latex": [
       "$\\displaystyle x_115 = x_114 + h = 1.14 + 0.01 = 1.15$"
      ],
      "text/plain": [
       "<IPython.core.display.Math object>"
      ]
     },
     "metadata": {},
     "output_type": "display_data"
    },
    {
     "data": {
      "text/latex": [
       "$\\displaystyle y_e = y_114 + hF_{1,114} = 0.7895841 + (0.01)(0.1791224) = 0.7913753\n",
       "$"
      ],
      "text/plain": [
       "<IPython.core.display.Math object>"
      ]
     },
     "metadata": {},
     "output_type": "display_data"
    },
    {
     "data": {
      "text/latex": [
       "$\\displaystyle F_{2,114} = f(x_115, y_e) = f(1.15, 0.7913753) = 0.1827878$"
      ],
      "text/plain": [
       "<IPython.core.display.Math object>"
      ]
     },
     "metadata": {},
     "output_type": "display_data"
    },
    {
     "data": {
      "text/latex": [
       "$\\displaystyle y_115 = y_114 + \\frac{1}{2}h(F_{1,114} + F_{2,114}) = 0.7895841 + \\frac{1}{2}(0.01)(0.1791224 + 0.1827878) = 0.7913937$"
      ],
      "text/plain": [
       "<IPython.core.display.Math object>"
      ]
     },
     "metadata": {},
     "output_type": "display_data"
    },
    {
     "data": {
      "text/latex": [
       "$\\displaystyle Approximation\\ to\\ y(x_115 = 1.15) = 0.7913937$"
      ],
      "text/plain": [
       "<IPython.core.display.Math object>"
      ]
     },
     "metadata": {},
     "output_type": "display_data"
    },
    {
     "name": "stdout",
     "output_type": "stream",
     "text": [
      "____________________________________________\n"
     ]
    },
    {
     "data": {
      "text/latex": [
       "$\\displaystyle Set\\ r=115,$"
      ],
      "text/plain": [
       "<IPython.core.display.Math object>"
      ]
     },
     "metadata": {},
     "output_type": "display_data"
    },
    {
     "data": {
      "text/latex": [
       "$\\displaystyle x_115 = 1.15, y_115 = 0.7913937$"
      ],
      "text/plain": [
       "<IPython.core.display.Math object>"
      ]
     },
     "metadata": {},
     "output_type": "display_data"
    },
    {
     "data": {
      "text/latex": [
       "$\\displaystyle F_{1,115} = f(x_115, y_115) = f(1.15, 0.7913937) = 0.1827774$"
      ],
      "text/plain": [
       "<IPython.core.display.Math object>"
      ]
     },
     "metadata": {},
     "output_type": "display_data"
    },
    {
     "data": {
      "text/latex": [
       "$\\displaystyle x_116 = x_115 + h = 1.15 + 0.01 = 1.16$"
      ],
      "text/plain": [
       "<IPython.core.display.Math object>"
      ]
     },
     "metadata": {},
     "output_type": "display_data"
    },
    {
     "data": {
      "text/latex": [
       "$\\displaystyle y_e = y_115 + hF_{1,115} = 0.7913937 + (0.01)(0.1827774) = 0.7932215\n",
       "$"
      ],
      "text/plain": [
       "<IPython.core.display.Math object>"
      ]
     },
     "metadata": {},
     "output_type": "display_data"
    },
    {
     "data": {
      "text/latex": [
       "$\\displaystyle F_{2,115} = f(x_116, y_e) = f(1.16, 0.7932215) = 0.1864031$"
      ],
      "text/plain": [
       "<IPython.core.display.Math object>"
      ]
     },
     "metadata": {},
     "output_type": "display_data"
    },
    {
     "data": {
      "text/latex": [
       "$\\displaystyle y_116 = y_115 + \\frac{1}{2}h(F_{1,115} + F_{2,115}) = 0.7913937 + \\frac{1}{2}(0.01)(0.1827774 + 0.1864031) = 0.7932396$"
      ],
      "text/plain": [
       "<IPython.core.display.Math object>"
      ]
     },
     "metadata": {},
     "output_type": "display_data"
    },
    {
     "data": {
      "text/latex": [
       "$\\displaystyle Approximation\\ to\\ y(x_116 = 1.16) = 0.7932396$"
      ],
      "text/plain": [
       "<IPython.core.display.Math object>"
      ]
     },
     "metadata": {},
     "output_type": "display_data"
    },
    {
     "name": "stdout",
     "output_type": "stream",
     "text": [
      "____________________________________________\n"
     ]
    },
    {
     "data": {
      "text/latex": [
       "$\\displaystyle Set\\ r=116,$"
      ],
      "text/plain": [
       "<IPython.core.display.Math object>"
      ]
     },
     "metadata": {},
     "output_type": "display_data"
    },
    {
     "data": {
      "text/latex": [
       "$\\displaystyle x_116 = 1.16, y_116 = 0.7932396$"
      ],
      "text/plain": [
       "<IPython.core.display.Math object>"
      ]
     },
     "metadata": {},
     "output_type": "display_data"
    },
    {
     "data": {
      "text/latex": [
       "$\\displaystyle F_{1,116} = f(x_116, y_116) = f(1.16, 0.7932396) = 0.1863930$"
      ],
      "text/plain": [
       "<IPython.core.display.Math object>"
      ]
     },
     "metadata": {},
     "output_type": "display_data"
    },
    {
     "data": {
      "text/latex": [
       "$\\displaystyle x_117 = x_116 + h = 1.16 + 0.01 = 1.17$"
      ],
      "text/plain": [
       "<IPython.core.display.Math object>"
      ]
     },
     "metadata": {},
     "output_type": "display_data"
    },
    {
     "data": {
      "text/latex": [
       "$\\displaystyle y_e = y_116 + hF_{1,116} = 0.7932396 + (0.01)(0.1863930) = 0.7951035\n",
       "$"
      ],
      "text/plain": [
       "<IPython.core.display.Math object>"
      ]
     },
     "metadata": {},
     "output_type": "display_data"
    },
    {
     "data": {
      "text/latex": [
       "$\\displaystyle F_{2,116} = f(x_117, y_e) = f(1.17, 0.7951035) = 0.1899796$"
      ],
      "text/plain": [
       "<IPython.core.display.Math object>"
      ]
     },
     "metadata": {},
     "output_type": "display_data"
    },
    {
     "data": {
      "text/latex": [
       "$\\displaystyle y_117 = y_116 + \\frac{1}{2}h(F_{1,116} + F_{2,116}) = 0.7932396 + \\frac{1}{2}(0.01)(0.1863930 + 0.1899796) = 0.7951215$"
      ],
      "text/plain": [
       "<IPython.core.display.Math object>"
      ]
     },
     "metadata": {},
     "output_type": "display_data"
    },
    {
     "data": {
      "text/latex": [
       "$\\displaystyle Approximation\\ to\\ y(x_117 = 1.17) = 0.7951215$"
      ],
      "text/plain": [
       "<IPython.core.display.Math object>"
      ]
     },
     "metadata": {},
     "output_type": "display_data"
    },
    {
     "name": "stdout",
     "output_type": "stream",
     "text": [
      "____________________________________________\n"
     ]
    },
    {
     "data": {
      "text/latex": [
       "$\\displaystyle Set\\ r=117,$"
      ],
      "text/plain": [
       "<IPython.core.display.Math object>"
      ]
     },
     "metadata": {},
     "output_type": "display_data"
    },
    {
     "data": {
      "text/latex": [
       "$\\displaystyle x_117 = 1.17, y_117 = 0.7951215$"
      ],
      "text/plain": [
       "<IPython.core.display.Math object>"
      ]
     },
     "metadata": {},
     "output_type": "display_data"
    },
    {
     "data": {
      "text/latex": [
       "$\\displaystyle F_{1,117} = f(x_117, y_117) = f(1.17, 0.7951215) = 0.1899695$"
      ],
      "text/plain": [
       "<IPython.core.display.Math object>"
      ]
     },
     "metadata": {},
     "output_type": "display_data"
    },
    {
     "data": {
      "text/latex": [
       "$\\displaystyle x_118 = x_117 + h = 1.17 + 0.01 = 1.18$"
      ],
      "text/plain": [
       "<IPython.core.display.Math object>"
      ]
     },
     "metadata": {},
     "output_type": "display_data"
    },
    {
     "data": {
      "text/latex": [
       "$\\displaystyle y_e = y_117 + hF_{1,117} = 0.7951215 + (0.01)(0.1899695) = 0.7970212\n",
       "$"
      ],
      "text/plain": [
       "<IPython.core.display.Math object>"
      ]
     },
     "metadata": {},
     "output_type": "display_data"
    },
    {
     "data": {
      "text/latex": [
       "$\\displaystyle F_{2,117} = f(x_118, y_e) = f(1.18, 0.7970212) = 0.1935176$"
      ],
      "text/plain": [
       "<IPython.core.display.Math object>"
      ]
     },
     "metadata": {},
     "output_type": "display_data"
    },
    {
     "data": {
      "text/latex": [
       "$\\displaystyle y_118 = y_117 + \\frac{1}{2}h(F_{1,117} + F_{2,117}) = 0.7951215 + \\frac{1}{2}(0.01)(0.1899695 + 0.1935176) = 0.7970389$"
      ],
      "text/plain": [
       "<IPython.core.display.Math object>"
      ]
     },
     "metadata": {},
     "output_type": "display_data"
    },
    {
     "data": {
      "text/latex": [
       "$\\displaystyle Approximation\\ to\\ y(x_118 = 1.18) = 0.7970389$"
      ],
      "text/plain": [
       "<IPython.core.display.Math object>"
      ]
     },
     "metadata": {},
     "output_type": "display_data"
    },
    {
     "name": "stdout",
     "output_type": "stream",
     "text": [
      "____________________________________________\n"
     ]
    },
    {
     "data": {
      "text/latex": [
       "$\\displaystyle Set\\ r=118,$"
      ],
      "text/plain": [
       "<IPython.core.display.Math object>"
      ]
     },
     "metadata": {},
     "output_type": "display_data"
    },
    {
     "data": {
      "text/latex": [
       "$\\displaystyle x_118 = 1.18, y_118 = 0.7970389$"
      ],
      "text/plain": [
       "<IPython.core.display.Math object>"
      ]
     },
     "metadata": {},
     "output_type": "display_data"
    },
    {
     "data": {
      "text/latex": [
       "$\\displaystyle F_{1,118} = f(x_118, y_118) = f(1.18, 0.7970389) = 0.1935077$"
      ],
      "text/plain": [
       "<IPython.core.display.Math object>"
      ]
     },
     "metadata": {},
     "output_type": "display_data"
    },
    {
     "data": {
      "text/latex": [
       "$\\displaystyle x_119 = x_118 + h = 1.18 + 0.01 = 1.19$"
      ],
      "text/plain": [
       "<IPython.core.display.Math object>"
      ]
     },
     "metadata": {},
     "output_type": "display_data"
    },
    {
     "data": {
      "text/latex": [
       "$\\displaystyle y_e = y_118 + hF_{1,118} = 0.7970389 + (0.01)(0.1935077) = 0.7989740\n",
       "$"
      ],
      "text/plain": [
       "<IPython.core.display.Math object>"
      ]
     },
     "metadata": {},
     "output_type": "display_data"
    },
    {
     "data": {
      "text/latex": [
       "$\\displaystyle F_{2,118} = f(x_119, y_e) = f(1.19, 0.7989740) = 0.1970178$"
      ],
      "text/plain": [
       "<IPython.core.display.Math object>"
      ]
     },
     "metadata": {},
     "output_type": "display_data"
    },
    {
     "data": {
      "text/latex": [
       "$\\displaystyle y_119 = y_118 + \\frac{1}{2}h(F_{1,118} + F_{2,118}) = 0.7970389 + \\frac{1}{2}(0.01)(0.1935077 + 0.1970178) = 0.7989915$"
      ],
      "text/plain": [
       "<IPython.core.display.Math object>"
      ]
     },
     "metadata": {},
     "output_type": "display_data"
    },
    {
     "data": {
      "text/latex": [
       "$\\displaystyle Approximation\\ to\\ y(x_119 = 1.19) = 0.7989915$"
      ],
      "text/plain": [
       "<IPython.core.display.Math object>"
      ]
     },
     "metadata": {},
     "output_type": "display_data"
    },
    {
     "name": "stdout",
     "output_type": "stream",
     "text": [
      "____________________________________________\n"
     ]
    },
    {
     "data": {
      "text/latex": [
       "$\\displaystyle Set\\ r=119,$"
      ],
      "text/plain": [
       "<IPython.core.display.Math object>"
      ]
     },
     "metadata": {},
     "output_type": "display_data"
    },
    {
     "data": {
      "text/latex": [
       "$\\displaystyle x_119 = 1.19, y_119 = 0.7989915$"
      ],
      "text/plain": [
       "<IPython.core.display.Math object>"
      ]
     },
     "metadata": {},
     "output_type": "display_data"
    },
    {
     "data": {
      "text/latex": [
       "$\\displaystyle F_{1,119} = f(x_119, y_119) = f(1.19, 0.7989915) = 0.1970080$"
      ],
      "text/plain": [
       "<IPython.core.display.Math object>"
      ]
     },
     "metadata": {},
     "output_type": "display_data"
    },
    {
     "data": {
      "text/latex": [
       "$\\displaystyle x_120 = x_119 + h = 1.19 + 0.01 = 1.2$"
      ],
      "text/plain": [
       "<IPython.core.display.Math object>"
      ]
     },
     "metadata": {},
     "output_type": "display_data"
    },
    {
     "data": {
      "text/latex": [
       "$\\displaystyle y_e = y_119 + hF_{1,119} = 0.7989915 + (0.01)(0.1970080) = 0.8009616\n",
       "$"
      ],
      "text/plain": [
       "<IPython.core.display.Math object>"
      ]
     },
     "metadata": {},
     "output_type": "display_data"
    },
    {
     "data": {
      "text/latex": [
       "$\\displaystyle F_{2,119} = f(x_120, y_e) = f(1.2, 0.8009616) = 0.2004805$"
      ],
      "text/plain": [
       "<IPython.core.display.Math object>"
      ]
     },
     "metadata": {},
     "output_type": "display_data"
    },
    {
     "data": {
      "text/latex": [
       "$\\displaystyle y_120 = y_119 + \\frac{1}{2}h(F_{1,119} + F_{2,119}) = 0.7989915 + \\frac{1}{2}(0.01)(0.1970080 + 0.2004805) = 0.8009789$"
      ],
      "text/plain": [
       "<IPython.core.display.Math object>"
      ]
     },
     "metadata": {},
     "output_type": "display_data"
    },
    {
     "data": {
      "text/latex": [
       "$\\displaystyle Approximation\\ to\\ y(x_120 = 1.2) = 0.8009789$"
      ],
      "text/plain": [
       "<IPython.core.display.Math object>"
      ]
     },
     "metadata": {},
     "output_type": "display_data"
    },
    {
     "name": "stdout",
     "output_type": "stream",
     "text": [
      "____________________________________________\n"
     ]
    },
    {
     "data": {
      "text/latex": [
       "$\\displaystyle Set\\ r=120,$"
      ],
      "text/plain": [
       "<IPython.core.display.Math object>"
      ]
     },
     "metadata": {},
     "output_type": "display_data"
    },
    {
     "data": {
      "text/latex": [
       "$\\displaystyle x_120 = 1.2, y_120 = 0.8009789$"
      ],
      "text/plain": [
       "<IPython.core.display.Math object>"
      ]
     },
     "metadata": {},
     "output_type": "display_data"
    },
    {
     "data": {
      "text/latex": [
       "$\\displaystyle F_{1,120} = f(x_120, y_120) = f(1.2, 0.8009789) = 0.2004709$"
      ],
      "text/plain": [
       "<IPython.core.display.Math object>"
      ]
     },
     "metadata": {},
     "output_type": "display_data"
    },
    {
     "data": {
      "text/latex": [
       "$\\displaystyle x_121 = x_120 + h = 1.2 + 0.01 = 1.21$"
      ],
      "text/plain": [
       "<IPython.core.display.Math object>"
      ]
     },
     "metadata": {},
     "output_type": "display_data"
    },
    {
     "data": {
      "text/latex": [
       "$\\displaystyle y_e = y_120 + hF_{1,120} = 0.8009789 + (0.01)(0.2004709) = 0.8029836\n",
       "$"
      ],
      "text/plain": [
       "<IPython.core.display.Math object>"
      ]
     },
     "metadata": {},
     "output_type": "display_data"
    },
    {
     "data": {
      "text/latex": [
       "$\\displaystyle F_{2,120} = f(x_121, y_e) = f(1.21, 0.8029836) = 0.2039065$"
      ],
      "text/plain": [
       "<IPython.core.display.Math object>"
      ]
     },
     "metadata": {},
     "output_type": "display_data"
    },
    {
     "data": {
      "text/latex": [
       "$\\displaystyle y_121 = y_120 + \\frac{1}{2}h(F_{1,120} + F_{2,120}) = 0.8009789 + \\frac{1}{2}(0.01)(0.2004709 + 0.2039065) = 0.8030008$"
      ],
      "text/plain": [
       "<IPython.core.display.Math object>"
      ]
     },
     "metadata": {},
     "output_type": "display_data"
    },
    {
     "data": {
      "text/latex": [
       "$\\displaystyle Approximation\\ to\\ y(x_121 = 1.21) = 0.8030008$"
      ],
      "text/plain": [
       "<IPython.core.display.Math object>"
      ]
     },
     "metadata": {},
     "output_type": "display_data"
    },
    {
     "name": "stdout",
     "output_type": "stream",
     "text": [
      "____________________________________________\n"
     ]
    },
    {
     "data": {
      "text/latex": [
       "$\\displaystyle Set\\ r=121,$"
      ],
      "text/plain": [
       "<IPython.core.display.Math object>"
      ]
     },
     "metadata": {},
     "output_type": "display_data"
    },
    {
     "data": {
      "text/latex": [
       "$\\displaystyle x_121 = 1.21, y_121 = 0.8030008$"
      ],
      "text/plain": [
       "<IPython.core.display.Math object>"
      ]
     },
     "metadata": {},
     "output_type": "display_data"
    },
    {
     "data": {
      "text/latex": [
       "$\\displaystyle F_{1,121} = f(x_121, y_121) = f(1.21, 0.8030008) = 0.2038969$"
      ],
      "text/plain": [
       "<IPython.core.display.Math object>"
      ]
     },
     "metadata": {},
     "output_type": "display_data"
    },
    {
     "data": {
      "text/latex": [
       "$\\displaystyle x_122 = x_121 + h = 1.21 + 0.01 = 1.22$"
      ],
      "text/plain": [
       "<IPython.core.display.Math object>"
      ]
     },
     "metadata": {},
     "output_type": "display_data"
    },
    {
     "data": {
      "text/latex": [
       "$\\displaystyle y_e = y_121 + hF_{1,121} = 0.8030008 + (0.01)(0.2038969) = 0.8050398\n",
       "$"
      ],
      "text/plain": [
       "<IPython.core.display.Math object>"
      ]
     },
     "metadata": {},
     "output_type": "display_data"
    },
    {
     "data": {
      "text/latex": [
       "$\\displaystyle F_{2,121} = f(x_122, y_e) = f(1.22, 0.8050398) = 0.2072960$"
      ],
      "text/plain": [
       "<IPython.core.display.Math object>"
      ]
     },
     "metadata": {},
     "output_type": "display_data"
    },
    {
     "data": {
      "text/latex": [
       "$\\displaystyle y_122 = y_121 + \\frac{1}{2}h(F_{1,121} + F_{2,121}) = 0.8030008 + \\frac{1}{2}(0.01)(0.2038969 + 0.2072960) = 0.8050568$"
      ],
      "text/plain": [
       "<IPython.core.display.Math object>"
      ]
     },
     "metadata": {},
     "output_type": "display_data"
    },
    {
     "data": {
      "text/latex": [
       "$\\displaystyle Approximation\\ to\\ y(x_122 = 1.22) = 0.8050568$"
      ],
      "text/plain": [
       "<IPython.core.display.Math object>"
      ]
     },
     "metadata": {},
     "output_type": "display_data"
    },
    {
     "name": "stdout",
     "output_type": "stream",
     "text": [
      "____________________________________________\n"
     ]
    },
    {
     "data": {
      "text/latex": [
       "$\\displaystyle Set\\ r=122,$"
      ],
      "text/plain": [
       "<IPython.core.display.Math object>"
      ]
     },
     "metadata": {},
     "output_type": "display_data"
    },
    {
     "data": {
      "text/latex": [
       "$\\displaystyle x_122 = 1.22, y_122 = 0.8050568$"
      ],
      "text/plain": [
       "<IPython.core.display.Math object>"
      ]
     },
     "metadata": {},
     "output_type": "display_data"
    },
    {
     "data": {
      "text/latex": [
       "$\\displaystyle F_{1,122} = f(x_122, y_122) = f(1.22, 0.8050568) = 0.2072865$"
      ],
      "text/plain": [
       "<IPython.core.display.Math object>"
      ]
     },
     "metadata": {},
     "output_type": "display_data"
    },
    {
     "data": {
      "text/latex": [
       "$\\displaystyle x_123 = x_122 + h = 1.22 + 0.01 = 1.23$"
      ],
      "text/plain": [
       "<IPython.core.display.Math object>"
      ]
     },
     "metadata": {},
     "output_type": "display_data"
    },
    {
     "data": {
      "text/latex": [
       "$\\displaystyle y_e = y_122 + hF_{1,122} = 0.8050568 + (0.01)(0.2072865) = 0.8071297\n",
       "$"
      ],
      "text/plain": [
       "<IPython.core.display.Math object>"
      ]
     },
     "metadata": {},
     "output_type": "display_data"
    },
    {
     "data": {
      "text/latex": [
       "$\\displaystyle F_{2,122} = f(x_123, y_e) = f(1.23, 0.8071297) = 0.2106497$"
      ],
      "text/plain": [
       "<IPython.core.display.Math object>"
      ]
     },
     "metadata": {},
     "output_type": "display_data"
    },
    {
     "data": {
      "text/latex": [
       "$\\displaystyle y_123 = y_122 + \\frac{1}{2}h(F_{1,122} + F_{2,122}) = 0.8050568 + \\frac{1}{2}(0.01)(0.2072865 + 0.2106497) = 0.8071465$"
      ],
      "text/plain": [
       "<IPython.core.display.Math object>"
      ]
     },
     "metadata": {},
     "output_type": "display_data"
    },
    {
     "data": {
      "text/latex": [
       "$\\displaystyle Approximation\\ to\\ y(x_123 = 1.23) = 0.8071465$"
      ],
      "text/plain": [
       "<IPython.core.display.Math object>"
      ]
     },
     "metadata": {},
     "output_type": "display_data"
    },
    {
     "name": "stdout",
     "output_type": "stream",
     "text": [
      "____________________________________________\n"
     ]
    },
    {
     "data": {
      "text/latex": [
       "$\\displaystyle Set\\ r=123,$"
      ],
      "text/plain": [
       "<IPython.core.display.Math object>"
      ]
     },
     "metadata": {},
     "output_type": "display_data"
    },
    {
     "data": {
      "text/latex": [
       "$\\displaystyle x_123 = 1.23, y_123 = 0.8071465$"
      ],
      "text/plain": [
       "<IPython.core.display.Math object>"
      ]
     },
     "metadata": {},
     "output_type": "display_data"
    },
    {
     "data": {
      "text/latex": [
       "$\\displaystyle F_{1,123} = f(x_123, y_123) = f(1.23, 0.8071465) = 0.2106403$"
      ],
      "text/plain": [
       "<IPython.core.display.Math object>"
      ]
     },
     "metadata": {},
     "output_type": "display_data"
    },
    {
     "data": {
      "text/latex": [
       "$\\displaystyle x_124 = x_123 + h = 1.23 + 0.01 = 1.24$"
      ],
      "text/plain": [
       "<IPython.core.display.Math object>"
      ]
     },
     "metadata": {},
     "output_type": "display_data"
    },
    {
     "data": {
      "text/latex": [
       "$\\displaystyle y_e = y_123 + hF_{1,123} = 0.8071465 + (0.01)(0.2106403) = 0.8092529\n",
       "$"
      ],
      "text/plain": [
       "<IPython.core.display.Math object>"
      ]
     },
     "metadata": {},
     "output_type": "display_data"
    },
    {
     "data": {
      "text/latex": [
       "$\\displaystyle F_{2,123} = f(x_124, y_e) = f(1.24, 0.8092529) = 0.2139680$"
      ],
      "text/plain": [
       "<IPython.core.display.Math object>"
      ]
     },
     "metadata": {},
     "output_type": "display_data"
    },
    {
     "data": {
      "text/latex": [
       "$\\displaystyle y_124 = y_123 + \\frac{1}{2}h(F_{1,123} + F_{2,123}) = 0.8071465 + \\frac{1}{2}(0.01)(0.2106403 + 0.2139680) = 0.8092695$"
      ],
      "text/plain": [
       "<IPython.core.display.Math object>"
      ]
     },
     "metadata": {},
     "output_type": "display_data"
    },
    {
     "data": {
      "text/latex": [
       "$\\displaystyle Approximation\\ to\\ y(x_124 = 1.24) = 0.8092695$"
      ],
      "text/plain": [
       "<IPython.core.display.Math object>"
      ]
     },
     "metadata": {},
     "output_type": "display_data"
    },
    {
     "name": "stdout",
     "output_type": "stream",
     "text": [
      "____________________________________________\n"
     ]
    },
    {
     "data": {
      "text/latex": [
       "$\\displaystyle Set\\ r=124,$"
      ],
      "text/plain": [
       "<IPython.core.display.Math object>"
      ]
     },
     "metadata": {},
     "output_type": "display_data"
    },
    {
     "data": {
      "text/latex": [
       "$\\displaystyle x_124 = 1.24, y_124 = 0.8092695$"
      ],
      "text/plain": [
       "<IPython.core.display.Math object>"
      ]
     },
     "metadata": {},
     "output_type": "display_data"
    },
    {
     "data": {
      "text/latex": [
       "$\\displaystyle F_{1,124} = f(x_124, y_124) = f(1.24, 0.8092695) = 0.2139588$"
      ],
      "text/plain": [
       "<IPython.core.display.Math object>"
      ]
     },
     "metadata": {},
     "output_type": "display_data"
    },
    {
     "data": {
      "text/latex": [
       "$\\displaystyle x_125 = x_124 + h = 1.24 + 0.01 = 1.25$"
      ],
      "text/plain": [
       "<IPython.core.display.Math object>"
      ]
     },
     "metadata": {},
     "output_type": "display_data"
    },
    {
     "data": {
      "text/latex": [
       "$\\displaystyle y_e = y_124 + hF_{1,124} = 0.8092695 + (0.01)(0.2139588) = 0.8114091\n",
       "$"
      ],
      "text/plain": [
       "<IPython.core.display.Math object>"
      ]
     },
     "metadata": {},
     "output_type": "display_data"
    },
    {
     "data": {
      "text/latex": [
       "$\\displaystyle F_{2,124} = f(x_125, y_e) = f(1.25, 0.8114091) = 0.2172515$"
      ],
      "text/plain": [
       "<IPython.core.display.Math object>"
      ]
     },
     "metadata": {},
     "output_type": "display_data"
    },
    {
     "data": {
      "text/latex": [
       "$\\displaystyle y_125 = y_124 + \\frac{1}{2}h(F_{1,124} + F_{2,124}) = 0.8092695 + \\frac{1}{2}(0.01)(0.2139588 + 0.2172515) = 0.8114256$"
      ],
      "text/plain": [
       "<IPython.core.display.Math object>"
      ]
     },
     "metadata": {},
     "output_type": "display_data"
    },
    {
     "data": {
      "text/latex": [
       "$\\displaystyle Approximation\\ to\\ y(x_125 = 1.25) = 0.8114256$"
      ],
      "text/plain": [
       "<IPython.core.display.Math object>"
      ]
     },
     "metadata": {},
     "output_type": "display_data"
    },
    {
     "name": "stdout",
     "output_type": "stream",
     "text": [
      "____________________________________________\n"
     ]
    },
    {
     "data": {
      "text/latex": [
       "$\\displaystyle Set\\ r=125,$"
      ],
      "text/plain": [
       "<IPython.core.display.Math object>"
      ]
     },
     "metadata": {},
     "output_type": "display_data"
    },
    {
     "data": {
      "text/latex": [
       "$\\displaystyle x_125 = 1.25, y_125 = 0.8114256$"
      ],
      "text/plain": [
       "<IPython.core.display.Math object>"
      ]
     },
     "metadata": {},
     "output_type": "display_data"
    },
    {
     "data": {
      "text/latex": [
       "$\\displaystyle F_{1,125} = f(x_125, y_125) = f(1.25, 0.8114256) = 0.2172423$"
      ],
      "text/plain": [
       "<IPython.core.display.Math object>"
      ]
     },
     "metadata": {},
     "output_type": "display_data"
    },
    {
     "data": {
      "text/latex": [
       "$\\displaystyle x_126 = x_125 + h = 1.25 + 0.01 = 1.26$"
      ],
      "text/plain": [
       "<IPython.core.display.Math object>"
      ]
     },
     "metadata": {},
     "output_type": "display_data"
    },
    {
     "data": {
      "text/latex": [
       "$\\displaystyle y_e = y_125 + hF_{1,125} = 0.8114256 + (0.01)(0.2172423) = 0.8135980\n",
       "$"
      ],
      "text/plain": [
       "<IPython.core.display.Math object>"
      ]
     },
     "metadata": {},
     "output_type": "display_data"
    },
    {
     "data": {
      "text/latex": [
       "$\\displaystyle F_{2,125} = f(x_126, y_e) = f(1.26, 0.8135980) = 0.2205005$"
      ],
      "text/plain": [
       "<IPython.core.display.Math object>"
      ]
     },
     "metadata": {},
     "output_type": "display_data"
    },
    {
     "data": {
      "text/latex": [
       "$\\displaystyle y_126 = y_125 + \\frac{1}{2}h(F_{1,125} + F_{2,125}) = 0.8114256 + \\frac{1}{2}(0.01)(0.2172423 + 0.2205005) = 0.8136143$"
      ],
      "text/plain": [
       "<IPython.core.display.Math object>"
      ]
     },
     "metadata": {},
     "output_type": "display_data"
    },
    {
     "data": {
      "text/latex": [
       "$\\displaystyle Approximation\\ to\\ y(x_126 = 1.26) = 0.8136143$"
      ],
      "text/plain": [
       "<IPython.core.display.Math object>"
      ]
     },
     "metadata": {},
     "output_type": "display_data"
    },
    {
     "name": "stdout",
     "output_type": "stream",
     "text": [
      "____________________________________________\n"
     ]
    },
    {
     "data": {
      "text/latex": [
       "$\\displaystyle Set\\ r=126,$"
      ],
      "text/plain": [
       "<IPython.core.display.Math object>"
      ]
     },
     "metadata": {},
     "output_type": "display_data"
    },
    {
     "data": {
      "text/latex": [
       "$\\displaystyle x_126 = 1.26, y_126 = 0.8136143$"
      ],
      "text/plain": [
       "<IPython.core.display.Math object>"
      ]
     },
     "metadata": {},
     "output_type": "display_data"
    },
    {
     "data": {
      "text/latex": [
       "$\\displaystyle F_{1,126} = f(x_126, y_126) = f(1.26, 0.8136143) = 0.2204915$"
      ],
      "text/plain": [
       "<IPython.core.display.Math object>"
      ]
     },
     "metadata": {},
     "output_type": "display_data"
    },
    {
     "data": {
      "text/latex": [
       "$\\displaystyle x_127 = x_126 + h = 1.26 + 0.01 = 1.27$"
      ],
      "text/plain": [
       "<IPython.core.display.Math object>"
      ]
     },
     "metadata": {},
     "output_type": "display_data"
    },
    {
     "data": {
      "text/latex": [
       "$\\displaystyle y_e = y_126 + hF_{1,126} = 0.8136143 + (0.01)(0.2204915) = 0.8158192\n",
       "$"
      ],
      "text/plain": [
       "<IPython.core.display.Math object>"
      ]
     },
     "metadata": {},
     "output_type": "display_data"
    },
    {
     "data": {
      "text/latex": [
       "$\\displaystyle F_{2,126} = f(x_127, y_e) = f(1.27, 0.8158192) = 0.2237157$"
      ],
      "text/plain": [
       "<IPython.core.display.Math object>"
      ]
     },
     "metadata": {},
     "output_type": "display_data"
    },
    {
     "data": {
      "text/latex": [
       "$\\displaystyle y_127 = y_126 + \\frac{1}{2}h(F_{1,126} + F_{2,126}) = 0.8136143 + \\frac{1}{2}(0.01)(0.2204915 + 0.2237157) = 0.8158353$"
      ],
      "text/plain": [
       "<IPython.core.display.Math object>"
      ]
     },
     "metadata": {},
     "output_type": "display_data"
    },
    {
     "data": {
      "text/latex": [
       "$\\displaystyle Approximation\\ to\\ y(x_127 = 1.27) = 0.8158353$"
      ],
      "text/plain": [
       "<IPython.core.display.Math object>"
      ]
     },
     "metadata": {},
     "output_type": "display_data"
    },
    {
     "name": "stdout",
     "output_type": "stream",
     "text": [
      "____________________________________________\n"
     ]
    },
    {
     "data": {
      "text/latex": [
       "$\\displaystyle Set\\ r=127,$"
      ],
      "text/plain": [
       "<IPython.core.display.Math object>"
      ]
     },
     "metadata": {},
     "output_type": "display_data"
    },
    {
     "data": {
      "text/latex": [
       "$\\displaystyle x_127 = 1.27, y_127 = 0.8158353$"
      ],
      "text/plain": [
       "<IPython.core.display.Math object>"
      ]
     },
     "metadata": {},
     "output_type": "display_data"
    },
    {
     "data": {
      "text/latex": [
       "$\\displaystyle F_{1,127} = f(x_127, y_127) = f(1.27, 0.8158353) = 0.2237068$"
      ],
      "text/plain": [
       "<IPython.core.display.Math object>"
      ]
     },
     "metadata": {},
     "output_type": "display_data"
    },
    {
     "data": {
      "text/latex": [
       "$\\displaystyle x_128 = x_127 + h = 1.27 + 0.01 = 1.28$"
      ],
      "text/plain": [
       "<IPython.core.display.Math object>"
      ]
     },
     "metadata": {},
     "output_type": "display_data"
    },
    {
     "data": {
      "text/latex": [
       "$\\displaystyle y_e = y_127 + hF_{1,127} = 0.8158353 + (0.01)(0.2237068) = 0.8180724\n",
       "$"
      ],
      "text/plain": [
       "<IPython.core.display.Math object>"
      ]
     },
     "metadata": {},
     "output_type": "display_data"
    },
    {
     "data": {
      "text/latex": [
       "$\\displaystyle F_{2,127} = f(x_128, y_e) = f(1.28, 0.8180724) = 0.2268973$"
      ],
      "text/plain": [
       "<IPython.core.display.Math object>"
      ]
     },
     "metadata": {},
     "output_type": "display_data"
    },
    {
     "data": {
      "text/latex": [
       "$\\displaystyle y_128 = y_127 + \\frac{1}{2}h(F_{1,127} + F_{2,127}) = 0.8158353 + \\frac{1}{2}(0.01)(0.2237068 + 0.2268973) = 0.8180883$"
      ],
      "text/plain": [
       "<IPython.core.display.Math object>"
      ]
     },
     "metadata": {},
     "output_type": "display_data"
    },
    {
     "data": {
      "text/latex": [
       "$\\displaystyle Approximation\\ to\\ y(x_128 = 1.28) = 0.8180883$"
      ],
      "text/plain": [
       "<IPython.core.display.Math object>"
      ]
     },
     "metadata": {},
     "output_type": "display_data"
    },
    {
     "name": "stdout",
     "output_type": "stream",
     "text": [
      "____________________________________________\n"
     ]
    },
    {
     "data": {
      "text/latex": [
       "$\\displaystyle Set\\ r=128,$"
      ],
      "text/plain": [
       "<IPython.core.display.Math object>"
      ]
     },
     "metadata": {},
     "output_type": "display_data"
    },
    {
     "data": {
      "text/latex": [
       "$\\displaystyle x_128 = 1.28, y_128 = 0.8180883$"
      ],
      "text/plain": [
       "<IPython.core.display.Math object>"
      ]
     },
     "metadata": {},
     "output_type": "display_data"
    },
    {
     "data": {
      "text/latex": [
       "$\\displaystyle F_{1,128} = f(x_128, y_128) = f(1.28, 0.8180883) = 0.2268885$"
      ],
      "text/plain": [
       "<IPython.core.display.Math object>"
      ]
     },
     "metadata": {},
     "output_type": "display_data"
    },
    {
     "data": {
      "text/latex": [
       "$\\displaystyle x_129 = x_128 + h = 1.28 + 0.01 = 1.29$"
      ],
      "text/plain": [
       "<IPython.core.display.Math object>"
      ]
     },
     "metadata": {},
     "output_type": "display_data"
    },
    {
     "data": {
      "text/latex": [
       "$\\displaystyle y_e = y_128 + hF_{1,128} = 0.8180883 + (0.01)(0.2268885) = 0.8203572\n",
       "$"
      ],
      "text/plain": [
       "<IPython.core.display.Math object>"
      ]
     },
     "metadata": {},
     "output_type": "display_data"
    },
    {
     "data": {
      "text/latex": [
       "$\\displaystyle F_{2,128} = f(x_129, y_e) = f(1.29, 0.8203572) = 0.2300459$"
      ],
      "text/plain": [
       "<IPython.core.display.Math object>"
      ]
     },
     "metadata": {},
     "output_type": "display_data"
    },
    {
     "data": {
      "text/latex": [
       "$\\displaystyle y_129 = y_128 + \\frac{1}{2}h(F_{1,128} + F_{2,128}) = 0.8180883 + \\frac{1}{2}(0.01)(0.2268885 + 0.2300459) = 0.8203730$"
      ],
      "text/plain": [
       "<IPython.core.display.Math object>"
      ]
     },
     "metadata": {},
     "output_type": "display_data"
    },
    {
     "data": {
      "text/latex": [
       "$\\displaystyle Approximation\\ to\\ y(x_129 = 1.29) = 0.8203730$"
      ],
      "text/plain": [
       "<IPython.core.display.Math object>"
      ]
     },
     "metadata": {},
     "output_type": "display_data"
    },
    {
     "name": "stdout",
     "output_type": "stream",
     "text": [
      "____________________________________________\n"
     ]
    },
    {
     "data": {
      "text/latex": [
       "$\\displaystyle Set\\ r=129,$"
      ],
      "text/plain": [
       "<IPython.core.display.Math object>"
      ]
     },
     "metadata": {},
     "output_type": "display_data"
    },
    {
     "data": {
      "text/latex": [
       "$\\displaystyle x_129 = 1.29, y_129 = 0.8203730$"
      ],
      "text/plain": [
       "<IPython.core.display.Math object>"
      ]
     },
     "metadata": {},
     "output_type": "display_data"
    },
    {
     "data": {
      "text/latex": [
       "$\\displaystyle F_{1,129} = f(x_129, y_129) = f(1.29, 0.8203730) = 0.2300372$"
      ],
      "text/plain": [
       "<IPython.core.display.Math object>"
      ]
     },
     "metadata": {},
     "output_type": "display_data"
    },
    {
     "data": {
      "text/latex": [
       "$\\displaystyle x_130 = x_129 + h = 1.29 + 0.01 = 1.3$"
      ],
      "text/plain": [
       "<IPython.core.display.Math object>"
      ]
     },
     "metadata": {},
     "output_type": "display_data"
    },
    {
     "data": {
      "text/latex": [
       "$\\displaystyle y_e = y_129 + hF_{1,129} = 0.8203730 + (0.01)(0.2300372) = 0.8226734\n",
       "$"
      ],
      "text/plain": [
       "<IPython.core.display.Math object>"
      ]
     },
     "metadata": {},
     "output_type": "display_data"
    },
    {
     "data": {
      "text/latex": [
       "$\\displaystyle F_{2,129} = f(x_130, y_e) = f(1.3, 0.8226734) = 0.2331620$"
      ],
      "text/plain": [
       "<IPython.core.display.Math object>"
      ]
     },
     "metadata": {},
     "output_type": "display_data"
    },
    {
     "data": {
      "text/latex": [
       "$\\displaystyle y_130 = y_129 + \\frac{1}{2}h(F_{1,129} + F_{2,129}) = 0.8203730 + \\frac{1}{2}(0.01)(0.2300372 + 0.2331620) = 0.8226890$"
      ],
      "text/plain": [
       "<IPython.core.display.Math object>"
      ]
     },
     "metadata": {},
     "output_type": "display_data"
    },
    {
     "data": {
      "text/latex": [
       "$\\displaystyle Approximation\\ to\\ y(x_130 = 1.3) = 0.8226890$"
      ],
      "text/plain": [
       "<IPython.core.display.Math object>"
      ]
     },
     "metadata": {},
     "output_type": "display_data"
    },
    {
     "name": "stdout",
     "output_type": "stream",
     "text": [
      "____________________________________________\n"
     ]
    },
    {
     "data": {
      "text/latex": [
       "$\\displaystyle Set\\ r=130,$"
      ],
      "text/plain": [
       "<IPython.core.display.Math object>"
      ]
     },
     "metadata": {},
     "output_type": "display_data"
    },
    {
     "data": {
      "text/latex": [
       "$\\displaystyle x_130 = 1.3, y_130 = 0.8226890$"
      ],
      "text/plain": [
       "<IPython.core.display.Math object>"
      ]
     },
     "metadata": {},
     "output_type": "display_data"
    },
    {
     "data": {
      "text/latex": [
       "$\\displaystyle F_{1,130} = f(x_130, y_130) = f(1.3, 0.8226890) = 0.2331534$"
      ],
      "text/plain": [
       "<IPython.core.display.Math object>"
      ]
     },
     "metadata": {},
     "output_type": "display_data"
    },
    {
     "data": {
      "text/latex": [
       "$\\displaystyle x_131 = x_130 + h = 1.3 + 0.01 = 1.31$"
      ],
      "text/plain": [
       "<IPython.core.display.Math object>"
      ]
     },
     "metadata": {},
     "output_type": "display_data"
    },
    {
     "data": {
      "text/latex": [
       "$\\displaystyle y_e = y_130 + hF_{1,130} = 0.8226890 + (0.01)(0.2331534) = 0.8250205\n",
       "$"
      ],
      "text/plain": [
       "<IPython.core.display.Math object>"
      ]
     },
     "metadata": {},
     "output_type": "display_data"
    },
    {
     "data": {
      "text/latex": [
       "$\\displaystyle F_{2,130} = f(x_131, y_e) = f(1.31, 0.8250205) = 0.2362459$"
      ],
      "text/plain": [
       "<IPython.core.display.Math object>"
      ]
     },
     "metadata": {},
     "output_type": "display_data"
    },
    {
     "data": {
      "text/latex": [
       "$\\displaystyle y_131 = y_130 + \\frac{1}{2}h(F_{1,130} + F_{2,130}) = 0.8226890 + \\frac{1}{2}(0.01)(0.2331534 + 0.2362459) = 0.8250360$"
      ],
      "text/plain": [
       "<IPython.core.display.Math object>"
      ]
     },
     "metadata": {},
     "output_type": "display_data"
    },
    {
     "data": {
      "text/latex": [
       "$\\displaystyle Approximation\\ to\\ y(x_131 = 1.31) = 0.8250360$"
      ],
      "text/plain": [
       "<IPython.core.display.Math object>"
      ]
     },
     "metadata": {},
     "output_type": "display_data"
    },
    {
     "name": "stdout",
     "output_type": "stream",
     "text": [
      "____________________________________________\n"
     ]
    },
    {
     "data": {
      "text/latex": [
       "$\\displaystyle Set\\ r=131,$"
      ],
      "text/plain": [
       "<IPython.core.display.Math object>"
      ]
     },
     "metadata": {},
     "output_type": "display_data"
    },
    {
     "data": {
      "text/latex": [
       "$\\displaystyle x_131 = 1.31, y_131 = 0.8250360$"
      ],
      "text/plain": [
       "<IPython.core.display.Math object>"
      ]
     },
     "metadata": {},
     "output_type": "display_data"
    },
    {
     "data": {
      "text/latex": [
       "$\\displaystyle F_{1,131} = f(x_131, y_131) = f(1.31, 0.8250360) = 0.2362374$"
      ],
      "text/plain": [
       "<IPython.core.display.Math object>"
      ]
     },
     "metadata": {},
     "output_type": "display_data"
    },
    {
     "data": {
      "text/latex": [
       "$\\displaystyle x_132 = x_131 + h = 1.31 + 0.01 = 1.32$"
      ],
      "text/plain": [
       "<IPython.core.display.Math object>"
      ]
     },
     "metadata": {},
     "output_type": "display_data"
    },
    {
     "data": {
      "text/latex": [
       "$\\displaystyle y_e = y_131 + hF_{1,131} = 0.8250360 + (0.01)(0.2362374) = 0.8273984\n",
       "$"
      ],
      "text/plain": [
       "<IPython.core.display.Math object>"
      ]
     },
     "metadata": {},
     "output_type": "display_data"
    },
    {
     "data": {
      "text/latex": [
       "$\\displaystyle F_{2,131} = f(x_132, y_e) = f(1.32, 0.8273984) = 0.2392981$"
      ],
      "text/plain": [
       "<IPython.core.display.Math object>"
      ]
     },
     "metadata": {},
     "output_type": "display_data"
    },
    {
     "data": {
      "text/latex": [
       "$\\displaystyle y_132 = y_131 + \\frac{1}{2}h(F_{1,131} + F_{2,131}) = 0.8250360 + \\frac{1}{2}(0.01)(0.2362374 + 0.2392981) = 0.8274137$"
      ],
      "text/plain": [
       "<IPython.core.display.Math object>"
      ]
     },
     "metadata": {},
     "output_type": "display_data"
    },
    {
     "data": {
      "text/latex": [
       "$\\displaystyle Approximation\\ to\\ y(x_132 = 1.32) = 0.8274137$"
      ],
      "text/plain": [
       "<IPython.core.display.Math object>"
      ]
     },
     "metadata": {},
     "output_type": "display_data"
    },
    {
     "name": "stdout",
     "output_type": "stream",
     "text": [
      "____________________________________________\n"
     ]
    },
    {
     "data": {
      "text/latex": [
       "$\\displaystyle Set\\ r=132,$"
      ],
      "text/plain": [
       "<IPython.core.display.Math object>"
      ]
     },
     "metadata": {},
     "output_type": "display_data"
    },
    {
     "data": {
      "text/latex": [
       "$\\displaystyle x_132 = 1.32, y_132 = 0.8274137$"
      ],
      "text/plain": [
       "<IPython.core.display.Math object>"
      ]
     },
     "metadata": {},
     "output_type": "display_data"
    },
    {
     "data": {
      "text/latex": [
       "$\\displaystyle F_{1,132} = f(x_132, y_132) = f(1.32, 0.8274137) = 0.2392897$"
      ],
      "text/plain": [
       "<IPython.core.display.Math object>"
      ]
     },
     "metadata": {},
     "output_type": "display_data"
    },
    {
     "data": {
      "text/latex": [
       "$\\displaystyle x_133 = x_132 + h = 1.32 + 0.01 = 1.33$"
      ],
      "text/plain": [
       "<IPython.core.display.Math object>"
      ]
     },
     "metadata": {},
     "output_type": "display_data"
    },
    {
     "data": {
      "text/latex": [
       "$\\displaystyle y_e = y_132 + hF_{1,132} = 0.8274137 + (0.01)(0.2392897) = 0.8298066\n",
       "$"
      ],
      "text/plain": [
       "<IPython.core.display.Math object>"
      ]
     },
     "metadata": {},
     "output_type": "display_data"
    },
    {
     "data": {
      "text/latex": [
       "$\\displaystyle F_{2,132} = f(x_133, y_e) = f(1.33, 0.8298066) = 0.2423190$"
      ],
      "text/plain": [
       "<IPython.core.display.Math object>"
      ]
     },
     "metadata": {},
     "output_type": "display_data"
    },
    {
     "data": {
      "text/latex": [
       "$\\displaystyle y_133 = y_132 + \\frac{1}{2}h(F_{1,132} + F_{2,132}) = 0.8274137 + \\frac{1}{2}(0.01)(0.2392897 + 0.2423190) = 0.8298217$"
      ],
      "text/plain": [
       "<IPython.core.display.Math object>"
      ]
     },
     "metadata": {},
     "output_type": "display_data"
    },
    {
     "data": {
      "text/latex": [
       "$\\displaystyle Approximation\\ to\\ y(x_133 = 1.33) = 0.8298217$"
      ],
      "text/plain": [
       "<IPython.core.display.Math object>"
      ]
     },
     "metadata": {},
     "output_type": "display_data"
    },
    {
     "name": "stdout",
     "output_type": "stream",
     "text": [
      "____________________________________________\n"
     ]
    },
    {
     "data": {
      "text/latex": [
       "$\\displaystyle Set\\ r=133,$"
      ],
      "text/plain": [
       "<IPython.core.display.Math object>"
      ]
     },
     "metadata": {},
     "output_type": "display_data"
    },
    {
     "data": {
      "text/latex": [
       "$\\displaystyle x_133 = 1.33, y_133 = 0.8298217$"
      ],
      "text/plain": [
       "<IPython.core.display.Math object>"
      ]
     },
     "metadata": {},
     "output_type": "display_data"
    },
    {
     "data": {
      "text/latex": [
       "$\\displaystyle F_{1,133} = f(x_133, y_133) = f(1.33, 0.8298217) = 0.2423108$"
      ],
      "text/plain": [
       "<IPython.core.display.Math object>"
      ]
     },
     "metadata": {},
     "output_type": "display_data"
    },
    {
     "data": {
      "text/latex": [
       "$\\displaystyle x_134 = x_133 + h = 1.33 + 0.01 = 1.34$"
      ],
      "text/plain": [
       "<IPython.core.display.Math object>"
      ]
     },
     "metadata": {},
     "output_type": "display_data"
    },
    {
     "data": {
      "text/latex": [
       "$\\displaystyle y_e = y_133 + hF_{1,133} = 0.8298217 + (0.01)(0.2423108) = 0.8322448\n",
       "$"
      ],
      "text/plain": [
       "<IPython.core.display.Math object>"
      ]
     },
     "metadata": {},
     "output_type": "display_data"
    },
    {
     "data": {
      "text/latex": [
       "$\\displaystyle F_{2,133} = f(x_134, y_e) = f(1.34, 0.8322448) = 0.2453092$"
      ],
      "text/plain": [
       "<IPython.core.display.Math object>"
      ]
     },
     "metadata": {},
     "output_type": "display_data"
    },
    {
     "data": {
      "text/latex": [
       "$\\displaystyle y_134 = y_133 + \\frac{1}{2}h(F_{1,133} + F_{2,133}) = 0.8298217 + \\frac{1}{2}(0.01)(0.2423108 + 0.2453092) = 0.8322598$"
      ],
      "text/plain": [
       "<IPython.core.display.Math object>"
      ]
     },
     "metadata": {},
     "output_type": "display_data"
    },
    {
     "data": {
      "text/latex": [
       "$\\displaystyle Approximation\\ to\\ y(x_134 = 1.34) = 0.8322598$"
      ],
      "text/plain": [
       "<IPython.core.display.Math object>"
      ]
     },
     "metadata": {},
     "output_type": "display_data"
    },
    {
     "name": "stdout",
     "output_type": "stream",
     "text": [
      "____________________________________________\n"
     ]
    },
    {
     "data": {
      "text/latex": [
       "$\\displaystyle Set\\ r=134,$"
      ],
      "text/plain": [
       "<IPython.core.display.Math object>"
      ]
     },
     "metadata": {},
     "output_type": "display_data"
    },
    {
     "data": {
      "text/latex": [
       "$\\displaystyle x_134 = 1.34, y_134 = 0.8322598$"
      ],
      "text/plain": [
       "<IPython.core.display.Math object>"
      ]
     },
     "metadata": {},
     "output_type": "display_data"
    },
    {
     "data": {
      "text/latex": [
       "$\\displaystyle F_{1,134} = f(x_134, y_134) = f(1.34, 0.8322598) = 0.2453009$"
      ],
      "text/plain": [
       "<IPython.core.display.Math object>"
      ]
     },
     "metadata": {},
     "output_type": "display_data"
    },
    {
     "data": {
      "text/latex": [
       "$\\displaystyle x_135 = x_134 + h = 1.34 + 0.01 = 1.35$"
      ],
      "text/plain": [
       "<IPython.core.display.Math object>"
      ]
     },
     "metadata": {},
     "output_type": "display_data"
    },
    {
     "data": {
      "text/latex": [
       "$\\displaystyle y_e = y_134 + hF_{1,134} = 0.8322598 + (0.01)(0.2453009) = 0.8347128\n",
       "$"
      ],
      "text/plain": [
       "<IPython.core.display.Math object>"
      ]
     },
     "metadata": {},
     "output_type": "display_data"
    },
    {
     "data": {
      "text/latex": [
       "$\\displaystyle F_{2,134} = f(x_135, y_e) = f(1.35, 0.8347128) = 0.2482688$"
      ],
      "text/plain": [
       "<IPython.core.display.Math object>"
      ]
     },
     "metadata": {},
     "output_type": "display_data"
    },
    {
     "data": {
      "text/latex": [
       "$\\displaystyle y_135 = y_134 + \\frac{1}{2}h(F_{1,134} + F_{2,134}) = 0.8322598 + \\frac{1}{2}(0.01)(0.2453009 + 0.2482688) = 0.8347276$"
      ],
      "text/plain": [
       "<IPython.core.display.Math object>"
      ]
     },
     "metadata": {},
     "output_type": "display_data"
    },
    {
     "data": {
      "text/latex": [
       "$\\displaystyle Approximation\\ to\\ y(x_135 = 1.35) = 0.8347276$"
      ],
      "text/plain": [
       "<IPython.core.display.Math object>"
      ]
     },
     "metadata": {},
     "output_type": "display_data"
    },
    {
     "name": "stdout",
     "output_type": "stream",
     "text": [
      "____________________________________________\n"
     ]
    },
    {
     "data": {
      "text/latex": [
       "$\\displaystyle Set\\ r=135,$"
      ],
      "text/plain": [
       "<IPython.core.display.Math object>"
      ]
     },
     "metadata": {},
     "output_type": "display_data"
    },
    {
     "data": {
      "text/latex": [
       "$\\displaystyle x_135 = 1.35, y_135 = 0.8347276$"
      ],
      "text/plain": [
       "<IPython.core.display.Math object>"
      ]
     },
     "metadata": {},
     "output_type": "display_data"
    },
    {
     "data": {
      "text/latex": [
       "$\\displaystyle F_{1,135} = f(x_135, y_135) = f(1.35, 0.8347276) = 0.2482607$"
      ],
      "text/plain": [
       "<IPython.core.display.Math object>"
      ]
     },
     "metadata": {},
     "output_type": "display_data"
    },
    {
     "data": {
      "text/latex": [
       "$\\displaystyle x_136 = x_135 + h = 1.35 + 0.01 = 1.36$"
      ],
      "text/plain": [
       "<IPython.core.display.Math object>"
      ]
     },
     "metadata": {},
     "output_type": "display_data"
    },
    {
     "data": {
      "text/latex": [
       "$\\displaystyle y_e = y_135 + hF_{1,135} = 0.8347276 + (0.01)(0.2482607) = 0.8372102\n",
       "$"
      ],
      "text/plain": [
       "<IPython.core.display.Math object>"
      ]
     },
     "metadata": {},
     "output_type": "display_data"
    },
    {
     "data": {
      "text/latex": [
       "$\\displaystyle F_{2,135} = f(x_136, y_e) = f(1.36, 0.8372102) = 0.2511985$"
      ],
      "text/plain": [
       "<IPython.core.display.Math object>"
      ]
     },
     "metadata": {},
     "output_type": "display_data"
    },
    {
     "data": {
      "text/latex": [
       "$\\displaystyle y_136 = y_135 + \\frac{1}{2}h(F_{1,135} + F_{2,135}) = 0.8347276 + \\frac{1}{2}(0.01)(0.2482607 + 0.2511985) = 0.8372249$"
      ],
      "text/plain": [
       "<IPython.core.display.Math object>"
      ]
     },
     "metadata": {},
     "output_type": "display_data"
    },
    {
     "data": {
      "text/latex": [
       "$\\displaystyle Approximation\\ to\\ y(x_136 = 1.36) = 0.8372249$"
      ],
      "text/plain": [
       "<IPython.core.display.Math object>"
      ]
     },
     "metadata": {},
     "output_type": "display_data"
    },
    {
     "name": "stdout",
     "output_type": "stream",
     "text": [
      "____________________________________________\n"
     ]
    },
    {
     "data": {
      "text/latex": [
       "$\\displaystyle Set\\ r=136,$"
      ],
      "text/plain": [
       "<IPython.core.display.Math object>"
      ]
     },
     "metadata": {},
     "output_type": "display_data"
    },
    {
     "data": {
      "text/latex": [
       "$\\displaystyle x_136 = 1.36, y_136 = 0.8372249$"
      ],
      "text/plain": [
       "<IPython.core.display.Math object>"
      ]
     },
     "metadata": {},
     "output_type": "display_data"
    },
    {
     "data": {
      "text/latex": [
       "$\\displaystyle F_{1,136} = f(x_136, y_136) = f(1.36, 0.8372249) = 0.2511904$"
      ],
      "text/plain": [
       "<IPython.core.display.Math object>"
      ]
     },
     "metadata": {},
     "output_type": "display_data"
    },
    {
     "data": {
      "text/latex": [
       "$\\displaystyle x_137 = x_136 + h = 1.36 + 0.01 = 1.37$"
      ],
      "text/plain": [
       "<IPython.core.display.Math object>"
      ]
     },
     "metadata": {},
     "output_type": "display_data"
    },
    {
     "data": {
      "text/latex": [
       "$\\displaystyle y_e = y_136 + hF_{1,136} = 0.8372249 + (0.01)(0.2511904) = 0.8397368\n",
       "$"
      ],
      "text/plain": [
       "<IPython.core.display.Math object>"
      ]
     },
     "metadata": {},
     "output_type": "display_data"
    },
    {
     "data": {
      "text/latex": [
       "$\\displaystyle F_{2,136} = f(x_137, y_e) = f(1.37, 0.8397368) = 0.2540985$"
      ],
      "text/plain": [
       "<IPython.core.display.Math object>"
      ]
     },
     "metadata": {},
     "output_type": "display_data"
    },
    {
     "data": {
      "text/latex": [
       "$\\displaystyle y_137 = y_136 + \\frac{1}{2}h(F_{1,136} + F_{2,136}) = 0.8372249 + \\frac{1}{2}(0.01)(0.2511904 + 0.2540985) = 0.8397513$"
      ],
      "text/plain": [
       "<IPython.core.display.Math object>"
      ]
     },
     "metadata": {},
     "output_type": "display_data"
    },
    {
     "data": {
      "text/latex": [
       "$\\displaystyle Approximation\\ to\\ y(x_137 = 1.37) = 0.8397513$"
      ],
      "text/plain": [
       "<IPython.core.display.Math object>"
      ]
     },
     "metadata": {},
     "output_type": "display_data"
    },
    {
     "name": "stdout",
     "output_type": "stream",
     "text": [
      "____________________________________________\n"
     ]
    },
    {
     "data": {
      "text/latex": [
       "$\\displaystyle Set\\ r=137,$"
      ],
      "text/plain": [
       "<IPython.core.display.Math object>"
      ]
     },
     "metadata": {},
     "output_type": "display_data"
    },
    {
     "data": {
      "text/latex": [
       "$\\displaystyle x_137 = 1.37, y_137 = 0.8397513$"
      ],
      "text/plain": [
       "<IPython.core.display.Math object>"
      ]
     },
     "metadata": {},
     "output_type": "display_data"
    },
    {
     "data": {
      "text/latex": [
       "$\\displaystyle F_{1,137} = f(x_137, y_137) = f(1.37, 0.8397513) = 0.2540905$"
      ],
      "text/plain": [
       "<IPython.core.display.Math object>"
      ]
     },
     "metadata": {},
     "output_type": "display_data"
    },
    {
     "data": {
      "text/latex": [
       "$\\displaystyle x_138 = x_137 + h = 1.37 + 0.01 = 1.38$"
      ],
      "text/plain": [
       "<IPython.core.display.Math object>"
      ]
     },
     "metadata": {},
     "output_type": "display_data"
    },
    {
     "data": {
      "text/latex": [
       "$\\displaystyle y_e = y_137 + hF_{1,137} = 0.8397513 + (0.01)(0.2540905) = 0.8422922\n",
       "$"
      ],
      "text/plain": [
       "<IPython.core.display.Math object>"
      ]
     },
     "metadata": {},
     "output_type": "display_data"
    },
    {
     "data": {
      "text/latex": [
       "$\\displaystyle F_{2,137} = f(x_138, y_e) = f(1.38, 0.8422922) = 0.2569692$"
      ],
      "text/plain": [
       "<IPython.core.display.Math object>"
      ]
     },
     "metadata": {},
     "output_type": "display_data"
    },
    {
     "data": {
      "text/latex": [
       "$\\displaystyle y_138 = y_137 + \\frac{1}{2}h(F_{1,137} + F_{2,137}) = 0.8397513 + \\frac{1}{2}(0.01)(0.2540905 + 0.2569692) = 0.8423066$"
      ],
      "text/plain": [
       "<IPython.core.display.Math object>"
      ]
     },
     "metadata": {},
     "output_type": "display_data"
    },
    {
     "data": {
      "text/latex": [
       "$\\displaystyle Approximation\\ to\\ y(x_138 = 1.38) = 0.8423066$"
      ],
      "text/plain": [
       "<IPython.core.display.Math object>"
      ]
     },
     "metadata": {},
     "output_type": "display_data"
    },
    {
     "name": "stdout",
     "output_type": "stream",
     "text": [
      "____________________________________________\n"
     ]
    },
    {
     "data": {
      "text/latex": [
       "$\\displaystyle Set\\ r=138,$"
      ],
      "text/plain": [
       "<IPython.core.display.Math object>"
      ]
     },
     "metadata": {},
     "output_type": "display_data"
    },
    {
     "data": {
      "text/latex": [
       "$\\displaystyle x_138 = 1.38, y_138 = 0.8423066$"
      ],
      "text/plain": [
       "<IPython.core.display.Math object>"
      ]
     },
     "metadata": {},
     "output_type": "display_data"
    },
    {
     "data": {
      "text/latex": [
       "$\\displaystyle F_{1,138} = f(x_138, y_138) = f(1.38, 0.8423066) = 0.2569614$"
      ],
      "text/plain": [
       "<IPython.core.display.Math object>"
      ]
     },
     "metadata": {},
     "output_type": "display_data"
    },
    {
     "data": {
      "text/latex": [
       "$\\displaystyle x_139 = x_138 + h = 1.38 + 0.01 = 1.39$"
      ],
      "text/plain": [
       "<IPython.core.display.Math object>"
      ]
     },
     "metadata": {},
     "output_type": "display_data"
    },
    {
     "data": {
      "text/latex": [
       "$\\displaystyle y_e = y_138 + hF_{1,138} = 0.8423066 + (0.01)(0.2569614) = 0.8448762\n",
       "$"
      ],
      "text/plain": [
       "<IPython.core.display.Math object>"
      ]
     },
     "metadata": {},
     "output_type": "display_data"
    },
    {
     "data": {
      "text/latex": [
       "$\\displaystyle F_{2,138} = f(x_139, y_e) = f(1.39, 0.8448762) = 0.2598111$"
      ],
      "text/plain": [
       "<IPython.core.display.Math object>"
      ]
     },
     "metadata": {},
     "output_type": "display_data"
    },
    {
     "data": {
      "text/latex": [
       "$\\displaystyle y_139 = y_138 + \\frac{1}{2}h(F_{1,138} + F_{2,138}) = 0.8423066 + \\frac{1}{2}(0.01)(0.2569614 + 0.2598111) = 0.8448905$"
      ],
      "text/plain": [
       "<IPython.core.display.Math object>"
      ]
     },
     "metadata": {},
     "output_type": "display_data"
    },
    {
     "data": {
      "text/latex": [
       "$\\displaystyle Approximation\\ to\\ y(x_139 = 1.39) = 0.8448905$"
      ],
      "text/plain": [
       "<IPython.core.display.Math object>"
      ]
     },
     "metadata": {},
     "output_type": "display_data"
    },
    {
     "name": "stdout",
     "output_type": "stream",
     "text": [
      "____________________________________________\n"
     ]
    },
    {
     "data": {
      "text/latex": [
       "$\\displaystyle Set\\ r=139,$"
      ],
      "text/plain": [
       "<IPython.core.display.Math object>"
      ]
     },
     "metadata": {},
     "output_type": "display_data"
    },
    {
     "data": {
      "text/latex": [
       "$\\displaystyle x_139 = 1.39, y_139 = 0.8448905$"
      ],
      "text/plain": [
       "<IPython.core.display.Math object>"
      ]
     },
     "metadata": {},
     "output_type": "display_data"
    },
    {
     "data": {
      "text/latex": [
       "$\\displaystyle F_{1,139} = f(x_139, y_139) = f(1.39, 0.8448905) = 0.2598034$"
      ],
      "text/plain": [
       "<IPython.core.display.Math object>"
      ]
     },
     "metadata": {},
     "output_type": "display_data"
    },
    {
     "data": {
      "text/latex": [
       "$\\displaystyle x_140 = x_139 + h = 1.39 + 0.01 = 1.4$"
      ],
      "text/plain": [
       "<IPython.core.display.Math object>"
      ]
     },
     "metadata": {},
     "output_type": "display_data"
    },
    {
     "data": {
      "text/latex": [
       "$\\displaystyle y_e = y_139 + hF_{1,139} = 0.8448905 + (0.01)(0.2598034) = 0.8474885\n",
       "$"
      ],
      "text/plain": [
       "<IPython.core.display.Math object>"
      ]
     },
     "metadata": {},
     "output_type": "display_data"
    },
    {
     "data": {
      "text/latex": [
       "$\\displaystyle F_{2,139} = f(x_140, y_e) = f(1.4, 0.8474885) = 0.2626246$"
      ],
      "text/plain": [
       "<IPython.core.display.Math object>"
      ]
     },
     "metadata": {},
     "output_type": "display_data"
    },
    {
     "data": {
      "text/latex": [
       "$\\displaystyle y_140 = y_139 + \\frac{1}{2}h(F_{1,139} + F_{2,139}) = 0.8448905 + \\frac{1}{2}(0.01)(0.2598034 + 0.2626246) = 0.8475026$"
      ],
      "text/plain": [
       "<IPython.core.display.Math object>"
      ]
     },
     "metadata": {},
     "output_type": "display_data"
    },
    {
     "data": {
      "text/latex": [
       "$\\displaystyle Approximation\\ to\\ y(x_140 = 1.4) = 0.8475026$"
      ],
      "text/plain": [
       "<IPython.core.display.Math object>"
      ]
     },
     "metadata": {},
     "output_type": "display_data"
    },
    {
     "name": "stdout",
     "output_type": "stream",
     "text": [
      "____________________________________________\n"
     ]
    },
    {
     "data": {
      "text/latex": [
       "$\\displaystyle Set\\ r=140,$"
      ],
      "text/plain": [
       "<IPython.core.display.Math object>"
      ]
     },
     "metadata": {},
     "output_type": "display_data"
    },
    {
     "data": {
      "text/latex": [
       "$\\displaystyle x_140 = 1.4, y_140 = 0.8475026$"
      ],
      "text/plain": [
       "<IPython.core.display.Math object>"
      ]
     },
     "metadata": {},
     "output_type": "display_data"
    },
    {
     "data": {
      "text/latex": [
       "$\\displaystyle F_{1,140} = f(x_140, y_140) = f(1.4, 0.8475026) = 0.2626169$"
      ],
      "text/plain": [
       "<IPython.core.display.Math object>"
      ]
     },
     "metadata": {},
     "output_type": "display_data"
    },
    {
     "data": {
      "text/latex": [
       "$\\displaystyle x_141 = x_140 + h = 1.4 + 0.01 = 1.41$"
      ],
      "text/plain": [
       "<IPython.core.display.Math object>"
      ]
     },
     "metadata": {},
     "output_type": "display_data"
    },
    {
     "data": {
      "text/latex": [
       "$\\displaystyle y_e = y_140 + hF_{1,140} = 0.8475026 + (0.01)(0.2626169) = 0.8501288\n",
       "$"
      ],
      "text/plain": [
       "<IPython.core.display.Math object>"
      ]
     },
     "metadata": {},
     "output_type": "display_data"
    },
    {
     "data": {
      "text/latex": [
       "$\\displaystyle F_{2,140} = f(x_141, y_e) = f(1.41, 0.8501288) = 0.2654099$"
      ],
      "text/plain": [
       "<IPython.core.display.Math object>"
      ]
     },
     "metadata": {},
     "output_type": "display_data"
    },
    {
     "data": {
      "text/latex": [
       "$\\displaystyle y_141 = y_140 + \\frac{1}{2}h(F_{1,140} + F_{2,140}) = 0.8475026 + \\frac{1}{2}(0.01)(0.2626169 + 0.2654099) = 0.8501427$"
      ],
      "text/plain": [
       "<IPython.core.display.Math object>"
      ]
     },
     "metadata": {},
     "output_type": "display_data"
    },
    {
     "data": {
      "text/latex": [
       "$\\displaystyle Approximation\\ to\\ y(x_141 = 1.41) = 0.8501427$"
      ],
      "text/plain": [
       "<IPython.core.display.Math object>"
      ]
     },
     "metadata": {},
     "output_type": "display_data"
    },
    {
     "name": "stdout",
     "output_type": "stream",
     "text": [
      "____________________________________________\n"
     ]
    },
    {
     "data": {
      "text/latex": [
       "$\\displaystyle Set\\ r=141,$"
      ],
      "text/plain": [
       "<IPython.core.display.Math object>"
      ]
     },
     "metadata": {},
     "output_type": "display_data"
    },
    {
     "data": {
      "text/latex": [
       "$\\displaystyle x_141 = 1.41, y_141 = 0.8501427$"
      ],
      "text/plain": [
       "<IPython.core.display.Math object>"
      ]
     },
     "metadata": {},
     "output_type": "display_data"
    },
    {
     "data": {
      "text/latex": [
       "$\\displaystyle F_{1,141} = f(x_141, y_141) = f(1.41, 0.8501427) = 0.2654024$"
      ],
      "text/plain": [
       "<IPython.core.display.Math object>"
      ]
     },
     "metadata": {},
     "output_type": "display_data"
    },
    {
     "data": {
      "text/latex": [
       "$\\displaystyle x_142 = x_141 + h = 1.41 + 0.01 = 1.42$"
      ],
      "text/plain": [
       "<IPython.core.display.Math object>"
      ]
     },
     "metadata": {},
     "output_type": "display_data"
    },
    {
     "data": {
      "text/latex": [
       "$\\displaystyle y_e = y_141 + hF_{1,141} = 0.8501427 + (0.01)(0.2654024) = 0.8527967\n",
       "$"
      ],
      "text/plain": [
       "<IPython.core.display.Math object>"
      ]
     },
     "metadata": {},
     "output_type": "display_data"
    },
    {
     "data": {
      "text/latex": [
       "$\\displaystyle F_{2,141} = f(x_142, y_e) = f(1.42, 0.8527967) = 0.2681676$"
      ],
      "text/plain": [
       "<IPython.core.display.Math object>"
      ]
     },
     "metadata": {},
     "output_type": "display_data"
    },
    {
     "data": {
      "text/latex": [
       "$\\displaystyle y_142 = y_141 + \\frac{1}{2}h(F_{1,141} + F_{2,141}) = 0.8501427 + \\frac{1}{2}(0.01)(0.2654024 + 0.2681676) = 0.8528106$"
      ],
      "text/plain": [
       "<IPython.core.display.Math object>"
      ]
     },
     "metadata": {},
     "output_type": "display_data"
    },
    {
     "data": {
      "text/latex": [
       "$\\displaystyle Approximation\\ to\\ y(x_142 = 1.42) = 0.8528106$"
      ],
      "text/plain": [
       "<IPython.core.display.Math object>"
      ]
     },
     "metadata": {},
     "output_type": "display_data"
    },
    {
     "name": "stdout",
     "output_type": "stream",
     "text": [
      "____________________________________________\n"
     ]
    },
    {
     "data": {
      "text/latex": [
       "$\\displaystyle Set\\ r=142,$"
      ],
      "text/plain": [
       "<IPython.core.display.Math object>"
      ]
     },
     "metadata": {},
     "output_type": "display_data"
    },
    {
     "data": {
      "text/latex": [
       "$\\displaystyle x_142 = 1.42, y_142 = 0.8528106$"
      ],
      "text/plain": [
       "<IPython.core.display.Math object>"
      ]
     },
     "metadata": {},
     "output_type": "display_data"
    },
    {
     "data": {
      "text/latex": [
       "$\\displaystyle F_{1,142} = f(x_142, y_142) = f(1.42, 0.8528106) = 0.2681601$"
      ],
      "text/plain": [
       "<IPython.core.display.Math object>"
      ]
     },
     "metadata": {},
     "output_type": "display_data"
    },
    {
     "data": {
      "text/latex": [
       "$\\displaystyle x_143 = x_142 + h = 1.42 + 0.01 = 1.43$"
      ],
      "text/plain": [
       "<IPython.core.display.Math object>"
      ]
     },
     "metadata": {},
     "output_type": "display_data"
    },
    {
     "data": {
      "text/latex": [
       "$\\displaystyle y_e = y_142 + hF_{1,142} = 0.8528106 + (0.01)(0.2681601) = 0.8554922\n",
       "$"
      ],
      "text/plain": [
       "<IPython.core.display.Math object>"
      ]
     },
     "metadata": {},
     "output_type": "display_data"
    },
    {
     "data": {
      "text/latex": [
       "$\\displaystyle F_{2,142} = f(x_143, y_e) = f(1.43, 0.8554922) = 0.2708979$"
      ],
      "text/plain": [
       "<IPython.core.display.Math object>"
      ]
     },
     "metadata": {},
     "output_type": "display_data"
    },
    {
     "data": {
      "text/latex": [
       "$\\displaystyle y_143 = y_142 + \\frac{1}{2}h(F_{1,142} + F_{2,142}) = 0.8528106 + \\frac{1}{2}(0.01)(0.2681601 + 0.2708979) = 0.8555059$"
      ],
      "text/plain": [
       "<IPython.core.display.Math object>"
      ]
     },
     "metadata": {},
     "output_type": "display_data"
    },
    {
     "data": {
      "text/latex": [
       "$\\displaystyle Approximation\\ to\\ y(x_143 = 1.43) = 0.8555059$"
      ],
      "text/plain": [
       "<IPython.core.display.Math object>"
      ]
     },
     "metadata": {},
     "output_type": "display_data"
    },
    {
     "name": "stdout",
     "output_type": "stream",
     "text": [
      "____________________________________________\n"
     ]
    },
    {
     "data": {
      "text/latex": [
       "$\\displaystyle Set\\ r=143,$"
      ],
      "text/plain": [
       "<IPython.core.display.Math object>"
      ]
     },
     "metadata": {},
     "output_type": "display_data"
    },
    {
     "data": {
      "text/latex": [
       "$\\displaystyle x_143 = 1.43, y_143 = 0.8555059$"
      ],
      "text/plain": [
       "<IPython.core.display.Math object>"
      ]
     },
     "metadata": {},
     "output_type": "display_data"
    },
    {
     "data": {
      "text/latex": [
       "$\\displaystyle F_{1,143} = f(x_143, y_143) = f(1.43, 0.8555059) = 0.2708905$"
      ],
      "text/plain": [
       "<IPython.core.display.Math object>"
      ]
     },
     "metadata": {},
     "output_type": "display_data"
    },
    {
     "data": {
      "text/latex": [
       "$\\displaystyle x_144 = x_143 + h = 1.43 + 0.01 = 1.44$"
      ],
      "text/plain": [
       "<IPython.core.display.Math object>"
      ]
     },
     "metadata": {},
     "output_type": "display_data"
    },
    {
     "data": {
      "text/latex": [
       "$\\displaystyle y_e = y_143 + hF_{1,143} = 0.8555059 + (0.01)(0.2708905) = 0.8582148\n",
       "$"
      ],
      "text/plain": [
       "<IPython.core.display.Math object>"
      ]
     },
     "metadata": {},
     "output_type": "display_data"
    },
    {
     "data": {
      "text/latex": [
       "$\\displaystyle F_{2,143} = f(x_144, y_e) = f(1.44, 0.8582148) = 0.2736012$"
      ],
      "text/plain": [
       "<IPython.core.display.Math object>"
      ]
     },
     "metadata": {},
     "output_type": "display_data"
    },
    {
     "data": {
      "text/latex": [
       "$\\displaystyle y_144 = y_143 + \\frac{1}{2}h(F_{1,143} + F_{2,143}) = 0.8555059 + \\frac{1}{2}(0.01)(0.2708905 + 0.2736012) = 0.8582284$"
      ],
      "text/plain": [
       "<IPython.core.display.Math object>"
      ]
     },
     "metadata": {},
     "output_type": "display_data"
    },
    {
     "data": {
      "text/latex": [
       "$\\displaystyle Approximation\\ to\\ y(x_144 = 1.44) = 0.8582284$"
      ],
      "text/plain": [
       "<IPython.core.display.Math object>"
      ]
     },
     "metadata": {},
     "output_type": "display_data"
    },
    {
     "name": "stdout",
     "output_type": "stream",
     "text": [
      "____________________________________________\n"
     ]
    },
    {
     "data": {
      "text/latex": [
       "$\\displaystyle Set\\ r=144,$"
      ],
      "text/plain": [
       "<IPython.core.display.Math object>"
      ]
     },
     "metadata": {},
     "output_type": "display_data"
    },
    {
     "data": {
      "text/latex": [
       "$\\displaystyle x_144 = 1.44, y_144 = 0.8582284$"
      ],
      "text/plain": [
       "<IPython.core.display.Math object>"
      ]
     },
     "metadata": {},
     "output_type": "display_data"
    },
    {
     "data": {
      "text/latex": [
       "$\\displaystyle F_{1,144} = f(x_144, y_144) = f(1.44, 0.8582284) = 0.2735938$"
      ],
      "text/plain": [
       "<IPython.core.display.Math object>"
      ]
     },
     "metadata": {},
     "output_type": "display_data"
    },
    {
     "data": {
      "text/latex": [
       "$\\displaystyle x_145 = x_144 + h = 1.44 + 0.01 = 1.45$"
      ],
      "text/plain": [
       "<IPython.core.display.Math object>"
      ]
     },
     "metadata": {},
     "output_type": "display_data"
    },
    {
     "data": {
      "text/latex": [
       "$\\displaystyle y_e = y_144 + hF_{1,144} = 0.8582284 + (0.01)(0.2735938) = 0.8609643\n",
       "$"
      ],
      "text/plain": [
       "<IPython.core.display.Math object>"
      ]
     },
     "metadata": {},
     "output_type": "display_data"
    },
    {
     "data": {
      "text/latex": [
       "$\\displaystyle F_{2,144} = f(x_145, y_e) = f(1.45, 0.8609643) = 0.2762778$"
      ],
      "text/plain": [
       "<IPython.core.display.Math object>"
      ]
     },
     "metadata": {},
     "output_type": "display_data"
    },
    {
     "data": {
      "text/latex": [
       "$\\displaystyle y_145 = y_144 + \\frac{1}{2}h(F_{1,144} + F_{2,144}) = 0.8582284 + \\frac{1}{2}(0.01)(0.2735938 + 0.2762778) = 0.8609778$"
      ],
      "text/plain": [
       "<IPython.core.display.Math object>"
      ]
     },
     "metadata": {},
     "output_type": "display_data"
    },
    {
     "data": {
      "text/latex": [
       "$\\displaystyle Approximation\\ to\\ y(x_145 = 1.45) = 0.8609778$"
      ],
      "text/plain": [
       "<IPython.core.display.Math object>"
      ]
     },
     "metadata": {},
     "output_type": "display_data"
    },
    {
     "name": "stdout",
     "output_type": "stream",
     "text": [
      "____________________________________________\n"
     ]
    },
    {
     "data": {
      "text/latex": [
       "$\\displaystyle Set\\ r=145,$"
      ],
      "text/plain": [
       "<IPython.core.display.Math object>"
      ]
     },
     "metadata": {},
     "output_type": "display_data"
    },
    {
     "data": {
      "text/latex": [
       "$\\displaystyle x_145 = 1.45, y_145 = 0.8609778$"
      ],
      "text/plain": [
       "<IPython.core.display.Math object>"
      ]
     },
     "metadata": {},
     "output_type": "display_data"
    },
    {
     "data": {
      "text/latex": [
       "$\\displaystyle F_{1,145} = f(x_145, y_145) = f(1.45, 0.8609778) = 0.2762706$"
      ],
      "text/plain": [
       "<IPython.core.display.Math object>"
      ]
     },
     "metadata": {},
     "output_type": "display_data"
    },
    {
     "data": {
      "text/latex": [
       "$\\displaystyle x_146 = x_145 + h = 1.45 + 0.01 = 1.46$"
      ],
      "text/plain": [
       "<IPython.core.display.Math object>"
      ]
     },
     "metadata": {},
     "output_type": "display_data"
    },
    {
     "data": {
      "text/latex": [
       "$\\displaystyle y_e = y_145 + hF_{1,145} = 0.8609778 + (0.01)(0.2762706) = 0.8637405\n",
       "$"
      ],
      "text/plain": [
       "<IPython.core.display.Math object>"
      ]
     },
     "metadata": {},
     "output_type": "display_data"
    },
    {
     "data": {
      "text/latex": [
       "$\\displaystyle F_{2,145} = f(x_146, y_e) = f(1.46, 0.8637405) = 0.2789282$"
      ],
      "text/plain": [
       "<IPython.core.display.Math object>"
      ]
     },
     "metadata": {},
     "output_type": "display_data"
    },
    {
     "data": {
      "text/latex": [
       "$\\displaystyle y_146 = y_145 + \\frac{1}{2}h(F_{1,145} + F_{2,145}) = 0.8609778 + \\frac{1}{2}(0.01)(0.2762706 + 0.2789282) = 0.8637538$"
      ],
      "text/plain": [
       "<IPython.core.display.Math object>"
      ]
     },
     "metadata": {},
     "output_type": "display_data"
    },
    {
     "data": {
      "text/latex": [
       "$\\displaystyle Approximation\\ to\\ y(x_146 = 1.46) = 0.8637538$"
      ],
      "text/plain": [
       "<IPython.core.display.Math object>"
      ]
     },
     "metadata": {},
     "output_type": "display_data"
    },
    {
     "name": "stdout",
     "output_type": "stream",
     "text": [
      "____________________________________________\n"
     ]
    },
    {
     "data": {
      "text/latex": [
       "$\\displaystyle Set\\ r=146,$"
      ],
      "text/plain": [
       "<IPython.core.display.Math object>"
      ]
     },
     "metadata": {},
     "output_type": "display_data"
    },
    {
     "data": {
      "text/latex": [
       "$\\displaystyle x_146 = 1.46, y_146 = 0.8637538$"
      ],
      "text/plain": [
       "<IPython.core.display.Math object>"
      ]
     },
     "metadata": {},
     "output_type": "display_data"
    },
    {
     "data": {
      "text/latex": [
       "$\\displaystyle F_{1,146} = f(x_146, y_146) = f(1.46, 0.8637538) = 0.2789210$"
      ],
      "text/plain": [
       "<IPython.core.display.Math object>"
      ]
     },
     "metadata": {},
     "output_type": "display_data"
    },
    {
     "data": {
      "text/latex": [
       "$\\displaystyle x_147 = x_146 + h = 1.46 + 0.01 = 1.47$"
      ],
      "text/plain": [
       "<IPython.core.display.Math object>"
      ]
     },
     "metadata": {},
     "output_type": "display_data"
    },
    {
     "data": {
      "text/latex": [
       "$\\displaystyle y_e = y_146 + hF_{1,146} = 0.8637538 + (0.01)(0.2789210) = 0.8665430\n",
       "$"
      ],
      "text/plain": [
       "<IPython.core.display.Math object>"
      ]
     },
     "metadata": {},
     "output_type": "display_data"
    },
    {
     "data": {
      "text/latex": [
       "$\\displaystyle F_{2,146} = f(x_147, y_e) = f(1.47, 0.8665430) = 0.2815526$"
      ],
      "text/plain": [
       "<IPython.core.display.Math object>"
      ]
     },
     "metadata": {},
     "output_type": "display_data"
    },
    {
     "data": {
      "text/latex": [
       "$\\displaystyle y_147 = y_146 + \\frac{1}{2}h(F_{1,146} + F_{2,146}) = 0.8637538 + \\frac{1}{2}(0.01)(0.2789210 + 0.2815526) = 0.8665562$"
      ],
      "text/plain": [
       "<IPython.core.display.Math object>"
      ]
     },
     "metadata": {},
     "output_type": "display_data"
    },
    {
     "data": {
      "text/latex": [
       "$\\displaystyle Approximation\\ to\\ y(x_147 = 1.47) = 0.8665562$"
      ],
      "text/plain": [
       "<IPython.core.display.Math object>"
      ]
     },
     "metadata": {},
     "output_type": "display_data"
    },
    {
     "name": "stdout",
     "output_type": "stream",
     "text": [
      "____________________________________________\n"
     ]
    },
    {
     "data": {
      "text/latex": [
       "$\\displaystyle Set\\ r=147,$"
      ],
      "text/plain": [
       "<IPython.core.display.Math object>"
      ]
     },
     "metadata": {},
     "output_type": "display_data"
    },
    {
     "data": {
      "text/latex": [
       "$\\displaystyle x_147 = 1.47, y_147 = 0.8665562$"
      ],
      "text/plain": [
       "<IPython.core.display.Math object>"
      ]
     },
     "metadata": {},
     "output_type": "display_data"
    },
    {
     "data": {
      "text/latex": [
       "$\\displaystyle F_{1,147} = f(x_147, y_147) = f(1.47, 0.8665562) = 0.2815456$"
      ],
      "text/plain": [
       "<IPython.core.display.Math object>"
      ]
     },
     "metadata": {},
     "output_type": "display_data"
    },
    {
     "data": {
      "text/latex": [
       "$\\displaystyle x_148 = x_147 + h = 1.47 + 0.01 = 1.48$"
      ],
      "text/plain": [
       "<IPython.core.display.Math object>"
      ]
     },
     "metadata": {},
     "output_type": "display_data"
    },
    {
     "data": {
      "text/latex": [
       "$\\displaystyle y_e = y_147 + hF_{1,147} = 0.8665562 + (0.01)(0.2815456) = 0.8693717\n",
       "$"
      ],
      "text/plain": [
       "<IPython.core.display.Math object>"
      ]
     },
     "metadata": {},
     "output_type": "display_data"
    },
    {
     "data": {
      "text/latex": [
       "$\\displaystyle F_{2,147} = f(x_148, y_e) = f(1.48, 0.8693717) = 0.2841515$"
      ],
      "text/plain": [
       "<IPython.core.display.Math object>"
      ]
     },
     "metadata": {},
     "output_type": "display_data"
    },
    {
     "data": {
      "text/latex": [
       "$\\displaystyle y_148 = y_147 + \\frac{1}{2}h(F_{1,147} + F_{2,147}) = 0.8665562 + \\frac{1}{2}(0.01)(0.2815456 + 0.2841515) = 0.8693847$"
      ],
      "text/plain": [
       "<IPython.core.display.Math object>"
      ]
     },
     "metadata": {},
     "output_type": "display_data"
    },
    {
     "data": {
      "text/latex": [
       "$\\displaystyle Approximation\\ to\\ y(x_148 = 1.48) = 0.8693847$"
      ],
      "text/plain": [
       "<IPython.core.display.Math object>"
      ]
     },
     "metadata": {},
     "output_type": "display_data"
    },
    {
     "name": "stdout",
     "output_type": "stream",
     "text": [
      "____________________________________________\n"
     ]
    },
    {
     "data": {
      "text/latex": [
       "$\\displaystyle Set\\ r=148,$"
      ],
      "text/plain": [
       "<IPython.core.display.Math object>"
      ]
     },
     "metadata": {},
     "output_type": "display_data"
    },
    {
     "data": {
      "text/latex": [
       "$\\displaystyle x_148 = 1.48, y_148 = 0.8693847$"
      ],
      "text/plain": [
       "<IPython.core.display.Math object>"
      ]
     },
     "metadata": {},
     "output_type": "display_data"
    },
    {
     "data": {
      "text/latex": [
       "$\\displaystyle F_{1,148} = f(x_148, y_148) = f(1.48, 0.8693847) = 0.2841445$"
      ],
      "text/plain": [
       "<IPython.core.display.Math object>"
      ]
     },
     "metadata": {},
     "output_type": "display_data"
    },
    {
     "data": {
      "text/latex": [
       "$\\displaystyle x_149 = x_148 + h = 1.48 + 0.01 = 1.49$"
      ],
      "text/plain": [
       "<IPython.core.display.Math object>"
      ]
     },
     "metadata": {},
     "output_type": "display_data"
    },
    {
     "data": {
      "text/latex": [
       "$\\displaystyle y_e = y_148 + hF_{1,148} = 0.8693847 + (0.01)(0.2841445) = 0.8722261\n",
       "$"
      ],
      "text/plain": [
       "<IPython.core.display.Math object>"
      ]
     },
     "metadata": {},
     "output_type": "display_data"
    },
    {
     "data": {
      "text/latex": [
       "$\\displaystyle F_{2,148} = f(x_149, y_e) = f(1.49, 0.8722261) = 0.2867251$"
      ],
      "text/plain": [
       "<IPython.core.display.Math object>"
      ]
     },
     "metadata": {},
     "output_type": "display_data"
    },
    {
     "data": {
      "text/latex": [
       "$\\displaystyle y_149 = y_148 + \\frac{1}{2}h(F_{1,148} + F_{2,148}) = 0.8693847 + \\frac{1}{2}(0.01)(0.2841445 + 0.2867251) = 0.8722390$"
      ],
      "text/plain": [
       "<IPython.core.display.Math object>"
      ]
     },
     "metadata": {},
     "output_type": "display_data"
    },
    {
     "data": {
      "text/latex": [
       "$\\displaystyle Approximation\\ to\\ y(x_149 = 1.49) = 0.8722390$"
      ],
      "text/plain": [
       "<IPython.core.display.Math object>"
      ]
     },
     "metadata": {},
     "output_type": "display_data"
    },
    {
     "name": "stdout",
     "output_type": "stream",
     "text": [
      "____________________________________________\n"
     ]
    },
    {
     "data": {
      "text/latex": [
       "$\\displaystyle Set\\ r=149,$"
      ],
      "text/plain": [
       "<IPython.core.display.Math object>"
      ]
     },
     "metadata": {},
     "output_type": "display_data"
    },
    {
     "data": {
      "text/latex": [
       "$\\displaystyle x_149 = 1.49, y_149 = 0.8722390$"
      ],
      "text/plain": [
       "<IPython.core.display.Math object>"
      ]
     },
     "metadata": {},
     "output_type": "display_data"
    },
    {
     "data": {
      "text/latex": [
       "$\\displaystyle F_{1,149} = f(x_149, y_149) = f(1.49, 0.8722390) = 0.2867182$"
      ],
      "text/plain": [
       "<IPython.core.display.Math object>"
      ]
     },
     "metadata": {},
     "output_type": "display_data"
    },
    {
     "data": {
      "text/latex": [
       "$\\displaystyle x_150 = x_149 + h = 1.49 + 0.01 = 1.5$"
      ],
      "text/plain": [
       "<IPython.core.display.Math object>"
      ]
     },
     "metadata": {},
     "output_type": "display_data"
    },
    {
     "data": {
      "text/latex": [
       "$\\displaystyle y_e = y_149 + hF_{1,149} = 0.8722390 + (0.01)(0.2867182) = 0.8751062\n",
       "$"
      ],
      "text/plain": [
       "<IPython.core.display.Math object>"
      ]
     },
     "metadata": {},
     "output_type": "display_data"
    },
    {
     "data": {
      "text/latex": [
       "$\\displaystyle F_{2,149} = f(x_150, y_e) = f(1.5, 0.8751062) = 0.2892738$"
      ],
      "text/plain": [
       "<IPython.core.display.Math object>"
      ]
     },
     "metadata": {},
     "output_type": "display_data"
    },
    {
     "data": {
      "text/latex": [
       "$\\displaystyle y_150 = y_149 + \\frac{1}{2}h(F_{1,149} + F_{2,149}) = 0.8722390 + \\frac{1}{2}(0.01)(0.2867182 + 0.2892738) = 0.8751190$"
      ],
      "text/plain": [
       "<IPython.core.display.Math object>"
      ]
     },
     "metadata": {},
     "output_type": "display_data"
    },
    {
     "data": {
      "text/latex": [
       "$\\displaystyle Approximation\\ to\\ y(x_150 = 1.5) = 0.8751190$"
      ],
      "text/plain": [
       "<IPython.core.display.Math object>"
      ]
     },
     "metadata": {},
     "output_type": "display_data"
    },
    {
     "name": "stdout",
     "output_type": "stream",
     "text": [
      "____________________________________________\n"
     ]
    },
    {
     "data": {
      "text/latex": [
       "$\\displaystyle Set\\ r=150,$"
      ],
      "text/plain": [
       "<IPython.core.display.Math object>"
      ]
     },
     "metadata": {},
     "output_type": "display_data"
    },
    {
     "data": {
      "text/latex": [
       "$\\displaystyle x_150 = 1.5, y_150 = 0.8751190$"
      ],
      "text/plain": [
       "<IPython.core.display.Math object>"
      ]
     },
     "metadata": {},
     "output_type": "display_data"
    },
    {
     "data": {
      "text/latex": [
       "$\\displaystyle F_{1,150} = f(x_150, y_150) = f(1.5, 0.8751190) = 0.2892669$"
      ],
      "text/plain": [
       "<IPython.core.display.Math object>"
      ]
     },
     "metadata": {},
     "output_type": "display_data"
    },
    {
     "data": {
      "text/latex": [
       "$\\displaystyle x_151 = x_150 + h = 1.5 + 0.01 = 1.51$"
      ],
      "text/plain": [
       "<IPython.core.display.Math object>"
      ]
     },
     "metadata": {},
     "output_type": "display_data"
    },
    {
     "data": {
      "text/latex": [
       "$\\displaystyle y_e = y_150 + hF_{1,150} = 0.8751190 + (0.01)(0.2892669) = 0.8780117\n",
       "$"
      ],
      "text/plain": [
       "<IPython.core.display.Math object>"
      ]
     },
     "metadata": {},
     "output_type": "display_data"
    },
    {
     "data": {
      "text/latex": [
       "$\\displaystyle F_{2,150} = f(x_151, y_e) = f(1.51, 0.8780117) = 0.2917978$"
      ],
      "text/plain": [
       "<IPython.core.display.Math object>"
      ]
     },
     "metadata": {},
     "output_type": "display_data"
    },
    {
     "data": {
      "text/latex": [
       "$\\displaystyle y_151 = y_150 + \\frac{1}{2}h(F_{1,150} + F_{2,150}) = 0.8751190 + \\frac{1}{2}(0.01)(0.2892669 + 0.2917978) = 0.8780243$"
      ],
      "text/plain": [
       "<IPython.core.display.Math object>"
      ]
     },
     "metadata": {},
     "output_type": "display_data"
    },
    {
     "data": {
      "text/latex": [
       "$\\displaystyle Approximation\\ to\\ y(x_151 = 1.51) = 0.8780243$"
      ],
      "text/plain": [
       "<IPython.core.display.Math object>"
      ]
     },
     "metadata": {},
     "output_type": "display_data"
    },
    {
     "name": "stdout",
     "output_type": "stream",
     "text": [
      "____________________________________________\n"
     ]
    },
    {
     "data": {
      "text/latex": [
       "$\\displaystyle Set\\ r=151,$"
      ],
      "text/plain": [
       "<IPython.core.display.Math object>"
      ]
     },
     "metadata": {},
     "output_type": "display_data"
    },
    {
     "data": {
      "text/latex": [
       "$\\displaystyle x_151 = 1.51, y_151 = 0.8780243$"
      ],
      "text/plain": [
       "<IPython.core.display.Math object>"
      ]
     },
     "metadata": {},
     "output_type": "display_data"
    },
    {
     "data": {
      "text/latex": [
       "$\\displaystyle F_{1,151} = f(x_151, y_151) = f(1.51, 0.8780243) = 0.2917911$"
      ],
      "text/plain": [
       "<IPython.core.display.Math object>"
      ]
     },
     "metadata": {},
     "output_type": "display_data"
    },
    {
     "data": {
      "text/latex": [
       "$\\displaystyle x_152 = x_151 + h = 1.51 + 0.01 = 1.52$"
      ],
      "text/plain": [
       "<IPython.core.display.Math object>"
      ]
     },
     "metadata": {},
     "output_type": "display_data"
    },
    {
     "data": {
      "text/latex": [
       "$\\displaystyle y_e = y_151 + hF_{1,151} = 0.8780243 + (0.01)(0.2917911) = 0.8809422\n",
       "$"
      ],
      "text/plain": [
       "<IPython.core.display.Math object>"
      ]
     },
     "metadata": {},
     "output_type": "display_data"
    },
    {
     "data": {
      "text/latex": [
       "$\\displaystyle F_{2,151} = f(x_152, y_e) = f(1.52, 0.8809422) = 0.2942976$"
      ],
      "text/plain": [
       "<IPython.core.display.Math object>"
      ]
     },
     "metadata": {},
     "output_type": "display_data"
    },
    {
     "data": {
      "text/latex": [
       "$\\displaystyle y_152 = y_151 + \\frac{1}{2}h(F_{1,151} + F_{2,151}) = 0.8780243 + \\frac{1}{2}(0.01)(0.2917911 + 0.2942976) = 0.8809547$"
      ],
      "text/plain": [
       "<IPython.core.display.Math object>"
      ]
     },
     "metadata": {},
     "output_type": "display_data"
    },
    {
     "data": {
      "text/latex": [
       "$\\displaystyle Approximation\\ to\\ y(x_152 = 1.52) = 0.8809547$"
      ],
      "text/plain": [
       "<IPython.core.display.Math object>"
      ]
     },
     "metadata": {},
     "output_type": "display_data"
    },
    {
     "name": "stdout",
     "output_type": "stream",
     "text": [
      "____________________________________________\n"
     ]
    },
    {
     "data": {
      "text/latex": [
       "$\\displaystyle Set\\ r=152,$"
      ],
      "text/plain": [
       "<IPython.core.display.Math object>"
      ]
     },
     "metadata": {},
     "output_type": "display_data"
    },
    {
     "data": {
      "text/latex": [
       "$\\displaystyle x_152 = 1.52, y_152 = 0.8809547$"
      ],
      "text/plain": [
       "<IPython.core.display.Math object>"
      ]
     },
     "metadata": {},
     "output_type": "display_data"
    },
    {
     "data": {
      "text/latex": [
       "$\\displaystyle F_{1,152} = f(x_152, y_152) = f(1.52, 0.8809547) = 0.2942909$"
      ],
      "text/plain": [
       "<IPython.core.display.Math object>"
      ]
     },
     "metadata": {},
     "output_type": "display_data"
    },
    {
     "data": {
      "text/latex": [
       "$\\displaystyle x_153 = x_152 + h = 1.52 + 0.01 = 1.53$"
      ],
      "text/plain": [
       "<IPython.core.display.Math object>"
      ]
     },
     "metadata": {},
     "output_type": "display_data"
    },
    {
     "data": {
      "text/latex": [
       "$\\displaystyle y_e = y_152 + hF_{1,152} = 0.8809547 + (0.01)(0.2942909) = 0.8838976\n",
       "$"
      ],
      "text/plain": [
       "<IPython.core.display.Math object>"
      ]
     },
     "metadata": {},
     "output_type": "display_data"
    },
    {
     "data": {
      "text/latex": [
       "$\\displaystyle F_{2,152} = f(x_153, y_e) = f(1.53, 0.8838976) = 0.2967734$"
      ],
      "text/plain": [
       "<IPython.core.display.Math object>"
      ]
     },
     "metadata": {},
     "output_type": "display_data"
    },
    {
     "data": {
      "text/latex": [
       "$\\displaystyle y_153 = y_152 + \\frac{1}{2}h(F_{1,152} + F_{2,152}) = 0.8809547 + \\frac{1}{2}(0.01)(0.2942909 + 0.2967734) = 0.8839100$"
      ],
      "text/plain": [
       "<IPython.core.display.Math object>"
      ]
     },
     "metadata": {},
     "output_type": "display_data"
    },
    {
     "data": {
      "text/latex": [
       "$\\displaystyle Approximation\\ to\\ y(x_153 = 1.53) = 0.8839100$"
      ],
      "text/plain": [
       "<IPython.core.display.Math object>"
      ]
     },
     "metadata": {},
     "output_type": "display_data"
    },
    {
     "name": "stdout",
     "output_type": "stream",
     "text": [
      "____________________________________________\n"
     ]
    },
    {
     "data": {
      "text/latex": [
       "$\\displaystyle Set\\ r=153,$"
      ],
      "text/plain": [
       "<IPython.core.display.Math object>"
      ]
     },
     "metadata": {},
     "output_type": "display_data"
    },
    {
     "data": {
      "text/latex": [
       "$\\displaystyle x_153 = 1.53, y_153 = 0.8839100$"
      ],
      "text/plain": [
       "<IPython.core.display.Math object>"
      ]
     },
     "metadata": {},
     "output_type": "display_data"
    },
    {
     "data": {
      "text/latex": [
       "$\\displaystyle F_{1,153} = f(x_153, y_153) = f(1.53, 0.8839100) = 0.2967668$"
      ],
      "text/plain": [
       "<IPython.core.display.Math object>"
      ]
     },
     "metadata": {},
     "output_type": "display_data"
    },
    {
     "data": {
      "text/latex": [
       "$\\displaystyle x_154 = x_153 + h = 1.53 + 0.01 = 1.54$"
      ],
      "text/plain": [
       "<IPython.core.display.Math object>"
      ]
     },
     "metadata": {},
     "output_type": "display_data"
    },
    {
     "data": {
      "text/latex": [
       "$\\displaystyle y_e = y_153 + hF_{1,153} = 0.8839100 + (0.01)(0.2967668) = 0.8868777\n",
       "$"
      ],
      "text/plain": [
       "<IPython.core.display.Math object>"
      ]
     },
     "metadata": {},
     "output_type": "display_data"
    },
    {
     "data": {
      "text/latex": [
       "$\\displaystyle F_{2,153} = f(x_154, y_e) = f(1.54, 0.8868777) = 0.2992255$"
      ],
      "text/plain": [
       "<IPython.core.display.Math object>"
      ]
     },
     "metadata": {},
     "output_type": "display_data"
    },
    {
     "data": {
      "text/latex": [
       "$\\displaystyle y_154 = y_153 + \\frac{1}{2}h(F_{1,153} + F_{2,153}) = 0.8839100 + \\frac{1}{2}(0.01)(0.2967668 + 0.2992255) = 0.8868900$"
      ],
      "text/plain": [
       "<IPython.core.display.Math object>"
      ]
     },
     "metadata": {},
     "output_type": "display_data"
    },
    {
     "data": {
      "text/latex": [
       "$\\displaystyle Approximation\\ to\\ y(x_154 = 1.54) = 0.8868900$"
      ],
      "text/plain": [
       "<IPython.core.display.Math object>"
      ]
     },
     "metadata": {},
     "output_type": "display_data"
    },
    {
     "name": "stdout",
     "output_type": "stream",
     "text": [
      "____________________________________________\n"
     ]
    },
    {
     "data": {
      "text/latex": [
       "$\\displaystyle Set\\ r=154,$"
      ],
      "text/plain": [
       "<IPython.core.display.Math object>"
      ]
     },
     "metadata": {},
     "output_type": "display_data"
    },
    {
     "data": {
      "text/latex": [
       "$\\displaystyle x_154 = 1.54, y_154 = 0.8868900$"
      ],
      "text/plain": [
       "<IPython.core.display.Math object>"
      ]
     },
     "metadata": {},
     "output_type": "display_data"
    },
    {
     "data": {
      "text/latex": [
       "$\\displaystyle F_{1,154} = f(x_154, y_154) = f(1.54, 0.8868900) = 0.2992190$"
      ],
      "text/plain": [
       "<IPython.core.display.Math object>"
      ]
     },
     "metadata": {},
     "output_type": "display_data"
    },
    {
     "data": {
      "text/latex": [
       "$\\displaystyle x_155 = x_154 + h = 1.54 + 0.01 = 1.55$"
      ],
      "text/plain": [
       "<IPython.core.display.Math object>"
      ]
     },
     "metadata": {},
     "output_type": "display_data"
    },
    {
     "data": {
      "text/latex": [
       "$\\displaystyle y_e = y_154 + hF_{1,154} = 0.8868900 + (0.01)(0.2992190) = 0.8898822\n",
       "$"
      ],
      "text/plain": [
       "<IPython.core.display.Math object>"
      ]
     },
     "metadata": {},
     "output_type": "display_data"
    },
    {
     "data": {
      "text/latex": [
       "$\\displaystyle F_{2,154} = f(x_155, y_e) = f(1.55, 0.8898822) = 0.3016543$"
      ],
      "text/plain": [
       "<IPython.core.display.Math object>"
      ]
     },
     "metadata": {},
     "output_type": "display_data"
    },
    {
     "data": {
      "text/latex": [
       "$\\displaystyle y_155 = y_154 + \\frac{1}{2}h(F_{1,154} + F_{2,154}) = 0.8868900 + \\frac{1}{2}(0.01)(0.2992190 + 0.3016543) = 0.8898944$"
      ],
      "text/plain": [
       "<IPython.core.display.Math object>"
      ]
     },
     "metadata": {},
     "output_type": "display_data"
    },
    {
     "data": {
      "text/latex": [
       "$\\displaystyle Approximation\\ to\\ y(x_155 = 1.55) = 0.8898944$"
      ],
      "text/plain": [
       "<IPython.core.display.Math object>"
      ]
     },
     "metadata": {},
     "output_type": "display_data"
    },
    {
     "name": "stdout",
     "output_type": "stream",
     "text": [
      "____________________________________________\n"
     ]
    },
    {
     "data": {
      "text/latex": [
       "$\\displaystyle Set\\ r=155,$"
      ],
      "text/plain": [
       "<IPython.core.display.Math object>"
      ]
     },
     "metadata": {},
     "output_type": "display_data"
    },
    {
     "data": {
      "text/latex": [
       "$\\displaystyle x_155 = 1.55, y_155 = 0.8898944$"
      ],
      "text/plain": [
       "<IPython.core.display.Math object>"
      ]
     },
     "metadata": {},
     "output_type": "display_data"
    },
    {
     "data": {
      "text/latex": [
       "$\\displaystyle F_{1,155} = f(x_155, y_155) = f(1.55, 0.8898944) = 0.3016478$"
      ],
      "text/plain": [
       "<IPython.core.display.Math object>"
      ]
     },
     "metadata": {},
     "output_type": "display_data"
    },
    {
     "data": {
      "text/latex": [
       "$\\displaystyle x_156 = x_155 + h = 1.55 + 0.01 = 1.56$"
      ],
      "text/plain": [
       "<IPython.core.display.Math object>"
      ]
     },
     "metadata": {},
     "output_type": "display_data"
    },
    {
     "data": {
      "text/latex": [
       "$\\displaystyle y_e = y_155 + hF_{1,155} = 0.8898944 + (0.01)(0.3016478) = 0.8929109\n",
       "$"
      ],
      "text/plain": [
       "<IPython.core.display.Math object>"
      ]
     },
     "metadata": {},
     "output_type": "display_data"
    },
    {
     "data": {
      "text/latex": [
       "$\\displaystyle F_{2,155} = f(x_156, y_e) = f(1.56, 0.8929109) = 0.3040600$"
      ],
      "text/plain": [
       "<IPython.core.display.Math object>"
      ]
     },
     "metadata": {},
     "output_type": "display_data"
    },
    {
     "data": {
      "text/latex": [
       "$\\displaystyle y_156 = y_155 + \\frac{1}{2}h(F_{1,155} + F_{2,155}) = 0.8898944 + \\frac{1}{2}(0.01)(0.3016478 + 0.3040600) = 0.8929229$"
      ],
      "text/plain": [
       "<IPython.core.display.Math object>"
      ]
     },
     "metadata": {},
     "output_type": "display_data"
    },
    {
     "data": {
      "text/latex": [
       "$\\displaystyle Approximation\\ to\\ y(x_156 = 1.56) = 0.8929229$"
      ],
      "text/plain": [
       "<IPython.core.display.Math object>"
      ]
     },
     "metadata": {},
     "output_type": "display_data"
    },
    {
     "name": "stdout",
     "output_type": "stream",
     "text": [
      "____________________________________________\n"
     ]
    },
    {
     "data": {
      "text/latex": [
       "$\\displaystyle Set\\ r=156,$"
      ],
      "text/plain": [
       "<IPython.core.display.Math object>"
      ]
     },
     "metadata": {},
     "output_type": "display_data"
    },
    {
     "data": {
      "text/latex": [
       "$\\displaystyle x_156 = 1.56, y_156 = 0.8929229$"
      ],
      "text/plain": [
       "<IPython.core.display.Math object>"
      ]
     },
     "metadata": {},
     "output_type": "display_data"
    },
    {
     "data": {
      "text/latex": [
       "$\\displaystyle F_{1,156} = f(x_156, y_156) = f(1.56, 0.8929229) = 0.3040536$"
      ],
      "text/plain": [
       "<IPython.core.display.Math object>"
      ]
     },
     "metadata": {},
     "output_type": "display_data"
    },
    {
     "data": {
      "text/latex": [
       "$\\displaystyle x_157 = x_156 + h = 1.56 + 0.01 = 1.57$"
      ],
      "text/plain": [
       "<IPython.core.display.Math object>"
      ]
     },
     "metadata": {},
     "output_type": "display_data"
    },
    {
     "data": {
      "text/latex": [
       "$\\displaystyle y_e = y_156 + hF_{1,156} = 0.8929229 + (0.01)(0.3040536) = 0.8959634\n",
       "$"
      ],
      "text/plain": [
       "<IPython.core.display.Math object>"
      ]
     },
     "metadata": {},
     "output_type": "display_data"
    },
    {
     "data": {
      "text/latex": [
       "$\\displaystyle F_{2,156} = f(x_157, y_e) = f(1.57, 0.8959634) = 0.3064430$"
      ],
      "text/plain": [
       "<IPython.core.display.Math object>"
      ]
     },
     "metadata": {},
     "output_type": "display_data"
    },
    {
     "data": {
      "text/latex": [
       "$\\displaystyle y_157 = y_156 + \\frac{1}{2}h(F_{1,156} + F_{2,156}) = 0.8929229 + \\frac{1}{2}(0.01)(0.3040536 + 0.3064430) = 0.8959754$"
      ],
      "text/plain": [
       "<IPython.core.display.Math object>"
      ]
     },
     "metadata": {},
     "output_type": "display_data"
    },
    {
     "data": {
      "text/latex": [
       "$\\displaystyle Approximation\\ to\\ y(x_157 = 1.57) = 0.8959754$"
      ],
      "text/plain": [
       "<IPython.core.display.Math object>"
      ]
     },
     "metadata": {},
     "output_type": "display_data"
    },
    {
     "name": "stdout",
     "output_type": "stream",
     "text": [
      "____________________________________________\n"
     ]
    },
    {
     "data": {
      "text/latex": [
       "$\\displaystyle Set\\ r=157,$"
      ],
      "text/plain": [
       "<IPython.core.display.Math object>"
      ]
     },
     "metadata": {},
     "output_type": "display_data"
    },
    {
     "data": {
      "text/latex": [
       "$\\displaystyle x_157 = 1.57, y_157 = 0.8959754$"
      ],
      "text/plain": [
       "<IPython.core.display.Math object>"
      ]
     },
     "metadata": {},
     "output_type": "display_data"
    },
    {
     "data": {
      "text/latex": [
       "$\\displaystyle F_{1,157} = f(x_157, y_157) = f(1.57, 0.8959754) = 0.3064366$"
      ],
      "text/plain": [
       "<IPython.core.display.Math object>"
      ]
     },
     "metadata": {},
     "output_type": "display_data"
    },
    {
     "data": {
      "text/latex": [
       "$\\displaystyle x_158 = x_157 + h = 1.57 + 0.01 = 1.58$"
      ],
      "text/plain": [
       "<IPython.core.display.Math object>"
      ]
     },
     "metadata": {},
     "output_type": "display_data"
    },
    {
     "data": {
      "text/latex": [
       "$\\displaystyle y_e = y_157 + hF_{1,157} = 0.8959754 + (0.01)(0.3064366) = 0.8990398\n",
       "$"
      ],
      "text/plain": [
       "<IPython.core.display.Math object>"
      ]
     },
     "metadata": {},
     "output_type": "display_data"
    },
    {
     "data": {
      "text/latex": [
       "$\\displaystyle F_{2,157} = f(x_158, y_e) = f(1.58, 0.8990398) = 0.3088034$"
      ],
      "text/plain": [
       "<IPython.core.display.Math object>"
      ]
     },
     "metadata": {},
     "output_type": "display_data"
    },
    {
     "data": {
      "text/latex": [
       "$\\displaystyle y_158 = y_157 + \\frac{1}{2}h(F_{1,157} + F_{2,157}) = 0.8959754 + \\frac{1}{2}(0.01)(0.3064366 + 0.3088034) = 0.8990516$"
      ],
      "text/plain": [
       "<IPython.core.display.Math object>"
      ]
     },
     "metadata": {},
     "output_type": "display_data"
    },
    {
     "data": {
      "text/latex": [
       "$\\displaystyle Approximation\\ to\\ y(x_158 = 1.58) = 0.8990516$"
      ],
      "text/plain": [
       "<IPython.core.display.Math object>"
      ]
     },
     "metadata": {},
     "output_type": "display_data"
    },
    {
     "name": "stdout",
     "output_type": "stream",
     "text": [
      "____________________________________________\n"
     ]
    },
    {
     "data": {
      "text/latex": [
       "$\\displaystyle Set\\ r=158,$"
      ],
      "text/plain": [
       "<IPython.core.display.Math object>"
      ]
     },
     "metadata": {},
     "output_type": "display_data"
    },
    {
     "data": {
      "text/latex": [
       "$\\displaystyle x_158 = 1.58, y_158 = 0.8990516$"
      ],
      "text/plain": [
       "<IPython.core.display.Math object>"
      ]
     },
     "metadata": {},
     "output_type": "display_data"
    },
    {
     "data": {
      "text/latex": [
       "$\\displaystyle F_{1,158} = f(x_158, y_158) = f(1.58, 0.8990516) = 0.3087972$"
      ],
      "text/plain": [
       "<IPython.core.display.Math object>"
      ]
     },
     "metadata": {},
     "output_type": "display_data"
    },
    {
     "data": {
      "text/latex": [
       "$\\displaystyle x_159 = x_158 + h = 1.58 + 0.01 = 1.59$"
      ],
      "text/plain": [
       "<IPython.core.display.Math object>"
      ]
     },
     "metadata": {},
     "output_type": "display_data"
    },
    {
     "data": {
      "text/latex": [
       "$\\displaystyle y_e = y_158 + hF_{1,158} = 0.8990516 + (0.01)(0.3087972) = 0.9021396\n",
       "$"
      ],
      "text/plain": [
       "<IPython.core.display.Math object>"
      ]
     },
     "metadata": {},
     "output_type": "display_data"
    },
    {
     "data": {
      "text/latex": [
       "$\\displaystyle F_{2,158} = f(x_159, y_e) = f(1.59, 0.9021396) = 0.3111417$"
      ],
      "text/plain": [
       "<IPython.core.display.Math object>"
      ]
     },
     "metadata": {},
     "output_type": "display_data"
    },
    {
     "data": {
      "text/latex": [
       "$\\displaystyle y_159 = y_158 + \\frac{1}{2}h(F_{1,158} + F_{2,158}) = 0.8990516 + \\frac{1}{2}(0.01)(0.3087972 + 0.3111417) = 0.9021513$"
      ],
      "text/plain": [
       "<IPython.core.display.Math object>"
      ]
     },
     "metadata": {},
     "output_type": "display_data"
    },
    {
     "data": {
      "text/latex": [
       "$\\displaystyle Approximation\\ to\\ y(x_159 = 1.59) = 0.9021513$"
      ],
      "text/plain": [
       "<IPython.core.display.Math object>"
      ]
     },
     "metadata": {},
     "output_type": "display_data"
    },
    {
     "name": "stdout",
     "output_type": "stream",
     "text": [
      "____________________________________________\n"
     ]
    },
    {
     "data": {
      "text/latex": [
       "$\\displaystyle Set\\ r=159,$"
      ],
      "text/plain": [
       "<IPython.core.display.Math object>"
      ]
     },
     "metadata": {},
     "output_type": "display_data"
    },
    {
     "data": {
      "text/latex": [
       "$\\displaystyle x_159 = 1.59, y_159 = 0.9021513$"
      ],
      "text/plain": [
       "<IPython.core.display.Math object>"
      ]
     },
     "metadata": {},
     "output_type": "display_data"
    },
    {
     "data": {
      "text/latex": [
       "$\\displaystyle F_{1,159} = f(x_159, y_159) = f(1.59, 0.9021513) = 0.3111356$"
      ],
      "text/plain": [
       "<IPython.core.display.Math object>"
      ]
     },
     "metadata": {},
     "output_type": "display_data"
    },
    {
     "data": {
      "text/latex": [
       "$\\displaystyle x_160 = x_159 + h = 1.59 + 0.01 = 1.6$"
      ],
      "text/plain": [
       "<IPython.core.display.Math object>"
      ]
     },
     "metadata": {},
     "output_type": "display_data"
    },
    {
     "data": {
      "text/latex": [
       "$\\displaystyle y_e = y_159 + hF_{1,159} = 0.9021513 + (0.01)(0.3111356) = 0.9052627\n",
       "$"
      ],
      "text/plain": [
       "<IPython.core.display.Math object>"
      ]
     },
     "metadata": {},
     "output_type": "display_data"
    },
    {
     "data": {
      "text/latex": [
       "$\\displaystyle F_{2,159} = f(x_160, y_e) = f(1.6, 0.9052627) = 0.3134581$"
      ],
      "text/plain": [
       "<IPython.core.display.Math object>"
      ]
     },
     "metadata": {},
     "output_type": "display_data"
    },
    {
     "data": {
      "text/latex": [
       "$\\displaystyle y_160 = y_159 + \\frac{1}{2}h(F_{1,159} + F_{2,159}) = 0.9021513 + \\frac{1}{2}(0.01)(0.3111356 + 0.3134581) = 0.9052743$"
      ],
      "text/plain": [
       "<IPython.core.display.Math object>"
      ]
     },
     "metadata": {},
     "output_type": "display_data"
    },
    {
     "data": {
      "text/latex": [
       "$\\displaystyle Approximation\\ to\\ y(x_160 = 1.6) = 0.9052743$"
      ],
      "text/plain": [
       "<IPython.core.display.Math object>"
      ]
     },
     "metadata": {},
     "output_type": "display_data"
    },
    {
     "name": "stdout",
     "output_type": "stream",
     "text": [
      "____________________________________________\n"
     ]
    },
    {
     "data": {
      "text/latex": [
       "$\\displaystyle Set\\ r=160,$"
      ],
      "text/plain": [
       "<IPython.core.display.Math object>"
      ]
     },
     "metadata": {},
     "output_type": "display_data"
    },
    {
     "data": {
      "text/latex": [
       "$\\displaystyle x_160 = 1.6, y_160 = 0.9052743$"
      ],
      "text/plain": [
       "<IPython.core.display.Math object>"
      ]
     },
     "metadata": {},
     "output_type": "display_data"
    },
    {
     "data": {
      "text/latex": [
       "$\\displaystyle F_{1,160} = f(x_160, y_160) = f(1.6, 0.9052743) = 0.3134520$"
      ],
      "text/plain": [
       "<IPython.core.display.Math object>"
      ]
     },
     "metadata": {},
     "output_type": "display_data"
    },
    {
     "data": {
      "text/latex": [
       "$\\displaystyle x_161 = x_160 + h = 1.6 + 0.01 = 1.61$"
      ],
      "text/plain": [
       "<IPython.core.display.Math object>"
      ]
     },
     "metadata": {},
     "output_type": "display_data"
    },
    {
     "data": {
      "text/latex": [
       "$\\displaystyle y_e = y_160 + hF_{1,160} = 0.9052743 + (0.01)(0.3134520) = 0.9084088\n",
       "$"
      ],
      "text/plain": [
       "<IPython.core.display.Math object>"
      ]
     },
     "metadata": {},
     "output_type": "display_data"
    },
    {
     "data": {
      "text/latex": [
       "$\\displaystyle F_{2,160} = f(x_161, y_e) = f(1.61, 0.9084088) = 0.3157529$"
      ],
      "text/plain": [
       "<IPython.core.display.Math object>"
      ]
     },
     "metadata": {},
     "output_type": "display_data"
    },
    {
     "data": {
      "text/latex": [
       "$\\displaystyle y_161 = y_160 + \\frac{1}{2}h(F_{1,160} + F_{2,160}) = 0.9052743 + \\frac{1}{2}(0.01)(0.3134520 + 0.3157529) = 0.9084203$"
      ],
      "text/plain": [
       "<IPython.core.display.Math object>"
      ]
     },
     "metadata": {},
     "output_type": "display_data"
    },
    {
     "data": {
      "text/latex": [
       "$\\displaystyle Approximation\\ to\\ y(x_161 = 1.61) = 0.9084203$"
      ],
      "text/plain": [
       "<IPython.core.display.Math object>"
      ]
     },
     "metadata": {},
     "output_type": "display_data"
    },
    {
     "name": "stdout",
     "output_type": "stream",
     "text": [
      "____________________________________________\n"
     ]
    },
    {
     "data": {
      "text/latex": [
       "$\\displaystyle Set\\ r=161,$"
      ],
      "text/plain": [
       "<IPython.core.display.Math object>"
      ]
     },
     "metadata": {},
     "output_type": "display_data"
    },
    {
     "data": {
      "text/latex": [
       "$\\displaystyle x_161 = 1.61, y_161 = 0.9084203$"
      ],
      "text/plain": [
       "<IPython.core.display.Math object>"
      ]
     },
     "metadata": {},
     "output_type": "display_data"
    },
    {
     "data": {
      "text/latex": [
       "$\\displaystyle F_{1,161} = f(x_161, y_161) = f(1.61, 0.9084203) = 0.3157469$"
      ],
      "text/plain": [
       "<IPython.core.display.Math object>"
      ]
     },
     "metadata": {},
     "output_type": "display_data"
    },
    {
     "data": {
      "text/latex": [
       "$\\displaystyle x_162 = x_161 + h = 1.61 + 0.01 = 1.62$"
      ],
      "text/plain": [
       "<IPython.core.display.Math object>"
      ]
     },
     "metadata": {},
     "output_type": "display_data"
    },
    {
     "data": {
      "text/latex": [
       "$\\displaystyle y_e = y_161 + hF_{1,161} = 0.9084203 + (0.01)(0.3157469) = 0.9115778\n",
       "$"
      ],
      "text/plain": [
       "<IPython.core.display.Math object>"
      ]
     },
     "metadata": {},
     "output_type": "display_data"
    },
    {
     "data": {
      "text/latex": [
       "$\\displaystyle F_{2,161} = f(x_162, y_e) = f(1.62, 0.9115778) = 0.3180264$"
      ],
      "text/plain": [
       "<IPython.core.display.Math object>"
      ]
     },
     "metadata": {},
     "output_type": "display_data"
    },
    {
     "data": {
      "text/latex": [
       "$\\displaystyle y_162 = y_161 + \\frac{1}{2}h(F_{1,161} + F_{2,161}) = 0.9084203 + \\frac{1}{2}(0.01)(0.3157469 + 0.3180264) = 0.9115892$"
      ],
      "text/plain": [
       "<IPython.core.display.Math object>"
      ]
     },
     "metadata": {},
     "output_type": "display_data"
    },
    {
     "data": {
      "text/latex": [
       "$\\displaystyle Approximation\\ to\\ y(x_162 = 1.62) = 0.9115892$"
      ],
      "text/plain": [
       "<IPython.core.display.Math object>"
      ]
     },
     "metadata": {},
     "output_type": "display_data"
    },
    {
     "name": "stdout",
     "output_type": "stream",
     "text": [
      "____________________________________________\n"
     ]
    },
    {
     "data": {
      "text/latex": [
       "$\\displaystyle Set\\ r=162,$"
      ],
      "text/plain": [
       "<IPython.core.display.Math object>"
      ]
     },
     "metadata": {},
     "output_type": "display_data"
    },
    {
     "data": {
      "text/latex": [
       "$\\displaystyle x_162 = 1.62, y_162 = 0.9115892$"
      ],
      "text/plain": [
       "<IPython.core.display.Math object>"
      ]
     },
     "metadata": {},
     "output_type": "display_data"
    },
    {
     "data": {
      "text/latex": [
       "$\\displaystyle F_{1,162} = f(x_162, y_162) = f(1.62, 0.9115892) = 0.3180204$"
      ],
      "text/plain": [
       "<IPython.core.display.Math object>"
      ]
     },
     "metadata": {},
     "output_type": "display_data"
    },
    {
     "data": {
      "text/latex": [
       "$\\displaystyle x_163 = x_162 + h = 1.62 + 0.01 = 1.63$"
      ],
      "text/plain": [
       "<IPython.core.display.Math object>"
      ]
     },
     "metadata": {},
     "output_type": "display_data"
    },
    {
     "data": {
      "text/latex": [
       "$\\displaystyle y_e = y_162 + hF_{1,162} = 0.9115892 + (0.01)(0.3180204) = 0.9147694\n",
       "$"
      ],
      "text/plain": [
       "<IPython.core.display.Math object>"
      ]
     },
     "metadata": {},
     "output_type": "display_data"
    },
    {
     "data": {
      "text/latex": [
       "$\\displaystyle F_{2,162} = f(x_163, y_e) = f(1.63, 0.9147694) = 0.3202787$"
      ],
      "text/plain": [
       "<IPython.core.display.Math object>"
      ]
     },
     "metadata": {},
     "output_type": "display_data"
    },
    {
     "data": {
      "text/latex": [
       "$\\displaystyle y_163 = y_162 + \\frac{1}{2}h(F_{1,162} + F_{2,162}) = 0.9115892 + \\frac{1}{2}(0.01)(0.3180204 + 0.3202787) = 0.9147807$"
      ],
      "text/plain": [
       "<IPython.core.display.Math object>"
      ]
     },
     "metadata": {},
     "output_type": "display_data"
    },
    {
     "data": {
      "text/latex": [
       "$\\displaystyle Approximation\\ to\\ y(x_163 = 1.63) = 0.9147807$"
      ],
      "text/plain": [
       "<IPython.core.display.Math object>"
      ]
     },
     "metadata": {},
     "output_type": "display_data"
    },
    {
     "name": "stdout",
     "output_type": "stream",
     "text": [
      "____________________________________________\n"
     ]
    },
    {
     "data": {
      "text/latex": [
       "$\\displaystyle Set\\ r=163,$"
      ],
      "text/plain": [
       "<IPython.core.display.Math object>"
      ]
     },
     "metadata": {},
     "output_type": "display_data"
    },
    {
     "data": {
      "text/latex": [
       "$\\displaystyle x_163 = 1.63, y_163 = 0.9147807$"
      ],
      "text/plain": [
       "<IPython.core.display.Math object>"
      ]
     },
     "metadata": {},
     "output_type": "display_data"
    },
    {
     "data": {
      "text/latex": [
       "$\\displaystyle F_{1,163} = f(x_163, y_163) = f(1.63, 0.9147807) = 0.3202728$"
      ],
      "text/plain": [
       "<IPython.core.display.Math object>"
      ]
     },
     "metadata": {},
     "output_type": "display_data"
    },
    {
     "data": {
      "text/latex": [
       "$\\displaystyle x_164 = x_163 + h = 1.63 + 0.01 = 1.64$"
      ],
      "text/plain": [
       "<IPython.core.display.Math object>"
      ]
     },
     "metadata": {},
     "output_type": "display_data"
    },
    {
     "data": {
      "text/latex": [
       "$\\displaystyle y_e = y_163 + hF_{1,163} = 0.9147807 + (0.01)(0.3202728) = 0.9179834\n",
       "$"
      ],
      "text/plain": [
       "<IPython.core.display.Math object>"
      ]
     },
     "metadata": {},
     "output_type": "display_data"
    },
    {
     "data": {
      "text/latex": [
       "$\\displaystyle F_{2,163} = f(x_164, y_e) = f(1.64, 0.9179834) = 0.3225103$"
      ],
      "text/plain": [
       "<IPython.core.display.Math object>"
      ]
     },
     "metadata": {},
     "output_type": "display_data"
    },
    {
     "data": {
      "text/latex": [
       "$\\displaystyle y_164 = y_163 + \\frac{1}{2}h(F_{1,163} + F_{2,163}) = 0.9147807 + \\frac{1}{2}(0.01)(0.3202728 + 0.3225103) = 0.9179946$"
      ],
      "text/plain": [
       "<IPython.core.display.Math object>"
      ]
     },
     "metadata": {},
     "output_type": "display_data"
    },
    {
     "data": {
      "text/latex": [
       "$\\displaystyle Approximation\\ to\\ y(x_164 = 1.64) = 0.9179946$"
      ],
      "text/plain": [
       "<IPython.core.display.Math object>"
      ]
     },
     "metadata": {},
     "output_type": "display_data"
    },
    {
     "name": "stdout",
     "output_type": "stream",
     "text": [
      "____________________________________________\n"
     ]
    },
    {
     "data": {
      "text/latex": [
       "$\\displaystyle Set\\ r=164,$"
      ],
      "text/plain": [
       "<IPython.core.display.Math object>"
      ]
     },
     "metadata": {},
     "output_type": "display_data"
    },
    {
     "data": {
      "text/latex": [
       "$\\displaystyle x_164 = 1.64, y_164 = 0.9179946$"
      ],
      "text/plain": [
       "<IPython.core.display.Math object>"
      ]
     },
     "metadata": {},
     "output_type": "display_data"
    },
    {
     "data": {
      "text/latex": [
       "$\\displaystyle F_{1,164} = f(x_164, y_164) = f(1.64, 0.9179946) = 0.3225045$"
      ],
      "text/plain": [
       "<IPython.core.display.Math object>"
      ]
     },
     "metadata": {},
     "output_type": "display_data"
    },
    {
     "data": {
      "text/latex": [
       "$\\displaystyle x_165 = x_164 + h = 1.64 + 0.01 = 1.65$"
      ],
      "text/plain": [
       "<IPython.core.display.Math object>"
      ]
     },
     "metadata": {},
     "output_type": "display_data"
    },
    {
     "data": {
      "text/latex": [
       "$\\displaystyle y_e = y_164 + hF_{1,164} = 0.9179946 + (0.01)(0.3225045) = 0.9212196\n",
       "$"
      ],
      "text/plain": [
       "<IPython.core.display.Math object>"
      ]
     },
     "metadata": {},
     "output_type": "display_data"
    },
    {
     "data": {
      "text/latex": [
       "$\\displaystyle F_{2,164} = f(x_165, y_e) = f(1.65, 0.9212196) = 0.3247214$"
      ],
      "text/plain": [
       "<IPython.core.display.Math object>"
      ]
     },
     "metadata": {},
     "output_type": "display_data"
    },
    {
     "data": {
      "text/latex": [
       "$\\displaystyle y_165 = y_164 + \\frac{1}{2}h(F_{1,164} + F_{2,164}) = 0.9179946 + \\frac{1}{2}(0.01)(0.3225045 + 0.3247214) = 0.9212307$"
      ],
      "text/plain": [
       "<IPython.core.display.Math object>"
      ]
     },
     "metadata": {},
     "output_type": "display_data"
    },
    {
     "data": {
      "text/latex": [
       "$\\displaystyle Approximation\\ to\\ y(x_165 = 1.65) = 0.9212307$"
      ],
      "text/plain": [
       "<IPython.core.display.Math object>"
      ]
     },
     "metadata": {},
     "output_type": "display_data"
    },
    {
     "name": "stdout",
     "output_type": "stream",
     "text": [
      "____________________________________________\n"
     ]
    },
    {
     "data": {
      "text/latex": [
       "$\\displaystyle Set\\ r=165,$"
      ],
      "text/plain": [
       "<IPython.core.display.Math object>"
      ]
     },
     "metadata": {},
     "output_type": "display_data"
    },
    {
     "data": {
      "text/latex": [
       "$\\displaystyle x_165 = 1.65, y_165 = 0.9212307$"
      ],
      "text/plain": [
       "<IPython.core.display.Math object>"
      ]
     },
     "metadata": {},
     "output_type": "display_data"
    },
    {
     "data": {
      "text/latex": [
       "$\\displaystyle F_{1,165} = f(x_165, y_165) = f(1.65, 0.9212307) = 0.3247156$"
      ],
      "text/plain": [
       "<IPython.core.display.Math object>"
      ]
     },
     "metadata": {},
     "output_type": "display_data"
    },
    {
     "data": {
      "text/latex": [
       "$\\displaystyle x_166 = x_165 + h = 1.65 + 0.01 = 1.66$"
      ],
      "text/plain": [
       "<IPython.core.display.Math object>"
      ]
     },
     "metadata": {},
     "output_type": "display_data"
    },
    {
     "data": {
      "text/latex": [
       "$\\displaystyle y_e = y_165 + hF_{1,165} = 0.9212307 + (0.01)(0.3247156) = 0.9244779\n",
       "$"
      ],
      "text/plain": [
       "<IPython.core.display.Math object>"
      ]
     },
     "metadata": {},
     "output_type": "display_data"
    },
    {
     "data": {
      "text/latex": [
       "$\\displaystyle F_{2,165} = f(x_166, y_e) = f(1.66, 0.9244779) = 0.3269121$"
      ],
      "text/plain": [
       "<IPython.core.display.Math object>"
      ]
     },
     "metadata": {},
     "output_type": "display_data"
    },
    {
     "data": {
      "text/latex": [
       "$\\displaystyle y_166 = y_165 + \\frac{1}{2}h(F_{1,165} + F_{2,165}) = 0.9212307 + \\frac{1}{2}(0.01)(0.3247156 + 0.3269121) = 0.9244888$"
      ],
      "text/plain": [
       "<IPython.core.display.Math object>"
      ]
     },
     "metadata": {},
     "output_type": "display_data"
    },
    {
     "data": {
      "text/latex": [
       "$\\displaystyle Approximation\\ to\\ y(x_166 = 1.66) = 0.9244888$"
      ],
      "text/plain": [
       "<IPython.core.display.Math object>"
      ]
     },
     "metadata": {},
     "output_type": "display_data"
    },
    {
     "name": "stdout",
     "output_type": "stream",
     "text": [
      "____________________________________________\n"
     ]
    },
    {
     "data": {
      "text/latex": [
       "$\\displaystyle Set\\ r=166,$"
      ],
      "text/plain": [
       "<IPython.core.display.Math object>"
      ]
     },
     "metadata": {},
     "output_type": "display_data"
    },
    {
     "data": {
      "text/latex": [
       "$\\displaystyle x_166 = 1.66, y_166 = 0.9244888$"
      ],
      "text/plain": [
       "<IPython.core.display.Math object>"
      ]
     },
     "metadata": {},
     "output_type": "display_data"
    },
    {
     "data": {
      "text/latex": [
       "$\\displaystyle F_{1,166} = f(x_166, y_166) = f(1.66, 0.9244888) = 0.3269065$"
      ],
      "text/plain": [
       "<IPython.core.display.Math object>"
      ]
     },
     "metadata": {},
     "output_type": "display_data"
    },
    {
     "data": {
      "text/latex": [
       "$\\displaystyle x_167 = x_166 + h = 1.66 + 0.01 = 1.67$"
      ],
      "text/plain": [
       "<IPython.core.display.Math object>"
      ]
     },
     "metadata": {},
     "output_type": "display_data"
    },
    {
     "data": {
      "text/latex": [
       "$\\displaystyle y_e = y_166 + hF_{1,166} = 0.9244888 + (0.01)(0.3269065) = 0.9277579\n",
       "$"
      ],
      "text/plain": [
       "<IPython.core.display.Math object>"
      ]
     },
     "metadata": {},
     "output_type": "display_data"
    },
    {
     "data": {
      "text/latex": [
       "$\\displaystyle F_{2,166} = f(x_167, y_e) = f(1.67, 0.9277579) = 0.3290829$"
      ],
      "text/plain": [
       "<IPython.core.display.Math object>"
      ]
     },
     "metadata": {},
     "output_type": "display_data"
    },
    {
     "data": {
      "text/latex": [
       "$\\displaystyle y_167 = y_166 + \\frac{1}{2}h(F_{1,166} + F_{2,166}) = 0.9244888 + \\frac{1}{2}(0.01)(0.3269065 + 0.3290829) = 0.9277687$"
      ],
      "text/plain": [
       "<IPython.core.display.Math object>"
      ]
     },
     "metadata": {},
     "output_type": "display_data"
    },
    {
     "data": {
      "text/latex": [
       "$\\displaystyle Approximation\\ to\\ y(x_167 = 1.67) = 0.9277687$"
      ],
      "text/plain": [
       "<IPython.core.display.Math object>"
      ]
     },
     "metadata": {},
     "output_type": "display_data"
    },
    {
     "name": "stdout",
     "output_type": "stream",
     "text": [
      "____________________________________________\n"
     ]
    },
    {
     "data": {
      "text/latex": [
       "$\\displaystyle Set\\ r=167,$"
      ],
      "text/plain": [
       "<IPython.core.display.Math object>"
      ]
     },
     "metadata": {},
     "output_type": "display_data"
    },
    {
     "data": {
      "text/latex": [
       "$\\displaystyle x_167 = 1.67, y_167 = 0.9277687$"
      ],
      "text/plain": [
       "<IPython.core.display.Math object>"
      ]
     },
     "metadata": {},
     "output_type": "display_data"
    },
    {
     "data": {
      "text/latex": [
       "$\\displaystyle F_{1,167} = f(x_167, y_167) = f(1.67, 0.9277687) = 0.3290773$"
      ],
      "text/plain": [
       "<IPython.core.display.Math object>"
      ]
     },
     "metadata": {},
     "output_type": "display_data"
    },
    {
     "data": {
      "text/latex": [
       "$\\displaystyle x_168 = x_167 + h = 1.67 + 0.01 = 1.68$"
      ],
      "text/plain": [
       "<IPython.core.display.Math object>"
      ]
     },
     "metadata": {},
     "output_type": "display_data"
    },
    {
     "data": {
      "text/latex": [
       "$\\displaystyle y_e = y_167 + hF_{1,167} = 0.9277687 + (0.01)(0.3290773) = 0.9310595\n",
       "$"
      ],
      "text/plain": [
       "<IPython.core.display.Math object>"
      ]
     },
     "metadata": {},
     "output_type": "display_data"
    },
    {
     "data": {
      "text/latex": [
       "$\\displaystyle F_{2,167} = f(x_168, y_e) = f(1.68, 0.9310595) = 0.3312339$"
      ],
      "text/plain": [
       "<IPython.core.display.Math object>"
      ]
     },
     "metadata": {},
     "output_type": "display_data"
    },
    {
     "data": {
      "text/latex": [
       "$\\displaystyle y_168 = y_167 + \\frac{1}{2}h(F_{1,167} + F_{2,167}) = 0.9277687 + \\frac{1}{2}(0.01)(0.3290773 + 0.3312339) = 0.9310703$"
      ],
      "text/plain": [
       "<IPython.core.display.Math object>"
      ]
     },
     "metadata": {},
     "output_type": "display_data"
    },
    {
     "data": {
      "text/latex": [
       "$\\displaystyle Approximation\\ to\\ y(x_168 = 1.68) = 0.9310703$"
      ],
      "text/plain": [
       "<IPython.core.display.Math object>"
      ]
     },
     "metadata": {},
     "output_type": "display_data"
    },
    {
     "name": "stdout",
     "output_type": "stream",
     "text": [
      "____________________________________________\n"
     ]
    },
    {
     "data": {
      "text/latex": [
       "$\\displaystyle Set\\ r=168,$"
      ],
      "text/plain": [
       "<IPython.core.display.Math object>"
      ]
     },
     "metadata": {},
     "output_type": "display_data"
    },
    {
     "data": {
      "text/latex": [
       "$\\displaystyle x_168 = 1.68, y_168 = 0.9310703$"
      ],
      "text/plain": [
       "<IPython.core.display.Math object>"
      ]
     },
     "metadata": {},
     "output_type": "display_data"
    },
    {
     "data": {
      "text/latex": [
       "$\\displaystyle F_{1,168} = f(x_168, y_168) = f(1.68, 0.9310703) = 0.3312283$"
      ],
      "text/plain": [
       "<IPython.core.display.Math object>"
      ]
     },
     "metadata": {},
     "output_type": "display_data"
    },
    {
     "data": {
      "text/latex": [
       "$\\displaystyle x_169 = x_168 + h = 1.68 + 0.01 = 1.69$"
      ],
      "text/plain": [
       "<IPython.core.display.Math object>"
      ]
     },
     "metadata": {},
     "output_type": "display_data"
    },
    {
     "data": {
      "text/latex": [
       "$\\displaystyle y_e = y_168 + hF_{1,168} = 0.9310703 + (0.01)(0.3312283) = 0.9343826\n",
       "$"
      ],
      "text/plain": [
       "<IPython.core.display.Math object>"
      ]
     },
     "metadata": {},
     "output_type": "display_data"
    },
    {
     "data": {
      "text/latex": [
       "$\\displaystyle F_{2,168} = f(x_169, y_e) = f(1.69, 0.9343826) = 0.3333653$"
      ],
      "text/plain": [
       "<IPython.core.display.Math object>"
      ]
     },
     "metadata": {},
     "output_type": "display_data"
    },
    {
     "data": {
      "text/latex": [
       "$\\displaystyle y_169 = y_168 + \\frac{1}{2}h(F_{1,168} + F_{2,168}) = 0.9310703 + \\frac{1}{2}(0.01)(0.3312283 + 0.3333653) = 0.9343933$"
      ],
      "text/plain": [
       "<IPython.core.display.Math object>"
      ]
     },
     "metadata": {},
     "output_type": "display_data"
    },
    {
     "data": {
      "text/latex": [
       "$\\displaystyle Approximation\\ to\\ y(x_169 = 1.69) = 0.9343933$"
      ],
      "text/plain": [
       "<IPython.core.display.Math object>"
      ]
     },
     "metadata": {},
     "output_type": "display_data"
    },
    {
     "name": "stdout",
     "output_type": "stream",
     "text": [
      "____________________________________________\n"
     ]
    },
    {
     "data": {
      "text/latex": [
       "$\\displaystyle Set\\ r=169,$"
      ],
      "text/plain": [
       "<IPython.core.display.Math object>"
      ]
     },
     "metadata": {},
     "output_type": "display_data"
    },
    {
     "data": {
      "text/latex": [
       "$\\displaystyle x_169 = 1.69, y_169 = 0.9343933$"
      ],
      "text/plain": [
       "<IPython.core.display.Math object>"
      ]
     },
     "metadata": {},
     "output_type": "display_data"
    },
    {
     "data": {
      "text/latex": [
       "$\\displaystyle F_{1,169} = f(x_169, y_169) = f(1.69, 0.9343933) = 0.3333598$"
      ],
      "text/plain": [
       "<IPython.core.display.Math object>"
      ]
     },
     "metadata": {},
     "output_type": "display_data"
    },
    {
     "data": {
      "text/latex": [
       "$\\displaystyle x_170 = x_169 + h = 1.69 + 0.01 = 1.7$"
      ],
      "text/plain": [
       "<IPython.core.display.Math object>"
      ]
     },
     "metadata": {},
     "output_type": "display_data"
    },
    {
     "data": {
      "text/latex": [
       "$\\displaystyle y_e = y_169 + hF_{1,169} = 0.9343933 + (0.01)(0.3333598) = 0.9377269\n",
       "$"
      ],
      "text/plain": [
       "<IPython.core.display.Math object>"
      ]
     },
     "metadata": {},
     "output_type": "display_data"
    },
    {
     "data": {
      "text/latex": [
       "$\\displaystyle F_{2,169} = f(x_170, y_e) = f(1.7, 0.9377269) = 0.3354775$"
      ],
      "text/plain": [
       "<IPython.core.display.Math object>"
      ]
     },
     "metadata": {},
     "output_type": "display_data"
    },
    {
     "data": {
      "text/latex": [
       "$\\displaystyle y_170 = y_169 + \\frac{1}{2}h(F_{1,169} + F_{2,169}) = 0.9343933 + \\frac{1}{2}(0.01)(0.3333598 + 0.3354775) = 0.9377375$"
      ],
      "text/plain": [
       "<IPython.core.display.Math object>"
      ]
     },
     "metadata": {},
     "output_type": "display_data"
    },
    {
     "data": {
      "text/latex": [
       "$\\displaystyle Approximation\\ to\\ y(x_170 = 1.7) = 0.9377375$"
      ],
      "text/plain": [
       "<IPython.core.display.Math object>"
      ]
     },
     "metadata": {},
     "output_type": "display_data"
    },
    {
     "name": "stdout",
     "output_type": "stream",
     "text": [
      "____________________________________________\n"
     ]
    },
    {
     "data": {
      "text/latex": [
       "$\\displaystyle Set\\ r=170,$"
      ],
      "text/plain": [
       "<IPython.core.display.Math object>"
      ]
     },
     "metadata": {},
     "output_type": "display_data"
    },
    {
     "data": {
      "text/latex": [
       "$\\displaystyle x_170 = 1.7, y_170 = 0.9377375$"
      ],
      "text/plain": [
       "<IPython.core.display.Math object>"
      ]
     },
     "metadata": {},
     "output_type": "display_data"
    },
    {
     "data": {
      "text/latex": [
       "$\\displaystyle F_{1,170} = f(x_170, y_170) = f(1.7, 0.9377375) = 0.3354720$"
      ],
      "text/plain": [
       "<IPython.core.display.Math object>"
      ]
     },
     "metadata": {},
     "output_type": "display_data"
    },
    {
     "data": {
      "text/latex": [
       "$\\displaystyle x_171 = x_170 + h = 1.7 + 0.01 = 1.71$"
      ],
      "text/plain": [
       "<IPython.core.display.Math object>"
      ]
     },
     "metadata": {},
     "output_type": "display_data"
    },
    {
     "data": {
      "text/latex": [
       "$\\displaystyle y_e = y_170 + hF_{1,170} = 0.9377375 + (0.01)(0.3354720) = 0.9410922\n",
       "$"
      ],
      "text/plain": [
       "<IPython.core.display.Math object>"
      ]
     },
     "metadata": {},
     "output_type": "display_data"
    },
    {
     "data": {
      "text/latex": [
       "$\\displaystyle F_{2,170} = f(x_171, y_e) = f(1.71, 0.9410922) = 0.3375706$"
      ],
      "text/plain": [
       "<IPython.core.display.Math object>"
      ]
     },
     "metadata": {},
     "output_type": "display_data"
    },
    {
     "data": {
      "text/latex": [
       "$\\displaystyle y_171 = y_170 + \\frac{1}{2}h(F_{1,170} + F_{2,170}) = 0.9377375 + \\frac{1}{2}(0.01)(0.3354720 + 0.3375706) = 0.9411027$"
      ],
      "text/plain": [
       "<IPython.core.display.Math object>"
      ]
     },
     "metadata": {},
     "output_type": "display_data"
    },
    {
     "data": {
      "text/latex": [
       "$\\displaystyle Approximation\\ to\\ y(x_171 = 1.71) = 0.9411027$"
      ],
      "text/plain": [
       "<IPython.core.display.Math object>"
      ]
     },
     "metadata": {},
     "output_type": "display_data"
    },
    {
     "name": "stdout",
     "output_type": "stream",
     "text": [
      "____________________________________________\n"
     ]
    },
    {
     "data": {
      "text/latex": [
       "$\\displaystyle Set\\ r=171,$"
      ],
      "text/plain": [
       "<IPython.core.display.Math object>"
      ]
     },
     "metadata": {},
     "output_type": "display_data"
    },
    {
     "data": {
      "text/latex": [
       "$\\displaystyle x_171 = 1.71, y_171 = 0.9411027$"
      ],
      "text/plain": [
       "<IPython.core.display.Math object>"
      ]
     },
     "metadata": {},
     "output_type": "display_data"
    },
    {
     "data": {
      "text/latex": [
       "$\\displaystyle F_{1,171} = f(x_171, y_171) = f(1.71, 0.9411027) = 0.3375652$"
      ],
      "text/plain": [
       "<IPython.core.display.Math object>"
      ]
     },
     "metadata": {},
     "output_type": "display_data"
    },
    {
     "data": {
      "text/latex": [
       "$\\displaystyle x_172 = x_171 + h = 1.71 + 0.01 = 1.72$"
      ],
      "text/plain": [
       "<IPython.core.display.Math object>"
      ]
     },
     "metadata": {},
     "output_type": "display_data"
    },
    {
     "data": {
      "text/latex": [
       "$\\displaystyle y_e = y_171 + hF_{1,171} = 0.9411027 + (0.01)(0.3375652) = 0.9444784\n",
       "$"
      ],
      "text/plain": [
       "<IPython.core.display.Math object>"
      ]
     },
     "metadata": {},
     "output_type": "display_data"
    },
    {
     "data": {
      "text/latex": [
       "$\\displaystyle F_{2,171} = f(x_172, y_e) = f(1.72, 0.9444784) = 0.3396449$"
      ],
      "text/plain": [
       "<IPython.core.display.Math object>"
      ]
     },
     "metadata": {},
     "output_type": "display_data"
    },
    {
     "data": {
      "text/latex": [
       "$\\displaystyle y_172 = y_171 + \\frac{1}{2}h(F_{1,171} + F_{2,171}) = 0.9411027 + \\frac{1}{2}(0.01)(0.3375652 + 0.3396449) = 0.9444887$"
      ],
      "text/plain": [
       "<IPython.core.display.Math object>"
      ]
     },
     "metadata": {},
     "output_type": "display_data"
    },
    {
     "data": {
      "text/latex": [
       "$\\displaystyle Approximation\\ to\\ y(x_172 = 1.72) = 0.9444887$"
      ],
      "text/plain": [
       "<IPython.core.display.Math object>"
      ]
     },
     "metadata": {},
     "output_type": "display_data"
    },
    {
     "name": "stdout",
     "output_type": "stream",
     "text": [
      "____________________________________________\n"
     ]
    },
    {
     "data": {
      "text/latex": [
       "$\\displaystyle Set\\ r=172,$"
      ],
      "text/plain": [
       "<IPython.core.display.Math object>"
      ]
     },
     "metadata": {},
     "output_type": "display_data"
    },
    {
     "data": {
      "text/latex": [
       "$\\displaystyle x_172 = 1.72, y_172 = 0.9444887$"
      ],
      "text/plain": [
       "<IPython.core.display.Math object>"
      ]
     },
     "metadata": {},
     "output_type": "display_data"
    },
    {
     "data": {
      "text/latex": [
       "$\\displaystyle F_{1,172} = f(x_172, y_172) = f(1.72, 0.9444887) = 0.3396396$"
      ],
      "text/plain": [
       "<IPython.core.display.Math object>"
      ]
     },
     "metadata": {},
     "output_type": "display_data"
    },
    {
     "data": {
      "text/latex": [
       "$\\displaystyle x_173 = x_172 + h = 1.72 + 0.01 = 1.73$"
      ],
      "text/plain": [
       "<IPython.core.display.Math object>"
      ]
     },
     "metadata": {},
     "output_type": "display_data"
    },
    {
     "data": {
      "text/latex": [
       "$\\displaystyle y_e = y_172 + hF_{1,172} = 0.9444887 + (0.01)(0.3396396) = 0.9478851\n",
       "$"
      ],
      "text/plain": [
       "<IPython.core.display.Math object>"
      ]
     },
     "metadata": {},
     "output_type": "display_data"
    },
    {
     "data": {
      "text/latex": [
       "$\\displaystyle F_{2,172} = f(x_173, y_e) = f(1.73, 0.9478851) = 0.3417007$"
      ],
      "text/plain": [
       "<IPython.core.display.Math object>"
      ]
     },
     "metadata": {},
     "output_type": "display_data"
    },
    {
     "data": {
      "text/latex": [
       "$\\displaystyle y_173 = y_172 + \\frac{1}{2}h(F_{1,172} + F_{2,172}) = 0.9444887 + \\frac{1}{2}(0.01)(0.3396396 + 0.3417007) = 0.9478954$"
      ],
      "text/plain": [
       "<IPython.core.display.Math object>"
      ]
     },
     "metadata": {},
     "output_type": "display_data"
    },
    {
     "data": {
      "text/latex": [
       "$\\displaystyle Approximation\\ to\\ y(x_173 = 1.73) = 0.9478954$"
      ],
      "text/plain": [
       "<IPython.core.display.Math object>"
      ]
     },
     "metadata": {},
     "output_type": "display_data"
    },
    {
     "name": "stdout",
     "output_type": "stream",
     "text": [
      "____________________________________________\n"
     ]
    },
    {
     "data": {
      "text/latex": [
       "$\\displaystyle Set\\ r=173,$"
      ],
      "text/plain": [
       "<IPython.core.display.Math object>"
      ]
     },
     "metadata": {},
     "output_type": "display_data"
    },
    {
     "data": {
      "text/latex": [
       "$\\displaystyle x_173 = 1.73, y_173 = 0.9478954$"
      ],
      "text/plain": [
       "<IPython.core.display.Math object>"
      ]
     },
     "metadata": {},
     "output_type": "display_data"
    },
    {
     "data": {
      "text/latex": [
       "$\\displaystyle F_{1,173} = f(x_173, y_173) = f(1.73, 0.9478954) = 0.3416954$"
      ],
      "text/plain": [
       "<IPython.core.display.Math object>"
      ]
     },
     "metadata": {},
     "output_type": "display_data"
    },
    {
     "data": {
      "text/latex": [
       "$\\displaystyle x_174 = x_173 + h = 1.73 + 0.01 = 1.74$"
      ],
      "text/plain": [
       "<IPython.core.display.Math object>"
      ]
     },
     "metadata": {},
     "output_type": "display_data"
    },
    {
     "data": {
      "text/latex": [
       "$\\displaystyle y_e = y_173 + hF_{1,173} = 0.9478954 + (0.01)(0.3416954) = 0.9513124\n",
       "$"
      ],
      "text/plain": [
       "<IPython.core.display.Math object>"
      ]
     },
     "metadata": {},
     "output_type": "display_data"
    },
    {
     "data": {
      "text/latex": [
       "$\\displaystyle F_{2,173} = f(x_174, y_e) = f(1.74, 0.9513124) = 0.3437381$"
      ],
      "text/plain": [
       "<IPython.core.display.Math object>"
      ]
     },
     "metadata": {},
     "output_type": "display_data"
    },
    {
     "data": {
      "text/latex": [
       "$\\displaystyle y_174 = y_173 + \\frac{1}{2}h(F_{1,173} + F_{2,173}) = 0.9478954 + \\frac{1}{2}(0.01)(0.3416954 + 0.3437381) = 0.9513226$"
      ],
      "text/plain": [
       "<IPython.core.display.Math object>"
      ]
     },
     "metadata": {},
     "output_type": "display_data"
    },
    {
     "data": {
      "text/latex": [
       "$\\displaystyle Approximation\\ to\\ y(x_174 = 1.74) = 0.9513226$"
      ],
      "text/plain": [
       "<IPython.core.display.Math object>"
      ]
     },
     "metadata": {},
     "output_type": "display_data"
    },
    {
     "name": "stdout",
     "output_type": "stream",
     "text": [
      "____________________________________________\n"
     ]
    },
    {
     "data": {
      "text/latex": [
       "$\\displaystyle Set\\ r=174,$"
      ],
      "text/plain": [
       "<IPython.core.display.Math object>"
      ]
     },
     "metadata": {},
     "output_type": "display_data"
    },
    {
     "data": {
      "text/latex": [
       "$\\displaystyle x_174 = 1.74, y_174 = 0.9513226$"
      ],
      "text/plain": [
       "<IPython.core.display.Math object>"
      ]
     },
     "metadata": {},
     "output_type": "display_data"
    },
    {
     "data": {
      "text/latex": [
       "$\\displaystyle F_{1,174} = f(x_174, y_174) = f(1.74, 0.9513226) = 0.3437329$"
      ],
      "text/plain": [
       "<IPython.core.display.Math object>"
      ]
     },
     "metadata": {},
     "output_type": "display_data"
    },
    {
     "data": {
      "text/latex": [
       "$\\displaystyle x_175 = x_174 + h = 1.74 + 0.01 = 1.75$"
      ],
      "text/plain": [
       "<IPython.core.display.Math object>"
      ]
     },
     "metadata": {},
     "output_type": "display_data"
    },
    {
     "data": {
      "text/latex": [
       "$\\displaystyle y_e = y_174 + hF_{1,174} = 0.9513226 + (0.01)(0.3437329) = 0.9547599\n",
       "$"
      ],
      "text/plain": [
       "<IPython.core.display.Math object>"
      ]
     },
     "metadata": {},
     "output_type": "display_data"
    },
    {
     "data": {
      "text/latex": [
       "$\\displaystyle F_{2,174} = f(x_175, y_e) = f(1.75, 0.9547599) = 0.3457575$"
      ],
      "text/plain": [
       "<IPython.core.display.Math object>"
      ]
     },
     "metadata": {},
     "output_type": "display_data"
    },
    {
     "data": {
      "text/latex": [
       "$\\displaystyle y_175 = y_174 + \\frac{1}{2}h(F_{1,174} + F_{2,174}) = 0.9513226 + \\frac{1}{2}(0.01)(0.3437329 + 0.3457575) = 0.9547701$"
      ],
      "text/plain": [
       "<IPython.core.display.Math object>"
      ]
     },
     "metadata": {},
     "output_type": "display_data"
    },
    {
     "data": {
      "text/latex": [
       "$\\displaystyle Approximation\\ to\\ y(x_175 = 1.75) = 0.9547701$"
      ],
      "text/plain": [
       "<IPython.core.display.Math object>"
      ]
     },
     "metadata": {},
     "output_type": "display_data"
    },
    {
     "name": "stdout",
     "output_type": "stream",
     "text": [
      "____________________________________________\n"
     ]
    },
    {
     "data": {
      "text/latex": [
       "$\\displaystyle Set\\ r=175,$"
      ],
      "text/plain": [
       "<IPython.core.display.Math object>"
      ]
     },
     "metadata": {},
     "output_type": "display_data"
    },
    {
     "data": {
      "text/latex": [
       "$\\displaystyle x_175 = 1.75, y_175 = 0.9547701$"
      ],
      "text/plain": [
       "<IPython.core.display.Math object>"
      ]
     },
     "metadata": {},
     "output_type": "display_data"
    },
    {
     "data": {
      "text/latex": [
       "$\\displaystyle F_{1,175} = f(x_175, y_175) = f(1.75, 0.9547701) = 0.3457523$"
      ],
      "text/plain": [
       "<IPython.core.display.Math object>"
      ]
     },
     "metadata": {},
     "output_type": "display_data"
    },
    {
     "data": {
      "text/latex": [
       "$\\displaystyle x_176 = x_175 + h = 1.75 + 0.01 = 1.76$"
      ],
      "text/plain": [
       "<IPython.core.display.Math object>"
      ]
     },
     "metadata": {},
     "output_type": "display_data"
    },
    {
     "data": {
      "text/latex": [
       "$\\displaystyle y_e = y_175 + hF_{1,175} = 0.9547701 + (0.01)(0.3457523) = 0.9582276\n",
       "$"
      ],
      "text/plain": [
       "<IPython.core.display.Math object>"
      ]
     },
     "metadata": {},
     "output_type": "display_data"
    },
    {
     "data": {
      "text/latex": [
       "$\\displaystyle F_{2,175} = f(x_176, y_e) = f(1.76, 0.9582276) = 0.3477589$"
      ],
      "text/plain": [
       "<IPython.core.display.Math object>"
      ]
     },
     "metadata": {},
     "output_type": "display_data"
    },
    {
     "data": {
      "text/latex": [
       "$\\displaystyle y_176 = y_175 + \\frac{1}{2}h(F_{1,175} + F_{2,175}) = 0.9547701 + \\frac{1}{2}(0.01)(0.3457523 + 0.3477589) = 0.9582377$"
      ],
      "text/plain": [
       "<IPython.core.display.Math object>"
      ]
     },
     "metadata": {},
     "output_type": "display_data"
    },
    {
     "data": {
      "text/latex": [
       "$\\displaystyle Approximation\\ to\\ y(x_176 = 1.76) = 0.9582377$"
      ],
      "text/plain": [
       "<IPython.core.display.Math object>"
      ]
     },
     "metadata": {},
     "output_type": "display_data"
    },
    {
     "name": "stdout",
     "output_type": "stream",
     "text": [
      "____________________________________________\n"
     ]
    },
    {
     "data": {
      "text/latex": [
       "$\\displaystyle Set\\ r=176,$"
      ],
      "text/plain": [
       "<IPython.core.display.Math object>"
      ]
     },
     "metadata": {},
     "output_type": "display_data"
    },
    {
     "data": {
      "text/latex": [
       "$\\displaystyle x_176 = 1.76, y_176 = 0.9582377$"
      ],
      "text/plain": [
       "<IPython.core.display.Math object>"
      ]
     },
     "metadata": {},
     "output_type": "display_data"
    },
    {
     "data": {
      "text/latex": [
       "$\\displaystyle F_{1,176} = f(x_176, y_176) = f(1.76, 0.9582377) = 0.3477538$"
      ],
      "text/plain": [
       "<IPython.core.display.Math object>"
      ]
     },
     "metadata": {},
     "output_type": "display_data"
    },
    {
     "data": {
      "text/latex": [
       "$\\displaystyle x_177 = x_176 + h = 1.76 + 0.01 = 1.77$"
      ],
      "text/plain": [
       "<IPython.core.display.Math object>"
      ]
     },
     "metadata": {},
     "output_type": "display_data"
    },
    {
     "data": {
      "text/latex": [
       "$\\displaystyle y_e = y_176 + hF_{1,176} = 0.9582377 + (0.01)(0.3477538) = 0.9617152\n",
       "$"
      ],
      "text/plain": [
       "<IPython.core.display.Math object>"
      ]
     },
     "metadata": {},
     "output_type": "display_data"
    },
    {
     "data": {
      "text/latex": [
       "$\\displaystyle F_{2,176} = f(x_177, y_e) = f(1.77, 0.9617152) = 0.3497427$"
      ],
      "text/plain": [
       "<IPython.core.display.Math object>"
      ]
     },
     "metadata": {},
     "output_type": "display_data"
    },
    {
     "data": {
      "text/latex": [
       "$\\displaystyle y_177 = y_176 + \\frac{1}{2}h(F_{1,176} + F_{2,176}) = 0.9582377 + \\frac{1}{2}(0.01)(0.3477538 + 0.3497427) = 0.9617252$"
      ],
      "text/plain": [
       "<IPython.core.display.Math object>"
      ]
     },
     "metadata": {},
     "output_type": "display_data"
    },
    {
     "data": {
      "text/latex": [
       "$\\displaystyle Approximation\\ to\\ y(x_177 = 1.77) = 0.9617252$"
      ],
      "text/plain": [
       "<IPython.core.display.Math object>"
      ]
     },
     "metadata": {},
     "output_type": "display_data"
    },
    {
     "name": "stdout",
     "output_type": "stream",
     "text": [
      "____________________________________________\n"
     ]
    },
    {
     "data": {
      "text/latex": [
       "$\\displaystyle Set\\ r=177,$"
      ],
      "text/plain": [
       "<IPython.core.display.Math object>"
      ]
     },
     "metadata": {},
     "output_type": "display_data"
    },
    {
     "data": {
      "text/latex": [
       "$\\displaystyle x_177 = 1.77, y_177 = 0.9617252$"
      ],
      "text/plain": [
       "<IPython.core.display.Math object>"
      ]
     },
     "metadata": {},
     "output_type": "display_data"
    },
    {
     "data": {
      "text/latex": [
       "$\\displaystyle F_{1,177} = f(x_177, y_177) = f(1.77, 0.9617252) = 0.3497376$"
      ],
      "text/plain": [
       "<IPython.core.display.Math object>"
      ]
     },
     "metadata": {},
     "output_type": "display_data"
    },
    {
     "data": {
      "text/latex": [
       "$\\displaystyle x_178 = x_177 + h = 1.77 + 0.01 = 1.78$"
      ],
      "text/plain": [
       "<IPython.core.display.Math object>"
      ]
     },
     "metadata": {},
     "output_type": "display_data"
    },
    {
     "data": {
      "text/latex": [
       "$\\displaystyle y_e = y_177 + hF_{1,177} = 0.9617252 + (0.01)(0.3497376) = 0.9652226\n",
       "$"
      ],
      "text/plain": [
       "<IPython.core.display.Math object>"
      ]
     },
     "metadata": {},
     "output_type": "display_data"
    },
    {
     "data": {
      "text/latex": [
       "$\\displaystyle F_{2,177} = f(x_178, y_e) = f(1.78, 0.9652226) = 0.3517090$"
      ],
      "text/plain": [
       "<IPython.core.display.Math object>"
      ]
     },
     "metadata": {},
     "output_type": "display_data"
    },
    {
     "data": {
      "text/latex": [
       "$\\displaystyle y_178 = y_177 + \\frac{1}{2}h(F_{1,177} + F_{2,177}) = 0.9617252 + \\frac{1}{2}(0.01)(0.3497376 + 0.3517090) = 0.9652324$"
      ],
      "text/plain": [
       "<IPython.core.display.Math object>"
      ]
     },
     "metadata": {},
     "output_type": "display_data"
    },
    {
     "data": {
      "text/latex": [
       "$\\displaystyle Approximation\\ to\\ y(x_178 = 1.78) = 0.9652324$"
      ],
      "text/plain": [
       "<IPython.core.display.Math object>"
      ]
     },
     "metadata": {},
     "output_type": "display_data"
    },
    {
     "name": "stdout",
     "output_type": "stream",
     "text": [
      "____________________________________________\n"
     ]
    },
    {
     "data": {
      "text/latex": [
       "$\\displaystyle Set\\ r=178,$"
      ],
      "text/plain": [
       "<IPython.core.display.Math object>"
      ]
     },
     "metadata": {},
     "output_type": "display_data"
    },
    {
     "data": {
      "text/latex": [
       "$\\displaystyle x_178 = 1.78, y_178 = 0.9652324$"
      ],
      "text/plain": [
       "<IPython.core.display.Math object>"
      ]
     },
     "metadata": {},
     "output_type": "display_data"
    },
    {
     "data": {
      "text/latex": [
       "$\\displaystyle F_{1,178} = f(x_178, y_178) = f(1.78, 0.9652324) = 0.3517040$"
      ],
      "text/plain": [
       "<IPython.core.display.Math object>"
      ]
     },
     "metadata": {},
     "output_type": "display_data"
    },
    {
     "data": {
      "text/latex": [
       "$\\displaystyle x_179 = x_178 + h = 1.78 + 0.01 = 1.79$"
      ],
      "text/plain": [
       "<IPython.core.display.Math object>"
      ]
     },
     "metadata": {},
     "output_type": "display_data"
    },
    {
     "data": {
      "text/latex": [
       "$\\displaystyle y_e = y_178 + hF_{1,178} = 0.9652324 + (0.01)(0.3517040) = 0.9687494\n",
       "$"
      ],
      "text/plain": [
       "<IPython.core.display.Math object>"
      ]
     },
     "metadata": {},
     "output_type": "display_data"
    },
    {
     "data": {
      "text/latex": [
       "$\\displaystyle F_{2,178} = f(x_179, y_e) = f(1.79, 0.9687494) = 0.3536581$"
      ],
      "text/plain": [
       "<IPython.core.display.Math object>"
      ]
     },
     "metadata": {},
     "output_type": "display_data"
    },
    {
     "data": {
      "text/latex": [
       "$\\displaystyle y_179 = y_178 + \\frac{1}{2}h(F_{1,178} + F_{2,178}) = 0.9652324 + \\frac{1}{2}(0.01)(0.3517040 + 0.3536581) = 0.9687592$"
      ],
      "text/plain": [
       "<IPython.core.display.Math object>"
      ]
     },
     "metadata": {},
     "output_type": "display_data"
    },
    {
     "data": {
      "text/latex": [
       "$\\displaystyle Approximation\\ to\\ y(x_179 = 1.79) = 0.9687592$"
      ],
      "text/plain": [
       "<IPython.core.display.Math object>"
      ]
     },
     "metadata": {},
     "output_type": "display_data"
    },
    {
     "name": "stdout",
     "output_type": "stream",
     "text": [
      "____________________________________________\n"
     ]
    },
    {
     "data": {
      "text/latex": [
       "$\\displaystyle Set\\ r=179,$"
      ],
      "text/plain": [
       "<IPython.core.display.Math object>"
      ]
     },
     "metadata": {},
     "output_type": "display_data"
    },
    {
     "data": {
      "text/latex": [
       "$\\displaystyle x_179 = 1.79, y_179 = 0.9687592$"
      ],
      "text/plain": [
       "<IPython.core.display.Math object>"
      ]
     },
     "metadata": {},
     "output_type": "display_data"
    },
    {
     "data": {
      "text/latex": [
       "$\\displaystyle F_{1,179} = f(x_179, y_179) = f(1.79, 0.9687592) = 0.3536532$"
      ],
      "text/plain": [
       "<IPython.core.display.Math object>"
      ]
     },
     "metadata": {},
     "output_type": "display_data"
    },
    {
     "data": {
      "text/latex": [
       "$\\displaystyle x_180 = x_179 + h = 1.79 + 0.01 = 1.8$"
      ],
      "text/plain": [
       "<IPython.core.display.Math object>"
      ]
     },
     "metadata": {},
     "output_type": "display_data"
    },
    {
     "data": {
      "text/latex": [
       "$\\displaystyle y_e = y_179 + hF_{1,179} = 0.9687592 + (0.01)(0.3536532) = 0.9722957\n",
       "$"
      ],
      "text/plain": [
       "<IPython.core.display.Math object>"
      ]
     },
     "metadata": {},
     "output_type": "display_data"
    },
    {
     "data": {
      "text/latex": [
       "$\\displaystyle F_{2,179} = f(x_180, y_e) = f(1.8, 0.9722957) = 0.3555902$"
      ],
      "text/plain": [
       "<IPython.core.display.Math object>"
      ]
     },
     "metadata": {},
     "output_type": "display_data"
    },
    {
     "data": {
      "text/latex": [
       "$\\displaystyle y_180 = y_179 + \\frac{1}{2}h(F_{1,179} + F_{2,179}) = 0.9687592 + \\frac{1}{2}(0.01)(0.3536532 + 0.3555902) = 0.9723054$"
      ],
      "text/plain": [
       "<IPython.core.display.Math object>"
      ]
     },
     "metadata": {},
     "output_type": "display_data"
    },
    {
     "data": {
      "text/latex": [
       "$\\displaystyle Approximation\\ to\\ y(x_180 = 1.8) = 0.9723054$"
      ],
      "text/plain": [
       "<IPython.core.display.Math object>"
      ]
     },
     "metadata": {},
     "output_type": "display_data"
    },
    {
     "name": "stdout",
     "output_type": "stream",
     "text": [
      "____________________________________________\n"
     ]
    },
    {
     "data": {
      "text/latex": [
       "$\\displaystyle Set\\ r=180,$"
      ],
      "text/plain": [
       "<IPython.core.display.Math object>"
      ]
     },
     "metadata": {},
     "output_type": "display_data"
    },
    {
     "data": {
      "text/latex": [
       "$\\displaystyle x_180 = 1.8, y_180 = 0.9723054$"
      ],
      "text/plain": [
       "<IPython.core.display.Math object>"
      ]
     },
     "metadata": {},
     "output_type": "display_data"
    },
    {
     "data": {
      "text/latex": [
       "$\\displaystyle F_{1,180} = f(x_180, y_180) = f(1.8, 0.9723054) = 0.3555853$"
      ],
      "text/plain": [
       "<IPython.core.display.Math object>"
      ]
     },
     "metadata": {},
     "output_type": "display_data"
    },
    {
     "data": {
      "text/latex": [
       "$\\displaystyle x_181 = x_180 + h = 1.8 + 0.01 = 1.81$"
      ],
      "text/plain": [
       "<IPython.core.display.Math object>"
      ]
     },
     "metadata": {},
     "output_type": "display_data"
    },
    {
     "data": {
      "text/latex": [
       "$\\displaystyle y_e = y_180 + hF_{1,180} = 0.9723054 + (0.01)(0.3555853) = 0.9758613\n",
       "$"
      ],
      "text/plain": [
       "<IPython.core.display.Math object>"
      ]
     },
     "metadata": {},
     "output_type": "display_data"
    },
    {
     "data": {
      "text/latex": [
       "$\\displaystyle F_{2,180} = f(x_181, y_e) = f(1.81, 0.9758613) = 0.3575055$"
      ],
      "text/plain": [
       "<IPython.core.display.Math object>"
      ]
     },
     "metadata": {},
     "output_type": "display_data"
    },
    {
     "data": {
      "text/latex": [
       "$\\displaystyle y_181 = y_180 + \\frac{1}{2}h(F_{1,180} + F_{2,180}) = 0.9723054 + \\frac{1}{2}(0.01)(0.3555853 + 0.3575055) = 0.9758709$"
      ],
      "text/plain": [
       "<IPython.core.display.Math object>"
      ]
     },
     "metadata": {},
     "output_type": "display_data"
    },
    {
     "data": {
      "text/latex": [
       "$\\displaystyle Approximation\\ to\\ y(x_181 = 1.81) = 0.9758709$"
      ],
      "text/plain": [
       "<IPython.core.display.Math object>"
      ]
     },
     "metadata": {},
     "output_type": "display_data"
    },
    {
     "name": "stdout",
     "output_type": "stream",
     "text": [
      "____________________________________________\n"
     ]
    },
    {
     "data": {
      "text/latex": [
       "$\\displaystyle Set\\ r=181,$"
      ],
      "text/plain": [
       "<IPython.core.display.Math object>"
      ]
     },
     "metadata": {},
     "output_type": "display_data"
    },
    {
     "data": {
      "text/latex": [
       "$\\displaystyle x_181 = 1.81, y_181 = 0.9758709$"
      ],
      "text/plain": [
       "<IPython.core.display.Math object>"
      ]
     },
     "metadata": {},
     "output_type": "display_data"
    },
    {
     "data": {
      "text/latex": [
       "$\\displaystyle F_{1,181} = f(x_181, y_181) = f(1.81, 0.9758709) = 0.3575006$"
      ],
      "text/plain": [
       "<IPython.core.display.Math object>"
      ]
     },
     "metadata": {},
     "output_type": "display_data"
    },
    {
     "data": {
      "text/latex": [
       "$\\displaystyle x_182 = x_181 + h = 1.81 + 0.01 = 1.82$"
      ],
      "text/plain": [
       "<IPython.core.display.Math object>"
      ]
     },
     "metadata": {},
     "output_type": "display_data"
    },
    {
     "data": {
      "text/latex": [
       "$\\displaystyle y_e = y_181 + hF_{1,181} = 0.9758709 + (0.01)(0.3575006) = 0.9794459\n",
       "$"
      ],
      "text/plain": [
       "<IPython.core.display.Math object>"
      ]
     },
     "metadata": {},
     "output_type": "display_data"
    },
    {
     "data": {
      "text/latex": [
       "$\\displaystyle F_{2,181} = f(x_182, y_e) = f(1.82, 0.9794459) = 0.3594042$"
      ],
      "text/plain": [
       "<IPython.core.display.Math object>"
      ]
     },
     "metadata": {},
     "output_type": "display_data"
    },
    {
     "data": {
      "text/latex": [
       "$\\displaystyle y_182 = y_181 + \\frac{1}{2}h(F_{1,181} + F_{2,181}) = 0.9758709 + \\frac{1}{2}(0.01)(0.3575006 + 0.3594042) = 0.9794554$"
      ],
      "text/plain": [
       "<IPython.core.display.Math object>"
      ]
     },
     "metadata": {},
     "output_type": "display_data"
    },
    {
     "data": {
      "text/latex": [
       "$\\displaystyle Approximation\\ to\\ y(x_182 = 1.82) = 0.9794554$"
      ],
      "text/plain": [
       "<IPython.core.display.Math object>"
      ]
     },
     "metadata": {},
     "output_type": "display_data"
    },
    {
     "name": "stdout",
     "output_type": "stream",
     "text": [
      "____________________________________________\n"
     ]
    },
    {
     "data": {
      "text/latex": [
       "$\\displaystyle Set\\ r=182,$"
      ],
      "text/plain": [
       "<IPython.core.display.Math object>"
      ]
     },
     "metadata": {},
     "output_type": "display_data"
    },
    {
     "data": {
      "text/latex": [
       "$\\displaystyle x_182 = 1.82, y_182 = 0.9794554$"
      ],
      "text/plain": [
       "<IPython.core.display.Math object>"
      ]
     },
     "metadata": {},
     "output_type": "display_data"
    },
    {
     "data": {
      "text/latex": [
       "$\\displaystyle F_{1,182} = f(x_182, y_182) = f(1.82, 0.9794554) = 0.3593994$"
      ],
      "text/plain": [
       "<IPython.core.display.Math object>"
      ]
     },
     "metadata": {},
     "output_type": "display_data"
    },
    {
     "data": {
      "text/latex": [
       "$\\displaystyle x_183 = x_182 + h = 1.82 + 0.01 = 1.83$"
      ],
      "text/plain": [
       "<IPython.core.display.Math object>"
      ]
     },
     "metadata": {},
     "output_type": "display_data"
    },
    {
     "data": {
      "text/latex": [
       "$\\displaystyle y_e = y_182 + hF_{1,182} = 0.9794554 + (0.01)(0.3593994) = 0.9830494\n",
       "$"
      ],
      "text/plain": [
       "<IPython.core.display.Math object>"
      ]
     },
     "metadata": {},
     "output_type": "display_data"
    },
    {
     "data": {
      "text/latex": [
       "$\\displaystyle F_{2,182} = f(x_183, y_e) = f(1.83, 0.9830494) = 0.3612864$"
      ],
      "text/plain": [
       "<IPython.core.display.Math object>"
      ]
     },
     "metadata": {},
     "output_type": "display_data"
    },
    {
     "data": {
      "text/latex": [
       "$\\displaystyle y_183 = y_182 + \\frac{1}{2}h(F_{1,182} + F_{2,182}) = 0.9794554 + \\frac{1}{2}(0.01)(0.3593994 + 0.3612864) = 0.9830588$"
      ],
      "text/plain": [
       "<IPython.core.display.Math object>"
      ]
     },
     "metadata": {},
     "output_type": "display_data"
    },
    {
     "data": {
      "text/latex": [
       "$\\displaystyle Approximation\\ to\\ y(x_183 = 1.83) = 0.9830588$"
      ],
      "text/plain": [
       "<IPython.core.display.Math object>"
      ]
     },
     "metadata": {},
     "output_type": "display_data"
    },
    {
     "name": "stdout",
     "output_type": "stream",
     "text": [
      "____________________________________________\n"
     ]
    },
    {
     "data": {
      "text/latex": [
       "$\\displaystyle Set\\ r=183,$"
      ],
      "text/plain": [
       "<IPython.core.display.Math object>"
      ]
     },
     "metadata": {},
     "output_type": "display_data"
    },
    {
     "data": {
      "text/latex": [
       "$\\displaystyle x_183 = 1.83, y_183 = 0.9830588$"
      ],
      "text/plain": [
       "<IPython.core.display.Math object>"
      ]
     },
     "metadata": {},
     "output_type": "display_data"
    },
    {
     "data": {
      "text/latex": [
       "$\\displaystyle F_{1,183} = f(x_183, y_183) = f(1.83, 0.9830588) = 0.3612817$"
      ],
      "text/plain": [
       "<IPython.core.display.Math object>"
      ]
     },
     "metadata": {},
     "output_type": "display_data"
    },
    {
     "data": {
      "text/latex": [
       "$\\displaystyle x_184 = x_183 + h = 1.83 + 0.01 = 1.84$"
      ],
      "text/plain": [
       "<IPython.core.display.Math object>"
      ]
     },
     "metadata": {},
     "output_type": "display_data"
    },
    {
     "data": {
      "text/latex": [
       "$\\displaystyle y_e = y_183 + hF_{1,183} = 0.9830588 + (0.01)(0.3612817) = 0.9866716\n",
       "$"
      ],
      "text/plain": [
       "<IPython.core.display.Math object>"
      ]
     },
     "metadata": {},
     "output_type": "display_data"
    },
    {
     "data": {
      "text/latex": [
       "$\\displaystyle F_{2,183} = f(x_184, y_e) = f(1.84, 0.9866716) = 0.3631525$"
      ],
      "text/plain": [
       "<IPython.core.display.Math object>"
      ]
     },
     "metadata": {},
     "output_type": "display_data"
    },
    {
     "data": {
      "text/latex": [
       "$\\displaystyle y_184 = y_183 + \\frac{1}{2}h(F_{1,183} + F_{2,183}) = 0.9830588 + \\frac{1}{2}(0.01)(0.3612817 + 0.3631525) = 0.9866810$"
      ],
      "text/plain": [
       "<IPython.core.display.Math object>"
      ]
     },
     "metadata": {},
     "output_type": "display_data"
    },
    {
     "data": {
      "text/latex": [
       "$\\displaystyle Approximation\\ to\\ y(x_184 = 1.84) = 0.9866810$"
      ],
      "text/plain": [
       "<IPython.core.display.Math object>"
      ]
     },
     "metadata": {},
     "output_type": "display_data"
    },
    {
     "name": "stdout",
     "output_type": "stream",
     "text": [
      "____________________________________________\n"
     ]
    },
    {
     "data": {
      "text/latex": [
       "$\\displaystyle Set\\ r=184,$"
      ],
      "text/plain": [
       "<IPython.core.display.Math object>"
      ]
     },
     "metadata": {},
     "output_type": "display_data"
    },
    {
     "data": {
      "text/latex": [
       "$\\displaystyle x_184 = 1.84, y_184 = 0.9866810$"
      ],
      "text/plain": [
       "<IPython.core.display.Math object>"
      ]
     },
     "metadata": {},
     "output_type": "display_data"
    },
    {
     "data": {
      "text/latex": [
       "$\\displaystyle F_{1,184} = f(x_184, y_184) = f(1.84, 0.9866810) = 0.3631478$"
      ],
      "text/plain": [
       "<IPython.core.display.Math object>"
      ]
     },
     "metadata": {},
     "output_type": "display_data"
    },
    {
     "data": {
      "text/latex": [
       "$\\displaystyle x_185 = x_184 + h = 1.84 + 0.01 = 1.85$"
      ],
      "text/plain": [
       "<IPython.core.display.Math object>"
      ]
     },
     "metadata": {},
     "output_type": "display_data"
    },
    {
     "data": {
      "text/latex": [
       "$\\displaystyle y_e = y_184 + hF_{1,184} = 0.9866810 + (0.01)(0.3631478) = 0.9903125\n",
       "$"
      ],
      "text/plain": [
       "<IPython.core.display.Math object>"
      ]
     },
     "metadata": {},
     "output_type": "display_data"
    },
    {
     "data": {
      "text/latex": [
       "$\\displaystyle F_{2,184} = f(x_185, y_e) = f(1.85, 0.9903125) = 0.3650026$"
      ],
      "text/plain": [
       "<IPython.core.display.Math object>"
      ]
     },
     "metadata": {},
     "output_type": "display_data"
    },
    {
     "data": {
      "text/latex": [
       "$\\displaystyle y_185 = y_184 + \\frac{1}{2}h(F_{1,184} + F_{2,184}) = 0.9866810 + \\frac{1}{2}(0.01)(0.3631478 + 0.3650026) = 0.9903218$"
      ],
      "text/plain": [
       "<IPython.core.display.Math object>"
      ]
     },
     "metadata": {},
     "output_type": "display_data"
    },
    {
     "data": {
      "text/latex": [
       "$\\displaystyle Approximation\\ to\\ y(x_185 = 1.85) = 0.9903218$"
      ],
      "text/plain": [
       "<IPython.core.display.Math object>"
      ]
     },
     "metadata": {},
     "output_type": "display_data"
    },
    {
     "name": "stdout",
     "output_type": "stream",
     "text": [
      "____________________________________________\n"
     ]
    },
    {
     "data": {
      "text/latex": [
       "$\\displaystyle Set\\ r=185,$"
      ],
      "text/plain": [
       "<IPython.core.display.Math object>"
      ]
     },
     "metadata": {},
     "output_type": "display_data"
    },
    {
     "data": {
      "text/latex": [
       "$\\displaystyle x_185 = 1.85, y_185 = 0.9903218$"
      ],
      "text/plain": [
       "<IPython.core.display.Math object>"
      ]
     },
     "metadata": {},
     "output_type": "display_data"
    },
    {
     "data": {
      "text/latex": [
       "$\\displaystyle F_{1,185} = f(x_185, y_185) = f(1.85, 0.9903218) = 0.3649979$"
      ],
      "text/plain": [
       "<IPython.core.display.Math object>"
      ]
     },
     "metadata": {},
     "output_type": "display_data"
    },
    {
     "data": {
      "text/latex": [
       "$\\displaystyle x_186 = x_185 + h = 1.85 + 0.01 = 1.86$"
      ],
      "text/plain": [
       "<IPython.core.display.Math object>"
      ]
     },
     "metadata": {},
     "output_type": "display_data"
    },
    {
     "data": {
      "text/latex": [
       "$\\displaystyle y_e = y_185 + hF_{1,185} = 0.9903218 + (0.01)(0.3649979) = 0.9939718\n",
       "$"
      ],
      "text/plain": [
       "<IPython.core.display.Math object>"
      ]
     },
     "metadata": {},
     "output_type": "display_data"
    },
    {
     "data": {
      "text/latex": [
       "$\\displaystyle F_{2,185} = f(x_186, y_e) = f(1.86, 0.9939718) = 0.3668368$"
      ],
      "text/plain": [
       "<IPython.core.display.Math object>"
      ]
     },
     "metadata": {},
     "output_type": "display_data"
    },
    {
     "data": {
      "text/latex": [
       "$\\displaystyle y_186 = y_185 + \\frac{1}{2}h(F_{1,185} + F_{2,185}) = 0.9903218 + \\frac{1}{2}(0.01)(0.3649979 + 0.3668368) = 0.9939810$"
      ],
      "text/plain": [
       "<IPython.core.display.Math object>"
      ]
     },
     "metadata": {},
     "output_type": "display_data"
    },
    {
     "data": {
      "text/latex": [
       "$\\displaystyle Approximation\\ to\\ y(x_186 = 1.86) = 0.9939810$"
      ],
      "text/plain": [
       "<IPython.core.display.Math object>"
      ]
     },
     "metadata": {},
     "output_type": "display_data"
    },
    {
     "name": "stdout",
     "output_type": "stream",
     "text": [
      "____________________________________________\n"
     ]
    },
    {
     "data": {
      "text/latex": [
       "$\\displaystyle Set\\ r=186,$"
      ],
      "text/plain": [
       "<IPython.core.display.Math object>"
      ]
     },
     "metadata": {},
     "output_type": "display_data"
    },
    {
     "data": {
      "text/latex": [
       "$\\displaystyle x_186 = 1.86, y_186 = 0.9939810$"
      ],
      "text/plain": [
       "<IPython.core.display.Math object>"
      ]
     },
     "metadata": {},
     "output_type": "display_data"
    },
    {
     "data": {
      "text/latex": [
       "$\\displaystyle F_{1,186} = f(x_186, y_186) = f(1.86, 0.9939810) = 0.3668322$"
      ],
      "text/plain": [
       "<IPython.core.display.Math object>"
      ]
     },
     "metadata": {},
     "output_type": "display_data"
    },
    {
     "data": {
      "text/latex": [
       "$\\displaystyle x_187 = x_186 + h = 1.86 + 0.01 = 1.87$"
      ],
      "text/plain": [
       "<IPython.core.display.Math object>"
      ]
     },
     "metadata": {},
     "output_type": "display_data"
    },
    {
     "data": {
      "text/latex": [
       "$\\displaystyle y_e = y_186 + hF_{1,186} = 0.9939810 + (0.01)(0.3668322) = 0.9976493\n",
       "$"
      ],
      "text/plain": [
       "<IPython.core.display.Math object>"
      ]
     },
     "metadata": {},
     "output_type": "display_data"
    },
    {
     "data": {
      "text/latex": [
       "$\\displaystyle F_{2,186} = f(x_187, y_e) = f(1.87, 0.9976493) = 0.3686555$"
      ],
      "text/plain": [
       "<IPython.core.display.Math object>"
      ]
     },
     "metadata": {},
     "output_type": "display_data"
    },
    {
     "data": {
      "text/latex": [
       "$\\displaystyle y_187 = y_186 + \\frac{1}{2}h(F_{1,186} + F_{2,186}) = 0.9939810 + \\frac{1}{2}(0.01)(0.3668322 + 0.3686555) = 0.9976584$"
      ],
      "text/plain": [
       "<IPython.core.display.Math object>"
      ]
     },
     "metadata": {},
     "output_type": "display_data"
    },
    {
     "data": {
      "text/latex": [
       "$\\displaystyle Approximation\\ to\\ y(x_187 = 1.87) = 0.9976584$"
      ],
      "text/plain": [
       "<IPython.core.display.Math object>"
      ]
     },
     "metadata": {},
     "output_type": "display_data"
    },
    {
     "name": "stdout",
     "output_type": "stream",
     "text": [
      "____________________________________________\n"
     ]
    },
    {
     "data": {
      "text/latex": [
       "$\\displaystyle Set\\ r=187,$"
      ],
      "text/plain": [
       "<IPython.core.display.Math object>"
      ]
     },
     "metadata": {},
     "output_type": "display_data"
    },
    {
     "data": {
      "text/latex": [
       "$\\displaystyle x_187 = 1.87, y_187 = 0.9976584$"
      ],
      "text/plain": [
       "<IPython.core.display.Math object>"
      ]
     },
     "metadata": {},
     "output_type": "display_data"
    },
    {
     "data": {
      "text/latex": [
       "$\\displaystyle F_{1,187} = f(x_187, y_187) = f(1.87, 0.9976584) = 0.3686509$"
      ],
      "text/plain": [
       "<IPython.core.display.Math object>"
      ]
     },
     "metadata": {},
     "output_type": "display_data"
    },
    {
     "data": {
      "text/latex": [
       "$\\displaystyle x_188 = x_187 + h = 1.87 + 0.01 = 1.88$"
      ],
      "text/plain": [
       "<IPython.core.display.Math object>"
      ]
     },
     "metadata": {},
     "output_type": "display_data"
    },
    {
     "data": {
      "text/latex": [
       "$\\displaystyle y_e = y_187 + hF_{1,187} = 0.9976584 + (0.01)(0.3686509) = 1.0013449\n",
       "$"
      ],
      "text/plain": [
       "<IPython.core.display.Math object>"
      ]
     },
     "metadata": {},
     "output_type": "display_data"
    },
    {
     "data": {
      "text/latex": [
       "$\\displaystyle F_{2,187} = f(x_188, y_e) = f(1.88, 1.0013449) = 0.3704587$"
      ],
      "text/plain": [
       "<IPython.core.display.Math object>"
      ]
     },
     "metadata": {},
     "output_type": "display_data"
    },
    {
     "data": {
      "text/latex": [
       "$\\displaystyle y_188 = y_187 + \\frac{1}{2}h(F_{1,187} + F_{2,187}) = 0.9976584 + \\frac{1}{2}(0.01)(0.3686509 + 0.3704587) = 1.0013539$"
      ],
      "text/plain": [
       "<IPython.core.display.Math object>"
      ]
     },
     "metadata": {},
     "output_type": "display_data"
    },
    {
     "data": {
      "text/latex": [
       "$\\displaystyle Approximation\\ to\\ y(x_188 = 1.88) = 1.0013539$"
      ],
      "text/plain": [
       "<IPython.core.display.Math object>"
      ]
     },
     "metadata": {},
     "output_type": "display_data"
    },
    {
     "name": "stdout",
     "output_type": "stream",
     "text": [
      "____________________________________________\n"
     ]
    },
    {
     "data": {
      "text/latex": [
       "$\\displaystyle Set\\ r=188,$"
      ],
      "text/plain": [
       "<IPython.core.display.Math object>"
      ]
     },
     "metadata": {},
     "output_type": "display_data"
    },
    {
     "data": {
      "text/latex": [
       "$\\displaystyle x_188 = 1.88, y_188 = 1.0013539$"
      ],
      "text/plain": [
       "<IPython.core.display.Math object>"
      ]
     },
     "metadata": {},
     "output_type": "display_data"
    },
    {
     "data": {
      "text/latex": [
       "$\\displaystyle F_{1,188} = f(x_188, y_188) = f(1.88, 1.0013539) = 0.3704542$"
      ],
      "text/plain": [
       "<IPython.core.display.Math object>"
      ]
     },
     "metadata": {},
     "output_type": "display_data"
    },
    {
     "data": {
      "text/latex": [
       "$\\displaystyle x_189 = x_188 + h = 1.88 + 0.01 = 1.89$"
      ],
      "text/plain": [
       "<IPython.core.display.Math object>"
      ]
     },
     "metadata": {},
     "output_type": "display_data"
    },
    {
     "data": {
      "text/latex": [
       "$\\displaystyle y_e = y_188 + hF_{1,188} = 1.0013539 + (0.01)(0.3704542) = 1.0050584\n",
       "$"
      ],
      "text/plain": [
       "<IPython.core.display.Math object>"
      ]
     },
     "metadata": {},
     "output_type": "display_data"
    },
    {
     "data": {
      "text/latex": [
       "$\\displaystyle F_{2,188} = f(x_189, y_e) = f(1.89, 1.0050584) = 0.3722467$"
      ],
      "text/plain": [
       "<IPython.core.display.Math object>"
      ]
     },
     "metadata": {},
     "output_type": "display_data"
    },
    {
     "data": {
      "text/latex": [
       "$\\displaystyle y_189 = y_188 + \\frac{1}{2}h(F_{1,188} + F_{2,188}) = 1.0013539 + \\frac{1}{2}(0.01)(0.3704542 + 0.3722467) = 1.0050674$"
      ],
      "text/plain": [
       "<IPython.core.display.Math object>"
      ]
     },
     "metadata": {},
     "output_type": "display_data"
    },
    {
     "data": {
      "text/latex": [
       "$\\displaystyle Approximation\\ to\\ y(x_189 = 1.89) = 1.0050674$"
      ],
      "text/plain": [
       "<IPython.core.display.Math object>"
      ]
     },
     "metadata": {},
     "output_type": "display_data"
    },
    {
     "name": "stdout",
     "output_type": "stream",
     "text": [
      "____________________________________________\n"
     ]
    },
    {
     "data": {
      "text/latex": [
       "$\\displaystyle Set\\ r=189,$"
      ],
      "text/plain": [
       "<IPython.core.display.Math object>"
      ]
     },
     "metadata": {},
     "output_type": "display_data"
    },
    {
     "data": {
      "text/latex": [
       "$\\displaystyle x_189 = 1.89, y_189 = 1.0050674$"
      ],
      "text/plain": [
       "<IPython.core.display.Math object>"
      ]
     },
     "metadata": {},
     "output_type": "display_data"
    },
    {
     "data": {
      "text/latex": [
       "$\\displaystyle F_{1,189} = f(x_189, y_189) = f(1.89, 1.0050674) = 0.3722422$"
      ],
      "text/plain": [
       "<IPython.core.display.Math object>"
      ]
     },
     "metadata": {},
     "output_type": "display_data"
    },
    {
     "data": {
      "text/latex": [
       "$\\displaystyle x_190 = x_189 + h = 1.89 + 0.01 = 1.9$"
      ],
      "text/plain": [
       "<IPython.core.display.Math object>"
      ]
     },
     "metadata": {},
     "output_type": "display_data"
    },
    {
     "data": {
      "text/latex": [
       "$\\displaystyle y_e = y_189 + hF_{1,189} = 1.0050674 + (0.01)(0.3722422) = 1.0087898\n",
       "$"
      ],
      "text/plain": [
       "<IPython.core.display.Math object>"
      ]
     },
     "metadata": {},
     "output_type": "display_data"
    },
    {
     "data": {
      "text/latex": [
       "$\\displaystyle F_{2,189} = f(x_190, y_e) = f(1.9, 1.0087898) = 0.3740196$"
      ],
      "text/plain": [
       "<IPython.core.display.Math object>"
      ]
     },
     "metadata": {},
     "output_type": "display_data"
    },
    {
     "data": {
      "text/latex": [
       "$\\displaystyle y_190 = y_189 + \\frac{1}{2}h(F_{1,189} + F_{2,189}) = 1.0050674 + \\frac{1}{2}(0.01)(0.3722422 + 0.3740196) = 1.0087987$"
      ],
      "text/plain": [
       "<IPython.core.display.Math object>"
      ]
     },
     "metadata": {},
     "output_type": "display_data"
    },
    {
     "data": {
      "text/latex": [
       "$\\displaystyle Approximation\\ to\\ y(x_190 = 1.9) = 1.0087987$"
      ],
      "text/plain": [
       "<IPython.core.display.Math object>"
      ]
     },
     "metadata": {},
     "output_type": "display_data"
    },
    {
     "name": "stdout",
     "output_type": "stream",
     "text": [
      "____________________________________________\n"
     ]
    },
    {
     "data": {
      "text/latex": [
       "$\\displaystyle Set\\ r=190,$"
      ],
      "text/plain": [
       "<IPython.core.display.Math object>"
      ]
     },
     "metadata": {},
     "output_type": "display_data"
    },
    {
     "data": {
      "text/latex": [
       "$\\displaystyle x_190 = 1.9, y_190 = 1.0087987$"
      ],
      "text/plain": [
       "<IPython.core.display.Math object>"
      ]
     },
     "metadata": {},
     "output_type": "display_data"
    },
    {
     "data": {
      "text/latex": [
       "$\\displaystyle F_{1,190} = f(x_190, y_190) = f(1.9, 1.0087987) = 0.3740152$"
      ],
      "text/plain": [
       "<IPython.core.display.Math object>"
      ]
     },
     "metadata": {},
     "output_type": "display_data"
    },
    {
     "data": {
      "text/latex": [
       "$\\displaystyle x_191 = x_190 + h = 1.9 + 0.01 = 1.91$"
      ],
      "text/plain": [
       "<IPython.core.display.Math object>"
      ]
     },
     "metadata": {},
     "output_type": "display_data"
    },
    {
     "data": {
      "text/latex": [
       "$\\displaystyle y_e = y_190 + hF_{1,190} = 1.0087987 + (0.01)(0.3740152) = 1.0125389\n",
       "$"
      ],
      "text/plain": [
       "<IPython.core.display.Math object>"
      ]
     },
     "metadata": {},
     "output_type": "display_data"
    },
    {
     "data": {
      "text/latex": [
       "$\\displaystyle F_{2,190} = f(x_191, y_e) = f(1.91, 1.0125389) = 0.3757776$"
      ],
      "text/plain": [
       "<IPython.core.display.Math object>"
      ]
     },
     "metadata": {},
     "output_type": "display_data"
    },
    {
     "data": {
      "text/latex": [
       "$\\displaystyle y_191 = y_190 + \\frac{1}{2}h(F_{1,190} + F_{2,190}) = 1.0087987 + \\frac{1}{2}(0.01)(0.3740152 + 0.3757776) = 1.0125477$"
      ],
      "text/plain": [
       "<IPython.core.display.Math object>"
      ]
     },
     "metadata": {},
     "output_type": "display_data"
    },
    {
     "data": {
      "text/latex": [
       "$\\displaystyle Approximation\\ to\\ y(x_191 = 1.91) = 1.0125477$"
      ],
      "text/plain": [
       "<IPython.core.display.Math object>"
      ]
     },
     "metadata": {},
     "output_type": "display_data"
    },
    {
     "name": "stdout",
     "output_type": "stream",
     "text": [
      "____________________________________________\n"
     ]
    },
    {
     "data": {
      "text/latex": [
       "$\\displaystyle Set\\ r=191,$"
      ],
      "text/plain": [
       "<IPython.core.display.Math object>"
      ]
     },
     "metadata": {},
     "output_type": "display_data"
    },
    {
     "data": {
      "text/latex": [
       "$\\displaystyle x_191 = 1.91, y_191 = 1.0125477$"
      ],
      "text/plain": [
       "<IPython.core.display.Math object>"
      ]
     },
     "metadata": {},
     "output_type": "display_data"
    },
    {
     "data": {
      "text/latex": [
       "$\\displaystyle F_{1,191} = f(x_191, y_191) = f(1.91, 1.0125477) = 0.3757732$"
      ],
      "text/plain": [
       "<IPython.core.display.Math object>"
      ]
     },
     "metadata": {},
     "output_type": "display_data"
    },
    {
     "data": {
      "text/latex": [
       "$\\displaystyle x_192 = x_191 + h = 1.91 + 0.01 = 1.92$"
      ],
      "text/plain": [
       "<IPython.core.display.Math object>"
      ]
     },
     "metadata": {},
     "output_type": "display_data"
    },
    {
     "data": {
      "text/latex": [
       "$\\displaystyle y_e = y_191 + hF_{1,191} = 1.0125477 + (0.01)(0.3757732) = 1.0163054\n",
       "$"
      ],
      "text/plain": [
       "<IPython.core.display.Math object>"
      ]
     },
     "metadata": {},
     "output_type": "display_data"
    },
    {
     "data": {
      "text/latex": [
       "$\\displaystyle F_{2,191} = f(x_192, y_e) = f(1.92, 1.0163054) = 0.3775209$"
      ],
      "text/plain": [
       "<IPython.core.display.Math object>"
      ]
     },
     "metadata": {},
     "output_type": "display_data"
    },
    {
     "data": {
      "text/latex": [
       "$\\displaystyle y_192 = y_191 + \\frac{1}{2}h(F_{1,191} + F_{2,191}) = 1.0125477 + \\frac{1}{2}(0.01)(0.3757732 + 0.3775209) = 1.0163142$"
      ],
      "text/plain": [
       "<IPython.core.display.Math object>"
      ]
     },
     "metadata": {},
     "output_type": "display_data"
    },
    {
     "data": {
      "text/latex": [
       "$\\displaystyle Approximation\\ to\\ y(x_192 = 1.92) = 1.0163142$"
      ],
      "text/plain": [
       "<IPython.core.display.Math object>"
      ]
     },
     "metadata": {},
     "output_type": "display_data"
    },
    {
     "name": "stdout",
     "output_type": "stream",
     "text": [
      "____________________________________________\n"
     ]
    },
    {
     "data": {
      "text/latex": [
       "$\\displaystyle Set\\ r=192,$"
      ],
      "text/plain": [
       "<IPython.core.display.Math object>"
      ]
     },
     "metadata": {},
     "output_type": "display_data"
    },
    {
     "data": {
      "text/latex": [
       "$\\displaystyle x_192 = 1.92, y_192 = 1.0163142$"
      ],
      "text/plain": [
       "<IPython.core.display.Math object>"
      ]
     },
     "metadata": {},
     "output_type": "display_data"
    },
    {
     "data": {
      "text/latex": [
       "$\\displaystyle F_{1,192} = f(x_192, y_192) = f(1.92, 1.0163142) = 0.3775165$"
      ],
      "text/plain": [
       "<IPython.core.display.Math object>"
      ]
     },
     "metadata": {},
     "output_type": "display_data"
    },
    {
     "data": {
      "text/latex": [
       "$\\displaystyle x_193 = x_192 + h = 1.92 + 0.01 = 1.93$"
      ],
      "text/plain": [
       "<IPython.core.display.Math object>"
      ]
     },
     "metadata": {},
     "output_type": "display_data"
    },
    {
     "data": {
      "text/latex": [
       "$\\displaystyle y_e = y_192 + hF_{1,192} = 1.0163142 + (0.01)(0.3775165) = 1.0200894\n",
       "$"
      ],
      "text/plain": [
       "<IPython.core.display.Math object>"
      ]
     },
     "metadata": {},
     "output_type": "display_data"
    },
    {
     "data": {
      "text/latex": [
       "$\\displaystyle F_{2,192} = f(x_193, y_e) = f(1.93, 1.0200894) = 0.3792496$"
      ],
      "text/plain": [
       "<IPython.core.display.Math object>"
      ]
     },
     "metadata": {},
     "output_type": "display_data"
    },
    {
     "data": {
      "text/latex": [
       "$\\displaystyle y_193 = y_192 + \\frac{1}{2}h(F_{1,192} + F_{2,192}) = 1.0163142 + \\frac{1}{2}(0.01)(0.3775165 + 0.3792496) = 1.0200980$"
      ],
      "text/plain": [
       "<IPython.core.display.Math object>"
      ]
     },
     "metadata": {},
     "output_type": "display_data"
    },
    {
     "data": {
      "text/latex": [
       "$\\displaystyle Approximation\\ to\\ y(x_193 = 1.93) = 1.0200980$"
      ],
      "text/plain": [
       "<IPython.core.display.Math object>"
      ]
     },
     "metadata": {},
     "output_type": "display_data"
    },
    {
     "name": "stdout",
     "output_type": "stream",
     "text": [
      "____________________________________________\n"
     ]
    },
    {
     "data": {
      "text/latex": [
       "$\\displaystyle Set\\ r=193,$"
      ],
      "text/plain": [
       "<IPython.core.display.Math object>"
      ]
     },
     "metadata": {},
     "output_type": "display_data"
    },
    {
     "data": {
      "text/latex": [
       "$\\displaystyle x_193 = 1.93, y_193 = 1.0200980$"
      ],
      "text/plain": [
       "<IPython.core.display.Math object>"
      ]
     },
     "metadata": {},
     "output_type": "display_data"
    },
    {
     "data": {
      "text/latex": [
       "$\\displaystyle F_{1,193} = f(x_193, y_193) = f(1.93, 1.0200980) = 0.3792454$"
      ],
      "text/plain": [
       "<IPython.core.display.Math object>"
      ]
     },
     "metadata": {},
     "output_type": "display_data"
    },
    {
     "data": {
      "text/latex": [
       "$\\displaystyle x_194 = x_193 + h = 1.93 + 0.01 = 1.94$"
      ],
      "text/plain": [
       "<IPython.core.display.Math object>"
      ]
     },
     "metadata": {},
     "output_type": "display_data"
    },
    {
     "data": {
      "text/latex": [
       "$\\displaystyle y_e = y_193 + hF_{1,193} = 1.0200980 + (0.01)(0.3792454) = 1.0238905\n",
       "$"
      ],
      "text/plain": [
       "<IPython.core.display.Math object>"
      ]
     },
     "metadata": {},
     "output_type": "display_data"
    },
    {
     "data": {
      "text/latex": [
       "$\\displaystyle F_{2,193} = f(x_194, y_e) = f(1.94, 1.0238905) = 0.3809641$"
      ],
      "text/plain": [
       "<IPython.core.display.Math object>"
      ]
     },
     "metadata": {},
     "output_type": "display_data"
    },
    {
     "data": {
      "text/latex": [
       "$\\displaystyle y_194 = y_193 + \\frac{1}{2}h(F_{1,193} + F_{2,193}) = 1.0200980 + \\frac{1}{2}(0.01)(0.3792454 + 0.3809641) = 1.0238990$"
      ],
      "text/plain": [
       "<IPython.core.display.Math object>"
      ]
     },
     "metadata": {},
     "output_type": "display_data"
    },
    {
     "data": {
      "text/latex": [
       "$\\displaystyle Approximation\\ to\\ y(x_194 = 1.94) = 1.0238990$"
      ],
      "text/plain": [
       "<IPython.core.display.Math object>"
      ]
     },
     "metadata": {},
     "output_type": "display_data"
    },
    {
     "name": "stdout",
     "output_type": "stream",
     "text": [
      "____________________________________________\n"
     ]
    },
    {
     "data": {
      "text/latex": [
       "$\\displaystyle Set\\ r=194,$"
      ],
      "text/plain": [
       "<IPython.core.display.Math object>"
      ]
     },
     "metadata": {},
     "output_type": "display_data"
    },
    {
     "data": {
      "text/latex": [
       "$\\displaystyle x_194 = 1.94, y_194 = 1.0238990$"
      ],
      "text/plain": [
       "<IPython.core.display.Math object>"
      ]
     },
     "metadata": {},
     "output_type": "display_data"
    },
    {
     "data": {
      "text/latex": [
       "$\\displaystyle F_{1,194} = f(x_194, y_194) = f(1.94, 1.0238990) = 0.3809599$"
      ],
      "text/plain": [
       "<IPython.core.display.Math object>"
      ]
     },
     "metadata": {},
     "output_type": "display_data"
    },
    {
     "data": {
      "text/latex": [
       "$\\displaystyle x_195 = x_194 + h = 1.94 + 0.01 = 1.95$"
      ],
      "text/plain": [
       "<IPython.core.display.Math object>"
      ]
     },
     "metadata": {},
     "output_type": "display_data"
    },
    {
     "data": {
      "text/latex": [
       "$\\displaystyle y_e = y_194 + hF_{1,194} = 1.0238990 + (0.01)(0.3809599) = 1.0277086\n",
       "$"
      ],
      "text/plain": [
       "<IPython.core.display.Math object>"
      ]
     },
     "metadata": {},
     "output_type": "display_data"
    },
    {
     "data": {
      "text/latex": [
       "$\\displaystyle F_{2,194} = f(x_195, y_e) = f(1.95, 1.0277086) = 0.3826644$"
      ],
      "text/plain": [
       "<IPython.core.display.Math object>"
      ]
     },
     "metadata": {},
     "output_type": "display_data"
    },
    {
     "data": {
      "text/latex": [
       "$\\displaystyle y_195 = y_194 + \\frac{1}{2}h(F_{1,194} + F_{2,194}) = 1.0238990 + \\frac{1}{2}(0.01)(0.3809599 + 0.3826644) = 1.0277171$"
      ],
      "text/plain": [
       "<IPython.core.display.Math object>"
      ]
     },
     "metadata": {},
     "output_type": "display_data"
    },
    {
     "data": {
      "text/latex": [
       "$\\displaystyle Approximation\\ to\\ y(x_195 = 1.95) = 1.0277171$"
      ],
      "text/plain": [
       "<IPython.core.display.Math object>"
      ]
     },
     "metadata": {},
     "output_type": "display_data"
    },
    {
     "name": "stdout",
     "output_type": "stream",
     "text": [
      "____________________________________________\n"
     ]
    },
    {
     "data": {
      "text/latex": [
       "$\\displaystyle Set\\ r=195,$"
      ],
      "text/plain": [
       "<IPython.core.display.Math object>"
      ]
     },
     "metadata": {},
     "output_type": "display_data"
    },
    {
     "data": {
      "text/latex": [
       "$\\displaystyle x_195 = 1.95, y_195 = 1.0277171$"
      ],
      "text/plain": [
       "<IPython.core.display.Math object>"
      ]
     },
     "metadata": {},
     "output_type": "display_data"
    },
    {
     "data": {
      "text/latex": [
       "$\\displaystyle F_{1,195} = f(x_195, y_195) = f(1.95, 1.0277171) = 0.3826602$"
      ],
      "text/plain": [
       "<IPython.core.display.Math object>"
      ]
     },
     "metadata": {},
     "output_type": "display_data"
    },
    {
     "data": {
      "text/latex": [
       "$\\displaystyle x_196 = x_195 + h = 1.95 + 0.01 = 1.96$"
      ],
      "text/plain": [
       "<IPython.core.display.Math object>"
      ]
     },
     "metadata": {},
     "output_type": "display_data"
    },
    {
     "data": {
      "text/latex": [
       "$\\displaystyle y_e = y_195 + hF_{1,195} = 1.0277171 + (0.01)(0.3826602) = 1.0315437\n",
       "$"
      ],
      "text/plain": [
       "<IPython.core.display.Math object>"
      ]
     },
     "metadata": {},
     "output_type": "display_data"
    },
    {
     "data": {
      "text/latex": [
       "$\\displaystyle F_{2,195} = f(x_196, y_e) = f(1.96, 1.0315437) = 0.3843506$"
      ],
      "text/plain": [
       "<IPython.core.display.Math object>"
      ]
     },
     "metadata": {},
     "output_type": "display_data"
    },
    {
     "data": {
      "text/latex": [
       "$\\displaystyle y_196 = y_195 + \\frac{1}{2}h(F_{1,195} + F_{2,195}) = 1.0277171 + \\frac{1}{2}(0.01)(0.3826602 + 0.3843506) = 1.0315522$"
      ],
      "text/plain": [
       "<IPython.core.display.Math object>"
      ]
     },
     "metadata": {},
     "output_type": "display_data"
    },
    {
     "data": {
      "text/latex": [
       "$\\displaystyle Approximation\\ to\\ y(x_196 = 1.96) = 1.0315522$"
      ],
      "text/plain": [
       "<IPython.core.display.Math object>"
      ]
     },
     "metadata": {},
     "output_type": "display_data"
    },
    {
     "name": "stdout",
     "output_type": "stream",
     "text": [
      "____________________________________________\n"
     ]
    },
    {
     "data": {
      "text/latex": [
       "$\\displaystyle Set\\ r=196,$"
      ],
      "text/plain": [
       "<IPython.core.display.Math object>"
      ]
     },
     "metadata": {},
     "output_type": "display_data"
    },
    {
     "data": {
      "text/latex": [
       "$\\displaystyle x_196 = 1.96, y_196 = 1.0315522$"
      ],
      "text/plain": [
       "<IPython.core.display.Math object>"
      ]
     },
     "metadata": {},
     "output_type": "display_data"
    },
    {
     "data": {
      "text/latex": [
       "$\\displaystyle F_{1,196} = f(x_196, y_196) = f(1.96, 1.0315522) = 0.3843464$"
      ],
      "text/plain": [
       "<IPython.core.display.Math object>"
      ]
     },
     "metadata": {},
     "output_type": "display_data"
    },
    {
     "data": {
      "text/latex": [
       "$\\displaystyle x_197 = x_196 + h = 1.96 + 0.01 = 1.97$"
      ],
      "text/plain": [
       "<IPython.core.display.Math object>"
      ]
     },
     "metadata": {},
     "output_type": "display_data"
    },
    {
     "data": {
      "text/latex": [
       "$\\displaystyle y_e = y_196 + hF_{1,196} = 1.0315522 + (0.01)(0.3843464) = 1.0353957\n",
       "$"
      ],
      "text/plain": [
       "<IPython.core.display.Math object>"
      ]
     },
     "metadata": {},
     "output_type": "display_data"
    },
    {
     "data": {
      "text/latex": [
       "$\\displaystyle F_{2,196} = f(x_197, y_e) = f(1.97, 1.0353957) = 0.3860229$"
      ],
      "text/plain": [
       "<IPython.core.display.Math object>"
      ]
     },
     "metadata": {},
     "output_type": "display_data"
    },
    {
     "data": {
      "text/latex": [
       "$\\displaystyle y_197 = y_196 + \\frac{1}{2}h(F_{1,196} + F_{2,196}) = 1.0315522 + \\frac{1}{2}(0.01)(0.3843464 + 0.3860229) = 1.0354040$"
      ],
      "text/plain": [
       "<IPython.core.display.Math object>"
      ]
     },
     "metadata": {},
     "output_type": "display_data"
    },
    {
     "data": {
      "text/latex": [
       "$\\displaystyle Approximation\\ to\\ y(x_197 = 1.97) = 1.0354040$"
      ],
      "text/plain": [
       "<IPython.core.display.Math object>"
      ]
     },
     "metadata": {},
     "output_type": "display_data"
    },
    {
     "name": "stdout",
     "output_type": "stream",
     "text": [
      "____________________________________________\n"
     ]
    },
    {
     "data": {
      "text/latex": [
       "$\\displaystyle Set\\ r=197,$"
      ],
      "text/plain": [
       "<IPython.core.display.Math object>"
      ]
     },
     "metadata": {},
     "output_type": "display_data"
    },
    {
     "data": {
      "text/latex": [
       "$\\displaystyle x_197 = 1.97, y_197 = 1.0354040$"
      ],
      "text/plain": [
       "<IPython.core.display.Math object>"
      ]
     },
     "metadata": {},
     "output_type": "display_data"
    },
    {
     "data": {
      "text/latex": [
       "$\\displaystyle F_{1,197} = f(x_197, y_197) = f(1.97, 1.0354040) = 0.3860189$"
      ],
      "text/plain": [
       "<IPython.core.display.Math object>"
      ]
     },
     "metadata": {},
     "output_type": "display_data"
    },
    {
     "data": {
      "text/latex": [
       "$\\displaystyle x_198 = x_197 + h = 1.97 + 0.01 = 1.98$"
      ],
      "text/plain": [
       "<IPython.core.display.Math object>"
      ]
     },
     "metadata": {},
     "output_type": "display_data"
    },
    {
     "data": {
      "text/latex": [
       "$\\displaystyle y_e = y_197 + hF_{1,197} = 1.0354040 + (0.01)(0.3860189) = 1.0392642\n",
       "$"
      ],
      "text/plain": [
       "<IPython.core.display.Math object>"
      ]
     },
     "metadata": {},
     "output_type": "display_data"
    },
    {
     "data": {
      "text/latex": [
       "$\\displaystyle F_{2,197} = f(x_198, y_e) = f(1.98, 1.0392642) = 0.3876816$"
      ],
      "text/plain": [
       "<IPython.core.display.Math object>"
      ]
     },
     "metadata": {},
     "output_type": "display_data"
    },
    {
     "data": {
      "text/latex": [
       "$\\displaystyle y_198 = y_197 + \\frac{1}{2}h(F_{1,197} + F_{2,197}) = 1.0354040 + \\frac{1}{2}(0.01)(0.3860189 + 0.3876816) = 1.0392725$"
      ],
      "text/plain": [
       "<IPython.core.display.Math object>"
      ]
     },
     "metadata": {},
     "output_type": "display_data"
    },
    {
     "data": {
      "text/latex": [
       "$\\displaystyle Approximation\\ to\\ y(x_198 = 1.98) = 1.0392725$"
      ],
      "text/plain": [
       "<IPython.core.display.Math object>"
      ]
     },
     "metadata": {},
     "output_type": "display_data"
    },
    {
     "name": "stdout",
     "output_type": "stream",
     "text": [
      "____________________________________________\n"
     ]
    },
    {
     "data": {
      "text/latex": [
       "$\\displaystyle Set\\ r=198,$"
      ],
      "text/plain": [
       "<IPython.core.display.Math object>"
      ]
     },
     "metadata": {},
     "output_type": "display_data"
    },
    {
     "data": {
      "text/latex": [
       "$\\displaystyle x_198 = 1.98, y_198 = 1.0392725$"
      ],
      "text/plain": [
       "<IPython.core.display.Math object>"
      ]
     },
     "metadata": {},
     "output_type": "display_data"
    },
    {
     "data": {
      "text/latex": [
       "$\\displaystyle F_{1,198} = f(x_198, y_198) = f(1.98, 1.0392725) = 0.3876776$"
      ],
      "text/plain": [
       "<IPython.core.display.Math object>"
      ]
     },
     "metadata": {},
     "output_type": "display_data"
    },
    {
     "data": {
      "text/latex": [
       "$\\displaystyle x_199 = x_198 + h = 1.98 + 0.01 = 1.99$"
      ],
      "text/plain": [
       "<IPython.core.display.Math object>"
      ]
     },
     "metadata": {},
     "output_type": "display_data"
    },
    {
     "data": {
      "text/latex": [
       "$\\displaystyle y_e = y_198 + hF_{1,198} = 1.0392725 + (0.01)(0.3876776) = 1.0431493\n",
       "$"
      ],
      "text/plain": [
       "<IPython.core.display.Math object>"
      ]
     },
     "metadata": {},
     "output_type": "display_data"
    },
    {
     "data": {
      "text/latex": [
       "$\\displaystyle F_{2,198} = f(x_199, y_e) = f(1.99, 1.0431493) = 0.3893268$"
      ],
      "text/plain": [
       "<IPython.core.display.Math object>"
      ]
     },
     "metadata": {},
     "output_type": "display_data"
    },
    {
     "data": {
      "text/latex": [
       "$\\displaystyle y_199 = y_198 + \\frac{1}{2}h(F_{1,198} + F_{2,198}) = 1.0392725 + \\frac{1}{2}(0.01)(0.3876776 + 0.3893268) = 1.0431575$"
      ],
      "text/plain": [
       "<IPython.core.display.Math object>"
      ]
     },
     "metadata": {},
     "output_type": "display_data"
    },
    {
     "data": {
      "text/latex": [
       "$\\displaystyle Approximation\\ to\\ y(x_199 = 1.99) = 1.0431575$"
      ],
      "text/plain": [
       "<IPython.core.display.Math object>"
      ]
     },
     "metadata": {},
     "output_type": "display_data"
    },
    {
     "name": "stdout",
     "output_type": "stream",
     "text": [
      "____________________________________________\n"
     ]
    },
    {
     "data": {
      "text/latex": [
       "$\\displaystyle Set\\ r=199,$"
      ],
      "text/plain": [
       "<IPython.core.display.Math object>"
      ]
     },
     "metadata": {},
     "output_type": "display_data"
    },
    {
     "data": {
      "text/latex": [
       "$\\displaystyle x_199 = 1.99, y_199 = 1.0431575$"
      ],
      "text/plain": [
       "<IPython.core.display.Math object>"
      ]
     },
     "metadata": {},
     "output_type": "display_data"
    },
    {
     "data": {
      "text/latex": [
       "$\\displaystyle F_{1,199} = f(x_199, y_199) = f(1.99, 1.0431575) = 0.3893228$"
      ],
      "text/plain": [
       "<IPython.core.display.Math object>"
      ]
     },
     "metadata": {},
     "output_type": "display_data"
    },
    {
     "data": {
      "text/latex": [
       "$\\displaystyle x_200 = x_199 + h = 1.99 + 0.01 = 2.0$"
      ],
      "text/plain": [
       "<IPython.core.display.Math object>"
      ]
     },
     "metadata": {},
     "output_type": "display_data"
    },
    {
     "data": {
      "text/latex": [
       "$\\displaystyle y_e = y_199 + hF_{1,199} = 1.0431575 + (0.01)(0.3893228) = 1.0470507\n",
       "$"
      ],
      "text/plain": [
       "<IPython.core.display.Math object>"
      ]
     },
     "metadata": {},
     "output_type": "display_data"
    },
    {
     "data": {
      "text/latex": [
       "$\\displaystyle F_{2,199} = f(x_200, y_e) = f(2.0, 1.0470507) = 0.3909586$"
      ],
      "text/plain": [
       "<IPython.core.display.Math object>"
      ]
     },
     "metadata": {},
     "output_type": "display_data"
    },
    {
     "data": {
      "text/latex": [
       "$\\displaystyle y_200 = y_199 + \\frac{1}{2}h(F_{1,199} + F_{2,199}) = 1.0431575 + \\frac{1}{2}(0.01)(0.3893228 + 0.3909586) = 1.0470589$"
      ],
      "text/plain": [
       "<IPython.core.display.Math object>"
      ]
     },
     "metadata": {},
     "output_type": "display_data"
    },
    {
     "data": {
      "text/latex": [
       "$\\displaystyle Approximation\\ to\\ y(x_200 = 2.0) = 1.0470589$"
      ],
      "text/plain": [
       "<IPython.core.display.Math object>"
      ]
     },
     "metadata": {},
     "output_type": "display_data"
    }
   ],
   "source": [
    "from sympy import *\n",
    "from sympy.functions.elementary.trigonometric import tan, sin, cos\n",
    "from IPython.display import display, Math, Latex\n",
    "\n",
    "# euler-trapezoidal method\n",
    "\n",
    "x, y, r, h = symbols('x y r h')\n",
    "\n",
    "# define equation\n",
    "eqn = sqrt(x)-sqrt(y)\n",
    "dpp = 7\n",
    "\n",
    "# define intial conditions and variables\n",
    "r = 0\n",
    "r_times = 200\n",
    "\n",
    "h = 0.01\n",
    "func = {}\n",
    "y_values = {f'y_{r}': 1}\n",
    "x_values = {f'x_{r}': 0}\n",
    "\n",
    "# Formality\n",
    "display(Math(r'f(x,y)= {eqn}'.format(eqn=printing.latex(eqn))))\n",
    "display(Math(r'Given\\ that\\ x_{r} = {x_val}\\ and\\ y_{r} = {y_val}'.format(r=r, x_val=x_values[f'x_{r}'], y_val=y_values[f'y_{r}'])))\n",
    "\n",
    "# Determine approximation steps\n",
    "for i in range(r, r + r_times):\n",
    "    print('____________________________________________')\n",
    "    display(Math(f'Set\\ r={i},'))\n",
    "\n",
    "    x_0 = f'x_{i}'\n",
    "    x_1 = f'x_{i+1}'\n",
    "\n",
    "    y_0 = f'y_{i}'\n",
    "    y_e = f'y_e'\n",
    "    y_1 = f'y_{i+1}'\n",
    "\n",
    "    k_1 = f'k{1}{i}'\n",
    "    k_2 = f'k{2}{i}'\n",
    "\n",
    "    func[k_1] = round(eqn.subs({x: x_values[x_0], y: y_values[y_0]}), dpp)\n",
    "    x_values[x_1] = round(x_values[x_0] + h, dpp)\n",
    "    y_values[y_e] = round(y_values[y_0] + h * func[k_1], dpp)\n",
    "    \n",
    "    func[k_2] = round(eqn.subs({x: x_values[x_1], y: y_values[y_e]}), dpp)\n",
    "    y_values[y_1] = round(y_values[y_0] + 0.5 * h * (func[k_1] + func[k_2]), dpp)\n",
    "\n",
    "    display(Math(f\"{x_0} = {x_values[x_0]}, {y_0} = {y_values[y_0]}\"))\n",
    "\n",
    "    display(Math(f\"F_{{1,{i}}} = f({x_0}, {y_0}) = f({x_values[x_0]}, {y_values[y_0]}) = {func[k_1]}\"))\n",
    "    display(Math(f\"{x_1} = {x_0} + h = {x_values[x_0]} + {h} = {x_values[x_1]}\"))\n",
    "    display(Math(f\"{y_e} = {y_0} + hF_{{1,{i}}} = {y_values[y_0]} + ({h})({func[k_1]}) = {y_values[y_e]}\\n\"))\n",
    "\n",
    "    display(Math(f\"F_{{2,{i}}} = f({x_1}, {y_e}) = f({x_values[x_1]}, {y_values[y_e]}) = {func[k_2]}\"))\n",
    "    display(Math(f\"{y_1} = {y_0} + \\\\frac{{1}}{{2}}h(F_{{1,{i}}} + F_{{2,{i}}}) = {y_values[y_0]} + \\\\frac{{1}}{{2}}({h})({func[k_1]} + {func[k_2]}) = {y_values[y_1]}\"))\n",
    "\n",
    "    display(Math(f\"Approximation\\ to\\ y({x_1} = {x_values[x_1]}) = {y_values[y_1]}\"))\n",
    "    "
   ]
  },
  {
   "cell_type": "code",
   "execution_count": null,
   "metadata": {},
   "outputs": [],
   "source": []
  }
 ],
 "metadata": {
  "kernelspec": {
   "display_name": "Python 3",
   "language": "python",
   "name": "python3"
  },
  "language_info": {
   "codemirror_mode": {
    "name": "ipython",
    "version": 3
   },
   "file_extension": ".py",
   "mimetype": "text/x-python",
   "name": "python",
   "nbconvert_exporter": "python",
   "pygments_lexer": "ipython3",
   "version": "3.8.5"
  }
 },
 "nbformat": 4,
 "nbformat_minor": 4
}
