{
 "cells": [
  {
   "cell_type": "code",
   "execution_count": 1,
   "metadata": {},
   "outputs": [
    {
     "data": {
      "text/latex": [
       "$\\displaystyle f(x,y)= \\sqrt{x} - \\sqrt{y}$"
      ],
      "text/plain": [
       "<IPython.core.display.Math object>"
      ]
     },
     "metadata": {},
     "output_type": "display_data"
    },
    {
     "data": {
      "text/latex": [
       "$\\displaystyle Given\\ that\\ x_0 = 0\\ and\\ y_0 = 1$"
      ],
      "text/plain": [
       "<IPython.core.display.Math object>"
      ]
     },
     "metadata": {},
     "output_type": "display_data"
    },
    {
     "name": "stdout",
     "output_type": "stream",
     "text": [
      "____________________________________________\n"
     ]
    },
    {
     "data": {
      "text/latex": [
       "$\\displaystyle Set\\ r=0,$"
      ],
      "text/plain": [
       "<IPython.core.display.Math object>"
      ]
     },
     "metadata": {},
     "output_type": "display_data"
    },
    {
     "data": {
      "text/latex": [
       "$\\displaystyle x_0 = 0, y_0 = 1$"
      ],
      "text/plain": [
       "<IPython.core.display.Math object>"
      ]
     },
     "metadata": {},
     "output_type": "display_data"
    },
    {
     "data": {
      "text/latex": [
       "$\\displaystyle F_{1,0} = f(x_0, y_0) = f(0, 1) = -1$"
      ],
      "text/plain": [
       "<IPython.core.display.Math object>"
      ]
     },
     "metadata": {},
     "output_type": "display_data"
    },
    {
     "data": {
      "text/latex": [
       "$\\displaystyle x_1 = x_0 + h = 0 + 0.01 = 0.01$"
      ],
      "text/plain": [
       "<IPython.core.display.Math object>"
      ]
     },
     "metadata": {},
     "output_type": "display_data"
    },
    {
     "data": {
      "text/latex": [
       "$\\displaystyle y_e = y_0 + hF_{1,0} = 1 + (0.01)(-1) = 0.9900000\n",
       "$"
      ],
      "text/plain": [
       "<IPython.core.display.Math object>"
      ]
     },
     "metadata": {},
     "output_type": "display_data"
    },
    {
     "data": {
      "text/latex": [
       "$\\displaystyle F_{2,0} = f(x_1, y_e) = f(0.01, 0.9900000) = -0.8949874$"
      ],
      "text/plain": [
       "<IPython.core.display.Math object>"
      ]
     },
     "metadata": {},
     "output_type": "display_data"
    },
    {
     "data": {
      "text/latex": [
       "$\\displaystyle y_1 = y_0 + \\frac{1}{2}h(F_{1,0} + F_{2,0}) = 1 + \\frac{1}{2}(0.01)(-1 + -0.8949874) = 0.9905251$"
      ],
      "text/plain": [
       "<IPython.core.display.Math object>"
      ]
     },
     "metadata": {},
     "output_type": "display_data"
    },
    {
     "data": {
      "text/latex": [
       "$\\displaystyle Approximation\\ to\\ y(x_1 = 0.01) = 0.9905251$"
      ],
      "text/plain": [
       "<IPython.core.display.Math object>"
      ]
     },
     "metadata": {},
     "output_type": "display_data"
    },
    {
     "name": "stdout",
     "output_type": "stream",
     "text": [
      "____________________________________________\n"
     ]
    },
    {
     "data": {
      "text/latex": [
       "$\\displaystyle Set\\ r=1,$"
      ],
      "text/plain": [
       "<IPython.core.display.Math object>"
      ]
     },
     "metadata": {},
     "output_type": "display_data"
    },
    {
     "data": {
      "text/latex": [
       "$\\displaystyle x_1 = 0.01, y_1 = 0.9905251$"
      ],
      "text/plain": [
       "<IPython.core.display.Math object>"
      ]
     },
     "metadata": {},
     "output_type": "display_data"
    },
    {
     "data": {
      "text/latex": [
       "$\\displaystyle F_{1,1} = f(x_1, y_1) = f(0.01, 0.9905251) = -0.8952513$"
      ],
      "text/plain": [
       "<IPython.core.display.Math object>"
      ]
     },
     "metadata": {},
     "output_type": "display_data"
    },
    {
     "data": {
      "text/latex": [
       "$\\displaystyle x_2 = x_1 + h = 0.01 + 0.01 = 0.02$"
      ],
      "text/plain": [
       "<IPython.core.display.Math object>"
      ]
     },
     "metadata": {},
     "output_type": "display_data"
    },
    {
     "data": {
      "text/latex": [
       "$\\displaystyle y_e = y_1 + hF_{1,1} = 0.9905251 + (0.01)(-0.8952513) = 0.9815726\n",
       "$"
      ],
      "text/plain": [
       "<IPython.core.display.Math object>"
      ]
     },
     "metadata": {},
     "output_type": "display_data"
    },
    {
     "data": {
      "text/latex": [
       "$\\displaystyle F_{2,1} = f(x_2, y_e) = f(0.02, 0.9815726) = -0.8493221$"
      ],
      "text/plain": [
       "<IPython.core.display.Math object>"
      ]
     },
     "metadata": {},
     "output_type": "display_data"
    },
    {
     "data": {
      "text/latex": [
       "$\\displaystyle y_2 = y_1 + \\frac{1}{2}h(F_{1,1} + F_{2,1}) = 0.9905251 + \\frac{1}{2}(0.01)(-0.8952513 + -0.8493221) = 0.9818022$"
      ],
      "text/plain": [
       "<IPython.core.display.Math object>"
      ]
     },
     "metadata": {},
     "output_type": "display_data"
    },
    {
     "data": {
      "text/latex": [
       "$\\displaystyle Approximation\\ to\\ y(x_2 = 0.02) = 0.9818022$"
      ],
      "text/plain": [
       "<IPython.core.display.Math object>"
      ]
     },
     "metadata": {},
     "output_type": "display_data"
    },
    {
     "name": "stdout",
     "output_type": "stream",
     "text": [
      "____________________________________________\n"
     ]
    },
    {
     "data": {
      "text/latex": [
       "$\\displaystyle Set\\ r=2,$"
      ],
      "text/plain": [
       "<IPython.core.display.Math object>"
      ]
     },
     "metadata": {},
     "output_type": "display_data"
    },
    {
     "data": {
      "text/latex": [
       "$\\displaystyle x_2 = 0.02, y_2 = 0.9818022$"
      ],
      "text/plain": [
       "<IPython.core.display.Math object>"
      ]
     },
     "metadata": {},
     "output_type": "display_data"
    },
    {
     "data": {
      "text/latex": [
       "$\\displaystyle F_{1,2} = f(x_2, y_2) = f(0.02, 0.9818022) = -0.8494380$"
      ],
      "text/plain": [
       "<IPython.core.display.Math object>"
      ]
     },
     "metadata": {},
     "output_type": "display_data"
    },
    {
     "data": {
      "text/latex": [
       "$\\displaystyle x_3 = x_2 + h = 0.02 + 0.01 = 0.03$"
      ],
      "text/plain": [
       "<IPython.core.display.Math object>"
      ]
     },
     "metadata": {},
     "output_type": "display_data"
    },
    {
     "data": {
      "text/latex": [
       "$\\displaystyle y_e = y_2 + hF_{1,2} = 0.9818022 + (0.01)(-0.8494380) = 0.9733078\n",
       "$"
      ],
      "text/plain": [
       "<IPython.core.display.Math object>"
      ]
     },
     "metadata": {},
     "output_type": "display_data"
    },
    {
     "data": {
      "text/latex": [
       "$\\displaystyle F_{2,2} = f(x_3, y_e) = f(0.03, 0.9733078) = -0.8133585$"
      ],
      "text/plain": [
       "<IPython.core.display.Math object>"
      ]
     },
     "metadata": {},
     "output_type": "display_data"
    },
    {
     "data": {
      "text/latex": [
       "$\\displaystyle y_3 = y_2 + \\frac{1}{2}h(F_{1,2} + F_{2,2}) = 0.9818022 + \\frac{1}{2}(0.01)(-0.8494380 + -0.8133585) = 0.9734882$"
      ],
      "text/plain": [
       "<IPython.core.display.Math object>"
      ]
     },
     "metadata": {},
     "output_type": "display_data"
    },
    {
     "data": {
      "text/latex": [
       "$\\displaystyle Approximation\\ to\\ y(x_3 = 0.03) = 0.9734882$"
      ],
      "text/plain": [
       "<IPython.core.display.Math object>"
      ]
     },
     "metadata": {},
     "output_type": "display_data"
    }
   ],
   "source": [
    "from sympy import *\n",
    "from sympy.functions.elementary.trigonometric import tan, sin, cos\n",
    "from IPython.display import display, Math, Latex\n",
    "\n",
    "# euler-trapezoidal method\n",
    "\n",
    "x, y, r, h = symbols('x y r h')\n",
    "\n",
    "# define equation\n",
    "eqn = sqrt(x)-sqrt(y)\n",
    "dpp = 7\n",
    "\n",
    "# define intial conditions and variables\n",
    "r = 0\n",
    "r_times = 3\n",
    "\n",
    "h = 0.01\n",
    "func = {}\n",
    "y_values = {f'y_{r}': 1}\n",
    "x_values = {f'x_{r}': 0}\n",
    "\n",
    "# Formality\n",
    "display(Math(r'f(x,y)= {eqn}'.format(eqn=printing.latex(eqn))))\n",
    "display(Math(r'Given\\ that\\ x_{r} = {x_val}\\ and\\ y_{r} = {y_val}'.format(r=r, x_val=x_values[f'x_{r}'], y_val=y_values[f'y_{r}'])))\n",
    "\n",
    "# Determine approximation steps\n",
    "for i in range(r, r + r_times):\n",
    "    print('____________________________________________')\n",
    "    display(Math(f'Set\\ r={i},'))\n",
    "\n",
    "    x_0 = f'x_{i}'\n",
    "    x_1 = f'x_{i+1}'\n",
    "\n",
    "    y_0 = f'y_{i}'\n",
    "    y_e = f'y_e'\n",
    "    y_1 = f'y_{i+1}'\n",
    "\n",
    "    k_1 = f'k{1}{i}'\n",
    "    k_2 = f'k{2}{i}'\n",
    "\n",
    "    func[k_1] = round(eqn.subs({x: x_values[x_0], y: y_values[y_0]}), dpp)\n",
    "    x_values[x_1] = round(x_values[x_0] + h, dpp)\n",
    "    y_values[y_e] = round(y_values[y_0] + h * func[k_1], dpp)\n",
    "    \n",
    "    func[k_2] = round(eqn.subs({x: x_values[x_1], y: y_values[y_e]}), dpp)\n",
    "    y_values[y_1] = round(y_values[y_0] + 0.5 * h * (func[k_1] + func[k_2]), dpp)\n",
    "\n",
    "    display(Math(f\"{x_0} = {x_values[x_0]}, {y_0} = {y_values[y_0]}\"))\n",
    "\n",
    "    display(Math(f\"F_{{1,{i}}} = f({x_0}, {y_0}) = f({x_values[x_0]}, {y_values[y_0]}) = {func[k_1]}\"))\n",
    "    display(Math(f\"{x_1} = {x_0} + h = {x_values[x_0]} + {h} = {x_values[x_1]}\"))\n",
    "    display(Math(f\"{y_e} = {y_0} + hF_{{1,{i}}} = {y_values[y_0]} + ({h})({func[k_1]}) = {y_values[y_e]}\\n\"))\n",
    "\n",
    "    display(Math(f\"F_{{2,{i}}} = f({x_1}, {y_e}) = f({x_values[x_1]}, {y_values[y_e]}) = {func[k_2]}\"))\n",
    "    display(Math(f\"{y_1} = {y_0} + \\\\frac{{1}}{{2}}h(F_{{1,{i}}} + F_{{2,{i}}}) = {y_values[y_0]} + \\\\frac{{1}}{{2}}({h})({func[k_1]} + {func[k_2]}) = {y_values[y_1]}\"))\n",
    "\n",
    "    display(Math(f\"Approximation\\ to\\ y({x_1} = {x_values[x_1]}) = {y_values[y_1]}\"))\n",
    "    "
   ]
  }
 ],
 "metadata": {
  "kernelspec": {
   "display_name": "Python 3",
   "language": "python",
   "name": "python3"
  },
  "language_info": {
   "codemirror_mode": {
    "name": "ipython",
    "version": 3
   },
   "file_extension": ".py",
   "mimetype": "text/x-python",
   "name": "python",
   "nbconvert_exporter": "python",
   "pygments_lexer": "ipython3",
   "version": "3.8.8"
  }
 },
 "nbformat": 4,
 "nbformat_minor": 4
}
