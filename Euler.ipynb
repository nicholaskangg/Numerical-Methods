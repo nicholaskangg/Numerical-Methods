{
 "cells": [
  {
   "cell_type": "code",
   "execution_count": 8,
   "metadata": {},
   "outputs": [
    {
     "data": {
      "text/latex": [
       "$\\displaystyle f(x,y)= x + \\cos{\\left(y \\right)}$"
      ],
      "text/plain": [
       "<IPython.core.display.Math object>"
      ]
     },
     "metadata": {},
     "output_type": "display_data"
    },
    {
     "data": {
      "text/latex": [
       "$\\displaystyle Given\\ that\\ x_0 = 1.2\\ and\\ y_0 = 0.5$"
      ],
      "text/plain": [
       "<IPython.core.display.Math object>"
      ]
     },
     "metadata": {},
     "output_type": "display_data"
    },
    {
     "name": "stdout",
     "output_type": "stream",
     "text": [
      "____________________________________________\n"
     ]
    },
    {
     "data": {
      "text/latex": [
       "$\\displaystyle Set\\ r=0,$"
      ],
      "text/plain": [
       "<IPython.core.display.Math object>"
      ]
     },
     "metadata": {},
     "output_type": "display_data"
    },
    {
     "data": {
      "text/latex": [
       "$\\displaystyle x_1 = x0 + h = 1.2 + 0.05 = 1.25$"
      ],
      "text/plain": [
       "<IPython.core.display.Math object>"
      ]
     },
     "metadata": {},
     "output_type": "display_data"
    },
    {
     "data": {
      "text/latex": [
       "$\\displaystyle Y_1 = Y0 + hf(x_0, Y_0) = 0.5 + 0.05f(1.2, 0.5) = 0.5 + 0.05(2.077583) = 0.603879$"
      ],
      "text/plain": [
       "<IPython.core.display.Math object>"
      ]
     },
     "metadata": {},
     "output_type": "display_data"
    },
    {
     "data": {
      "text/latex": [
       "$\\displaystyle Approximation\\ to\\ y(x_1 = 1.25) = 0.603879$"
      ],
      "text/plain": [
       "<IPython.core.display.Math object>"
      ]
     },
     "metadata": {},
     "output_type": "display_data"
    },
    {
     "name": "stdout",
     "output_type": "stream",
     "text": [
      "____________________________________________\n"
     ]
    },
    {
     "data": {
      "text/latex": [
       "$\\displaystyle Set\\ r=1,$"
      ],
      "text/plain": [
       "<IPython.core.display.Math object>"
      ]
     },
     "metadata": {},
     "output_type": "display_data"
    },
    {
     "data": {
      "text/latex": [
       "$\\displaystyle x_1 = x0 + h = 1.25 + 0.05 = 1.3$"
      ],
      "text/plain": [
       "<IPython.core.display.Math object>"
      ]
     },
     "metadata": {},
     "output_type": "display_data"
    },
    {
     "data": {
      "text/latex": [
       "$\\displaystyle Y_1 = Y0 + hf(x_0, Y_0) = 0.603879 + 0.05f(1.25, 0.603879) = 0.603879 + 0.05(2.073139) = 0.707536$"
      ],
      "text/plain": [
       "<IPython.core.display.Math object>"
      ]
     },
     "metadata": {},
     "output_type": "display_data"
    },
    {
     "data": {
      "text/latex": [
       "$\\displaystyle Approximation\\ to\\ y(x_2 = 1.3) = 0.707536$"
      ],
      "text/plain": [
       "<IPython.core.display.Math object>"
      ]
     },
     "metadata": {},
     "output_type": "display_data"
    }
   ],
   "source": [
    "from sympy import *\n",
    "from sympy.functions.elementary.trigonometric import tan, sin, cos\n",
    "from IPython.display import display, Math, Latex\n",
    "\n",
    "# euler-midpoint method\n",
    "\n",
    "x, y, r, h = symbols('x y r h')\n",
    "\n",
    "# define equation\n",
    "eqn = x + cos(y)\n",
    "dpp = 6\n",
    "\n",
    "# define intial conditions and variables\n",
    "r = 0\n",
    "r_times = 2\n",
    "h = 0.05\n",
    "func = {}\n",
    "y_values = {f'y_{r}': 0.5}\n",
    "x_values = {f'x_{r}': 1.2}\n",
    "\n",
    "# Formality\n",
    "display(Math(r'f(x,y)= {eqn}'.format(eqn=printing.latex(eqn))))\n",
    "display(Math(r'Given\\ that\\ x_{r} = {x_val}\\ and\\ y_{r} = {y_val}'.format(r=r, x_val=x_values[f'x_{r}'], y_val=y_values[f'y_{r}'])))\n",
    "\n",
    "\n",
    "# Determine approximation steps\n",
    "for i in range(r, r + r_times):\n",
    "    print('____________________________________________')\n",
    "    display(Math(f'Set\\ r={i},'))\n",
    "\n",
    "    x_0 = f'x_{i}'\n",
    "    x_1 = f'x_{i+1}'\n",
    "\n",
    "    y_0 = f'y_{i}'\n",
    "    y_1 = f'y_{i+1}'\n",
    "\n",
    "    k_1 = f'k{1}{i}'\n",
    "\n",
    "    func[k_1] = round(eqn.subs({x: x_values[x_0], y: y_values[y_0]}), dpp)\n",
    "    x_values[x_1] = round(x_values[x_0] + h, dpp)\n",
    "    y_values[y_1] = round(y_values[y_0] + h * func[k_1], dpp)\n",
    "    \n",
    "    display(Math(f\"x_{r+1} = x{r} + h = {x_values[x_0]} + {h} = {x_values[x_1]}\"))\n",
    "    display(Math(f\"Y_{r+1} = Y{r} + hf(x_{r}, Y_{r}) = {y_values[y_0]} + {h}f({x_values[x_0]}, {y_values[y_0]}) = {y_values[y_0]} + {h}({func[k_1]}) = {y_values[y_1]}\"))\n",
    "\n",
    "    display(Math(f\"Approximation\\ to\\ y({x_1} = {x_values[x_1]}) = {y_values[y_1]}\"))\n",
    "    "
   ]
  },
  {
   "cell_type": "code",
   "execution_count": null,
   "metadata": {},
   "outputs": [],
   "source": []
  }
 ],
 "metadata": {
  "kernelspec": {
   "display_name": "Python 3",
   "language": "python",
   "name": "python3"
  },
  "language_info": {
   "codemirror_mode": {
    "name": "ipython",
    "version": 3
   },
   "file_extension": ".py",
   "mimetype": "text/x-python",
   "name": "python",
   "nbconvert_exporter": "python",
   "pygments_lexer": "ipython3",
   "version": "3.7.7"
  }
 },
 "nbformat": 4,
 "nbformat_minor": 4
}
