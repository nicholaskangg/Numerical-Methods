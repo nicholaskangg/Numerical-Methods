{
 "cells": [
  {
   "cell_type": "code",
   "execution_count": 13,
   "metadata": {
    "scrolled": false
   },
   "outputs": [
    {
     "data": {
      "text/latex": [
       "$\\displaystyle f(x,y) = x^{3} + 3 x^{2} - 3 x y^{2} + 18 x y - 24 x + 1$"
      ],
      "text/plain": [
       "<IPython.core.display.Math object>"
      ]
     },
     "metadata": {},
     "output_type": "display_data"
    },
    {
     "data": {
      "text/latex": [
       "$\\displaystyle The\\ 1st\\ order\\ partial\\ derivatives\\ of\\ f\\ are,$"
      ],
      "text/plain": [
       "<IPython.core.display.Math object>"
      ]
     },
     "metadata": {},
     "output_type": "display_data"
    },
    {
     "data": {
      "text/latex": [
       "$\\displaystyle f_x = \\frac{\\partial f}{\\partial x} = 3 x^{2} + 6 x - 3 y^{2} + 18 y - 24$"
      ],
      "text/plain": [
       "<IPython.core.display.Math object>"
      ]
     },
     "metadata": {},
     "output_type": "display_data"
    },
    {
     "data": {
      "text/latex": [
       "$\\displaystyle f_y = \\frac{\\partial f}{\\partial y} = - 6 x y + 18 x$"
      ],
      "text/plain": [
       "<IPython.core.display.Math object>"
      ]
     },
     "metadata": {},
     "output_type": "display_data"
    },
    {
     "data": {
      "text/latex": [
       "$\\displaystyle The\\ 2nd\\ order\\ partial\\ derivatives\\ of\\ f\\ are,$"
      ],
      "text/plain": [
       "<IPython.core.display.Math object>"
      ]
     },
     "metadata": {},
     "output_type": "display_data"
    },
    {
     "data": {
      "text/latex": [
       "$\\displaystyle f_{xx} = \\frac{\\partial f}{\\partial x^2} = 6 x + 6$"
      ],
      "text/plain": [
       "<IPython.core.display.Math object>"
      ]
     },
     "metadata": {},
     "output_type": "display_data"
    },
    {
     "data": {
      "text/latex": [
       "$\\displaystyle f_{xy} = \\frac{\\partial f}{\\partial xy} = 18 - 6 y$"
      ],
      "text/plain": [
       "<IPython.core.display.Math object>"
      ]
     },
     "metadata": {},
     "output_type": "display_data"
    },
    {
     "data": {
      "text/latex": [
       "$\\displaystyle f_{yy} = \\frac{\\partial f}{\\partial y^2} = - 6 x$"
      ],
      "text/plain": [
       "<IPython.core.display.Math object>"
      ]
     },
     "metadata": {},
     "output_type": "display_data"
    },
    {
     "name": "stdout",
     "output_type": "stream",
     "text": [
      "____________________________________________\n"
     ]
    },
    {
     "data": {
      "text/latex": [
       "$\\displaystyle f(2, 1) = 3,\\ \\frac{\\partial f}{\\partial x}(2, 1) = 15,\\ \\frac{\\partial f}{\\partial x^2}(2, 1) = 18,\\ \\frac{\\partial f}{\\partial xy}(2, 1) = 12,\\ \\frac{\\partial f}{\\partial y}(2, 1) = 24,\\ \\frac{\\partial f}{\\partial y^2}(2, 1) = -12$"
      ],
      "text/plain": [
       "<IPython.core.display.Math object>"
      ]
     },
     "metadata": {},
     "output_type": "display_data"
    },
    {
     "data": {
      "text/latex": [
       "$\\displaystyle The\\ 2nd\\ order\\ Taylor\\ Polynomial\\ about\\ (2,1)\\ is,$"
      ],
      "text/plain": [
       "<IPython.core.display.Math object>"
      ]
     },
     "metadata": {},
     "output_type": "display_data"
    },
    {
     "data": {
      "text/latex": [
       "$\\displaystyle P_2(2,1) = f(2,1) + \\frac{\\partial f}{\\partial x}(2,1)(x-2) + \\frac{\\partial f}{\\partial y}(2,1)(y-1) + \\frac{1}{2}\\Bigg[\\frac{\\partial f}{\\partial x^2}(2,1)(x-2)^2 + 2\\frac{\\partial f}{\\partial xy}(2,1)(x-2)(y-1) + \\frac{\\partial f}{\\partial y^2}(2,1)(y-1)^2\\Bigg]$"
      ],
      "text/plain": [
       "<IPython.core.display.Math object>"
      ]
     },
     "metadata": {},
     "output_type": "display_data"
    },
    {
     "data": {
      "text/latex": [
       "$\\displaystyle P_2(2,1) = 3 + 15(x-2) + 24(y-1) + \\frac{1}{2}\\Bigg[(18)(x-2)^2 + 24(x-2)(y-1) + -12(y-1)^2\\Bigg]$"
      ],
      "text/plain": [
       "<IPython.core.display.Math object>"
      ]
     },
     "metadata": {},
     "output_type": "display_data"
    },
    {
     "name": "stdout",
     "output_type": "stream",
     "text": [
      "____________________________________________\n"
     ]
    },
    {
     "data": {
      "text/latex": [
       "$\\displaystyle To\\ find\\ all\\ stationary\\ points,\\ \\frac{\\partial f}{\\partial x} = 0\\ and\\ \\frac{\\partial f}{\\partial y} = 0$"
      ],
      "text/plain": [
       "<IPython.core.display.Math object>"
      ]
     },
     "metadata": {},
     "output_type": "display_data"
    },
    {
     "data": {
      "text/latex": [
       "$\\displaystyle 3 x^{2} + 6 x - 3 y^{2} + 18 y - 24 \\qquad\\qquad- (1)$"
      ],
      "text/plain": [
       "<IPython.core.display.Math object>"
      ]
     },
     "metadata": {},
     "output_type": "display_data"
    },
    {
     "data": {
      "text/latex": [
       "$\\displaystyle \\qquad \\implies <manual\\ find\\ x\\ roots>\\qquad- (3)$"
      ],
      "text/plain": [
       "<IPython.core.display.Math object>"
      ]
     },
     "metadata": {},
     "output_type": "display_data"
    },
    {
     "data": {
      "text/latex": [
       "$\\displaystyle - 6 x y + 18 x\\qquad\\qquad- (2)$"
      ],
      "text/plain": [
       "<IPython.core.display.Math object>"
      ]
     },
     "metadata": {},
     "output_type": "display_data"
    },
    {
     "data": {
      "text/latex": [
       "$\\displaystyle \\qquad \\implies <manual\\ find\\ y\\ roots>\\qquad- (4)$"
      ],
      "text/plain": [
       "<IPython.core.display.Math object>"
      ]
     },
     "metadata": {},
     "output_type": "display_data"
    },
    {
     "data": {
      "text/latex": [
       "$\\displaystyle Subbing\\ (3)\\ into\\ (2)$"
      ],
      "text/plain": [
       "<IPython.core.display.Math object>"
      ]
     },
     "metadata": {},
     "output_type": "display_data"
    },
    {
     "data": {
      "text/latex": [
       "$\\displaystyle \\qquad When\\ x=..\\ or\\ y=..\\ <manual\\ calculation\\ for\\ (2)>$"
      ],
      "text/plain": [
       "<IPython.core.display.Math object>"
      ]
     },
     "metadata": {},
     "output_type": "display_data"
    },
    {
     "data": {
      "text/latex": [
       "$\\displaystyle Subbing\\ (4)\\ into\\ (1)$"
      ],
      "text/plain": [
       "<IPython.core.display.Math object>"
      ]
     },
     "metadata": {},
     "output_type": "display_data"
    },
    {
     "data": {
      "text/latex": [
       "$\\displaystyle \\qquad When\\ x=..\\ or\\ y=..\\ <manual\\ calculation\\ for\\ (1)>$"
      ],
      "text/plain": [
       "<IPython.core.display.Math object>"
      ]
     },
     "metadata": {},
     "output_type": "display_data"
    },
    {
     "data": {
      "text/latex": [
       "$\\displaystyle Hence\\ the\\ stationary\\ points\\ are\\ (0, 1)\\ , (-0.5, 1)\\ , (0.5, 1)\\ $"
      ],
      "text/plain": [
       "<IPython.core.display.Math object>"
      ]
     },
     "metadata": {},
     "output_type": "display_data"
    },
    {
     "data": {
      "text/latex": [
       "$\\displaystyle For\\ (0, 1),$"
      ],
      "text/plain": [
       "<IPython.core.display.Math object>"
      ]
     },
     "metadata": {},
     "output_type": "display_data"
    },
    {
     "data": {
      "text/latex": [
       "$\\displaystyle \\qquad A\\ (6 x + 6)\\ \\implies6\\ (> 0)$"
      ],
      "text/plain": [
       "<IPython.core.display.Math object>"
      ]
     },
     "metadata": {},
     "output_type": "display_data"
    },
    {
     "data": {
      "text/latex": [
       "$\\displaystyle \\qquad B\\ (18 - 6 y)\\ \\implies12$"
      ],
      "text/plain": [
       "<IPython.core.display.Math object>"
      ]
     },
     "metadata": {},
     "output_type": "display_data"
    },
    {
     "data": {
      "text/latex": [
       "$\\displaystyle \\qquad C\\ (- 6 x)\\ \\implies0$"
      ],
      "text/plain": [
       "<IPython.core.display.Math object>"
      ]
     },
     "metadata": {},
     "output_type": "display_data"
    },
    {
     "data": {
      "text/latex": [
       "$\\displaystyle \\qquad AC - B^2\\ \\implies-144\\ (< 0)$"
      ],
      "text/plain": [
       "<IPython.core.display.Math object>"
      ]
     },
     "metadata": {},
     "output_type": "display_data"
    },
    {
     "data": {
      "text/latex": [
       "$\\displaystyle \\qquad Classification \\implies Saddle-point$"
      ],
      "text/plain": [
       "<IPython.core.display.Math object>"
      ]
     },
     "metadata": {},
     "output_type": "display_data"
    },
    {
     "data": {
      "text/latex": [
       "$\\displaystyle For\\ (-0.5, 1),$"
      ],
      "text/plain": [
       "<IPython.core.display.Math object>"
      ]
     },
     "metadata": {},
     "output_type": "display_data"
    },
    {
     "data": {
      "text/latex": [
       "$\\displaystyle \\qquad A\\ (6 x + 6)\\ \\implies3.00000000000000\\ (> 0)$"
      ],
      "text/plain": [
       "<IPython.core.display.Math object>"
      ]
     },
     "metadata": {},
     "output_type": "display_data"
    },
    {
     "data": {
      "text/latex": [
       "$\\displaystyle \\qquad B\\ (18 - 6 y)\\ \\implies12$"
      ],
      "text/plain": [
       "<IPython.core.display.Math object>"
      ]
     },
     "metadata": {},
     "output_type": "display_data"
    },
    {
     "data": {
      "text/latex": [
       "$\\displaystyle \\qquad C\\ (- 6 x)\\ \\implies3.00000000000000$"
      ],
      "text/plain": [
       "<IPython.core.display.Math object>"
      ]
     },
     "metadata": {},
     "output_type": "display_data"
    },
    {
     "data": {
      "text/latex": [
       "$\\displaystyle \\qquad AC - B^2\\ \\implies-135.000000000000\\ (< 0)$"
      ],
      "text/plain": [
       "<IPython.core.display.Math object>"
      ]
     },
     "metadata": {},
     "output_type": "display_data"
    },
    {
     "data": {
      "text/latex": [
       "$\\displaystyle \\qquad Classification \\implies Saddle-point$"
      ],
      "text/plain": [
       "<IPython.core.display.Math object>"
      ]
     },
     "metadata": {},
     "output_type": "display_data"
    },
    {
     "data": {
      "text/latex": [
       "$\\displaystyle For\\ (0.5, 1),$"
      ],
      "text/plain": [
       "<IPython.core.display.Math object>"
      ]
     },
     "metadata": {},
     "output_type": "display_data"
    },
    {
     "data": {
      "text/latex": [
       "$\\displaystyle \\qquad A\\ (6 x + 6)\\ \\implies9.00000000000000\\ (> 0)$"
      ],
      "text/plain": [
       "<IPython.core.display.Math object>"
      ]
     },
     "metadata": {},
     "output_type": "display_data"
    },
    {
     "data": {
      "text/latex": [
       "$\\displaystyle \\qquad B\\ (18 - 6 y)\\ \\implies12$"
      ],
      "text/plain": [
       "<IPython.core.display.Math object>"
      ]
     },
     "metadata": {},
     "output_type": "display_data"
    },
    {
     "data": {
      "text/latex": [
       "$\\displaystyle \\qquad C\\ (- 6 x)\\ \\implies-3.00000000000000$"
      ],
      "text/plain": [
       "<IPython.core.display.Math object>"
      ]
     },
     "metadata": {},
     "output_type": "display_data"
    },
    {
     "data": {
      "text/latex": [
       "$\\displaystyle \\qquad AC - B^2\\ \\implies-171.000000000000\\ (< 0)$"
      ],
      "text/plain": [
       "<IPython.core.display.Math object>"
      ]
     },
     "metadata": {},
     "output_type": "display_data"
    },
    {
     "data": {
      "text/latex": [
       "$\\displaystyle \\qquad Classification \\implies Saddle-point$"
      ],
      "text/plain": [
       "<IPython.core.display.Math object>"
      ]
     },
     "metadata": {},
     "output_type": "display_data"
    }
   ],
   "source": [
    "# Finding second order Taylor polynomial of a function of 2 variables\n",
    "\n",
    "from IPython.display import display, Math, Latex\n",
    "from sympy import *\n",
    "from sympy.functions.elementary.trigonometric import tan, sin, cos\n",
    "\n",
    "### Only Edit Variables here ###\n",
    "x, y = symbols('x y')\n",
    "eqn = x**3 + 3*x**2 - 3*x*y**2 + 18*x*y - 24*x + 1\n",
    "\n",
    "point_x = 2\n",
    "point_y = 1\n",
    "\n",
    "###########################\n",
    "\n",
    "f_x_eqn = diff(eqn, x)\n",
    "f_y_eqn = diff(eqn, y)\n",
    "\n",
    "f_xx_eqn = diff(f_x_eqn, x)\n",
    "f_xy_eqn = diff(f_x_eqn, y)\n",
    "f_yy_eqn = diff(f_y_eqn, y)\n",
    "\n",
    "\n",
    "# Format\n",
    "\n",
    "display(Math(f'f(x,y) = {printing.latex(eqn)}'))\n",
    "\n",
    "display(Math(f'The\\ 1st\\ order\\ partial\\ derivatives\\ of\\ f\\ are,'))\n",
    "display(Math(f'f_x = \\\\frac{{\\partial f}}{{\\partial x}} = {printing.latex(f_x_eqn)}'))\n",
    "display(Math(f'f_y = \\\\frac{{\\partial f}}{{\\partial y}} = {printing.latex(f_y_eqn)}'))\n",
    "\n",
    "display(Math(f'The\\ 2nd\\ order\\ partial\\ derivatives\\ of\\ f\\ are,'))\n",
    "display(Math(f'f_{{xx}} = \\\\frac{{\\partial f}}{{\\partial x^2}} = {printing.latex(f_xx_eqn)}'))\n",
    "display(Math(f'f_{{xy}} = \\\\frac{{\\partial f}}{{\\partial xy}} = {printing.latex(f_xy_eqn)}'))\n",
    "display(Math(f'f_{{yy}} = \\\\frac{{\\partial f}}{{\\partial y^2}} = {printing.latex(f_yy_eqn)}'))\n",
    "\n",
    "print('____________________________________________')\n",
    "\n",
    "# Sub Values\n",
    "eqn = eqn.subs(x, point_x).subs(y, point_y)\n",
    "f_x = f_x_eqn.subs(x, point_x).subs(y, point_y)\n",
    "f_y = f_y_eqn.subs(x, point_x).subs(y, point_y)\n",
    "\n",
    "f_xx = f_xx_eqn.subs(x, point_x).subs(y, point_y)\n",
    "f_xy = f_xy_eqn.subs(x, point_x).subs(y, point_y)\n",
    "f_yy = f_yy_eqn.subs(x, point_x).subs(y, point_y)\n",
    "\n",
    "display(Math(f'f({point_x}, {point_y}) = {eqn.subs({x: point_x, y: point_y})},\\ ' +\n",
    "    f'\\\\frac{{\\partial f}}{{\\partial x}}({point_x}, {point_y}) = {f_x.subs({x: point_x, y: point_y})},\\ ' +\n",
    "    f'\\\\frac{{\\partial f}}{{\\partial x^2}}({point_x}, {point_y}) = {f_xx.subs({x: point_x, y: point_y})},\\ ' +\n",
    "    f'\\\\frac{{\\partial f}}{{\\partial xy}}({point_x}, {point_y}) = {f_xy.subs({x: point_x, y: point_y})},\\ ' + \n",
    "    f'\\\\frac{{\\partial f}}{{\\partial y}}({point_x}, {point_y}) = {f_y.subs({x: point_x, y: point_y})},\\ ' +\n",
    "    f'\\\\frac{{\\partial f}}{{\\partial y^2}}({point_x}, {point_y}) = {f_yy.subs({x: point_x, y: point_y})}'))\n",
    "\n",
    "display(Math(f'The\\ 2nd\\ order\\ Taylor\\ Polynomial\\ about\\ ({point_x},{point_y})\\ is,'))\n",
    "\n",
    "fac = 1/factorial(2)\n",
    "display(Math(r'P_2({point_x},{point_y}) = f({point_x},{point_y}) + \\frac{{\\partial f}}{{\\partial x}}({point_x},{point_y})(x-{point_x}) + \\frac{{\\partial f}}{{\\partial y}}({point_x},{point_y})(y-{point_y}) + {fac}{open_bracket}\\frac{{\\partial f}}{{\\partial x^2}}({point_x},{point_y})(x-{point_x})^2 + 2\\frac{{\\partial f}}{{\\partial xy}}({point_x},{point_y})(x-{point_x})(y-{point_y}) + \\frac{{\\partial f}}{{\\partial y^2}}({point_x},{point_y})(y-{point_y})^2{close_bracket}'.format(point_x=point_x, point_y=point_y, fac=printing.latex(fac), open_bracket='\\Bigg[', close_bracket='\\Bigg]')))\n",
    "display(Math(r'P_2({point_x},{point_y}) = {eqn} + {f_x}(x-{point_x}) + {f_y}(y-{point_y}) + {fac}{open_bracket}({f_xx})(x-{point_x})^2 + {f_xy}(x-{point_x})(y-{point_y}) + {f_yy}(y-{point_y})^2{close_bracket}'.format(point_x=point_x, point_y=point_y, fac=printing.latex(fac), eqn=printing.latex(eqn), f_x=printing.latex(f_x), f_xy=printing.latex(2 * f_xy), f_xx=printing.latex(f_xx), f_yy=printing.latex(f_yy), f_y=printing.latex(f_y), open_bracket='\\Bigg[', close_bracket='\\Bigg]')))\n",
    "\n",
    "########\n",
    "# Find roots manually and run this again.\n",
    "#######\n",
    "stationary_points = [(0,1), (-0.5,1), (0.5,1)]\n",
    "\n",
    "print('____________________________________________')\n",
    "display(Math(f'To\\ find\\ all\\ stationary\\ points,\\ \\\\frac{{\\partial f}}{{\\partial x}} = 0\\ and\\ \\\\frac{{\\partial f}}{{\\partial y}} = 0'))\n",
    "display(Math(f'{printing.latex(f_x_eqn)} \\qquad\\qquad- (1)'))\n",
    "display(Math(f'\\qquad \\implies <manual\\ find\\ x\\ roots>\\qquad- (3)'))\n",
    "display(Math(f'{printing.latex(f_y_eqn)}\\qquad\\qquad- (2)'))\n",
    "display(Math(f'\\qquad \\implies <manual\\ find\\ y\\ roots>\\qquad- (4)'))\n",
    "display(Math(f'Subbing\\ (3)\\ into\\ (2)'))\n",
    "display(Math(f'\\qquad When\\ x=..\\ or\\ y=..\\ <manual\\ calculation\\ for\\ (2)>'))\n",
    "display(Math(f'Subbing\\ (4)\\ into\\ (1)'))\n",
    "display(Math(f'\\qquad When\\ x=..\\ or\\ y=..\\ <manual\\ calculation\\ for\\ (1)>'))\n",
    "display(Math(r'Hence\\ the\\ stationary\\ points\\ are\\ {}'.format(', '.join([f'({printing.latex(x)}, {printing.latex(y)})\\ ' for x, y in stationary_points]))))\n",
    "\n",
    "\n",
    "for point in stationary_points:\n",
    "    a_value = round(f_xx_eqn.subs({x: point[0], y: point[1]}), 3)\n",
    "    b_value = round(f_xy_eqn.subs({x: point[0], y: point[1]}), 3)\n",
    "    c_value = round(f_yy_eqn.subs({x: point[0], y: point[1]}), 3)\n",
    "    ac_b_value = round((a_value * c_value) - (b_value ** 2), 3)\n",
    "    clas = 'None'\n",
    "    \n",
    "    if a_value > 0 and ac_b_value > 0:\n",
    "        clas = 'Minimum'\n",
    "        \n",
    "    elif a_value <0 and ac_b_value > 0:\n",
    "        clas = 'Maximum'\n",
    "        \n",
    "    elif ac_b_value < 0:\n",
    "        clas = 'Saddle-point'\n",
    "\n",
    "    display(Math(f'For\\ ({point[0]}, {point[1]}),'))\n",
    "    display(Math(f'\\qquad A\\ ({printing.latex(f_xx_eqn)})\\ \\implies{a_value}\\ {\"(< 0)\" if a_value < 0 else \"(> 0)\" if a_value > 0 else \"\"}'))\n",
    "    display(Math(f'\\qquad B\\ ({printing.latex(f_xy_eqn)})\\ \\implies{b_value}'))\n",
    "    display(Math(f'\\qquad C\\ ({printing.latex(f_yy_eqn)})\\ \\implies{c_value}'))\n",
    "    display(Math(f'\\qquad AC - B^2\\ \\implies{ac_b_value}\\ {\"(< 0)\" if ac_b_value < 0 else \"(> 0)\" if ac_b_value > 0 else \"\"}'))\n",
    "    display(Math(f'\\qquad Classification \\implies {clas}'))\n"
   ]
  },
  {
   "cell_type": "code",
   "execution_count": null,
   "metadata": {},
   "outputs": [],
   "source": []
  },
  {
   "cell_type": "code",
   "execution_count": null,
   "metadata": {},
   "outputs": [],
   "source": []
  },
  {
   "cell_type": "code",
   "execution_count": null,
   "metadata": {},
   "outputs": [],
   "source": []
  }
 ],
 "metadata": {
  "kernelspec": {
   "display_name": "Python 3",
   "language": "python",
   "name": "python3"
  },
  "language_info": {
   "codemirror_mode": {
    "name": "ipython",
    "version": 3
   },
   "file_extension": ".py",
   "mimetype": "text/x-python",
   "name": "python",
   "nbconvert_exporter": "python",
   "pygments_lexer": "ipython3",
   "version": "3.8.5"
  }
 },
 "nbformat": 4,
 "nbformat_minor": 4
}
